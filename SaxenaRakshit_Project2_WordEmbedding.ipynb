{
 "cells": [
  {
   "cell_type": "code",
   "execution_count": 5,
   "metadata": {},
   "outputs": [
    {
     "name": "stderr",
     "output_type": "stream",
     "text": [
      "WARNING: using MultivariateStats.predict in module Main conflicts with an existing identifier.\n"
     ]
    }
   ],
   "source": [
    "using Pkg\n",
    "using Embeddings\n",
    "using Plots\n",
    "using WordTokenizers\n",
    "using TextAnalysis\n",
    "using DelimitedFiles\n",
    "using Distances\n",
    "using Statistics\n",
    "using MultivariateStats"
   ]
  },
  {
   "cell_type": "code",
   "execution_count": 6,
   "metadata": {},
   "outputs": [
    {
     "data": {
      "text/plain": [
       "Embeddings.EmbeddingTable{Array{Float32,2},Array{String,1}}(Float32[0.06731994 0.05295623 … -0.21142985 0.013637338; -0.05344657 0.06545979 … -0.0087888 -0.07428761; … ; -0.0073346887 0.010894641 … -0.0040515745 0.015611163; -0.0051456536 -0.047072206 … -0.034157887 0.039655942], [\"</s>\", \"in\", \"for\", \"that\", \"is\", \"on\", \"##\", \"The\", \"with\", \"said\"  …  \"#-###-PA-PARKS\", \"Lackmeyer\", \"PERVEZ\", \"KUNDI\", \"Budhadeb\", \"Nautsch\", \"Antuane\", \"tricorne\", \"VISIONPAD\", \"RAFFAELE\"])"
      ]
     },
     "execution_count": 6,
     "metadata": {},
     "output_type": "execute_result"
    }
   ],
   "source": [
    "embd=load_embeddings(Word2Vec)\n",
    "\n",
    "# Loading Google's own Word2Vec pre-trained embeddings"
   ]
  },
  {
   "cell_type": "code",
   "execution_count": 81,
   "metadata": {},
   "outputs": [
    {
     "name": "stderr",
     "output_type": "stream",
     "text": [
      "WARNING: redefinition of constant get_word_index. This may fail, cause incorrect answers, or produce other errors.\n"
     ]
    },
    {
     "data": {
      "text/plain": [
       "Dict{String,Int64} with 929022 entries:\n",
       "  \"Tencent\"           => 69121\n",
       "  \"5IP\"               => 539914\n",
       "  \"Sawtelle\"          => 136142\n",
       "  \"Patchway\"          => 308084\n",
       "  \"titration\"         => 121278\n",
       "  \"Misrule\"           => 235915\n",
       "  \"Danderson\"         => 486555\n",
       "  \"Bigbie\"            => 102277\n",
       "  \"Francel\"           => 279181\n",
       "  \"WealthCentral\"     => 575705\n",
       "  \"Montiy\"            => 664165\n",
       "  \"Konigsmark\"        => 731590\n",
       "  \"Commis\"            => 336102\n",
       "  \"entomb\"            => 189686\n",
       "  \"Notch\"             => 76478\n",
       "  \"DUGAS\"             => 437342\n",
       "  \"Piliang\"           => 825975\n",
       "  \"Papahanaumokuakea\" => 429911\n",
       "  \"HID\"               => 78629\n",
       "  \"Skaw\"              => 542340\n",
       "  \"LWIB\"              => 589261\n",
       "  \"Pettine\"           => 131546\n",
       "  \"Scabbers\"          => 676350\n",
       "  \"Core\"              => 11282\n",
       "  \"Sofya\"             => 224129\n",
       "  ⋮                   => ⋮"
      ]
     },
     "execution_count": 81,
     "metadata": {},
     "output_type": "execute_result"
    }
   ],
   "source": [
    "const get_word_index = Dict(word=>ii for (ii,word) in enumerate(embd.vocab))\n",
    "# Function for getting word index in the embedded table"
   ]
  },
  {
   "cell_type": "code",
   "execution_count": 8,
   "metadata": {},
   "outputs": [
    {
     "data": {
      "text/plain": [
       "get_embedding (generic function with 1 method)"
      ]
     },
     "execution_count": 8,
     "metadata": {},
     "output_type": "execute_result"
    }
   ],
   "source": [
    "function get_embedding(word)\n",
    "    ind = get_word_index[word]\n",
    "    emb = embd.embeddings[:,ind]\n",
    "    return emb\n",
    "end\n",
    "\n",
    "#Function for getting the vectors for a specific word"
   ]
  },
  {
   "cell_type": "code",
   "execution_count": 82,
   "metadata": {},
   "outputs": [
    {
     "data": {
      "text/plain": [
       "300-element Array{Float32,1}:\n",
       "  0.022186058\n",
       "  0.036621526\n",
       "  0.042821996\n",
       "  0.11238352\n",
       " -0.096494816\n",
       "  0.007556823\n",
       "  0.16198729\n",
       " -0.012594705\n",
       " -0.01898894\n",
       "  0.02518941\n",
       " -0.037009057\n",
       " -0.017729469\n",
       " -0.09571976\n",
       "  ⋮\n",
       "  0.08874423\n",
       "  0.079055995\n",
       " -0.084093876\n",
       " -0.025964469\n",
       " -0.1240094\n",
       "  0.03468388\n",
       " -0.0883567\n",
       "  0.048828702\n",
       "  0.0018892058\n",
       " -0.028289646\n",
       "  0.06432988\n",
       "  0.036234"
      ]
     },
     "execution_count": 82,
     "metadata": {},
     "output_type": "execute_result"
    }
   ],
   "source": [
    "get_embedding(\"human\")"
   ]
  },
  {
   "cell_type": "code",
   "execution_count": 10,
   "metadata": {},
   "outputs": [
    {
     "data": {
      "text/plain": [
       "929022-element Array{String,1}:\n",
       " \"</s>\"\n",
       " \"in\"\n",
       " \"for\"\n",
       " \"that\"\n",
       " \"is\"\n",
       " \"on\"\n",
       " \"##\"\n",
       " \"The\"\n",
       " \"with\"\n",
       " \"said\"\n",
       " \"was\"\n",
       " \"the\"\n",
       " \"at\"\n",
       " ⋮\n",
       " \"PLPM\"\n",
       " \"Orejana\"\n",
       " \"#-###-PA-PARKS\"\n",
       " \"Lackmeyer\"\n",
       " \"PERVEZ\"\n",
       " \"KUNDI\"\n",
       " \"Budhadeb\"\n",
       " \"Nautsch\"\n",
       " \"Antuane\"\n",
       " \"tricorne\"\n",
       " \"VISIONPAD\"\n",
       " \"RAFFAELE\""
      ]
     },
     "execution_count": 10,
     "metadata": {},
     "output_type": "execute_result"
    }
   ],
   "source": [
    "a=embd.vocab\n",
    "\n",
    "#a shows the vocab of our embedded table"
   ]
  },
  {
   "cell_type": "code",
   "execution_count": 11,
   "metadata": {},
   "outputs": [
    {
     "data": {
      "text/plain": [
       "300×929022 Array{Float32,2}:\n",
       "  0.0673199    0.0529562  -0.00851202  …  -0.21143      0.0136373\n",
       " -0.0534466    0.0654598  -0.0342245      -0.0087888   -0.0742876\n",
       "  0.0189906    0.0661953   0.0322839       0.0952432   -0.0276336\n",
       "  0.0914278    0.0470722   0.0458679      -0.0248081    0.043783\n",
       "  0.0659553    0.0522207  -0.0131429      -0.00247769   0.0549082\n",
       " -0.0836951   -0.0820086  -0.0462207   …  -0.0122794    0.013099\n",
       " -0.00181946  -0.0614145  -0.00094823     -0.057096    -0.084695\n",
       " -0.0250175   -0.11621    -0.0522188      -0.0386458    0.0523961\n",
       " -0.0343423    0.0156294   0.0465735      -0.0118431   -0.0771586\n",
       "  0.0641359    0.0992929   0.0624509       0.0204449    0.114841\n",
       " -0.0609518   -0.0856861  -0.122785    …  -0.0698117   -0.0983324\n",
       " -0.036844    -0.028133   -0.0287556       0.0115314    0.0244037\n",
       " -0.0450316    0.0522207   0.0515131      -0.00629552  -0.0193794\n",
       "  ⋮                                    ⋱   ⋮           \n",
       " -0.0586775   -0.0318105   0.0294613      -0.0713077    0.00232149\n",
       " -0.0327502    0.0181118   0.0211698      -0.0114691    0.0495251\n",
       " -0.0923375   -0.127242   -0.0163184   …  -0.0817795   -0.0412709\n",
       "  0.0818756   -0.0669308   0.00269033     -0.0263041   -0.00419438\n",
       " -0.0036247   -0.060679   -0.0596282      -0.0295453   -0.0872072\n",
       " -0.0491254    0.048911    0.0589226       0.0526081   -0.010856\n",
       "  0.0791464    0.0461528   0.00573348     -0.0857687   -0.0126504\n",
       "  0.0691394   -0.0356719   0.00034456  …  -0.0378978   -0.0346317\n",
       "  0.0338874   -0.0443141   0.0133193       0.0264287    0.024942\n",
       " -0.0932472   -0.0358558   0.0515131       0.0388951   -0.0185719\n",
       " -0.00733469   0.0108946  -0.0252273      -0.00405157   0.0156112\n",
       " -0.00514565  -0.0470722   0.0174651      -0.0341579    0.0396559"
      ]
     },
     "execution_count": 11,
     "metadata": {},
     "output_type": "execute_result"
    }
   ],
   "source": [
    "b=embd.embeddings\n",
    "\n",
    "#b shows the  embeddings in our embedded table"
   ]
  },
  {
   "cell_type": "code",
   "execution_count": 12,
   "metadata": {},
   "outputs": [
    {
     "data": {
      "text/plain": [
       "(929022,)"
      ]
     },
     "execution_count": 12,
     "metadata": {},
     "output_type": "execute_result"
    }
   ],
   "source": [
    "size(a)\n",
    "\n",
    "#size of a"
   ]
  },
  {
   "cell_type": "code",
   "execution_count": 13,
   "metadata": {},
   "outputs": [
    {
     "data": {
      "text/plain": [
       "(300, 929022)"
      ]
     },
     "execution_count": 13,
     "metadata": {},
     "output_type": "execute_result"
    }
   ],
   "source": [
    "size(b)\n",
    "\n",
    "#size of b"
   ]
  },
  {
   "cell_type": "code",
   "execution_count": 14,
   "metadata": {},
   "outputs": [
    {
     "data": {
      "text/plain": [
       "1270"
      ]
     },
     "execution_count": 14,
     "metadata": {},
     "output_type": "execute_result"
    }
   ],
   "source": [
    "get_word_index[\"human\"]\n",
    "\n",
    "#at what index our word is present"
   ]
  },
  {
   "cell_type": "code",
   "execution_count": 15,
   "metadata": {},
   "outputs": [
    {
     "data": {
      "text/plain": [
       "cosine (generic function with 1 method)"
      ]
     },
     "execution_count": 15,
     "metadata": {},
     "output_type": "execute_result"
    }
   ],
   "source": [
    "cosine(x,y)=1-cosine_dist(x,y)\n",
    "\n",
    "#using distances.jl we derive a formula for cosine similarity "
   ]
  },
  {
   "cell_type": "code",
   "execution_count": 46,
   "metadata": {},
   "outputs": [
    {
     "data": {
      "text/plain": [
       "0.81064296f0"
      ]
     },
     "execution_count": 46,
     "metadata": {},
     "output_type": "execute_result"
    }
   ],
   "source": [
    "cosine(get_embedding(\"dog\"),get_embedding(\"puppy\"))\n",
    "\n",
    "#checking the similarity between dog and puppy"
   ]
  },
  {
   "cell_type": "code",
   "execution_count": 55,
   "metadata": {},
   "outputs": [
    {
     "data": {
      "text/plain": [
       "0.10783821f0"
      ]
     },
     "execution_count": 55,
     "metadata": {},
     "output_type": "execute_result"
    }
   ],
   "source": [
    "cosine(get_embedding(\"laptop\"),get_embedding(\"medicine\"))"
   ]
  },
  {
   "cell_type": "code",
   "execution_count": 56,
   "metadata": {},
   "outputs": [
    {
     "data": {
      "text/plain": [
       "true"
      ]
     },
     "execution_count": 56,
     "metadata": {},
     "output_type": "execute_result"
    }
   ],
   "source": [
    "cosine(get_embedding(\"cat\"), get_embedding(\"kitten\"))>cosine(get_embedding(\"song\"),get_embedding(\"car\"))\n",
    "\n",
    "#returns true because cat and kitten are more similar than song and car are"
   ]
  },
  {
   "cell_type": "code",
   "execution_count": 47,
   "metadata": {},
   "outputs": [
    {
     "data": {
      "text/plain": [
       "closest (generic function with 2 methods)"
      ]
     },
     "execution_count": 47,
     "metadata": {},
     "output_type": "execute_result"
    }
   ],
   "source": [
    "function closest(v, n=25)\n",
    "    list=[(x,cosine(embd.embeddings'[x,:], v)) for x in 1:size(embd.embeddings)[2]]\n",
    "    topn_idx=sort(list, by = x -> x[2], rev=true)[1:n]\n",
    "    return [embd.vocab[h] for (h,_) in topn_idx]\n",
    "end\n",
    "\n",
    "#function for finding similar words or closest words"
   ]
  },
  {
   "cell_type": "code",
   "execution_count": 48,
   "metadata": {},
   "outputs": [
    {
     "data": {
      "text/plain": [
       "25-element Array{String,1}:\n",
       " \"girl\"\n",
       " \"boy\"\n",
       " \"woman\"\n",
       " \"teenager\"\n",
       " \"schoolgirl\"\n",
       " \"daughter\"\n",
       " \"mother\"\n",
       " \"toddler\"\n",
       " \"girls\"\n",
       " \"niece\"\n",
       " \"teen\"\n",
       " \"man\"\n",
       " \"child\"\n",
       " \"grandmother\"\n",
       " \"stepdaughter\"\n",
       " \"boyfriend\"\n",
       " \"boys\"\n",
       " \"babysitter\"\n",
       " \"aunt\"\n",
       " \"lass\"\n",
       " \"granddaughter\"\n",
       " \"girlfriend\"\n",
       " \"Girl\"\n",
       " \"tomboy\"\n",
       " \"baby\""
      ]
     },
     "execution_count": 48,
     "metadata": {},
     "output_type": "execute_result"
    }
   ],
   "source": [
    "closest(get_embedding(\"girl\"))"
   ]
  },
  {
   "cell_type": "code",
   "execution_count": 49,
   "metadata": {},
   "outputs": [
    {
     "data": {
      "text/plain": [
       "25-element Array{String,1}:\n",
       " \"marine\"\n",
       " \"animal\"\n",
       " \"animals\"\n",
       " \"wildlife\"\n",
       " \"mammal\"\n",
       " \"cetacean\"\n",
       " \"aquatic\"\n",
       " \"whale\"\n",
       " \"reptile\"\n",
       " \"Animal\"\n",
       " \"manatee\"\n",
       " \"pet\"\n",
       " \"dolphin\"\n",
       " \"dolphins\"\n",
       " \"mammals\"\n",
       " \"livestock\"\n",
       " \"turtle\"\n",
       " \"whales\"\n",
       " \"otter\"\n",
       " \"amphibian\"\n",
       " \"Wildlife\"\n",
       " \"dugongs\"\n",
       " \"fisheries\"\n",
       " \"aquaculture\"\n",
       " \"sealife\""
      ]
     },
     "execution_count": 49,
     "metadata": {},
     "output_type": "execute_result"
    }
   ],
   "source": [
    "closest(get_embedding(\"marine\")+get_embedding(\"animal\"))\n",
    "\n",
    "#we can see whale, dolphin, manatee are all marine animals"
   ]
  },
  {
   "cell_type": "code",
   "execution_count": 50,
   "metadata": {},
   "outputs": [
    {
     "data": {
      "text/plain": [
       "25-element Array{String,1}:\n",
       " \"day\"\n",
       " \"night\"\n",
       " \"evening\"\n",
       " \"afternoon\"\n",
       " \"morning\"\n",
       " \"week\"\n",
       " \"weekend\"\n",
       " \"nights\"\n",
       " \"Saturday\"\n",
       " \"Friday\"\n",
       " \"Sunday\"\n",
       " \"hours\"\n",
       " \"Monday\"\n",
       " \"month\"\n",
       " \"days\"\n",
       " \"Thursday\"\n",
       " \"hour\"\n",
       " \"Wednesday\"\n",
       " \"lunchtime\"\n",
       " \"Tuesday\"\n",
       " \"tonight\"\n",
       " \"afteroon\"\n",
       " \"Thurday\"\n",
       " \"weekends\"\n",
       " \"midnight\""
      ]
     },
     "execution_count": 50,
     "metadata": {},
     "output_type": "execute_result"
    }
   ],
   "source": [
    "closest(mean([get_embedding(\"day\"),get_embedding(\"night\")]))\n",
    "\n",
    "#this shows what comes between day and night, afternoon, evening are some examples"
   ]
  },
  {
   "cell_type": "code",
   "execution_count": 51,
   "metadata": {},
   "outputs": [
    {
     "data": {
      "text/plain": [
       "25-element Array{String,1}:\n",
       " \"queen\"\n",
       " \"king\"\n",
       " \"kings\"\n",
       " \"queens\"\n",
       " \"monarch\"\n",
       " \"prince\"\n",
       " \"princess\"\n",
       " \"princes\"\n",
       " \"royal\"\n",
       " \"joker\"\n",
       " \"Queen\"\n",
       " \"royals\"\n",
       " \"uncrowned\"\n",
       " \"princesses\"\n",
       " \"monarchs\"\n",
       " \"legend\"\n",
       " \"kingpin\"\n",
       " \"overlord\"\n",
       " \"lord\"\n",
       " \"winker\"\n",
       " \"jester\"\n",
       " \"regal\"\n",
       " \"coronets\"\n",
       " \"emperor\"\n",
       " \"palace\""
      ]
     },
     "execution_count": 51,
     "metadata": {},
     "output_type": "execute_result"
    }
   ],
   "source": [
    "closest(get_embedding(\"man\")-get_embedding(\"woman\")+get_embedding(\"queen\"))\n",
    "\n",
    "#what is man to x when woman is to queen, therefore x=king"
   ]
  },
  {
   "cell_type": "code",
   "execution_count": 52,
   "metadata": {},
   "outputs": [
    {
     "data": {
      "text/plain": [
       "25-element Array{String,1}:\n",
       " \"lion\"\n",
       " \"tigress\"\n",
       " \"tiger\"\n",
       " \"tigers\"\n",
       " \"elephant\"\n",
       " \"sambars\"\n",
       " \"leopard\"\n",
       " \"panda\"\n",
       " \"tuskers\"\n",
       " \"monkey\"\n",
       " \"lions\"\n",
       " \"tranquillized\"\n",
       " \"tusker\"\n",
       " \"wolf\"\n",
       " \"elephants\"\n",
       " \"panther\"\n",
       " \"Chhatbir\"\n",
       " \"gorilla\"\n",
       " \"cub\"\n",
       " \"pachyderm\"\n",
       " \"crocodile\"\n",
       " \"blackbucks\"\n",
       " \"Ranthambore\"\n",
       " \"dragon\"\n",
       " \"chinkaras\""
      ]
     },
     "execution_count": 52,
     "metadata": {},
     "output_type": "execute_result"
    }
   ],
   "source": [
    "closest(get_embedding(\"lion\")-get_embedding(\"lioness\")+get_embedding(\"tigress\"))\n",
    "\n",
    "#what is x to tigress when lion is to lioness, therefore x is tiger"
   ]
  },
  {
   "cell_type": "code",
   "execution_count": 114,
   "metadata": {},
   "outputs": [
    {
     "data": {
      "text/plain": [
       "25-element Array{String,1}:\n",
       " \"language\"\n",
       " \"sentiment\"\n",
       " \"sentiments\"\n",
       " \"langauge\"\n",
       " \"Language\"\n",
       " \"Sentiment\"\n",
       " \"dialect\"\n",
       " \"English\"\n",
       " \"languages\"\n",
       " \"feelings\"\n",
       " \"putonghua\"\n",
       " \"attitudes\"\n",
       " \"vernaculars\"\n",
       " \"pessimism\"\n",
       " \"mood\"\n",
       " \"vocabulary\"\n",
       " \"Americanisms\"\n",
       " \"Taglish\"\n",
       " \"rhetoric\"\n",
       " \"idioms\"\n",
       " \"dialectal\"\n",
       " \"translation\"\n",
       " \"Yawi\"\n",
       " \"vatican.va\"\n",
       " \"wording\""
      ]
     },
     "execution_count": 114,
     "metadata": {},
     "output_type": "execute_result"
    }
   ],
   "source": [
    "closest(get_embedding(\"sentiment\")+get_embedding(\"language\"))\n",
    "\n",
    "#as we can see pessimism, mood are there in our 25 element array"
   ]
  },
  {
   "cell_type": "code",
   "execution_count": 118,
   "metadata": {},
   "outputs": [
    {
     "data": {
      "image/svg+xml": [
       "<?xml version=\"1.0\" encoding=\"utf-8\"?>\n",
       "<svg xmlns=\"http://www.w3.org/2000/svg\" xmlns:xlink=\"http://www.w3.org/1999/xlink\" width=\"720\" height=\"720\" viewBox=\"0 0 2880 2880\">\n",
       "<defs>\n",
       "  <clipPath id=\"clip440\">\n",
       "    <rect x=\"0\" y=\"0\" width=\"2880\" height=\"2880\"/>\n",
       "  </clipPath>\n",
       "</defs>\n",
       "<path clip-path=\"url(#clip440)\" d=\"\n",
       "M0 2880 L2880 2880 L2880 0 L0 0  Z\n",
       "  \" fill=\"#ffffff\" fill-rule=\"evenodd\" fill-opacity=\"1\"/>\n",
       "<defs>\n",
       "  <clipPath id=\"clip441\">\n",
       "    <rect x=\"576\" y=\"288\" width=\"2017\" height=\"2017\"/>\n",
       "  </clipPath>\n",
       "</defs>\n",
       "<path clip-path=\"url(#clip440)\" d=\"\n",
       "M584.893 2388.67 L2691.02 2388.67 L2691.02 188.976 L584.893 188.976  Z\n",
       "  \" fill=\"#ffffff\" fill-rule=\"evenodd\" fill-opacity=\"1\"/>\n",
       "<defs>\n",
       "  <clipPath id=\"clip442\">\n",
       "    <rect x=\"584\" y=\"188\" width=\"2107\" height=\"2201\"/>\n",
       "  </clipPath>\n",
       "</defs>\n",
       "<polyline clip-path=\"url(#clip442)\" style=\"stroke:#000000; stroke-width:8; stroke-opacity:0.1; fill:none\" points=\"\n",
       "  778.963,2388.67 778.963,188.976 \n",
       "  \"/>\n",
       "<polyline clip-path=\"url(#clip442)\" style=\"stroke:#000000; stroke-width:8; stroke-opacity:0.1; fill:none\" points=\"\n",
       "  1078.84,2388.67 1078.84,188.976 \n",
       "  \"/>\n",
       "<polyline clip-path=\"url(#clip442)\" style=\"stroke:#000000; stroke-width:8; stroke-opacity:0.1; fill:none\" points=\"\n",
       "  1378.71,2388.67 1378.71,188.976 \n",
       "  \"/>\n",
       "<polyline clip-path=\"url(#clip442)\" style=\"stroke:#000000; stroke-width:8; stroke-opacity:0.1; fill:none\" points=\"\n",
       "  1678.58,2388.67 1678.58,188.976 \n",
       "  \"/>\n",
       "<polyline clip-path=\"url(#clip442)\" style=\"stroke:#000000; stroke-width:8; stroke-opacity:0.1; fill:none\" points=\"\n",
       "  1978.46,2388.67 1978.46,188.976 \n",
       "  \"/>\n",
       "<polyline clip-path=\"url(#clip442)\" style=\"stroke:#000000; stroke-width:8; stroke-opacity:0.1; fill:none\" points=\"\n",
       "  2278.33,2388.67 2278.33,188.976 \n",
       "  \"/>\n",
       "<polyline clip-path=\"url(#clip442)\" style=\"stroke:#000000; stroke-width:8; stroke-opacity:0.1; fill:none\" points=\"\n",
       "  2578.2,2388.67 2578.2,188.976 \n",
       "  \"/>\n",
       "<polyline clip-path=\"url(#clip442)\" style=\"stroke:#000000; stroke-width:8; stroke-opacity:0.1; fill:none\" points=\"\n",
       "  584.893,1965.56 2691.02,1965.56 \n",
       "  \"/>\n",
       "<polyline clip-path=\"url(#clip442)\" style=\"stroke:#000000; stroke-width:8; stroke-opacity:0.1; fill:none\" points=\"\n",
       "  584.893,1385.86 2691.02,1385.86 \n",
       "  \"/>\n",
       "<polyline clip-path=\"url(#clip442)\" style=\"stroke:#000000; stroke-width:8; stroke-opacity:0.1; fill:none\" points=\"\n",
       "  584.893,806.167 2691.02,806.167 \n",
       "  \"/>\n",
       "<polyline clip-path=\"url(#clip442)\" style=\"stroke:#000000; stroke-width:8; stroke-opacity:0.1; fill:none\" points=\"\n",
       "  584.893,226.47 2691.02,226.47 \n",
       "  \"/>\n",
       "<polyline clip-path=\"url(#clip440)\" style=\"stroke:#000000; stroke-width:16; stroke-opacity:1; fill:none\" points=\"\n",
       "  584.893,2388.67 2691.02,2388.67 \n",
       "  \"/>\n",
       "<polyline clip-path=\"url(#clip440)\" style=\"stroke:#000000; stroke-width:16; stroke-opacity:1; fill:none\" points=\"\n",
       "  584.893,2388.67 584.893,188.976 \n",
       "  \"/>\n",
       "<polyline clip-path=\"url(#clip440)\" style=\"stroke:#000000; stroke-width:16; stroke-opacity:1; fill:none\" points=\"\n",
       "  778.963,2388.67 778.963,2362.28 \n",
       "  \"/>\n",
       "<polyline clip-path=\"url(#clip440)\" style=\"stroke:#000000; stroke-width:16; stroke-opacity:1; fill:none\" points=\"\n",
       "  1078.84,2388.67 1078.84,2362.28 \n",
       "  \"/>\n",
       "<polyline clip-path=\"url(#clip440)\" style=\"stroke:#000000; stroke-width:16; stroke-opacity:1; fill:none\" points=\"\n",
       "  1378.71,2388.67 1378.71,2362.28 \n",
       "  \"/>\n",
       "<polyline clip-path=\"url(#clip440)\" style=\"stroke:#000000; stroke-width:16; stroke-opacity:1; fill:none\" points=\"\n",
       "  1678.58,2388.67 1678.58,2362.28 \n",
       "  \"/>\n",
       "<polyline clip-path=\"url(#clip440)\" style=\"stroke:#000000; stroke-width:16; stroke-opacity:1; fill:none\" points=\"\n",
       "  1978.46,2388.67 1978.46,2362.28 \n",
       "  \"/>\n",
       "<polyline clip-path=\"url(#clip440)\" style=\"stroke:#000000; stroke-width:16; stroke-opacity:1; fill:none\" points=\"\n",
       "  2278.33,2388.67 2278.33,2362.28 \n",
       "  \"/>\n",
       "<polyline clip-path=\"url(#clip440)\" style=\"stroke:#000000; stroke-width:16; stroke-opacity:1; fill:none\" points=\"\n",
       "  2578.2,2388.67 2578.2,2362.28 \n",
       "  \"/>\n",
       "<polyline clip-path=\"url(#clip440)\" style=\"stroke:#000000; stroke-width:16; stroke-opacity:1; fill:none\" points=\"\n",
       "  584.893,1965.56 610.166,1965.56 \n",
       "  \"/>\n",
       "<polyline clip-path=\"url(#clip440)\" style=\"stroke:#000000; stroke-width:16; stroke-opacity:1; fill:none\" points=\"\n",
       "  584.893,1385.86 610.166,1385.86 \n",
       "  \"/>\n",
       "<polyline clip-path=\"url(#clip440)\" style=\"stroke:#000000; stroke-width:16; stroke-opacity:1; fill:none\" points=\"\n",
       "  584.893,806.167 610.166,806.167 \n",
       "  \"/>\n",
       "<polyline clip-path=\"url(#clip440)\" style=\"stroke:#000000; stroke-width:16; stroke-opacity:1; fill:none\" points=\"\n",
       "  584.893,226.47 610.166,226.47 \n",
       "  \"/>\n",
       "<path clip-path=\"url(#clip440)\" d=\"M 0 0 M576.464 2509.42 L626.372 2509.42 L626.372 2524.61 L576.464 2524.61 L576.464 2509.42 Z\" fill=\"#000000\" fill-rule=\"evenodd\" fill-opacity=\"1\" /><path clip-path=\"url(#clip440)\" d=\"M 0 0 M686.649 2443.03 Q672.205 2443.03 664.89 2457.29 Q657.668 2471.46 657.668 2499.98 Q657.668 2528.4 664.89 2542.66 Q672.205 2556.83 686.649 2556.83 Q701.186 2556.83 708.408 2542.66 Q715.723 2528.4 715.723 2499.98 Q715.723 2471.46 708.408 2457.29 Q701.186 2443.03 686.649 2443.03 M686.649 2428.22 Q709.89 2428.22 722.112 2446.65 Q734.427 2464.98 734.427 2499.98 Q734.427 2534.89 722.112 2553.31 Q709.89 2571.64 686.649 2571.64 Q663.408 2571.64 651.094 2553.31 Q638.872 2534.89 638.872 2499.98 Q638.872 2464.98 651.094 2446.65 Q663.408 2428.22 686.649 2428.22 Z\" fill=\"#000000\" fill-rule=\"evenodd\" fill-opacity=\"1\" /><path clip-path=\"url(#clip440)\" d=\"M 0 0 M754.704 2545.44 L774.241 2545.44 L774.241 2568.96 L754.704 2568.96 L754.704 2545.44 Z\" fill=\"#000000\" fill-rule=\"evenodd\" fill-opacity=\"1\" /><path clip-path=\"url(#clip440)\" d=\"M 0 0 M797.76 2553.22 L828.315 2553.22 L828.315 2447.76 L795.074 2454.42 L795.074 2437.39 L828.13 2430.72 L846.833 2430.72 L846.833 2553.22 L877.389 2553.22 L877.389 2568.96 L797.76 2568.96 L797.76 2553.22 Z\" fill=\"#000000\" fill-rule=\"evenodd\" fill-opacity=\"1\" /><path clip-path=\"url(#clip440)\" d=\"M 0 0 M897.852 2430.72 L971.277 2430.72 L971.277 2446.46 L914.981 2446.46 L914.981 2480.35 Q919.055 2478.96 923.129 2478.31 Q927.203 2477.57 931.277 2477.57 Q954.425 2477.57 967.944 2490.26 Q981.462 2502.94 981.462 2524.61 Q981.462 2546.92 967.573 2559.33 Q953.685 2571.64 928.407 2571.64 Q919.703 2571.64 910.629 2570.16 Q901.648 2568.68 892.018 2565.72 L892.018 2546.92 Q900.352 2551.46 909.24 2553.68 Q918.129 2555.9 928.037 2555.9 Q944.055 2555.9 953.407 2547.48 Q962.759 2539.05 962.759 2524.61 Q962.759 2510.16 953.407 2501.74 Q944.055 2493.31 928.037 2493.31 Q920.537 2493.31 913.037 2494.98 Q905.629 2496.65 897.852 2500.16 L897.852 2430.72 Z\" fill=\"#000000\" fill-rule=\"evenodd\" fill-opacity=\"1\" /><path clip-path=\"url(#clip440)\" d=\"M 0 0 M874.347 2509.42 L924.254 2509.42 L924.254 2524.61 L874.347 2524.61 L874.347 2509.42 Z\" fill=\"#000000\" fill-rule=\"evenodd\" fill-opacity=\"1\" /><path clip-path=\"url(#clip440)\" d=\"M 0 0 M984.532 2443.03 Q970.087 2443.03 962.772 2457.29 Q955.55 2471.46 955.55 2499.98 Q955.55 2528.4 962.772 2542.66 Q970.087 2556.83 984.532 2556.83 Q999.068 2556.83 1006.29 2542.66 Q1013.61 2528.4 1013.61 2499.98 Q1013.61 2471.46 1006.29 2457.29 Q999.068 2443.03 984.532 2443.03 M984.532 2428.22 Q1007.77 2428.22 1019.99 2446.65 Q1032.31 2464.98 1032.31 2499.98 Q1032.31 2534.89 1019.99 2553.31 Q1007.77 2571.64 984.532 2571.64 Q961.291 2571.64 948.976 2553.31 Q936.754 2534.89 936.754 2499.98 Q936.754 2464.98 948.976 2446.65 Q961.291 2428.22 984.532 2428.22 Z\" fill=\"#000000\" fill-rule=\"evenodd\" fill-opacity=\"1\" /><path clip-path=\"url(#clip440)\" d=\"M 0 0 M1052.59 2545.44 L1072.12 2545.44 L1072.12 2568.96 L1052.59 2568.96 L1052.59 2545.44 Z\" fill=\"#000000\" fill-rule=\"evenodd\" fill-opacity=\"1\" /><path clip-path=\"url(#clip440)\" d=\"M 0 0 M1095.64 2553.22 L1126.2 2553.22 L1126.2 2447.76 L1092.96 2454.42 L1092.96 2437.39 L1126.01 2430.72 L1144.72 2430.72 L1144.72 2553.22 L1175.27 2553.22 L1175.27 2568.96 L1095.64 2568.96 L1095.64 2553.22 Z\" fill=\"#000000\" fill-rule=\"evenodd\" fill-opacity=\"1\" /><path clip-path=\"url(#clip440)\" d=\"M 0 0 M1235.55 2443.03 Q1221.1 2443.03 1213.79 2457.29 Q1206.57 2471.46 1206.57 2499.98 Q1206.57 2528.4 1213.79 2542.66 Q1221.1 2556.83 1235.55 2556.83 Q1250.09 2556.83 1257.31 2542.66 Q1264.62 2528.4 1264.62 2499.98 Q1264.62 2471.46 1257.31 2457.29 Q1250.09 2443.03 1235.55 2443.03 M1235.55 2428.22 Q1258.79 2428.22 1271.01 2446.65 Q1283.33 2464.98 1283.33 2499.98 Q1283.33 2534.89 1271.01 2553.31 Q1258.79 2571.64 1235.55 2571.64 Q1212.31 2571.64 1199.99 2553.31 Q1187.77 2534.89 1187.77 2499.98 Q1187.77 2464.98 1199.99 2446.65 Q1212.31 2428.22 1235.55 2428.22 Z\" fill=\"#000000\" fill-rule=\"evenodd\" fill-opacity=\"1\" /><path clip-path=\"url(#clip440)\" d=\"M 0 0 M1173.76 2509.42 L1223.66 2509.42 L1223.66 2524.61 L1173.76 2524.61 L1173.76 2509.42 Z\" fill=\"#000000\" fill-rule=\"evenodd\" fill-opacity=\"1\" /><path clip-path=\"url(#clip440)\" d=\"M 0 0 M1283.94 2443.03 Q1269.5 2443.03 1262.18 2457.29 Q1254.96 2471.46 1254.96 2499.98 Q1254.96 2528.4 1262.18 2542.66 Q1269.5 2556.83 1283.94 2556.83 Q1298.48 2556.83 1305.7 2542.66 Q1313.02 2528.4 1313.02 2499.98 Q1313.02 2471.46 1305.7 2457.29 Q1298.48 2443.03 1283.94 2443.03 M1283.94 2428.22 Q1307.18 2428.22 1319.4 2446.65 Q1331.72 2464.98 1331.72 2499.98 Q1331.72 2534.89 1319.4 2553.31 Q1307.18 2571.64 1283.94 2571.64 Q1260.7 2571.64 1248.39 2553.31 Q1236.16 2534.89 1236.16 2499.98 Q1236.16 2464.98 1248.39 2446.65 Q1260.7 2428.22 1283.94 2428.22 Z\" fill=\"#000000\" fill-rule=\"evenodd\" fill-opacity=\"1\" /><path clip-path=\"url(#clip440)\" d=\"M 0 0 M1352 2545.44 L1371.53 2545.44 L1371.53 2568.96 L1352 2568.96 L1352 2545.44 Z\" fill=\"#000000\" fill-rule=\"evenodd\" fill-opacity=\"1\" /><path clip-path=\"url(#clip440)\" d=\"M 0 0 M1431.81 2443.03 Q1417.37 2443.03 1410.05 2457.29 Q1402.83 2471.46 1402.83 2499.98 Q1402.83 2528.4 1410.05 2542.66 Q1417.37 2556.83 1431.81 2556.83 Q1446.35 2556.83 1453.57 2542.66 Q1460.89 2528.4 1460.89 2499.98 Q1460.89 2471.46 1453.57 2457.29 Q1446.35 2443.03 1431.81 2443.03 M1431.81 2428.22 Q1455.05 2428.22 1467.27 2446.65 Q1479.59 2464.98 1479.59 2499.98 Q1479.59 2534.89 1467.27 2553.31 Q1455.05 2571.64 1431.81 2571.64 Q1408.57 2571.64 1396.26 2553.31 Q1384.03 2534.89 1384.03 2499.98 Q1384.03 2464.98 1396.26 2446.65 Q1408.57 2428.22 1431.81 2428.22 Z\" fill=\"#000000\" fill-rule=\"evenodd\" fill-opacity=\"1\" /><path clip-path=\"url(#clip440)\" d=\"M 0 0 M1500.05 2430.72 L1573.48 2430.72 L1573.48 2446.46 L1517.18 2446.46 L1517.18 2480.35 Q1521.26 2478.96 1525.33 2478.31 Q1529.4 2477.57 1533.48 2477.57 Q1556.63 2477.57 1570.14 2490.26 Q1583.66 2502.94 1583.66 2524.61 Q1583.66 2546.92 1569.77 2559.33 Q1555.88 2571.64 1530.61 2571.64 Q1521.9 2571.64 1512.83 2570.16 Q1503.85 2568.68 1494.22 2565.72 L1494.22 2546.92 Q1502.55 2551.46 1511.44 2553.68 Q1520.33 2555.9 1530.24 2555.9 Q1546.26 2555.9 1555.61 2547.48 Q1564.96 2539.05 1564.96 2524.61 Q1564.96 2510.16 1555.61 2501.74 Q1546.26 2493.31 1530.24 2493.31 Q1522.74 2493.31 1515.24 2494.98 Q1507.83 2496.65 1500.05 2500.16 L1500.05 2430.72 Z\" fill=\"#000000\" fill-rule=\"evenodd\" fill-opacity=\"1\" /><path clip-path=\"url(#clip440)\" d=\"M 0 0 M1550.62 2443.03 Q1536.18 2443.03 1528.86 2457.29 Q1521.64 2471.46 1521.64 2499.98 Q1521.64 2528.4 1528.86 2542.66 Q1536.18 2556.83 1550.62 2556.83 Q1565.16 2556.83 1572.38 2542.66 Q1579.69 2528.4 1579.69 2499.98 Q1579.69 2471.46 1572.38 2457.29 Q1565.16 2443.03 1550.62 2443.03 M1550.62 2428.22 Q1573.86 2428.22 1586.08 2446.65 Q1598.4 2464.98 1598.4 2499.98 Q1598.4 2534.89 1586.08 2553.31 Q1573.86 2571.64 1550.62 2571.64 Q1527.38 2571.64 1515.07 2553.31 Q1502.84 2534.89 1502.84 2499.98 Q1502.84 2464.98 1515.07 2446.65 Q1527.38 2428.22 1550.62 2428.22 Z\" fill=\"#000000\" fill-rule=\"evenodd\" fill-opacity=\"1\" /><path clip-path=\"url(#clip440)\" d=\"M 0 0 M1618.68 2545.44 L1638.21 2545.44 L1638.21 2568.96 L1618.68 2568.96 L1618.68 2545.44 Z\" fill=\"#000000\" fill-rule=\"evenodd\" fill-opacity=\"1\" /><path clip-path=\"url(#clip440)\" d=\"M 0 0 M1698.49 2443.03 Q1684.05 2443.03 1676.73 2457.29 Q1669.51 2471.46 1669.51 2499.98 Q1669.51 2528.4 1676.73 2542.66 Q1684.05 2556.83 1698.49 2556.83 Q1713.03 2556.83 1720.25 2542.66 Q1727.56 2528.4 1727.56 2499.98 Q1727.56 2471.46 1720.25 2457.29 Q1713.03 2443.03 1698.49 2443.03 M1698.49 2428.22 Q1721.73 2428.22 1733.95 2446.65 Q1746.27 2464.98 1746.27 2499.98 Q1746.27 2534.89 1733.95 2553.31 Q1721.73 2571.64 1698.49 2571.64 Q1675.25 2571.64 1662.93 2553.31 Q1650.71 2534.89 1650.71 2499.98 Q1650.71 2464.98 1662.93 2446.65 Q1675.25 2428.22 1698.49 2428.22 Z\" fill=\"#000000\" fill-rule=\"evenodd\" fill-opacity=\"1\" /><path clip-path=\"url(#clip440)\" d=\"M 0 0 M1806.55 2443.03 Q1792.1 2443.03 1784.79 2457.29 Q1777.56 2471.46 1777.56 2499.98 Q1777.56 2528.4 1784.79 2542.66 Q1792.1 2556.83 1806.55 2556.83 Q1821.08 2556.83 1828.3 2542.66 Q1835.62 2528.4 1835.62 2499.98 Q1835.62 2471.46 1828.3 2457.29 Q1821.08 2443.03 1806.55 2443.03 M1806.55 2428.22 Q1829.79 2428.22 1842.01 2446.65 Q1854.32 2464.98 1854.32 2499.98 Q1854.32 2534.89 1842.01 2553.31 Q1829.79 2571.64 1806.55 2571.64 Q1783.3 2571.64 1770.99 2553.31 Q1758.77 2534.89 1758.77 2499.98 Q1758.77 2464.98 1770.99 2446.65 Q1783.3 2428.22 1806.55 2428.22 Z\" fill=\"#000000\" fill-rule=\"evenodd\" fill-opacity=\"1\" /><path clip-path=\"url(#clip440)\" d=\"M 0 0 M1852.48 2443.03 Q1838.04 2443.03 1830.73 2457.29 Q1823.5 2471.46 1823.5 2499.98 Q1823.5 2528.4 1830.73 2542.66 Q1838.04 2556.83 1852.48 2556.83 Q1867.02 2556.83 1874.24 2542.66 Q1881.56 2528.4 1881.56 2499.98 Q1881.56 2471.46 1874.24 2457.29 Q1867.02 2443.03 1852.48 2443.03 M1852.48 2428.22 Q1875.73 2428.22 1887.95 2446.65 Q1900.26 2464.98 1900.26 2499.98 Q1900.26 2534.89 1887.95 2553.31 Q1875.73 2571.64 1852.48 2571.64 Q1829.24 2571.64 1816.93 2553.31 Q1804.71 2534.89 1804.71 2499.98 Q1804.71 2464.98 1816.93 2446.65 Q1829.24 2428.22 1852.48 2428.22 Z\" fill=\"#000000\" fill-rule=\"evenodd\" fill-opacity=\"1\" /><path clip-path=\"url(#clip440)\" d=\"M 0 0 M1920.54 2545.44 L1940.08 2545.44 L1940.08 2568.96 L1920.54 2568.96 L1920.54 2545.44 Z\" fill=\"#000000\" fill-rule=\"evenodd\" fill-opacity=\"1\" /><path clip-path=\"url(#clip440)\" d=\"M 0 0 M2000.35 2443.03 Q1985.91 2443.03 1978.59 2457.29 Q1971.37 2471.46 1971.37 2499.98 Q1971.37 2528.4 1978.59 2542.66 Q1985.91 2556.83 2000.35 2556.83 Q2014.89 2556.83 2022.11 2542.66 Q2029.43 2528.4 2029.43 2499.98 Q2029.43 2471.46 2022.11 2457.29 Q2014.89 2443.03 2000.35 2443.03 M2000.35 2428.22 Q2023.59 2428.22 2035.82 2446.65 Q2048.13 2464.98 2048.13 2499.98 Q2048.13 2534.89 2035.82 2553.31 Q2023.59 2571.64 2000.35 2571.64 Q1977.11 2571.64 1964.8 2553.31 Q1952.58 2534.89 1952.58 2499.98 Q1952.58 2464.98 1964.8 2446.65 Q1977.11 2428.22 2000.35 2428.22 Z\" fill=\"#000000\" fill-rule=\"evenodd\" fill-opacity=\"1\" /><path clip-path=\"url(#clip440)\" d=\"M 0 0 M2068.59 2430.72 L2142.02 2430.72 L2142.02 2446.46 L2085.72 2446.46 L2085.72 2480.35 Q2089.8 2478.96 2093.87 2478.31 Q2097.95 2477.57 2102.02 2477.57 Q2125.17 2477.57 2138.69 2490.26 Q2152.21 2502.94 2152.21 2524.61 Q2152.21 2546.92 2138.32 2559.33 Q2124.43 2571.64 2099.15 2571.64 Q2090.45 2571.64 2081.37 2570.16 Q2072.39 2568.68 2062.76 2565.72 L2062.76 2546.92 Q2071.09 2551.46 2079.98 2553.68 Q2088.87 2555.9 2098.78 2555.9 Q2114.8 2555.9 2124.15 2547.48 Q2133.5 2539.05 2133.5 2524.61 Q2133.5 2510.16 2124.15 2501.74 Q2114.8 2493.31 2098.78 2493.31 Q2091.28 2493.31 2083.78 2494.98 Q2076.37 2496.65 2068.59 2500.16 L2068.59 2430.72 Z\" fill=\"#000000\" fill-rule=\"evenodd\" fill-opacity=\"1\" /><path clip-path=\"url(#clip440)\" d=\"M 0 0 M2152.82 2443.03 Q2138.38 2443.03 2131.06 2457.29 Q2123.84 2471.46 2123.84 2499.98 Q2123.84 2528.4 2131.06 2542.66 Q2138.38 2556.83 2152.82 2556.83 Q2167.36 2556.83 2174.58 2542.66 Q2181.89 2528.4 2181.89 2499.98 Q2181.89 2471.46 2174.58 2457.29 Q2167.36 2443.03 2152.82 2443.03 M2152.82 2428.22 Q2176.06 2428.22 2188.28 2446.65 Q2200.6 2464.98 2200.6 2499.98 Q2200.6 2534.89 2188.28 2553.31 Q2176.06 2571.64 2152.82 2571.64 Q2129.58 2571.64 2117.27 2553.31 Q2105.04 2534.89 2105.04 2499.98 Q2105.04 2464.98 2117.27 2446.65 Q2129.58 2428.22 2152.82 2428.22 Z\" fill=\"#000000\" fill-rule=\"evenodd\" fill-opacity=\"1\" /><path clip-path=\"url(#clip440)\" d=\"M 0 0 M2220.88 2545.44 L2240.41 2545.44 L2240.41 2568.96 L2220.88 2568.96 L2220.88 2545.44 Z\" fill=\"#000000\" fill-rule=\"evenodd\" fill-opacity=\"1\" /><path clip-path=\"url(#clip440)\" d=\"M 0 0 M2263.93 2553.22 L2294.49 2553.22 L2294.49 2447.76 L2261.25 2454.42 L2261.25 2437.39 L2294.3 2430.72 L2313 2430.72 L2313 2553.22 L2343.56 2553.22 L2343.56 2568.96 L2263.93 2568.96 L2263.93 2553.22 Z\" fill=\"#000000\" fill-rule=\"evenodd\" fill-opacity=\"1\" /><path clip-path=\"url(#clip440)\" d=\"M 0 0 M2403.84 2443.03 Q2389.39 2443.03 2382.08 2457.29 Q2374.86 2471.46 2374.86 2499.98 Q2374.86 2528.4 2382.08 2542.66 Q2389.39 2556.83 2403.84 2556.83 Q2418.37 2556.83 2425.6 2542.66 Q2432.91 2528.4 2432.91 2499.98 Q2432.91 2471.46 2425.6 2457.29 Q2418.37 2443.03 2403.84 2443.03 M2403.84 2428.22 Q2427.08 2428.22 2439.3 2446.65 Q2451.62 2464.98 2451.62 2499.98 Q2451.62 2534.89 2439.3 2553.31 Q2427.08 2571.64 2403.84 2571.64 Q2380.6 2571.64 2368.28 2553.31 Q2356.06 2534.89 2356.06 2499.98 Q2356.06 2464.98 2368.28 2446.65 Q2380.6 2428.22 2403.84 2428.22 Z\" fill=\"#000000\" fill-rule=\"evenodd\" fill-opacity=\"1\" /><path clip-path=\"url(#clip440)\" d=\"M 0 0 M2454.68 2443.03 Q2440.24 2443.03 2432.93 2457.29 Q2425.7 2471.46 2425.7 2499.98 Q2425.7 2528.4 2432.93 2542.66 Q2440.24 2556.83 2454.68 2556.83 Q2469.22 2556.83 2476.44 2542.66 Q2483.76 2528.4 2483.76 2499.98 Q2483.76 2471.46 2476.44 2457.29 Q2469.22 2443.03 2454.68 2443.03 M2454.68 2428.22 Q2477.93 2428.22 2490.15 2446.65 Q2502.46 2464.98 2502.46 2499.98 Q2502.46 2534.89 2490.15 2553.31 Q2477.93 2571.64 2454.68 2571.64 Q2431.44 2571.64 2419.13 2553.31 Q2406.91 2534.89 2406.91 2499.98 Q2406.91 2464.98 2419.13 2446.65 Q2431.44 2428.22 2454.68 2428.22 Z\" fill=\"#000000\" fill-rule=\"evenodd\" fill-opacity=\"1\" /><path clip-path=\"url(#clip440)\" d=\"M 0 0 M2522.74 2545.44 L2542.28 2545.44 L2542.28 2568.96 L2522.74 2568.96 L2522.74 2545.44 Z\" fill=\"#000000\" fill-rule=\"evenodd\" fill-opacity=\"1\" /><path clip-path=\"url(#clip440)\" d=\"M 0 0 M2565.8 2553.22 L2596.35 2553.22 L2596.35 2447.76 L2563.11 2454.42 L2563.11 2437.39 L2596.17 2430.72 L2614.87 2430.72 L2614.87 2553.22 L2645.42 2553.22 L2645.42 2568.96 L2565.8 2568.96 L2565.8 2553.22 Z\" fill=\"#000000\" fill-rule=\"evenodd\" fill-opacity=\"1\" /><path clip-path=\"url(#clip440)\" d=\"M 0 0 M2665.89 2430.72 L2739.31 2430.72 L2739.31 2446.46 L2683.02 2446.46 L2683.02 2480.35 Q2687.09 2478.96 2691.16 2478.31 Q2695.24 2477.57 2699.31 2477.57 Q2722.46 2477.57 2735.98 2490.26 Q2749.5 2502.94 2749.5 2524.61 Q2749.5 2546.92 2735.61 2559.33 Q2721.72 2571.64 2696.44 2571.64 Q2687.74 2571.64 2678.66 2570.16 Q2669.68 2568.68 2660.05 2565.72 L2660.05 2546.92 Q2668.39 2551.46 2677.28 2553.68 Q2686.16 2555.9 2696.07 2555.9 Q2712.09 2555.9 2721.44 2547.48 Q2730.79 2539.05 2730.79 2524.61 Q2730.79 2510.16 2721.44 2501.74 Q2712.09 2493.31 2696.07 2493.31 Q2688.57 2493.31 2681.07 2494.98 Q2673.66 2496.65 2665.89 2500.16 L2665.89 2430.72 Z\" fill=\"#000000\" fill-rule=\"evenodd\" fill-opacity=\"1\" /><path clip-path=\"url(#clip440)\" d=\"M 0 0 M255.169 1975.15 L305.076 1975.15 L305.076 1990.33 L255.169 1990.33 L255.169 1975.15 Z\" fill=\"#000000\" fill-rule=\"evenodd\" fill-opacity=\"1\" /><path clip-path=\"url(#clip440)\" d=\"M 0 0 M365.353 1908.76 Q350.909 1908.76 343.594 1923.02 Q336.372 1937.18 336.372 1965.7 Q336.372 1994.13 343.594 2008.39 Q350.909 2022.55 365.353 2022.55 Q379.89 2022.55 387.112 2008.39 Q394.427 1994.13 394.427 1965.7 Q394.427 1937.18 387.112 1923.02 Q379.89 1908.76 365.353 1908.76 M365.353 1893.94 Q388.594 1893.94 400.816 1912.37 Q413.131 1930.7 413.131 1965.7 Q413.131 2000.61 400.816 2019.03 Q388.594 2037.37 365.353 2037.37 Q342.112 2037.37 329.798 2019.03 Q317.576 2000.61 317.576 1965.7 Q317.576 1930.7 329.798 1912.37 Q342.112 1893.94 365.353 1893.94 Z\" fill=\"#000000\" fill-rule=\"evenodd\" fill-opacity=\"1\" /><path clip-path=\"url(#clip440)\" d=\"M 0 0 M433.408 2011.16 L452.945 2011.16 L452.945 2034.68 L433.408 2034.68 L433.408 2011.16 Z\" fill=\"#000000\" fill-rule=\"evenodd\" fill-opacity=\"1\" /><path clip-path=\"url(#clip440)\" d=\"M 0 0 M476.464 2018.94 L507.019 2018.94 L507.019 1913.48 L473.778 1920.15 L473.778 1903.11 L506.834 1896.44 L525.537 1896.44 L525.537 2018.94 L556.093 2018.94 L556.093 2034.68 L476.464 2034.68 L476.464 2018.94 Z\" fill=\"#000000\" fill-rule=\"evenodd\" fill-opacity=\"1\" /><path clip-path=\"url(#clip440)\" d=\"M 0 0 M360.446 1329.06 Q346.001 1329.06 338.687 1343.32 Q331.464 1357.49 331.464 1386 Q331.464 1414.43 338.687 1428.69 Q346.001 1442.86 360.446 1442.86 Q374.983 1442.86 382.205 1428.69 Q389.52 1414.43 389.52 1386 Q389.52 1357.49 382.205 1343.32 Q374.983 1329.06 360.446 1329.06 M360.446 1314.24 Q383.686 1314.24 395.908 1332.67 Q408.223 1351 408.223 1386 Q408.223 1420.91 395.908 1439.34 Q383.686 1457.67 360.446 1457.67 Q337.205 1457.67 324.89 1439.34 Q312.668 1420.91 312.668 1386 Q312.668 1351 324.89 1332.67 Q337.205 1314.24 360.446 1314.24 Z\" fill=\"#000000\" fill-rule=\"evenodd\" fill-opacity=\"1\" /><path clip-path=\"url(#clip440)\" d=\"M 0 0 M428.501 1431.47 L448.038 1431.47 L448.038 1454.98 L428.501 1454.98 L428.501 1431.47 Z\" fill=\"#000000\" fill-rule=\"evenodd\" fill-opacity=\"1\" /><path clip-path=\"url(#clip440)\" d=\"M 0 0 M508.315 1329.06 Q493.871 1329.06 486.556 1343.32 Q479.334 1357.49 479.334 1386 Q479.334 1414.43 486.556 1428.69 Q493.871 1442.86 508.315 1442.86 Q522.852 1442.86 530.074 1428.69 Q537.389 1414.43 537.389 1386 Q537.389 1357.49 530.074 1343.32 Q522.852 1329.06 508.315 1329.06 M508.315 1314.24 Q531.556 1314.24 543.778 1332.67 Q556.093 1351 556.093 1386 Q556.093 1420.91 543.778 1439.34 Q531.556 1457.67 508.315 1457.67 Q485.075 1457.67 472.76 1439.34 Q460.538 1420.91 460.538 1386 Q460.538 1351 472.76 1332.67 Q485.075 1314.24 508.315 1314.24 Z\" fill=\"#000000\" fill-rule=\"evenodd\" fill-opacity=\"1\" /><path clip-path=\"url(#clip440)\" d=\"M 0 0 M365.353 749.362 Q350.909 749.362 343.594 763.621 Q336.372 777.788 336.372 806.306 Q336.372 834.732 343.594 848.991 Q350.909 863.158 365.353 863.158 Q379.89 863.158 387.112 848.991 Q394.427 834.732 394.427 806.306 Q394.427 777.788 387.112 763.621 Q379.89 749.362 365.353 749.362 M365.353 734.547 Q388.594 734.547 400.816 752.973 Q413.131 771.306 413.131 806.306 Q413.131 841.213 400.816 859.639 Q388.594 877.973 365.353 877.973 Q342.112 877.973 329.798 859.639 Q317.576 841.213 317.576 806.306 Q317.576 771.306 329.798 752.973 Q342.112 734.547 365.353 734.547 Z\" fill=\"#000000\" fill-rule=\"evenodd\" fill-opacity=\"1\" /><path clip-path=\"url(#clip440)\" d=\"M 0 0 M433.408 851.769 L452.945 851.769 L452.945 875.287 L433.408 875.287 L433.408 851.769 Z\" fill=\"#000000\" fill-rule=\"evenodd\" fill-opacity=\"1\" /><path clip-path=\"url(#clip440)\" d=\"M 0 0 M476.464 859.547 L507.019 859.547 L507.019 754.084 L473.778 760.751 L473.778 743.714 L506.834 737.047 L525.537 737.047 L525.537 859.547 L556.093 859.547 L556.093 875.287 L476.464 875.287 L476.464 859.547 Z\" fill=\"#000000\" fill-rule=\"evenodd\" fill-opacity=\"1\" /><path clip-path=\"url(#clip440)\" d=\"M 0 0 M366.835 169.664 Q352.39 169.664 345.075 183.924 Q337.853 198.09 337.853 226.609 Q337.853 255.034 345.075 269.294 Q352.39 283.46 366.835 283.46 Q381.372 283.46 388.594 269.294 Q395.908 255.034 395.908 226.609 Q395.908 198.09 388.594 183.924 Q381.372 169.664 366.835 169.664 M366.835 154.85 Q390.075 154.85 402.297 173.276 Q414.612 191.609 414.612 226.609 Q414.612 261.516 402.297 279.942 Q390.075 298.275 366.835 298.275 Q343.594 298.275 331.279 279.942 Q319.057 261.516 319.057 226.609 Q319.057 191.609 331.279 173.276 Q343.594 154.85 366.835 154.85 Z\" fill=\"#000000\" fill-rule=\"evenodd\" fill-opacity=\"1\" /><path clip-path=\"url(#clip440)\" d=\"M 0 0 M434.89 272.071 L454.427 272.071 L454.427 295.59 L434.89 295.59 L434.89 272.071 Z\" fill=\"#000000\" fill-rule=\"evenodd\" fill-opacity=\"1\" /><path clip-path=\"url(#clip440)\" d=\"M 0 0 M490.815 279.849 L556.093 279.849 L556.093 295.59 L468.316 295.59 L468.316 279.849 Q478.964 268.831 497.297 250.312 Q515.723 231.701 520.445 226.331 Q529.426 216.238 532.945 209.294 Q536.556 202.257 536.556 195.498 Q536.556 184.479 528.778 177.535 Q521.093 170.59 508.686 170.59 Q499.889 170.59 490.075 173.646 Q480.352 176.701 469.241 182.905 L469.241 164.016 Q480.538 159.479 490.352 157.165 Q500.167 154.85 508.315 154.85 Q529.797 154.85 542.574 165.59 Q555.352 176.331 555.352 194.294 Q555.352 202.812 552.111 210.498 Q548.963 218.09 540.537 228.46 Q538.223 231.146 525.815 244.016 Q513.408 256.794 490.815 279.849 Z\" fill=\"#000000\" fill-rule=\"evenodd\" fill-opacity=\"1\" /><circle clip-path=\"url(#clip442)\" cx=\"1434.83\" cy=\"1530.49\" r=\"57\" fill=\"#800080\" fill-rule=\"evenodd\" fill-opacity=\"1\" stroke=\"#000000\" stroke-opacity=\"1\" stroke-width=\"5.76\"/>\n",
       "<circle clip-path=\"url(#clip442)\" cx=\"1324.04\" cy=\"1382.05\" r=\"57\" fill=\"#800080\" fill-rule=\"evenodd\" fill-opacity=\"1\" stroke=\"#000000\" stroke-opacity=\"1\" stroke-width=\"5.76\"/>\n",
       "<circle clip-path=\"url(#clip442)\" cx=\"1252.02\" cy=\"1512.76\" r=\"57\" fill=\"#800080\" fill-rule=\"evenodd\" fill-opacity=\"1\" stroke=\"#000000\" stroke-opacity=\"1\" stroke-width=\"5.76\"/>\n",
       "<circle clip-path=\"url(#clip442)\" cx=\"1721.52\" cy=\"1209.51\" r=\"57\" fill=\"#800080\" fill-rule=\"evenodd\" fill-opacity=\"1\" stroke=\"#000000\" stroke-opacity=\"1\" stroke-width=\"5.76\"/>\n",
       "<circle clip-path=\"url(#clip442)\" cx=\"1604.72\" cy=\"1518.36\" r=\"57\" fill=\"#800080\" fill-rule=\"evenodd\" fill-opacity=\"1\" stroke=\"#000000\" stroke-opacity=\"1\" stroke-width=\"5.76\"/>\n",
       "<circle clip-path=\"url(#clip442)\" cx=\"1730.98\" cy=\"1451.18\" r=\"57\" fill=\"#800080\" fill-rule=\"evenodd\" fill-opacity=\"1\" stroke=\"#000000\" stroke-opacity=\"1\" stroke-width=\"5.76\"/>\n",
       "<circle clip-path=\"url(#clip442)\" cx=\"1687.93\" cy=\"1107.81\" r=\"57\" fill=\"#800080\" fill-rule=\"evenodd\" fill-opacity=\"1\" stroke=\"#000000\" stroke-opacity=\"1\" stroke-width=\"5.76\"/>\n",
       "<circle clip-path=\"url(#clip442)\" cx=\"1128.3\" cy=\"2012.9\" r=\"57\" fill=\"#800080\" fill-rule=\"evenodd\" fill-opacity=\"1\" stroke=\"#000000\" stroke-opacity=\"1\" stroke-width=\"5.76\"/>\n",
       "<circle clip-path=\"url(#clip442)\" cx=\"1805.07\" cy=\"1435.09\" r=\"57\" fill=\"#800080\" fill-rule=\"evenodd\" fill-opacity=\"1\" stroke=\"#000000\" stroke-opacity=\"1\" stroke-width=\"5.76\"/>\n",
       "<circle clip-path=\"url(#clip442)\" cx=\"2199.32\" cy=\"1105.94\" r=\"57\" fill=\"#800080\" fill-rule=\"evenodd\" fill-opacity=\"1\" stroke=\"#000000\" stroke-opacity=\"1\" stroke-width=\"5.76\"/>\n",
       "<circle clip-path=\"url(#clip442)\" cx=\"2081.14\" cy=\"1445.12\" r=\"57\" fill=\"#800080\" fill-rule=\"evenodd\" fill-opacity=\"1\" stroke=\"#000000\" stroke-opacity=\"1\" stroke-width=\"5.76\"/>\n",
       "<circle clip-path=\"url(#clip442)\" cx=\"1407.14\" cy=\"1844.94\" r=\"57\" fill=\"#800080\" fill-rule=\"evenodd\" fill-opacity=\"1\" stroke=\"#000000\" stroke-opacity=\"1\" stroke-width=\"5.76\"/>\n",
       "<circle clip-path=\"url(#clip442)\" cx=\"1874.32\" cy=\"852.14\" r=\"57\" fill=\"#800080\" fill-rule=\"evenodd\" fill-opacity=\"1\" stroke=\"#000000\" stroke-opacity=\"1\" stroke-width=\"5.76\"/>\n",
       "<circle clip-path=\"url(#clip442)\" cx=\"2184.54\" cy=\"1205.78\" r=\"57\" fill=\"#800080\" fill-rule=\"evenodd\" fill-opacity=\"1\" stroke=\"#000000\" stroke-opacity=\"1\" stroke-width=\"5.76\"/>\n",
       "<circle clip-path=\"url(#clip442)\" cx=\"1524.39\" cy=\"1307.02\" r=\"57\" fill=\"#800080\" fill-rule=\"evenodd\" fill-opacity=\"1\" stroke=\"#000000\" stroke-opacity=\"1\" stroke-width=\"5.76\"/>\n",
       "<circle clip-path=\"url(#clip442)\" cx=\"1810.61\" cy=\"930.519\" r=\"57\" fill=\"#800080\" fill-rule=\"evenodd\" fill-opacity=\"1\" stroke=\"#000000\" stroke-opacity=\"1\" stroke-width=\"5.76\"/>\n",
       "<circle clip-path=\"url(#clip442)\" cx=\"1312.96\" cy=\"1505.3\" r=\"57\" fill=\"#800080\" fill-rule=\"evenodd\" fill-opacity=\"1\" stroke=\"#000000\" stroke-opacity=\"1\" stroke-width=\"5.76\"/>\n",
       "<circle clip-path=\"url(#clip442)\" cx=\"2143.92\" cy=\"1352.27\" r=\"57\" fill=\"#800080\" fill-rule=\"evenodd\" fill-opacity=\"1\" stroke=\"#000000\" stroke-opacity=\"1\" stroke-width=\"5.76\"/>\n",
       "<circle clip-path=\"url(#clip442)\" cx=\"1806\" cy=\"1399.1\" r=\"57\" fill=\"#800080\" fill-rule=\"evenodd\" fill-opacity=\"1\" stroke=\"#000000\" stroke-opacity=\"1\" stroke-width=\"5.76\"/>\n",
       "<circle clip-path=\"url(#clip442)\" cx=\"1659.31\" cy=\"1318.22\" r=\"57\" fill=\"#800080\" fill-rule=\"evenodd\" fill-opacity=\"1\" stroke=\"#000000\" stroke-opacity=\"1\" stroke-width=\"5.76\"/>\n",
       "<circle clip-path=\"url(#clip442)\" cx=\"1460.69\" cy=\"1326.15\" r=\"57\" fill=\"#800080\" fill-rule=\"evenodd\" fill-opacity=\"1\" stroke=\"#000000\" stroke-opacity=\"1\" stroke-width=\"5.76\"/>\n",
       "<circle clip-path=\"url(#clip442)\" cx=\"1580.71\" cy=\"1207.65\" r=\"57\" fill=\"#800080\" fill-rule=\"evenodd\" fill-opacity=\"1\" stroke=\"#000000\" stroke-opacity=\"1\" stroke-width=\"5.76\"/>\n",
       "<circle clip-path=\"url(#clip442)\" cx=\"1229.86\" cy=\"1599.54\" r=\"57\" fill=\"#800080\" fill-rule=\"evenodd\" fill-opacity=\"1\" stroke=\"#000000\" stroke-opacity=\"1\" stroke-width=\"5.76\"/>\n",
       "<circle clip-path=\"url(#clip442)\" cx=\"1924.18\" cy=\"1243.1\" r=\"57\" fill=\"#800080\" fill-rule=\"evenodd\" fill-opacity=\"1\" stroke=\"#000000\" stroke-opacity=\"1\" stroke-width=\"5.76\"/>\n",
       "<circle clip-path=\"url(#clip442)\" cx=\"1532.7\" cy=\"1736.71\" r=\"57\" fill=\"#800080\" fill-rule=\"evenodd\" fill-opacity=\"1\" stroke=\"#000000\" stroke-opacity=\"1\" stroke-width=\"5.76\"/>\n",
       "<circle clip-path=\"url(#clip442)\" cx=\"1674.6\" cy=\"1053.69\" r=\"57\" fill=\"#800080\" fill-rule=\"evenodd\" fill-opacity=\"1\" stroke=\"#000000\" stroke-opacity=\"1\" stroke-width=\"5.76\"/>\n",
       "<circle clip-path=\"url(#clip442)\" cx=\"1501.31\" cy=\"1641.53\" r=\"57\" fill=\"#800080\" fill-rule=\"evenodd\" fill-opacity=\"1\" stroke=\"#000000\" stroke-opacity=\"1\" stroke-width=\"5.76\"/>\n",
       "<circle clip-path=\"url(#clip442)\" cx=\"1641.88\" cy=\"1033.16\" r=\"57\" fill=\"#800080\" fill-rule=\"evenodd\" fill-opacity=\"1\" stroke=\"#000000\" stroke-opacity=\"1\" stroke-width=\"5.76\"/>\n",
       "<circle clip-path=\"url(#clip442)\" cx=\"1853.08\" cy=\"911.857\" r=\"57\" fill=\"#800080\" fill-rule=\"evenodd\" fill-opacity=\"1\" stroke=\"#000000\" stroke-opacity=\"1\" stroke-width=\"5.76\"/>\n",
       "<circle clip-path=\"url(#clip442)\" cx=\"1582.1\" cy=\"1567.82\" r=\"57\" fill=\"#800080\" fill-rule=\"evenodd\" fill-opacity=\"1\" stroke=\"#000000\" stroke-opacity=\"1\" stroke-width=\"5.76\"/>\n",
       "<circle clip-path=\"url(#clip442)\" cx=\"2064.52\" cy=\"1654.59\" r=\"57\" fill=\"#800080\" fill-rule=\"evenodd\" fill-opacity=\"1\" stroke=\"#000000\" stroke-opacity=\"1\" stroke-width=\"5.76\"/>\n",
       "<circle clip-path=\"url(#clip442)\" cx=\"2269.49\" cy=\"1747.9\" r=\"57\" fill=\"#800080\" fill-rule=\"evenodd\" fill-opacity=\"1\" stroke=\"#000000\" stroke-opacity=\"1\" stroke-width=\"5.76\"/>\n",
       "<circle clip-path=\"url(#clip442)\" cx=\"2232.56\" cy=\"1096.61\" r=\"57\" fill=\"#800080\" fill-rule=\"evenodd\" fill-opacity=\"1\" stroke=\"#000000\" stroke-opacity=\"1\" stroke-width=\"5.76\"/>\n",
       "<circle clip-path=\"url(#clip442)\" cx=\"1924.18\" cy=\"1029.43\" r=\"57\" fill=\"#800080\" fill-rule=\"evenodd\" fill-opacity=\"1\" stroke=\"#000000\" stroke-opacity=\"1\" stroke-width=\"5.76\"/>\n",
       "<circle clip-path=\"url(#clip442)\" cx=\"951.032\" cy=\"2311.49\" r=\"57\" fill=\"#800080\" fill-rule=\"evenodd\" fill-opacity=\"1\" stroke=\"#000000\" stroke-opacity=\"1\" stroke-width=\"5.76\"/>\n",
       "<circle clip-path=\"url(#clip442)\" cx=\"1513.31\" cy=\"1203.91\" r=\"57\" fill=\"#800080\" fill-rule=\"evenodd\" fill-opacity=\"1\" stroke=\"#000000\" stroke-opacity=\"1\" stroke-width=\"5.76\"/>\n",
       "<circle clip-path=\"url(#clip442)\" cx=\"1770.91\" cy=\"1410.13\" r=\"57\" fill=\"#800080\" fill-rule=\"evenodd\" fill-opacity=\"1\" stroke=\"#000000\" stroke-opacity=\"1\" stroke-width=\"5.76\"/>\n",
       "<circle clip-path=\"url(#clip442)\" cx=\"2033.13\" cy=\"919.322\" r=\"57\" fill=\"#800080\" fill-rule=\"evenodd\" fill-opacity=\"1\" stroke=\"#000000\" stroke-opacity=\"1\" stroke-width=\"5.76\"/>\n",
       "<circle clip-path=\"url(#clip442)\" cx=\"1756.6\" cy=\"1675.12\" r=\"57\" fill=\"#800080\" fill-rule=\"evenodd\" fill-opacity=\"1\" stroke=\"#000000\" stroke-opacity=\"1\" stroke-width=\"5.76\"/>\n",
       "<circle clip-path=\"url(#clip442)\" cx=\"1452.38\" cy=\"1301.89\" r=\"57\" fill=\"#800080\" fill-rule=\"evenodd\" fill-opacity=\"1\" stroke=\"#000000\" stroke-opacity=\"1\" stroke-width=\"5.76\"/>\n",
       "<circle clip-path=\"url(#clip442)\" cx=\"1694.51\" cy=\"1544.49\" r=\"57\" fill=\"#800080\" fill-rule=\"evenodd\" fill-opacity=\"1\" stroke=\"#000000\" stroke-opacity=\"1\" stroke-width=\"5.76\"/>\n",
       "<circle clip-path=\"url(#clip442)\" cx=\"1698.55\" cy=\"1152.59\" r=\"57\" fill=\"#800080\" fill-rule=\"evenodd\" fill-opacity=\"1\" stroke=\"#000000\" stroke-opacity=\"1\" stroke-width=\"5.76\"/>\n",
       "<circle clip-path=\"url(#clip442)\" cx=\"1910.33\" cy=\"1201.11\" r=\"57\" fill=\"#800080\" fill-rule=\"evenodd\" fill-opacity=\"1\" stroke=\"#000000\" stroke-opacity=\"1\" stroke-width=\"5.76\"/>\n",
       "<circle clip-path=\"url(#clip442)\" cx=\"1296.34\" cy=\"1451.65\" r=\"57\" fill=\"#800080\" fill-rule=\"evenodd\" fill-opacity=\"1\" stroke=\"#000000\" stroke-opacity=\"1\" stroke-width=\"5.76\"/>\n",
       "<circle clip-path=\"url(#clip442)\" cx=\"1809.69\" cy=\"1645.26\" r=\"57\" fill=\"#800080\" fill-rule=\"evenodd\" fill-opacity=\"1\" stroke=\"#000000\" stroke-opacity=\"1\" stroke-width=\"5.76\"/>\n",
       "<circle clip-path=\"url(#clip442)\" cx=\"1554.86\" cy=\"1115.27\" r=\"57\" fill=\"#800080\" fill-rule=\"evenodd\" fill-opacity=\"1\" stroke=\"#000000\" stroke-opacity=\"1\" stroke-width=\"5.76\"/>\n",
       "<circle clip-path=\"url(#clip442)\" cx=\"1718.28\" cy=\"1480.11\" r=\"57\" fill=\"#800080\" fill-rule=\"evenodd\" fill-opacity=\"1\" stroke=\"#000000\" stroke-opacity=\"1\" stroke-width=\"5.76\"/>\n",
       "<circle clip-path=\"url(#clip442)\" cx=\"1504.08\" cy=\"1174.99\" r=\"57\" fill=\"#800080\" fill-rule=\"evenodd\" fill-opacity=\"1\" stroke=\"#000000\" stroke-opacity=\"1\" stroke-width=\"5.76\"/>\n",
       "<circle clip-path=\"url(#clip442)\" cx=\"2033.13\" cy=\"1511.83\" r=\"57\" fill=\"#800080\" fill-rule=\"evenodd\" fill-opacity=\"1\" stroke=\"#000000\" stroke-opacity=\"1\" stroke-width=\"5.76\"/>\n",
       "<circle clip-path=\"url(#clip442)\" cx=\"2119.91\" cy=\"1161.92\" r=\"57\" fill=\"#800080\" fill-rule=\"evenodd\" fill-opacity=\"1\" stroke=\"#000000\" stroke-opacity=\"1\" stroke-width=\"5.76\"/>\n",
       "<circle clip-path=\"url(#clip442)\" cx=\"1556.71\" cy=\"1210.44\" r=\"57\" fill=\"#800080\" fill-rule=\"evenodd\" fill-opacity=\"1\" stroke=\"#000000\" stroke-opacity=\"1\" stroke-width=\"5.76\"/>\n",
       "<circle clip-path=\"url(#clip442)\" cx=\"1709.97\" cy=\"900.66\" r=\"57\" fill=\"#800080\" fill-rule=\"evenodd\" fill-opacity=\"1\" stroke=\"#000000\" stroke-opacity=\"1\" stroke-width=\"5.76\"/>\n",
       "<circle clip-path=\"url(#clip442)\" cx=\"1683.17\" cy=\"1710.58\" r=\"57\" fill=\"#800080\" fill-rule=\"evenodd\" fill-opacity=\"1\" stroke=\"#000000\" stroke-opacity=\"1\" stroke-width=\"5.76\"/>\n",
       "<circle clip-path=\"url(#clip442)\" cx=\"1623.19\" cy=\"1410.48\" r=\"57\" fill=\"#800080\" fill-rule=\"evenodd\" fill-opacity=\"1\" stroke=\"#000000\" stroke-opacity=\"1\" stroke-width=\"5.76\"/>\n",
       "<circle clip-path=\"url(#clip442)\" cx=\"1873.4\" cy=\"1153.53\" r=\"57\" fill=\"#800080\" fill-rule=\"evenodd\" fill-opacity=\"1\" stroke=\"#000000\" stroke-opacity=\"1\" stroke-width=\"5.76\"/>\n",
       "<circle clip-path=\"url(#clip442)\" cx=\"1065.52\" cy=\"1684.45\" r=\"57\" fill=\"#800080\" fill-rule=\"evenodd\" fill-opacity=\"1\" stroke=\"#000000\" stroke-opacity=\"1\" stroke-width=\"5.76\"/>\n",
       "<circle clip-path=\"url(#clip442)\" cx=\"1469\" cy=\"1256.17\" r=\"57\" fill=\"#800080\" fill-rule=\"evenodd\" fill-opacity=\"1\" stroke=\"#000000\" stroke-opacity=\"1\" stroke-width=\"5.76\"/>\n",
       "<circle clip-path=\"url(#clip442)\" cx=\"1598.26\" cy=\"1160.99\" r=\"57\" fill=\"#800080\" fill-rule=\"evenodd\" fill-opacity=\"1\" stroke=\"#000000\" stroke-opacity=\"1\" stroke-width=\"5.76\"/>\n",
       "<circle clip-path=\"url(#clip442)\" cx=\"1386.82\" cy=\"1202.98\" r=\"57\" fill=\"#800080\" fill-rule=\"evenodd\" fill-opacity=\"1\" stroke=\"#000000\" stroke-opacity=\"1\" stroke-width=\"5.76\"/>\n",
       "<circle clip-path=\"url(#clip442)\" cx=\"1301.88\" cy=\"1442.78\" r=\"57\" fill=\"#800080\" fill-rule=\"evenodd\" fill-opacity=\"1\" stroke=\"#000000\" stroke-opacity=\"1\" stroke-width=\"5.76\"/>\n",
       "<circle clip-path=\"url(#clip442)\" cx=\"1536.4\" cy=\"999.567\" r=\"57\" fill=\"#800080\" fill-rule=\"evenodd\" fill-opacity=\"1\" stroke=\"#000000\" stroke-opacity=\"1\" stroke-width=\"5.76\"/>\n",
       "<circle clip-path=\"url(#clip442)\" cx=\"1442.22\" cy=\"1528.63\" r=\"57\" fill=\"#800080\" fill-rule=\"evenodd\" fill-opacity=\"1\" stroke=\"#000000\" stroke-opacity=\"1\" stroke-width=\"5.76\"/>\n",
       "<circle clip-path=\"url(#clip442)\" cx=\"1425.6\" cy=\"1846.81\" r=\"57\" fill=\"#800080\" fill-rule=\"evenodd\" fill-opacity=\"1\" stroke=\"#000000\" stroke-opacity=\"1\" stroke-width=\"5.76\"/>\n",
       "<circle clip-path=\"url(#clip442)\" cx=\"1452.38\" cy=\"1624.74\" r=\"57\" fill=\"#800080\" fill-rule=\"evenodd\" fill-opacity=\"1\" stroke=\"#000000\" stroke-opacity=\"1\" stroke-width=\"5.76\"/>\n",
       "<circle clip-path=\"url(#clip442)\" cx=\"1035.97\" cy=\"1785.23\" r=\"57\" fill=\"#800080\" fill-rule=\"evenodd\" fill-opacity=\"1\" stroke=\"#000000\" stroke-opacity=\"1\" stroke-width=\"5.76\"/>\n",
       "<circle clip-path=\"url(#clip442)\" cx=\"2188.24\" cy=\"960.378\" r=\"57\" fill=\"#800080\" fill-rule=\"evenodd\" fill-opacity=\"1\" stroke=\"#000000\" stroke-opacity=\"1\" stroke-width=\"5.76\"/>\n",
       "<circle clip-path=\"url(#clip442)\" cx=\"1418.22\" cy=\"1386.52\" r=\"57\" fill=\"#800080\" fill-rule=\"evenodd\" fill-opacity=\"1\" stroke=\"#000000\" stroke-opacity=\"1\" stroke-width=\"5.76\"/>\n",
       "<circle clip-path=\"url(#clip442)\" cx=\"1377.59\" cy=\"1338.28\" r=\"57\" fill=\"#800080\" fill-rule=\"evenodd\" fill-opacity=\"1\" stroke=\"#000000\" stroke-opacity=\"1\" stroke-width=\"5.76\"/>\n",
       "<circle clip-path=\"url(#clip442)\" cx=\"1849.39\" cy=\"1048.09\" r=\"57\" fill=\"#800080\" fill-rule=\"evenodd\" fill-opacity=\"1\" stroke=\"#000000\" stroke-opacity=\"1\" stroke-width=\"5.76\"/>\n",
       "<circle clip-path=\"url(#clip442)\" cx=\"1843.85\" cy=\"1294.42\" r=\"57\" fill=\"#800080\" fill-rule=\"evenodd\" fill-opacity=\"1\" stroke=\"#000000\" stroke-opacity=\"1\" stroke-width=\"5.76\"/>\n",
       "<circle clip-path=\"url(#clip442)\" cx=\"2225.17\" cy=\"770.028\" r=\"57\" fill=\"#800080\" fill-rule=\"evenodd\" fill-opacity=\"1\" stroke=\"#000000\" stroke-opacity=\"1\" stroke-width=\"5.76\"/>\n",
       "<circle clip-path=\"url(#clip442)\" cx=\"1844.77\" cy=\"1276.23\" r=\"57\" fill=\"#800080\" fill-rule=\"evenodd\" fill-opacity=\"1\" stroke=\"#000000\" stroke-opacity=\"1\" stroke-width=\"5.76\"/>\n",
       "<circle clip-path=\"url(#clip442)\" cx=\"644.5\" cy=\"1841.21\" r=\"57\" fill=\"#800080\" fill-rule=\"evenodd\" fill-opacity=\"1\" stroke=\"#000000\" stroke-opacity=\"1\" stroke-width=\"5.76\"/>\n",
       "<circle clip-path=\"url(#clip442)\" cx=\"1780.61\" cy=\"1442.78\" r=\"57\" fill=\"#800080\" fill-rule=\"evenodd\" fill-opacity=\"1\" stroke=\"#000000\" stroke-opacity=\"1\" stroke-width=\"5.76\"/>\n",
       "<circle clip-path=\"url(#clip442)\" cx=\"1080.29\" cy=\"1779.63\" r=\"57\" fill=\"#800080\" fill-rule=\"evenodd\" fill-opacity=\"1\" stroke=\"#000000\" stroke-opacity=\"1\" stroke-width=\"5.76\"/>\n",
       "<circle clip-path=\"url(#clip442)\" cx=\"1765.37\" cy=\"1230.97\" r=\"57\" fill=\"#800080\" fill-rule=\"evenodd\" fill-opacity=\"1\" stroke=\"#000000\" stroke-opacity=\"1\" stroke-width=\"5.76\"/>\n",
       "<circle clip-path=\"url(#clip442)\" cx=\"2075.6\" cy=\"947.314\" r=\"57\" fill=\"#800080\" fill-rule=\"evenodd\" fill-opacity=\"1\" stroke=\"#000000\" stroke-opacity=\"1\" stroke-width=\"5.76\"/>\n",
       "<circle clip-path=\"url(#clip442)\" cx=\"1708.82\" cy=\"1599.54\" r=\"57\" fill=\"#800080\" fill-rule=\"evenodd\" fill-opacity=\"1\" stroke=\"#000000\" stroke-opacity=\"1\" stroke-width=\"5.76\"/>\n",
       "<circle clip-path=\"url(#clip442)\" cx=\"1714.36\" cy=\"1304.69\" r=\"57\" fill=\"#800080\" fill-rule=\"evenodd\" fill-opacity=\"1\" stroke=\"#000000\" stroke-opacity=\"1\" stroke-width=\"5.76\"/>\n",
       "<circle clip-path=\"url(#clip442)\" cx=\"1592.72\" cy=\"1755.37\" r=\"57\" fill=\"#800080\" fill-rule=\"evenodd\" fill-opacity=\"1\" stroke=\"#000000\" stroke-opacity=\"1\" stroke-width=\"5.76\"/>\n",
       "<circle clip-path=\"url(#clip442)\" cx=\"2095.91\" cy=\"1055.55\" r=\"57\" fill=\"#800080\" fill-rule=\"evenodd\" fill-opacity=\"1\" stroke=\"#000000\" stroke-opacity=\"1\" stroke-width=\"5.76\"/>\n",
       "<circle clip-path=\"url(#clip442)\" cx=\"1375.74\" cy=\"1476.37\" r=\"57\" fill=\"#800080\" fill-rule=\"evenodd\" fill-opacity=\"1\" stroke=\"#000000\" stroke-opacity=\"1\" stroke-width=\"5.76\"/>\n",
       "<circle clip-path=\"url(#clip442)\" cx=\"1839.24\" cy=\"1272.96\" r=\"57\" fill=\"#800080\" fill-rule=\"evenodd\" fill-opacity=\"1\" stroke=\"#000000\" stroke-opacity=\"1\" stroke-width=\"5.76\"/>\n",
       "<circle clip-path=\"url(#clip442)\" cx=\"1571.48\" cy=\"1441.62\" r=\"57\" fill=\"#800080\" fill-rule=\"evenodd\" fill-opacity=\"1\" stroke=\"#000000\" stroke-opacity=\"1\" stroke-width=\"5.76\"/>\n",
       "<circle clip-path=\"url(#clip442)\" cx=\"1607.03\" cy=\"1706.85\" r=\"57\" fill=\"#800080\" fill-rule=\"evenodd\" fill-opacity=\"1\" stroke=\"#000000\" stroke-opacity=\"1\" stroke-width=\"5.76\"/>\n",
       "<circle clip-path=\"url(#clip442)\" cx=\"1442.22\" cy=\"1886\" r=\"57\" fill=\"#800080\" fill-rule=\"evenodd\" fill-opacity=\"1\" stroke=\"#000000\" stroke-opacity=\"1\" stroke-width=\"5.76\"/>\n",
       "<circle clip-path=\"url(#clip442)\" cx=\"1560.86\" cy=\"1149.79\" r=\"57\" fill=\"#800080\" fill-rule=\"evenodd\" fill-opacity=\"1\" stroke=\"#000000\" stroke-opacity=\"1\" stroke-width=\"5.76\"/>\n",
       "<circle clip-path=\"url(#clip442)\" cx=\"1797.69\" cy=\"1390.5\" r=\"57\" fill=\"#800080\" fill-rule=\"evenodd\" fill-opacity=\"1\" stroke=\"#000000\" stroke-opacity=\"1\" stroke-width=\"5.76\"/>\n",
       "<circle clip-path=\"url(#clip442)\" cx=\"1892.79\" cy=\"1040.62\" r=\"57\" fill=\"#800080\" fill-rule=\"evenodd\" fill-opacity=\"1\" stroke=\"#000000\" stroke-opacity=\"1\" stroke-width=\"5.76\"/>\n",
       "<circle clip-path=\"url(#clip442)\" cx=\"2020.2\" cy=\"1184.32\" r=\"57\" fill=\"#800080\" fill-rule=\"evenodd\" fill-opacity=\"1\" stroke=\"#000000\" stroke-opacity=\"1\" stroke-width=\"5.76\"/>\n",
       "<circle clip-path=\"url(#clip442)\" cx=\"1420.06\" cy=\"1757.23\" r=\"57\" fill=\"#800080\" fill-rule=\"evenodd\" fill-opacity=\"1\" stroke=\"#000000\" stroke-opacity=\"1\" stroke-width=\"5.76\"/>\n",
       "<circle clip-path=\"url(#clip442)\" cx=\"1830\" cy=\"1126.47\" r=\"57\" fill=\"#800080\" fill-rule=\"evenodd\" fill-opacity=\"1\" stroke=\"#000000\" stroke-opacity=\"1\" stroke-width=\"5.76\"/>\n",
       "<circle clip-path=\"url(#clip442)\" cx=\"1622.03\" cy=\"1738.57\" r=\"57\" fill=\"#800080\" fill-rule=\"evenodd\" fill-opacity=\"1\" stroke=\"#000000\" stroke-opacity=\"1\" stroke-width=\"5.76\"/>\n",
       "<circle clip-path=\"url(#clip442)\" cx=\"1277.88\" cy=\"1798.29\" r=\"57\" fill=\"#800080\" fill-rule=\"evenodd\" fill-opacity=\"1\" stroke=\"#000000\" stroke-opacity=\"1\" stroke-width=\"5.76\"/>\n",
       "<circle clip-path=\"url(#clip442)\" cx=\"1985.11\" cy=\"1774.03\" r=\"57\" fill=\"#800080\" fill-rule=\"evenodd\" fill-opacity=\"1\" stroke=\"#000000\" stroke-opacity=\"1\" stroke-width=\"5.76\"/>\n",
       "<circle clip-path=\"url(#clip442)\" cx=\"1058.13\" cy=\"1626.6\" r=\"57\" fill=\"#800080\" fill-rule=\"evenodd\" fill-opacity=\"1\" stroke=\"#000000\" stroke-opacity=\"1\" stroke-width=\"5.76\"/>\n",
       "<circle clip-path=\"url(#clip442)\" cx=\"1897.4\" cy=\"1147.93\" r=\"57\" fill=\"#800080\" fill-rule=\"evenodd\" fill-opacity=\"1\" stroke=\"#000000\" stroke-opacity=\"1\" stroke-width=\"5.76\"/>\n",
       "<circle clip-path=\"url(#clip442)\" cx=\"1113.53\" cy=\"1445.12\" r=\"57\" fill=\"#800080\" fill-rule=\"evenodd\" fill-opacity=\"1\" stroke=\"#000000\" stroke-opacity=\"1\" stroke-width=\"5.76\"/>\n",
       "<circle clip-path=\"url(#clip442)\" cx=\"2302.73\" cy=\"1235.64\" r=\"57\" fill=\"#800080\" fill-rule=\"evenodd\" fill-opacity=\"1\" stroke=\"#000000\" stroke-opacity=\"1\" stroke-width=\"5.76\"/>\n",
       "<circle clip-path=\"url(#clip442)\" cx=\"770.067\" cy=\"1772.16\" r=\"57\" fill=\"#800080\" fill-rule=\"evenodd\" fill-opacity=\"1\" stroke=\"#000000\" stroke-opacity=\"1\" stroke-width=\"5.76\"/>\n",
       "<circle clip-path=\"url(#clip442)\" cx=\"1054.44\" cy=\"1826.28\" r=\"57\" fill=\"#800080\" fill-rule=\"evenodd\" fill-opacity=\"1\" stroke=\"#000000\" stroke-opacity=\"1\" stroke-width=\"5.76\"/>\n",
       "<circle clip-path=\"url(#clip442)\" cx=\"1408.98\" cy=\"1994.24\" r=\"57\" fill=\"#800080\" fill-rule=\"evenodd\" fill-opacity=\"1\" stroke=\"#000000\" stroke-opacity=\"1\" stroke-width=\"5.76\"/>\n",
       "<circle clip-path=\"url(#clip442)\" cx=\"1645.58\" cy=\"1029.43\" r=\"57\" fill=\"#800080\" fill-rule=\"evenodd\" fill-opacity=\"1\" stroke=\"#000000\" stroke-opacity=\"1\" stroke-width=\"5.76\"/>\n",
       "<circle clip-path=\"url(#clip442)\" cx=\"2130.99\" cy=\"1096.61\" r=\"57\" fill=\"#800080\" fill-rule=\"evenodd\" fill-opacity=\"1\" stroke=\"#000000\" stroke-opacity=\"1\" stroke-width=\"5.76\"/>\n",
       "<circle clip-path=\"url(#clip442)\" cx=\"1209.55\" cy=\"1547.29\" r=\"57\" fill=\"#800080\" fill-rule=\"evenodd\" fill-opacity=\"1\" stroke=\"#000000\" stroke-opacity=\"1\" stroke-width=\"5.76\"/>\n",
       "<circle clip-path=\"url(#clip442)\" cx=\"1824.46\" cy=\"980.905\" r=\"57\" fill=\"#800080\" fill-rule=\"evenodd\" fill-opacity=\"1\" stroke=\"#000000\" stroke-opacity=\"1\" stroke-width=\"5.76\"/>\n",
       "<circle clip-path=\"url(#clip442)\" cx=\"2413.52\" cy=\"669.255\" r=\"57\" fill=\"#800080\" fill-rule=\"evenodd\" fill-opacity=\"1\" stroke=\"#000000\" stroke-opacity=\"1\" stroke-width=\"5.76\"/>\n",
       "<circle clip-path=\"url(#clip442)\" cx=\"1568.71\" cy=\"1417.36\" r=\"57\" fill=\"#800080\" fill-rule=\"evenodd\" fill-opacity=\"1\" stroke=\"#000000\" stroke-opacity=\"1\" stroke-width=\"5.76\"/>\n",
       "<circle clip-path=\"url(#clip442)\" cx=\"1950.03\" cy=\"1243.1\" r=\"57\" fill=\"#800080\" fill-rule=\"evenodd\" fill-opacity=\"1\" stroke=\"#000000\" stroke-opacity=\"1\" stroke-width=\"5.76\"/>\n",
       "<circle clip-path=\"url(#clip442)\" cx=\"1601.49\" cy=\"1997.97\" r=\"57\" fill=\"#800080\" fill-rule=\"evenodd\" fill-opacity=\"1\" stroke=\"#000000\" stroke-opacity=\"1\" stroke-width=\"5.76\"/>\n",
       "<circle clip-path=\"url(#clip442)\" cx=\"1763.99\" cy=\"2098.74\" r=\"57\" fill=\"#800080\" fill-rule=\"evenodd\" fill-opacity=\"1\" stroke=\"#000000\" stroke-opacity=\"1\" stroke-width=\"5.76\"/>\n",
       "<circle clip-path=\"url(#clip442)\" cx=\"1907.56\" cy=\"1288.82\" r=\"57\" fill=\"#800080\" fill-rule=\"evenodd\" fill-opacity=\"1\" stroke=\"#000000\" stroke-opacity=\"1\" stroke-width=\"5.76\"/>\n",
       "<circle clip-path=\"url(#clip442)\" cx=\"1979.57\" cy=\"1351.11\" r=\"57\" fill=\"#800080\" fill-rule=\"evenodd\" fill-opacity=\"1\" stroke=\"#000000\" stroke-opacity=\"1\" stroke-width=\"5.76\"/>\n",
       "<circle clip-path=\"url(#clip442)\" cx=\"2210.4\" cy=\"1467.51\" r=\"57\" fill=\"#800080\" fill-rule=\"evenodd\" fill-opacity=\"1\" stroke=\"#000000\" stroke-opacity=\"1\" stroke-width=\"5.76\"/>\n",
       "<circle clip-path=\"url(#clip442)\" cx=\"1471.77\" cy=\"1389.48\" r=\"57\" fill=\"#800080\" fill-rule=\"evenodd\" fill-opacity=\"1\" stroke=\"#000000\" stroke-opacity=\"1\" stroke-width=\"5.76\"/>\n",
       "<circle clip-path=\"url(#clip442)\" cx=\"1457.92\" cy=\"1497.84\" r=\"57\" fill=\"#800080\" fill-rule=\"evenodd\" fill-opacity=\"1\" stroke=\"#000000\" stroke-opacity=\"1\" stroke-width=\"5.76\"/>\n",
       "<circle clip-path=\"url(#clip442)\" cx=\"1690.7\" cy=\"1363.94\" r=\"57\" fill=\"#800080\" fill-rule=\"evenodd\" fill-opacity=\"1\" stroke=\"#000000\" stroke-opacity=\"1\" stroke-width=\"5.76\"/>\n",
       "<circle clip-path=\"url(#clip442)\" cx=\"1924.18\" cy=\"1714.31\" r=\"57\" fill=\"#800080\" fill-rule=\"evenodd\" fill-opacity=\"1\" stroke=\"#000000\" stroke-opacity=\"1\" stroke-width=\"5.76\"/>\n",
       "<circle clip-path=\"url(#clip442)\" cx=\"1314.81\" cy=\"1497.84\" r=\"57\" fill=\"#800080\" fill-rule=\"evenodd\" fill-opacity=\"1\" stroke=\"#000000\" stroke-opacity=\"1\" stroke-width=\"5.76\"/>\n",
       "<circle clip-path=\"url(#clip442)\" cx=\"2092.22\" cy=\"1173.12\" r=\"57\" fill=\"#800080\" fill-rule=\"evenodd\" fill-opacity=\"1\" stroke=\"#000000\" stroke-opacity=\"1\" stroke-width=\"5.76\"/>\n",
       "<circle clip-path=\"url(#clip442)\" cx=\"1298.19\" cy=\"1660.19\" r=\"57\" fill=\"#800080\" fill-rule=\"evenodd\" fill-opacity=\"1\" stroke=\"#000000\" stroke-opacity=\"1\" stroke-width=\"5.76\"/>\n",
       "<circle clip-path=\"url(#clip442)\" cx=\"1431.14\" cy=\"943.582\" r=\"57\" fill=\"#800080\" fill-rule=\"evenodd\" fill-opacity=\"1\" stroke=\"#000000\" stroke-opacity=\"1\" stroke-width=\"5.76\"/>\n",
       "<circle clip-path=\"url(#clip442)\" cx=\"1091.37\" cy=\"1432.29\" r=\"57\" fill=\"#800080\" fill-rule=\"evenodd\" fill-opacity=\"1\" stroke=\"#000000\" stroke-opacity=\"1\" stroke-width=\"5.76\"/>\n",
       "<circle clip-path=\"url(#clip442)\" cx=\"1974.04\" cy=\"1265.5\" r=\"57\" fill=\"#800080\" fill-rule=\"evenodd\" fill-opacity=\"1\" stroke=\"#000000\" stroke-opacity=\"1\" stroke-width=\"5.76\"/>\n",
       "<circle clip-path=\"url(#clip442)\" cx=\"2177.16\" cy=\"1199.25\" r=\"57\" fill=\"#800080\" fill-rule=\"evenodd\" fill-opacity=\"1\" stroke=\"#000000\" stroke-opacity=\"1\" stroke-width=\"5.76\"/>\n",
       "<circle clip-path=\"url(#clip442)\" cx=\"1621.11\" cy=\"1912.13\" r=\"57\" fill=\"#800080\" fill-rule=\"evenodd\" fill-opacity=\"1\" stroke=\"#000000\" stroke-opacity=\"1\" stroke-width=\"5.76\"/>\n",
       "<circle clip-path=\"url(#clip442)\" cx=\"1384.98\" cy=\"1293.02\" r=\"57\" fill=\"#800080\" fill-rule=\"evenodd\" fill-opacity=\"1\" stroke=\"#000000\" stroke-opacity=\"1\" stroke-width=\"5.76\"/>\n",
       "<circle clip-path=\"url(#clip442)\" cx=\"1172.62\" cy=\"1577.15\" r=\"57\" fill=\"#800080\" fill-rule=\"evenodd\" fill-opacity=\"1\" stroke=\"#000000\" stroke-opacity=\"1\" stroke-width=\"5.76\"/>\n",
       "<circle clip-path=\"url(#clip442)\" cx=\"1946.34\" cy=\"1036.89\" r=\"57\" fill=\"#800080\" fill-rule=\"evenodd\" fill-opacity=\"1\" stroke=\"#000000\" stroke-opacity=\"1\" stroke-width=\"5.76\"/>\n",
       "<circle clip-path=\"url(#clip442)\" cx=\"1517.93\" cy=\"1468.44\" r=\"57\" fill=\"#800080\" fill-rule=\"evenodd\" fill-opacity=\"1\" stroke=\"#000000\" stroke-opacity=\"1\" stroke-width=\"5.76\"/>\n",
       "<circle clip-path=\"url(#clip442)\" cx=\"1379.44\" cy=\"1454.45\" r=\"57\" fill=\"#800080\" fill-rule=\"evenodd\" fill-opacity=\"1\" stroke=\"#000000\" stroke-opacity=\"1\" stroke-width=\"5.76\"/>\n",
       "<circle clip-path=\"url(#clip442)\" cx=\"1309.27\" cy=\"1639.66\" r=\"57\" fill=\"#800080\" fill-rule=\"evenodd\" fill-opacity=\"1\" stroke=\"#000000\" stroke-opacity=\"1\" stroke-width=\"5.76\"/>\n",
       "<circle clip-path=\"url(#clip442)\" cx=\"1146.77\" cy=\"1971.84\" r=\"57\" fill=\"#800080\" fill-rule=\"evenodd\" fill-opacity=\"1\" stroke=\"#000000\" stroke-opacity=\"1\" stroke-width=\"5.76\"/>\n",
       "<circle clip-path=\"url(#clip442)\" cx=\"1756.14\" cy=\"1355.77\" r=\"57\" fill=\"#800080\" fill-rule=\"evenodd\" fill-opacity=\"1\" stroke=\"#000000\" stroke-opacity=\"1\" stroke-width=\"5.76\"/>\n",
       "<circle clip-path=\"url(#clip442)\" cx=\"1357.28\" cy=\"1225.37\" r=\"57\" fill=\"#800080\" fill-rule=\"evenodd\" fill-opacity=\"1\" stroke=\"#000000\" stroke-opacity=\"1\" stroke-width=\"5.76\"/>\n",
       "<circle clip-path=\"url(#clip442)\" cx=\"2468.92\" cy=\"1177.79\" r=\"57\" fill=\"#800080\" fill-rule=\"evenodd\" fill-opacity=\"1\" stroke=\"#000000\" stroke-opacity=\"1\" stroke-width=\"5.76\"/>\n",
       "<circle clip-path=\"url(#clip442)\" cx=\"1606.57\" cy=\"1505.3\" r=\"57\" fill=\"#800080\" fill-rule=\"evenodd\" fill-opacity=\"1\" stroke=\"#000000\" stroke-opacity=\"1\" stroke-width=\"5.76\"/>\n",
       "<circle clip-path=\"url(#clip442)\" cx=\"1283.42\" cy=\"1352.74\" r=\"57\" fill=\"#800080\" fill-rule=\"evenodd\" fill-opacity=\"1\" stroke=\"#000000\" stroke-opacity=\"1\" stroke-width=\"5.76\"/>\n",
       "<circle clip-path=\"url(#clip442)\" cx=\"1298.19\" cy=\"1115.27\" r=\"57\" fill=\"#800080\" fill-rule=\"evenodd\" fill-opacity=\"1\" stroke=\"#000000\" stroke-opacity=\"1\" stroke-width=\"5.76\"/>\n",
       "<circle clip-path=\"url(#clip442)\" cx=\"2199.32\" cy=\"1516.5\" r=\"57\" fill=\"#800080\" fill-rule=\"evenodd\" fill-opacity=\"1\" stroke=\"#000000\" stroke-opacity=\"1\" stroke-width=\"5.76\"/>\n",
       "<circle clip-path=\"url(#clip442)\" cx=\"1423.76\" cy=\"1532.36\" r=\"57\" fill=\"#800080\" fill-rule=\"evenodd\" fill-opacity=\"1\" stroke=\"#000000\" stroke-opacity=\"1\" stroke-width=\"5.76\"/>\n",
       "<circle clip-path=\"url(#clip442)\" cx=\"1890.94\" cy=\"1486.64\" r=\"57\" fill=\"#800080\" fill-rule=\"evenodd\" fill-opacity=\"1\" stroke=\"#000000\" stroke-opacity=\"1\" stroke-width=\"5.76\"/>\n",
       "<circle clip-path=\"url(#clip442)\" cx=\"2306.42\" cy=\"1260.83\" r=\"57\" fill=\"#800080\" fill-rule=\"evenodd\" fill-opacity=\"1\" stroke=\"#000000\" stroke-opacity=\"1\" stroke-width=\"5.76\"/>\n",
       "<circle clip-path=\"url(#clip442)\" cx=\"1806.92\" cy=\"1155.39\" r=\"57\" fill=\"#800080\" fill-rule=\"evenodd\" fill-opacity=\"1\" stroke=\"#000000\" stroke-opacity=\"1\" stroke-width=\"5.76\"/>\n",
       "<circle clip-path=\"url(#clip442)\" cx=\"1942.64\" cy=\"896.928\" r=\"57\" fill=\"#800080\" fill-rule=\"evenodd\" fill-opacity=\"1\" stroke=\"#000000\" stroke-opacity=\"1\" stroke-width=\"5.76\"/>\n",
       "<circle clip-path=\"url(#clip442)\" cx=\"1298.19\" cy=\"1464.24\" r=\"57\" fill=\"#800080\" fill-rule=\"evenodd\" fill-opacity=\"1\" stroke=\"#000000\" stroke-opacity=\"1\" stroke-width=\"5.76\"/>\n",
       "<circle clip-path=\"url(#clip442)\" cx=\"1692.2\" cy=\"1081.68\" r=\"57\" fill=\"#800080\" fill-rule=\"evenodd\" fill-opacity=\"1\" stroke=\"#000000\" stroke-opacity=\"1\" stroke-width=\"5.76\"/>\n",
       "<circle clip-path=\"url(#clip442)\" cx=\"965.805\" cy=\"1420.16\" r=\"57\" fill=\"#800080\" fill-rule=\"evenodd\" fill-opacity=\"1\" stroke=\"#000000\" stroke-opacity=\"1\" stroke-width=\"5.76\"/>\n",
       "<circle clip-path=\"url(#clip442)\" cx=\"2051.59\" cy=\"1413.62\" r=\"57\" fill=\"#800080\" fill-rule=\"evenodd\" fill-opacity=\"1\" stroke=\"#000000\" stroke-opacity=\"1\" stroke-width=\"5.76\"/>\n",
       "<circle clip-path=\"url(#clip442)\" cx=\"1852.16\" cy=\"1328.48\" r=\"57\" fill=\"#800080\" fill-rule=\"evenodd\" fill-opacity=\"1\" stroke=\"#000000\" stroke-opacity=\"1\" stroke-width=\"5.76\"/>\n",
       "<circle clip-path=\"url(#clip442)\" cx=\"2149.46\" cy=\"958.511\" r=\"57\" fill=\"#800080\" fill-rule=\"evenodd\" fill-opacity=\"1\" stroke=\"#000000\" stroke-opacity=\"1\" stroke-width=\"5.76\"/>\n",
       "<circle clip-path=\"url(#clip442)\" cx=\"1526.24\" cy=\"1454.45\" r=\"57\" fill=\"#800080\" fill-rule=\"evenodd\" fill-opacity=\"1\" stroke=\"#000000\" stroke-opacity=\"1\" stroke-width=\"5.76\"/>\n",
       "<circle clip-path=\"url(#clip442)\" cx=\"2088.52\" cy=\"1809.49\" r=\"57\" fill=\"#800080\" fill-rule=\"evenodd\" fill-opacity=\"1\" stroke=\"#000000\" stroke-opacity=\"1\" stroke-width=\"5.76\"/>\n",
       "<circle clip-path=\"url(#clip442)\" cx=\"1892.79\" cy=\"758.831\" r=\"57\" fill=\"#800080\" fill-rule=\"evenodd\" fill-opacity=\"1\" stroke=\"#000000\" stroke-opacity=\"1\" stroke-width=\"5.76\"/>\n",
       "<circle clip-path=\"url(#clip442)\" cx=\"1502.23\" cy=\"1211.38\" r=\"57\" fill=\"#800080\" fill-rule=\"evenodd\" fill-opacity=\"1\" stroke=\"#000000\" stroke-opacity=\"1\" stroke-width=\"5.76\"/>\n",
       "<circle clip-path=\"url(#clip442)\" cx=\"2306.42\" cy=\"995.835\" r=\"57\" fill=\"#800080\" fill-rule=\"evenodd\" fill-opacity=\"1\" stroke=\"#000000\" stroke-opacity=\"1\" stroke-width=\"5.76\"/>\n",
       "<circle clip-path=\"url(#clip442)\" cx=\"951.032\" cy=\"2326.42\" r=\"57\" fill=\"#800080\" fill-rule=\"evenodd\" fill-opacity=\"1\" stroke=\"#000000\" stroke-opacity=\"1\" stroke-width=\"5.76\"/>\n",
       "<circle clip-path=\"url(#clip442)\" cx=\"1679.47\" cy=\"1342.48\" r=\"57\" fill=\"#800080\" fill-rule=\"evenodd\" fill-opacity=\"1\" stroke=\"#000000\" stroke-opacity=\"1\" stroke-width=\"5.76\"/>\n",
       "<circle clip-path=\"url(#clip442)\" cx=\"991.657\" cy=\"1531.43\" r=\"57\" fill=\"#800080\" fill-rule=\"evenodd\" fill-opacity=\"1\" stroke=\"#000000\" stroke-opacity=\"1\" stroke-width=\"5.76\"/>\n",
       "<circle clip-path=\"url(#clip442)\" cx=\"1734.67\" cy=\"1296.76\" r=\"57\" fill=\"#800080\" fill-rule=\"evenodd\" fill-opacity=\"1\" stroke=\"#000000\" stroke-opacity=\"1\" stroke-width=\"5.76\"/>\n",
       "<circle clip-path=\"url(#clip442)\" cx=\"2446.76\" cy=\"936.117\" r=\"57\" fill=\"#800080\" fill-rule=\"evenodd\" fill-opacity=\"1\" stroke=\"#000000\" stroke-opacity=\"1\" stroke-width=\"5.76\"/>\n",
       "<circle clip-path=\"url(#clip442)\" cx=\"1496.7\" cy=\"1774.03\" r=\"57\" fill=\"#800080\" fill-rule=\"evenodd\" fill-opacity=\"1\" stroke=\"#000000\" stroke-opacity=\"1\" stroke-width=\"5.76\"/>\n",
       "<circle clip-path=\"url(#clip442)\" cx=\"1986.96\" cy=\"796.154\" r=\"57\" fill=\"#800080\" fill-rule=\"evenodd\" fill-opacity=\"1\" stroke=\"#000000\" stroke-opacity=\"1\" stroke-width=\"5.76\"/>\n",
       "<circle clip-path=\"url(#clip442)\" cx=\"1333.27\" cy=\"1908.39\" r=\"57\" fill=\"#800080\" fill-rule=\"evenodd\" fill-opacity=\"1\" stroke=\"#000000\" stroke-opacity=\"1\" stroke-width=\"5.76\"/>\n",
       "<circle clip-path=\"url(#clip442)\" cx=\"1672.06\" cy=\"1492.24\" r=\"57\" fill=\"#800080\" fill-rule=\"evenodd\" fill-opacity=\"1\" stroke=\"#000000\" stroke-opacity=\"1\" stroke-width=\"5.76\"/>\n",
       "<circle clip-path=\"url(#clip442)\" cx=\"1357.28\" cy=\"1271.56\" r=\"57\" fill=\"#800080\" fill-rule=\"evenodd\" fill-opacity=\"1\" stroke=\"#000000\" stroke-opacity=\"1\" stroke-width=\"5.76\"/>\n",
       "<circle clip-path=\"url(#clip442)\" cx=\"1641.19\" cy=\"1226.31\" r=\"57\" fill=\"#800080\" fill-rule=\"evenodd\" fill-opacity=\"1\" stroke=\"#000000\" stroke-opacity=\"1\" stroke-width=\"5.76\"/>\n",
       "<circle clip-path=\"url(#clip442)\" cx=\"1742.29\" cy=\"1637.8\" r=\"57\" fill=\"#800080\" fill-rule=\"evenodd\" fill-opacity=\"1\" stroke=\"#000000\" stroke-opacity=\"1\" stroke-width=\"5.76\"/>\n",
       "<circle clip-path=\"url(#clip442)\" cx=\"1191.09\" cy=\"1945.72\" r=\"57\" fill=\"#800080\" fill-rule=\"evenodd\" fill-opacity=\"1\" stroke=\"#000000\" stroke-opacity=\"1\" stroke-width=\"5.76\"/>\n",
       "<circle clip-path=\"url(#clip442)\" cx=\"2051.59\" cy=\"1119\" r=\"57\" fill=\"#800080\" fill-rule=\"evenodd\" fill-opacity=\"1\" stroke=\"#000000\" stroke-opacity=\"1\" stroke-width=\"5.76\"/>\n",
       "<circle clip-path=\"url(#clip442)\" cx=\"1543.78\" cy=\"1505.3\" r=\"57\" fill=\"#800080\" fill-rule=\"evenodd\" fill-opacity=\"1\" stroke=\"#000000\" stroke-opacity=\"1\" stroke-width=\"5.76\"/>\n",
       "<circle clip-path=\"url(#clip442)\" cx=\"2273.18\" cy=\"1480.11\" r=\"57\" fill=\"#800080\" fill-rule=\"evenodd\" fill-opacity=\"1\" stroke=\"#000000\" stroke-opacity=\"1\" stroke-width=\"5.76\"/>\n",
       "<circle clip-path=\"url(#clip442)\" cx=\"1146.77\" cy=\"1493.64\" r=\"57\" fill=\"#800080\" fill-rule=\"evenodd\" fill-opacity=\"1\" stroke=\"#000000\" stroke-opacity=\"1\" stroke-width=\"5.76\"/>\n",
       "<circle clip-path=\"url(#clip442)\" cx=\"1421.91\" cy=\"1852.41\" r=\"57\" fill=\"#800080\" fill-rule=\"evenodd\" fill-opacity=\"1\" stroke=\"#000000\" stroke-opacity=\"1\" stroke-width=\"5.76\"/>\n",
       "<circle clip-path=\"url(#clip442)\" cx=\"1551.17\" cy=\"1485.24\" r=\"57\" fill=\"#800080\" fill-rule=\"evenodd\" fill-opacity=\"1\" stroke=\"#000000\" stroke-opacity=\"1\" stroke-width=\"5.76\"/>\n",
       "<circle clip-path=\"url(#clip442)\" cx=\"1713.21\" cy=\"1511.83\" r=\"57\" fill=\"#800080\" fill-rule=\"evenodd\" fill-opacity=\"1\" stroke=\"#000000\" stroke-opacity=\"1\" stroke-width=\"5.76\"/>\n",
       "<circle clip-path=\"url(#clip442)\" cx=\"2225.17\" cy=\"251.232\" r=\"57\" fill=\"#800080\" fill-rule=\"evenodd\" fill-opacity=\"1\" stroke=\"#000000\" stroke-opacity=\"1\" stroke-width=\"5.76\"/>\n",
       "<circle clip-path=\"url(#clip442)\" cx=\"958.418\" cy=\"2012.9\" r=\"57\" fill=\"#800080\" fill-rule=\"evenodd\" fill-opacity=\"1\" stroke=\"#000000\" stroke-opacity=\"1\" stroke-width=\"5.76\"/>\n",
       "<circle clip-path=\"url(#clip442)\" cx=\"1191.09\" cy=\"1147.93\" r=\"57\" fill=\"#800080\" fill-rule=\"evenodd\" fill-opacity=\"1\" stroke=\"#000000\" stroke-opacity=\"1\" stroke-width=\"5.76\"/>\n",
       "<circle clip-path=\"url(#clip442)\" cx=\"2060.82\" cy=\"1025.69\" r=\"57\" fill=\"#800080\" fill-rule=\"evenodd\" fill-opacity=\"1\" stroke=\"#000000\" stroke-opacity=\"1\" stroke-width=\"5.76\"/>\n",
       "<circle clip-path=\"url(#clip442)\" cx=\"1431.14\" cy=\"1321.95\" r=\"57\" fill=\"#800080\" fill-rule=\"evenodd\" fill-opacity=\"1\" stroke=\"#000000\" stroke-opacity=\"1\" stroke-width=\"5.76\"/>\n",
       "<circle clip-path=\"url(#clip442)\" cx=\"1709.97\" cy=\"1577.15\" r=\"57\" fill=\"#800080\" fill-rule=\"evenodd\" fill-opacity=\"1\" stroke=\"#000000\" stroke-opacity=\"1\" stroke-width=\"5.76\"/>\n",
       "<circle clip-path=\"url(#clip442)\" cx=\"1627.11\" cy=\"1889.73\" r=\"57\" fill=\"#800080\" fill-rule=\"evenodd\" fill-opacity=\"1\" stroke=\"#000000\" stroke-opacity=\"1\" stroke-width=\"5.76\"/>\n",
       "<circle clip-path=\"url(#clip442)\" cx=\"2049.74\" cy=\"1529.56\" r=\"57\" fill=\"#800080\" fill-rule=\"evenodd\" fill-opacity=\"1\" stroke=\"#000000\" stroke-opacity=\"1\" stroke-width=\"5.76\"/>\n",
       "<circle clip-path=\"url(#clip442)\" cx=\"1912.17\" cy=\"1362.65\" r=\"57\" fill=\"#800080\" fill-rule=\"evenodd\" fill-opacity=\"1\" stroke=\"#000000\" stroke-opacity=\"1\" stroke-width=\"5.76\"/>\n",
       "<circle clip-path=\"url(#clip442)\" cx=\"1501.31\" cy=\"1360.55\" r=\"57\" fill=\"#800080\" fill-rule=\"evenodd\" fill-opacity=\"1\" stroke=\"#000000\" stroke-opacity=\"1\" stroke-width=\"5.76\"/>\n",
       "<circle clip-path=\"url(#clip442)\" cx=\"2398.75\" cy=\"867.069\" r=\"57\" fill=\"#800080\" fill-rule=\"evenodd\" fill-opacity=\"1\" stroke=\"#000000\" stroke-opacity=\"1\" stroke-width=\"5.76\"/>\n",
       "<circle clip-path=\"url(#clip442)\" cx=\"1950.03\" cy=\"1139.53\" r=\"57\" fill=\"#800080\" fill-rule=\"evenodd\" fill-opacity=\"1\" stroke=\"#000000\" stroke-opacity=\"1\" stroke-width=\"5.76\"/>\n",
       "<circle clip-path=\"url(#clip442)\" cx=\"1375.74\" cy=\"1378.72\" r=\"57\" fill=\"#800080\" fill-rule=\"evenodd\" fill-opacity=\"1\" stroke=\"#000000\" stroke-opacity=\"1\" stroke-width=\"5.76\"/>\n",
       "<circle clip-path=\"url(#clip442)\" cx=\"2243.64\" cy=\"803.619\" r=\"57\" fill=\"#800080\" fill-rule=\"evenodd\" fill-opacity=\"1\" stroke=\"#000000\" stroke-opacity=\"1\" stroke-width=\"5.76\"/>\n",
       "<circle clip-path=\"url(#clip442)\" cx=\"1675.87\" cy=\"822.281\" r=\"57\" fill=\"#800080\" fill-rule=\"evenodd\" fill-opacity=\"1\" stroke=\"#000000\" stroke-opacity=\"1\" stroke-width=\"5.76\"/>\n",
       "<circle clip-path=\"url(#clip442)\" cx=\"1926.02\" cy=\"1348.31\" r=\"57\" fill=\"#800080\" fill-rule=\"evenodd\" fill-opacity=\"1\" stroke=\"#000000\" stroke-opacity=\"1\" stroke-width=\"5.76\"/>\n",
       "<circle clip-path=\"url(#clip442)\" cx=\"1526.24\" cy=\"1253.37\" r=\"57\" fill=\"#800080\" fill-rule=\"evenodd\" fill-opacity=\"1\" stroke=\"#000000\" stroke-opacity=\"1\" stroke-width=\"5.76\"/>\n",
       "<circle clip-path=\"url(#clip442)\" cx=\"1779.22\" cy=\"1119\" r=\"57\" fill=\"#800080\" fill-rule=\"evenodd\" fill-opacity=\"1\" stroke=\"#000000\" stroke-opacity=\"1\" stroke-width=\"5.76\"/>\n",
       "<circle clip-path=\"url(#clip442)\" cx=\"1769.99\" cy=\"1652.73\" r=\"57\" fill=\"#800080\" fill-rule=\"evenodd\" fill-opacity=\"1\" stroke=\"#000000\" stroke-opacity=\"1\" stroke-width=\"5.76\"/>\n",
       "<circle clip-path=\"url(#clip442)\" cx=\"1961.11\" cy=\"1061.15\" r=\"57\" fill=\"#800080\" fill-rule=\"evenodd\" fill-opacity=\"1\" stroke=\"#000000\" stroke-opacity=\"1\" stroke-width=\"5.76\"/>\n",
       "<circle clip-path=\"url(#clip442)\" cx=\"1855.85\" cy=\"1266.9\" r=\"57\" fill=\"#800080\" fill-rule=\"evenodd\" fill-opacity=\"1\" stroke=\"#000000\" stroke-opacity=\"1\" stroke-width=\"5.76\"/>\n",
       "<circle clip-path=\"url(#clip442)\" cx=\"2081.14\" cy=\"1671.39\" r=\"57\" fill=\"#800080\" fill-rule=\"evenodd\" fill-opacity=\"1\" stroke=\"#000000\" stroke-opacity=\"1\" stroke-width=\"5.76\"/>\n",
       "<circle clip-path=\"url(#clip442)\" cx=\"1180.01\" cy=\"1983.04\" r=\"57\" fill=\"#800080\" fill-rule=\"evenodd\" fill-opacity=\"1\" stroke=\"#000000\" stroke-opacity=\"1\" stroke-width=\"5.76\"/>\n",
       "<circle clip-path=\"url(#clip442)\" cx=\"1645.58\" cy=\"1426.22\" r=\"57\" fill=\"#800080\" fill-rule=\"evenodd\" fill-opacity=\"1\" stroke=\"#000000\" stroke-opacity=\"1\" stroke-width=\"5.76\"/>\n",
       "<circle clip-path=\"url(#clip442)\" cx=\"1362.82\" cy=\"2195.78\" r=\"57\" fill=\"#800080\" fill-rule=\"evenodd\" fill-opacity=\"1\" stroke=\"#000000\" stroke-opacity=\"1\" stroke-width=\"5.76\"/>\n",
       "<circle clip-path=\"url(#clip442)\" cx=\"1845.7\" cy=\"1830.01\" r=\"57\" fill=\"#800080\" fill-rule=\"evenodd\" fill-opacity=\"1\" stroke=\"#000000\" stroke-opacity=\"1\" stroke-width=\"5.76\"/>\n",
       "<circle clip-path=\"url(#clip442)\" cx=\"1619.49\" cy=\"1466.11\" r=\"57\" fill=\"#800080\" fill-rule=\"evenodd\" fill-opacity=\"1\" stroke=\"#000000\" stroke-opacity=\"1\" stroke-width=\"5.76\"/>\n",
       "<circle clip-path=\"url(#clip442)\" cx=\"1864.16\" cy=\"1443.25\" r=\"57\" fill=\"#800080\" fill-rule=\"evenodd\" fill-opacity=\"1\" stroke=\"#000000\" stroke-opacity=\"1\" stroke-width=\"5.76\"/>\n",
       "<circle clip-path=\"url(#clip442)\" cx=\"1892.79\" cy=\"1124.6\" r=\"57\" fill=\"#800080\" fill-rule=\"evenodd\" fill-opacity=\"1\" stroke=\"#000000\" stroke-opacity=\"1\" stroke-width=\"5.76\"/>\n",
       "<circle clip-path=\"url(#clip442)\" cx=\"1809.69\" cy=\"1592.08\" r=\"57\" fill=\"#800080\" fill-rule=\"evenodd\" fill-opacity=\"1\" stroke=\"#000000\" stroke-opacity=\"1\" stroke-width=\"5.76\"/>\n",
       "<circle clip-path=\"url(#clip442)\" cx=\"1050.75\" cy=\"1770.3\" r=\"57\" fill=\"#800080\" fill-rule=\"evenodd\" fill-opacity=\"1\" stroke=\"#000000\" stroke-opacity=\"1\" stroke-width=\"5.76\"/>\n",
       "<circle clip-path=\"url(#clip442)\" cx=\"1777.84\" cy=\"1109.67\" r=\"57\" fill=\"#800080\" fill-rule=\"evenodd\" fill-opacity=\"1\" stroke=\"#000000\" stroke-opacity=\"1\" stroke-width=\"5.76\"/>\n",
       "<circle clip-path=\"url(#clip442)\" cx=\"1597.8\" cy=\"1048.09\" r=\"57\" fill=\"#800080\" fill-rule=\"evenodd\" fill-opacity=\"1\" stroke=\"#000000\" stroke-opacity=\"1\" stroke-width=\"5.76\"/>\n",
       "<circle clip-path=\"url(#clip442)\" cx=\"2169.77\" cy=\"781.225\" r=\"57\" fill=\"#800080\" fill-rule=\"evenodd\" fill-opacity=\"1\" stroke=\"#000000\" stroke-opacity=\"1\" stroke-width=\"5.76\"/>\n",
       "<circle clip-path=\"url(#clip442)\" cx=\"1335.12\" cy=\"1400.09\" r=\"57\" fill=\"#800080\" fill-rule=\"evenodd\" fill-opacity=\"1\" stroke=\"#000000\" stroke-opacity=\"1\" stroke-width=\"5.76\"/>\n",
       "<circle clip-path=\"url(#clip442)\" cx=\"1768.14\" cy=\"1089.14\" r=\"57\" fill=\"#800080\" fill-rule=\"evenodd\" fill-opacity=\"1\" stroke=\"#000000\" stroke-opacity=\"1\" stroke-width=\"5.76\"/>\n",
       "<circle clip-path=\"url(#clip442)\" cx=\"1039.67\" cy=\"1508.1\" r=\"57\" fill=\"#800080\" fill-rule=\"evenodd\" fill-opacity=\"1\" stroke=\"#000000\" stroke-opacity=\"1\" stroke-width=\"5.76\"/>\n",
       "<circle clip-path=\"url(#clip442)\" cx=\"1659.42\" cy=\"1338.74\" r=\"57\" fill=\"#800080\" fill-rule=\"evenodd\" fill-opacity=\"1\" stroke=\"#000000\" stroke-opacity=\"1\" stroke-width=\"5.76\"/>\n",
       "<circle clip-path=\"url(#clip442)\" cx=\"1344.35\" cy=\"1151.66\" r=\"57\" fill=\"#800080\" fill-rule=\"evenodd\" fill-opacity=\"1\" stroke=\"#000000\" stroke-opacity=\"1\" stroke-width=\"5.76\"/>\n",
       "<circle clip-path=\"url(#clip442)\" cx=\"1769.07\" cy=\"1355.77\" r=\"57\" fill=\"#800080\" fill-rule=\"evenodd\" fill-opacity=\"1\" stroke=\"#000000\" stroke-opacity=\"1\" stroke-width=\"5.76\"/>\n",
       "<circle clip-path=\"url(#clip442)\" cx=\"1300.03\" cy=\"1620.07\" r=\"57\" fill=\"#800080\" fill-rule=\"evenodd\" fill-opacity=\"1\" stroke=\"#000000\" stroke-opacity=\"1\" stroke-width=\"5.76\"/>\n",
       "<circle clip-path=\"url(#clip442)\" cx=\"1364.66\" cy=\"1229.11\" r=\"57\" fill=\"#800080\" fill-rule=\"evenodd\" fill-opacity=\"1\" stroke=\"#000000\" stroke-opacity=\"1\" stroke-width=\"5.76\"/>\n",
       "<circle clip-path=\"url(#clip442)\" cx=\"1324.04\" cy=\"1495.97\" r=\"57\" fill=\"#800080\" fill-rule=\"evenodd\" fill-opacity=\"1\" stroke=\"#000000\" stroke-opacity=\"1\" stroke-width=\"5.76\"/>\n",
       "<circle clip-path=\"url(#clip442)\" cx=\"1861.39\" cy=\"1180.59\" r=\"57\" fill=\"#800080\" fill-rule=\"evenodd\" fill-opacity=\"1\" stroke=\"#000000\" stroke-opacity=\"1\" stroke-width=\"5.76\"/>\n",
       "<circle clip-path=\"url(#clip442)\" cx=\"1205.86\" cy=\"1559.42\" r=\"57\" fill=\"#800080\" fill-rule=\"evenodd\" fill-opacity=\"1\" stroke=\"#000000\" stroke-opacity=\"1\" stroke-width=\"5.76\"/>\n",
       "<circle clip-path=\"url(#clip442)\" cx=\"1478.23\" cy=\"1539.82\" r=\"57\" fill=\"#800080\" fill-rule=\"evenodd\" fill-opacity=\"1\" stroke=\"#000000\" stroke-opacity=\"1\" stroke-width=\"5.76\"/>\n",
       "<circle clip-path=\"url(#clip442)\" cx=\"1492.08\" cy=\"2005.43\" r=\"57\" fill=\"#800080\" fill-rule=\"evenodd\" fill-opacity=\"1\" stroke=\"#000000\" stroke-opacity=\"1\" stroke-width=\"5.76\"/>\n",
       "<circle clip-path=\"url(#clip442)\" cx=\"1996.19\" cy=\"1214.18\" r=\"57\" fill=\"#800080\" fill-rule=\"evenodd\" fill-opacity=\"1\" stroke=\"#000000\" stroke-opacity=\"1\" stroke-width=\"5.76\"/>\n",
       "<circle clip-path=\"url(#clip442)\" cx=\"2036.82\" cy=\"1209.51\" r=\"57\" fill=\"#800080\" fill-rule=\"evenodd\" fill-opacity=\"1\" stroke=\"#000000\" stroke-opacity=\"1\" stroke-width=\"5.76\"/>\n",
       "<circle clip-path=\"url(#clip442)\" cx=\"2058.98\" cy=\"680.452\" r=\"57\" fill=\"#800080\" fill-rule=\"evenodd\" fill-opacity=\"1\" stroke=\"#000000\" stroke-opacity=\"1\" stroke-width=\"5.76\"/>\n",
       "<circle clip-path=\"url(#clip442)\" cx=\"1503.16\" cy=\"1544.49\" r=\"57\" fill=\"#800080\" fill-rule=\"evenodd\" fill-opacity=\"1\" stroke=\"#000000\" stroke-opacity=\"1\" stroke-width=\"5.76\"/>\n",
       "<circle clip-path=\"url(#clip442)\" cx=\"1473.61\" cy=\"1626.6\" r=\"57\" fill=\"#800080\" fill-rule=\"evenodd\" fill-opacity=\"1\" stroke=\"#000000\" stroke-opacity=\"1\" stroke-width=\"5.76\"/>\n",
       "<circle clip-path=\"url(#clip442)\" cx=\"1942.64\" cy=\"1619.14\" r=\"57\" fill=\"#800080\" fill-rule=\"evenodd\" fill-opacity=\"1\" stroke=\"#000000\" stroke-opacity=\"1\" stroke-width=\"5.76\"/>\n",
       "<circle clip-path=\"url(#clip442)\" cx=\"1364.66\" cy=\"1235.64\" r=\"57\" fill=\"#800080\" fill-rule=\"evenodd\" fill-opacity=\"1\" stroke=\"#000000\" stroke-opacity=\"1\" stroke-width=\"5.76\"/>\n",
       "<circle clip-path=\"url(#clip442)\" cx=\"1548.4\" cy=\"1202.05\" r=\"57\" fill=\"#800080\" fill-rule=\"evenodd\" fill-opacity=\"1\" stroke=\"#000000\" stroke-opacity=\"1\" stroke-width=\"5.76\"/>\n",
       "<circle clip-path=\"url(#clip442)\" cx=\"1586.25\" cy=\"1061.15\" r=\"57\" fill=\"#800080\" fill-rule=\"evenodd\" fill-opacity=\"1\" stroke=\"#000000\" stroke-opacity=\"1\" stroke-width=\"5.76\"/>\n",
       "<circle clip-path=\"url(#clip442)\" cx=\"1698.32\" cy=\"1811.35\" r=\"57\" fill=\"#800080\" fill-rule=\"evenodd\" fill-opacity=\"1\" stroke=\"#000000\" stroke-opacity=\"1\" stroke-width=\"5.76\"/>\n",
       "<circle clip-path=\"url(#clip442)\" cx=\"1268.64\" cy=\"1693.78\" r=\"57\" fill=\"#800080\" fill-rule=\"evenodd\" fill-opacity=\"1\" stroke=\"#000000\" stroke-opacity=\"1\" stroke-width=\"5.76\"/>\n",
       "<circle clip-path=\"url(#clip442)\" cx=\"2018.35\" cy=\"1357.52\" r=\"57\" fill=\"#800080\" fill-rule=\"evenodd\" fill-opacity=\"1\" stroke=\"#000000\" stroke-opacity=\"1\" stroke-width=\"5.76\"/>\n",
       "<circle clip-path=\"url(#clip442)\" cx=\"2086.68\" cy=\"988.37\" r=\"57\" fill=\"#800080\" fill-rule=\"evenodd\" fill-opacity=\"1\" stroke=\"#000000\" stroke-opacity=\"1\" stroke-width=\"5.76\"/>\n",
       "<circle clip-path=\"url(#clip442)\" cx=\"1292.65\" cy=\"1751.63\" r=\"57\" fill=\"#800080\" fill-rule=\"evenodd\" fill-opacity=\"1\" stroke=\"#000000\" stroke-opacity=\"1\" stroke-width=\"5.76\"/>\n",
       "<circle clip-path=\"url(#clip442)\" cx=\"1628.73\" cy=\"1361.72\" r=\"57\" fill=\"#800080\" fill-rule=\"evenodd\" fill-opacity=\"1\" stroke=\"#000000\" stroke-opacity=\"1\" stroke-width=\"5.76\"/>\n",
       "<circle clip-path=\"url(#clip442)\" cx=\"1331.43\" cy=\"1503.43\" r=\"57\" fill=\"#800080\" fill-rule=\"evenodd\" fill-opacity=\"1\" stroke=\"#000000\" stroke-opacity=\"1\" stroke-width=\"5.76\"/>\n",
       "<circle clip-path=\"url(#clip442)\" cx=\"1495.77\" cy=\"1760.97\" r=\"57\" fill=\"#800080\" fill-rule=\"evenodd\" fill-opacity=\"1\" stroke=\"#000000\" stroke-opacity=\"1\" stroke-width=\"5.76\"/>\n",
       "<circle clip-path=\"url(#clip442)\" cx=\"1790.76\" cy=\"1132.07\" r=\"57\" fill=\"#800080\" fill-rule=\"evenodd\" fill-opacity=\"1\" stroke=\"#000000\" stroke-opacity=\"1\" stroke-width=\"5.76\"/>\n",
       "<circle clip-path=\"url(#clip442)\" cx=\"1625.96\" cy=\"1418.29\" r=\"57\" fill=\"#800080\" fill-rule=\"evenodd\" fill-opacity=\"1\" stroke=\"#000000\" stroke-opacity=\"1\" stroke-width=\"5.76\"/>\n",
       "<circle clip-path=\"url(#clip442)\" cx=\"1377.59\" cy=\"1654.59\" r=\"57\" fill=\"#800080\" fill-rule=\"evenodd\" fill-opacity=\"1\" stroke=\"#000000\" stroke-opacity=\"1\" stroke-width=\"5.76\"/>\n",
       "<circle clip-path=\"url(#clip442)\" cx=\"1680.17\" cy=\"1727.37\" r=\"57\" fill=\"#800080\" fill-rule=\"evenodd\" fill-opacity=\"1\" stroke=\"#000000\" stroke-opacity=\"1\" stroke-width=\"5.76\"/>\n",
       "<circle clip-path=\"url(#clip442)\" cx=\"1498.54\" cy=\"951.047\" r=\"57\" fill=\"#800080\" fill-rule=\"evenodd\" fill-opacity=\"1\" stroke=\"#000000\" stroke-opacity=\"1\" stroke-width=\"5.76\"/>\n",
       "<circle clip-path=\"url(#clip442)\" cx=\"1520.7\" cy=\"1904.66\" r=\"57\" fill=\"#800080\" fill-rule=\"evenodd\" fill-opacity=\"1\" stroke=\"#000000\" stroke-opacity=\"1\" stroke-width=\"5.76\"/>\n",
       "<circle clip-path=\"url(#clip442)\" cx=\"1518.85\" cy=\"1536.09\" r=\"57\" fill=\"#800080\" fill-rule=\"evenodd\" fill-opacity=\"1\" stroke=\"#000000\" stroke-opacity=\"1\" stroke-width=\"5.76\"/>\n",
       "<circle clip-path=\"url(#clip442)\" cx=\"2014.66\" cy=\"1188.98\" r=\"57\" fill=\"#800080\" fill-rule=\"evenodd\" fill-opacity=\"1\" stroke=\"#000000\" stroke-opacity=\"1\" stroke-width=\"5.76\"/>\n",
       "<circle clip-path=\"url(#clip442)\" cx=\"1324.04\" cy=\"1230.04\" r=\"57\" fill=\"#800080\" fill-rule=\"evenodd\" fill-opacity=\"1\" stroke=\"#000000\" stroke-opacity=\"1\" stroke-width=\"5.76\"/>\n",
       "<circle clip-path=\"url(#clip442)\" cx=\"1520.7\" cy=\"2109.94\" r=\"57\" fill=\"#800080\" fill-rule=\"evenodd\" fill-opacity=\"1\" stroke=\"#000000\" stroke-opacity=\"1\" stroke-width=\"5.76\"/>\n",
       "<circle clip-path=\"url(#clip442)\" cx=\"1128.3\" cy=\"1798.29\" r=\"57\" fill=\"#800080\" fill-rule=\"evenodd\" fill-opacity=\"1\" stroke=\"#000000\" stroke-opacity=\"1\" stroke-width=\"5.76\"/>\n",
       "<circle clip-path=\"url(#clip442)\" cx=\"1757.52\" cy=\"1536.09\" r=\"57\" fill=\"#800080\" fill-rule=\"evenodd\" fill-opacity=\"1\" stroke=\"#000000\" stroke-opacity=\"1\" stroke-width=\"5.76\"/>\n",
       "<circle clip-path=\"url(#clip442)\" cx=\"1959.26\" cy=\"1220.71\" r=\"57\" fill=\"#800080\" fill-rule=\"evenodd\" fill-opacity=\"1\" stroke=\"#000000\" stroke-opacity=\"1\" stroke-width=\"5.76\"/>\n",
       "<circle clip-path=\"url(#clip442)\" cx=\"2247.33\" cy=\"1228.17\" r=\"57\" fill=\"#800080\" fill-rule=\"evenodd\" fill-opacity=\"1\" stroke=\"#000000\" stroke-opacity=\"1\" stroke-width=\"5.76\"/>\n",
       "<circle clip-path=\"url(#clip442)\" cx=\"1681.5\" cy=\"1074.21\" r=\"57\" fill=\"#800080\" fill-rule=\"evenodd\" fill-opacity=\"1\" stroke=\"#000000\" stroke-opacity=\"1\" stroke-width=\"5.76\"/>\n",
       "<circle clip-path=\"url(#clip442)\" cx=\"1342.51\" cy=\"1198.31\" r=\"57\" fill=\"#800080\" fill-rule=\"evenodd\" fill-opacity=\"1\" stroke=\"#000000\" stroke-opacity=\"1\" stroke-width=\"5.76\"/>\n",
       "<circle clip-path=\"url(#clip442)\" cx=\"2631.42\" cy=\"672.987\" r=\"57\" fill=\"#800080\" fill-rule=\"evenodd\" fill-opacity=\"1\" stroke=\"#000000\" stroke-opacity=\"1\" stroke-width=\"5.76\"/>\n",
       "<circle clip-path=\"url(#clip442)\" cx=\"1752.91\" cy=\"1139.53\" r=\"57\" fill=\"#800080\" fill-rule=\"evenodd\" fill-opacity=\"1\" stroke=\"#000000\" stroke-opacity=\"1\" stroke-width=\"5.76\"/>\n",
       "<circle clip-path=\"url(#clip442)\" cx=\"1443.14\" cy=\"1509.97\" r=\"57\" fill=\"#800080\" fill-rule=\"evenodd\" fill-opacity=\"1\" stroke=\"#000000\" stroke-opacity=\"1\" stroke-width=\"5.76\"/>\n",
       "<circle clip-path=\"url(#clip442)\" cx=\"1240.94\" cy=\"1844.94\" r=\"57\" fill=\"#800080\" fill-rule=\"evenodd\" fill-opacity=\"1\" stroke=\"#000000\" stroke-opacity=\"1\" stroke-width=\"5.76\"/>\n",
       "<circle clip-path=\"url(#clip442)\" cx=\"1519.78\" cy=\"1137.66\" r=\"57\" fill=\"#800080\" fill-rule=\"evenodd\" fill-opacity=\"1\" stroke=\"#000000\" stroke-opacity=\"1\" stroke-width=\"5.76\"/>\n",
       "<circle clip-path=\"url(#clip442)\" cx=\"1615.8\" cy=\"818.548\" r=\"57\" fill=\"#800080\" fill-rule=\"evenodd\" fill-opacity=\"1\" stroke=\"#000000\" stroke-opacity=\"1\" stroke-width=\"5.76\"/>\n",
       "<circle clip-path=\"url(#clip442)\" cx=\"1977.73\" cy=\"1525.83\" r=\"57\" fill=\"#800080\" fill-rule=\"evenodd\" fill-opacity=\"1\" stroke=\"#000000\" stroke-opacity=\"1\" stroke-width=\"5.76\"/>\n",
       "<circle clip-path=\"url(#clip442)\" cx=\"1450.53\" cy=\"2005.43\" r=\"57\" fill=\"#800080\" fill-rule=\"evenodd\" fill-opacity=\"1\" stroke=\"#000000\" stroke-opacity=\"1\" stroke-width=\"5.76\"/>\n",
       "<circle clip-path=\"url(#clip442)\" cx=\"1843.85\" cy=\"1305.15\" r=\"57\" fill=\"#800080\" fill-rule=\"evenodd\" fill-opacity=\"1\" stroke=\"#000000\" stroke-opacity=\"1\" stroke-width=\"5.76\"/>\n",
       "<circle clip-path=\"url(#clip442)\" cx=\"1596.87\" cy=\"784.957\" r=\"57\" fill=\"#800080\" fill-rule=\"evenodd\" fill-opacity=\"1\" stroke=\"#000000\" stroke-opacity=\"1\" stroke-width=\"5.76\"/>\n",
       "<circle clip-path=\"url(#clip442)\" cx=\"1759.37\" cy=\"1462.38\" r=\"57\" fill=\"#800080\" fill-rule=\"evenodd\" fill-opacity=\"1\" stroke=\"#000000\" stroke-opacity=\"1\" stroke-width=\"5.76\"/>\n",
       "<circle clip-path=\"url(#clip442)\" cx=\"1752.45\" cy=\"1541.69\" r=\"57\" fill=\"#800080\" fill-rule=\"evenodd\" fill-opacity=\"1\" stroke=\"#000000\" stroke-opacity=\"1\" stroke-width=\"5.76\"/>\n",
       "<circle clip-path=\"url(#clip442)\" cx=\"2369.2\" cy=\"1183.39\" r=\"57\" fill=\"#800080\" fill-rule=\"evenodd\" fill-opacity=\"1\" stroke=\"#000000\" stroke-opacity=\"1\" stroke-width=\"5.76\"/>\n",
       "<circle clip-path=\"url(#clip442)\" cx=\"1799.53\" cy=\"732.704\" r=\"57\" fill=\"#800080\" fill-rule=\"evenodd\" fill-opacity=\"1\" stroke=\"#000000\" stroke-opacity=\"1\" stroke-width=\"5.76\"/>\n",
       "<circle clip-path=\"url(#clip442)\" cx=\"1132\" cy=\"2024.1\" r=\"57\" fill=\"#800080\" fill-rule=\"evenodd\" fill-opacity=\"1\" stroke=\"#000000\" stroke-opacity=\"1\" stroke-width=\"5.76\"/>\n",
       "<circle clip-path=\"url(#clip442)\" cx=\"2042.36\" cy=\"1074.21\" r=\"57\" fill=\"#800080\" fill-rule=\"evenodd\" fill-opacity=\"1\" stroke=\"#000000\" stroke-opacity=\"1\" stroke-width=\"5.76\"/>\n",
       "<circle clip-path=\"url(#clip442)\" cx=\"1679.32\" cy=\"1785.23\" r=\"57\" fill=\"#800080\" fill-rule=\"evenodd\" fill-opacity=\"1\" stroke=\"#000000\" stroke-opacity=\"1\" stroke-width=\"5.76\"/>\n",
       "<circle clip-path=\"url(#clip442)\" cx=\"1805.07\" cy=\"1206.71\" r=\"57\" fill=\"#800080\" fill-rule=\"evenodd\" fill-opacity=\"1\" stroke=\"#000000\" stroke-opacity=\"1\" stroke-width=\"5.76\"/>\n",
       "<circle clip-path=\"url(#clip442)\" cx=\"2142.07\" cy=\"1523.96\" r=\"57\" fill=\"#800080\" fill-rule=\"evenodd\" fill-opacity=\"1\" stroke=\"#000000\" stroke-opacity=\"1\" stroke-width=\"5.76\"/>\n",
       "<circle clip-path=\"url(#clip442)\" cx=\"1520.7\" cy=\"1554.75\" r=\"57\" fill=\"#800080\" fill-rule=\"evenodd\" fill-opacity=\"1\" stroke=\"#000000\" stroke-opacity=\"1\" stroke-width=\"5.76\"/>\n",
       "<circle clip-path=\"url(#clip442)\" cx=\"1999.89\" cy=\"1467.98\" r=\"57\" fill=\"#800080\" fill-rule=\"evenodd\" fill-opacity=\"1\" stroke=\"#000000\" stroke-opacity=\"1\" stroke-width=\"5.76\"/>\n",
       "<circle clip-path=\"url(#clip442)\" cx=\"1678.03\" cy=\"2009.17\" r=\"57\" fill=\"#800080\" fill-rule=\"evenodd\" fill-opacity=\"1\" stroke=\"#000000\" stroke-opacity=\"1\" stroke-width=\"5.76\"/>\n",
       "<circle clip-path=\"url(#clip442)\" cx=\"1725.44\" cy=\"826.013\" r=\"57\" fill=\"#800080\" fill-rule=\"evenodd\" fill-opacity=\"1\" stroke=\"#000000\" stroke-opacity=\"1\" stroke-width=\"5.76\"/>\n",
       "<circle clip-path=\"url(#clip442)\" cx=\"2265.79\" cy=\"936.117\" r=\"57\" fill=\"#800080\" fill-rule=\"evenodd\" fill-opacity=\"1\" stroke=\"#000000\" stroke-opacity=\"1\" stroke-width=\"5.76\"/>\n",
       "<circle clip-path=\"url(#clip442)\" cx=\"1743.21\" cy=\"1628.47\" r=\"57\" fill=\"#800080\" fill-rule=\"evenodd\" fill-opacity=\"1\" stroke=\"#000000\" stroke-opacity=\"1\" stroke-width=\"5.76\"/>\n",
       "<circle clip-path=\"url(#clip442)\" cx=\"2140.23\" cy=\"1161.92\" r=\"57\" fill=\"#800080\" fill-rule=\"evenodd\" fill-opacity=\"1\" stroke=\"#000000\" stroke-opacity=\"1\" stroke-width=\"5.76\"/>\n",
       "<circle clip-path=\"url(#clip442)\" cx=\"2450.45\" cy=\"814.816\" r=\"57\" fill=\"#800080\" fill-rule=\"evenodd\" fill-opacity=\"1\" stroke=\"#000000\" stroke-opacity=\"1\" stroke-width=\"5.76\"/>\n",
       "<circle clip-path=\"url(#clip442)\" cx=\"2020.2\" cy=\"1148.86\" r=\"57\" fill=\"#800080\" fill-rule=\"evenodd\" fill-opacity=\"1\" stroke=\"#000000\" stroke-opacity=\"1\" stroke-width=\"5.76\"/>\n",
       "<circle clip-path=\"url(#clip442)\" cx=\"1757.52\" cy=\"1551.95\" r=\"57\" fill=\"#800080\" fill-rule=\"evenodd\" fill-opacity=\"1\" stroke=\"#000000\" stroke-opacity=\"1\" stroke-width=\"5.76\"/>\n",
       "<circle clip-path=\"url(#clip442)\" cx=\"1754.75\" cy=\"1809.49\" r=\"57\" fill=\"#800080\" fill-rule=\"evenodd\" fill-opacity=\"1\" stroke=\"#000000\" stroke-opacity=\"1\" stroke-width=\"5.76\"/>\n",
       "<circle clip-path=\"url(#clip442)\" cx=\"1555.79\" cy=\"2229.38\" r=\"57\" fill=\"#800080\" fill-rule=\"evenodd\" fill-opacity=\"1\" stroke=\"#000000\" stroke-opacity=\"1\" stroke-width=\"5.76\"/>\n",
       "<circle clip-path=\"url(#clip442)\" cx=\"2038.67\" cy=\"751.366\" r=\"57\" fill=\"#800080\" fill-rule=\"evenodd\" fill-opacity=\"1\" stroke=\"#000000\" stroke-opacity=\"1\" stroke-width=\"5.76\"/>\n",
       "<circle clip-path=\"url(#clip442)\" cx=\"1981.42\" cy=\"1185.25\" r=\"57\" fill=\"#800080\" fill-rule=\"evenodd\" fill-opacity=\"1\" stroke=\"#000000\" stroke-opacity=\"1\" stroke-width=\"5.76\"/>\n",
       "<circle clip-path=\"url(#clip442)\" cx=\"1357.28\" cy=\"1453.51\" r=\"57\" fill=\"#800080\" fill-rule=\"evenodd\" fill-opacity=\"1\" stroke=\"#000000\" stroke-opacity=\"1\" stroke-width=\"5.76\"/>\n",
       "<circle clip-path=\"url(#clip442)\" cx=\"1202.17\" cy=\"1736.71\" r=\"57\" fill=\"#800080\" fill-rule=\"evenodd\" fill-opacity=\"1\" stroke=\"#000000\" stroke-opacity=\"1\" stroke-width=\"5.76\"/>\n",
       "<circle clip-path=\"url(#clip442)\" cx=\"1498.54\" cy=\"818.548\" r=\"57\" fill=\"#800080\" fill-rule=\"evenodd\" fill-opacity=\"1\" stroke=\"#000000\" stroke-opacity=\"1\" stroke-width=\"5.76\"/>\n",
       "<circle clip-path=\"url(#clip442)\" cx=\"1309.27\" cy=\"1339.21\" r=\"57\" fill=\"#800080\" fill-rule=\"evenodd\" fill-opacity=\"1\" stroke=\"#000000\" stroke-opacity=\"1\" stroke-width=\"5.76\"/>\n",
       "<circle clip-path=\"url(#clip442)\" cx=\"2243.64\" cy=\"1416.42\" r=\"57\" fill=\"#800080\" fill-rule=\"evenodd\" fill-opacity=\"1\" stroke=\"#000000\" stroke-opacity=\"1\" stroke-width=\"5.76\"/>\n",
       "<circle clip-path=\"url(#clip442)\" cx=\"1890.02\" cy=\"631.931\" r=\"57\" fill=\"#800080\" fill-rule=\"evenodd\" fill-opacity=\"1\" stroke=\"#000000\" stroke-opacity=\"1\" stroke-width=\"5.76\"/>\n",
       "<circle clip-path=\"url(#clip442)\" cx=\"1475.46\" cy=\"1630.33\" r=\"57\" fill=\"#800080\" fill-rule=\"evenodd\" fill-opacity=\"1\" stroke=\"#000000\" stroke-opacity=\"1\" stroke-width=\"5.76\"/>\n",
       "<circle clip-path=\"url(#clip442)\" cx=\"2361.82\" cy=\"1063.02\" r=\"57\" fill=\"#800080\" fill-rule=\"evenodd\" fill-opacity=\"1\" stroke=\"#000000\" stroke-opacity=\"1\" stroke-width=\"5.76\"/>\n",
       "<circle clip-path=\"url(#clip442)\" cx=\"1657.23\" cy=\"1049.95\" r=\"57\" fill=\"#800080\" fill-rule=\"evenodd\" fill-opacity=\"1\" stroke=\"#000000\" stroke-opacity=\"1\" stroke-width=\"5.76\"/>\n",
       "<circle clip-path=\"url(#clip442)\" cx=\"1493\" cy=\"1660.19\" r=\"57\" fill=\"#800080\" fill-rule=\"evenodd\" fill-opacity=\"1\" stroke=\"#000000\" stroke-opacity=\"1\" stroke-width=\"5.76\"/>\n",
       "<circle clip-path=\"url(#clip442)\" cx=\"2225.17\" cy=\"941.716\" r=\"57\" fill=\"#800080\" fill-rule=\"evenodd\" fill-opacity=\"1\" stroke=\"#000000\" stroke-opacity=\"1\" stroke-width=\"5.76\"/>\n",
       "<path clip-path=\"url(#clip440)\" d=\"\n",
       "M2112.55 603.696 L2604.62 603.696 L2604.62 119.856 L2112.55 119.856  Z\n",
       "  \" fill=\"#ffffff\" fill-rule=\"evenodd\" fill-opacity=\"1\"/>\n",
       "<polyline clip-path=\"url(#clip440)\" style=\"stroke:#000000; stroke-width:16; stroke-opacity:1; fill:none\" points=\"\n",
       "  2112.55,603.696 2604.62,603.696 2604.62,119.856 2112.55,119.856 2112.55,603.696 \n",
       "  \"/>\n",
       "<circle clip-path=\"url(#clip440)\" cx=\"2242.15\" cy=\"361.776\" r=\"86\" fill=\"#800080\" fill-rule=\"evenodd\" fill-opacity=\"1\" stroke=\"#000000\" stroke-opacity=\"1\" stroke-width=\"5.76\"/>\n",
       "<path clip-path=\"url(#clip440)\" d=\"M 0 0 M2398.32 440.526 Q2391.1 459.044 2384.25 464.692 Q2377.39 470.341 2365.91 470.341 L2352.3 470.341 L2352.3 456.081 L2362.3 456.081 Q2369.34 456.081 2373.23 452.748 Q2377.12 449.415 2381.84 437.007 L2384.89 429.23 L2342.95 327.193 L2361.01 327.193 L2393.41 408.304 L2425.82 327.193 L2443.88 327.193 L2398.32 440.526 Z\" fill=\"#000000\" fill-rule=\"evenodd\" fill-opacity=\"1\" /><path clip-path=\"url(#clip440)\" d=\"M 0 0 M2467.39 415.156 L2497.95 415.156 L2497.95 309.693 L2464.71 316.36 L2464.71 299.323 L2497.76 292.656 L2516.47 292.656 L2516.47 415.156 L2547.02 415.156 L2547.02 430.896 L2467.39 430.896 L2467.39 415.156 Z\" fill=\"#000000\" fill-rule=\"evenodd\" fill-opacity=\"1\" /></svg>\n"
      ]
     },
     "execution_count": 118,
     "metadata": {},
     "output_type": "execute_result"
    }
   ],
   "source": [
    "x1=get_embedding(\"boots\");\n",
    "y1=get_embedding(\"shoe\");\n",
    "using Plots\n",
    "Plots.scatter(x1,y1,size=(180,180),color=\"purple\")\n",
    "\n",
    "#visualizing similarity between the vectors"
   ]
  },
  {
   "cell_type": "code",
   "execution_count": 119,
   "metadata": {},
   "outputs": [
    {
     "data": {
      "image/svg+xml": [
       "<?xml version=\"1.0\" encoding=\"utf-8\"?>\n",
       "<svg xmlns=\"http://www.w3.org/2000/svg\" xmlns:xlink=\"http://www.w3.org/1999/xlink\" width=\"720\" height=\"720\" viewBox=\"0 0 2880 2880\">\n",
       "<defs>\n",
       "  <clipPath id=\"clip480\">\n",
       "    <rect x=\"0\" y=\"0\" width=\"2880\" height=\"2880\"/>\n",
       "  </clipPath>\n",
       "</defs>\n",
       "<path clip-path=\"url(#clip480)\" d=\"\n",
       "M0 2880 L2880 2880 L2880 0 L0 0  Z\n",
       "  \" fill=\"#ffffff\" fill-rule=\"evenodd\" fill-opacity=\"1\"/>\n",
       "<defs>\n",
       "  <clipPath id=\"clip481\">\n",
       "    <rect x=\"576\" y=\"288\" width=\"2017\" height=\"2017\"/>\n",
       "  </clipPath>\n",
       "</defs>\n",
       "<path clip-path=\"url(#clip480)\" d=\"\n",
       "M690.674 2391.87 L2691.02 2391.87 L2691.02 188.976 L690.674 188.976  Z\n",
       "  \" fill=\"#ffffff\" fill-rule=\"evenodd\" fill-opacity=\"1\"/>\n",
       "<defs>\n",
       "  <clipPath id=\"clip482\">\n",
       "    <rect x=\"690\" y=\"188\" width=\"2001\" height=\"2204\"/>\n",
       "  </clipPath>\n",
       "</defs>\n",
       "<polyline clip-path=\"url(#clip482)\" style=\"stroke:#000000; stroke-width:8; stroke-opacity:0.1; fill:none\" points=\"\n",
       "  903.652,2391.87 903.652,188.976 \n",
       "  \"/>\n",
       "<polyline clip-path=\"url(#clip482)\" style=\"stroke:#000000; stroke-width:8; stroke-opacity:0.1; fill:none\" points=\"\n",
       "  1182.6,2391.87 1182.6,188.976 \n",
       "  \"/>\n",
       "<polyline clip-path=\"url(#clip482)\" style=\"stroke:#000000; stroke-width:8; stroke-opacity:0.1; fill:none\" points=\"\n",
       "  1461.56,2391.87 1461.56,188.976 \n",
       "  \"/>\n",
       "<polyline clip-path=\"url(#clip482)\" style=\"stroke:#000000; stroke-width:8; stroke-opacity:0.1; fill:none\" points=\"\n",
       "  1740.51,2391.87 1740.51,188.976 \n",
       "  \"/>\n",
       "<polyline clip-path=\"url(#clip482)\" style=\"stroke:#000000; stroke-width:8; stroke-opacity:0.1; fill:none\" points=\"\n",
       "  2019.46,2391.87 2019.46,188.976 \n",
       "  \"/>\n",
       "<polyline clip-path=\"url(#clip482)\" style=\"stroke:#000000; stroke-width:8; stroke-opacity:0.1; fill:none\" points=\"\n",
       "  2298.41,2391.87 2298.41,188.976 \n",
       "  \"/>\n",
       "<polyline clip-path=\"url(#clip482)\" style=\"stroke:#000000; stroke-width:8; stroke-opacity:0.1; fill:none\" points=\"\n",
       "  2577.37,2391.87 2577.37,188.976 \n",
       "  \"/>\n",
       "<polyline clip-path=\"url(#clip482)\" style=\"stroke:#000000; stroke-width:8; stroke-opacity:0.1; fill:none\" points=\"\n",
       "  690.674,2178.38 2691.02,2178.38 \n",
       "  \"/>\n",
       "<polyline clip-path=\"url(#clip482)\" style=\"stroke:#000000; stroke-width:8; stroke-opacity:0.1; fill:none\" points=\"\n",
       "  690.674,1861.03 2691.02,1861.03 \n",
       "  \"/>\n",
       "<polyline clip-path=\"url(#clip482)\" style=\"stroke:#000000; stroke-width:8; stroke-opacity:0.1; fill:none\" points=\"\n",
       "  690.674,1543.68 2691.02,1543.68 \n",
       "  \"/>\n",
       "<polyline clip-path=\"url(#clip482)\" style=\"stroke:#000000; stroke-width:8; stroke-opacity:0.1; fill:none\" points=\"\n",
       "  690.674,1226.33 2691.02,1226.33 \n",
       "  \"/>\n",
       "<polyline clip-path=\"url(#clip482)\" style=\"stroke:#000000; stroke-width:8; stroke-opacity:0.1; fill:none\" points=\"\n",
       "  690.674,908.98 2691.02,908.98 \n",
       "  \"/>\n",
       "<polyline clip-path=\"url(#clip482)\" style=\"stroke:#000000; stroke-width:8; stroke-opacity:0.1; fill:none\" points=\"\n",
       "  690.674,591.63 2691.02,591.63 \n",
       "  \"/>\n",
       "<polyline clip-path=\"url(#clip482)\" style=\"stroke:#000000; stroke-width:8; stroke-opacity:0.1; fill:none\" points=\"\n",
       "  690.674,274.28 2691.02,274.28 \n",
       "  \"/>\n",
       "<polyline clip-path=\"url(#clip480)\" style=\"stroke:#000000; stroke-width:16; stroke-opacity:1; fill:none\" points=\"\n",
       "  690.674,2391.87 2691.02,2391.87 \n",
       "  \"/>\n",
       "<polyline clip-path=\"url(#clip480)\" style=\"stroke:#000000; stroke-width:16; stroke-opacity:1; fill:none\" points=\"\n",
       "  690.674,2391.87 690.674,188.976 \n",
       "  \"/>\n",
       "<polyline clip-path=\"url(#clip480)\" style=\"stroke:#000000; stroke-width:16; stroke-opacity:1; fill:none\" points=\"\n",
       "  903.652,2391.87 903.652,2365.44 \n",
       "  \"/>\n",
       "<polyline clip-path=\"url(#clip480)\" style=\"stroke:#000000; stroke-width:16; stroke-opacity:1; fill:none\" points=\"\n",
       "  1182.6,2391.87 1182.6,2365.44 \n",
       "  \"/>\n",
       "<polyline clip-path=\"url(#clip480)\" style=\"stroke:#000000; stroke-width:16; stroke-opacity:1; fill:none\" points=\"\n",
       "  1461.56,2391.87 1461.56,2365.44 \n",
       "  \"/>\n",
       "<polyline clip-path=\"url(#clip480)\" style=\"stroke:#000000; stroke-width:16; stroke-opacity:1; fill:none\" points=\"\n",
       "  1740.51,2391.87 1740.51,2365.44 \n",
       "  \"/>\n",
       "<polyline clip-path=\"url(#clip480)\" style=\"stroke:#000000; stroke-width:16; stroke-opacity:1; fill:none\" points=\"\n",
       "  2019.46,2391.87 2019.46,2365.44 \n",
       "  \"/>\n",
       "<polyline clip-path=\"url(#clip480)\" style=\"stroke:#000000; stroke-width:16; stroke-opacity:1; fill:none\" points=\"\n",
       "  2298.41,2391.87 2298.41,2365.44 \n",
       "  \"/>\n",
       "<polyline clip-path=\"url(#clip480)\" style=\"stroke:#000000; stroke-width:16; stroke-opacity:1; fill:none\" points=\"\n",
       "  2577.37,2391.87 2577.37,2365.44 \n",
       "  \"/>\n",
       "<polyline clip-path=\"url(#clip480)\" style=\"stroke:#000000; stroke-width:16; stroke-opacity:1; fill:none\" points=\"\n",
       "  690.674,2178.38 714.678,2178.38 \n",
       "  \"/>\n",
       "<polyline clip-path=\"url(#clip480)\" style=\"stroke:#000000; stroke-width:16; stroke-opacity:1; fill:none\" points=\"\n",
       "  690.674,1861.03 714.678,1861.03 \n",
       "  \"/>\n",
       "<polyline clip-path=\"url(#clip480)\" style=\"stroke:#000000; stroke-width:16; stroke-opacity:1; fill:none\" points=\"\n",
       "  690.674,1543.68 714.678,1543.68 \n",
       "  \"/>\n",
       "<polyline clip-path=\"url(#clip480)\" style=\"stroke:#000000; stroke-width:16; stroke-opacity:1; fill:none\" points=\"\n",
       "  690.674,1226.33 714.678,1226.33 \n",
       "  \"/>\n",
       "<polyline clip-path=\"url(#clip480)\" style=\"stroke:#000000; stroke-width:16; stroke-opacity:1; fill:none\" points=\"\n",
       "  690.674,908.98 714.678,908.98 \n",
       "  \"/>\n",
       "<polyline clip-path=\"url(#clip480)\" style=\"stroke:#000000; stroke-width:16; stroke-opacity:1; fill:none\" points=\"\n",
       "  690.674,591.63 714.678,591.63 \n",
       "  \"/>\n",
       "<polyline clip-path=\"url(#clip480)\" style=\"stroke:#000000; stroke-width:16; stroke-opacity:1; fill:none\" points=\"\n",
       "  690.674,274.28 714.678,274.28 \n",
       "  \"/>\n",
       "<path clip-path=\"url(#clip480)\" d=\"M 0 0 M701.153 2512.62 L751.06 2512.62 L751.06 2527.81 L701.153 2527.81 L701.153 2512.62 Z\" fill=\"#000000\" fill-rule=\"evenodd\" fill-opacity=\"1\" /><path clip-path=\"url(#clip480)\" d=\"M 0 0 M811.338 2446.23 Q796.893 2446.23 789.579 2460.49 Q782.356 2474.66 782.356 2503.18 Q782.356 2531.6 789.579 2545.86 Q796.893 2560.03 811.338 2560.03 Q825.875 2560.03 833.097 2545.86 Q840.412 2531.6 840.412 2503.18 Q840.412 2474.66 833.097 2460.49 Q825.875 2446.23 811.338 2446.23 M811.338 2431.42 Q834.578 2431.42 846.801 2449.85 Q859.115 2468.18 859.115 2503.18 Q859.115 2538.09 846.801 2556.51 Q834.578 2574.84 811.338 2574.84 Q788.097 2574.84 775.782 2556.51 Q763.56 2538.09 763.56 2503.18 Q763.56 2468.18 775.782 2449.85 Q788.097 2431.42 811.338 2431.42 Z\" fill=\"#000000\" fill-rule=\"evenodd\" fill-opacity=\"1\" /><path clip-path=\"url(#clip480)\" d=\"M 0 0 M879.393 2548.64 L898.93 2548.64 L898.93 2572.16 L879.393 2572.16 L879.393 2548.64 Z\" fill=\"#000000\" fill-rule=\"evenodd\" fill-opacity=\"1\" /><path clip-path=\"url(#clip480)\" d=\"M 0 0 M922.448 2556.42 L953.004 2556.42 L953.004 2450.96 L919.763 2457.62 L919.763 2440.59 L952.819 2433.92 L971.522 2433.92 L971.522 2556.42 L1002.08 2556.42 L1002.08 2572.16 L922.448 2572.16 L922.448 2556.42 Z\" fill=\"#000000\" fill-rule=\"evenodd\" fill-opacity=\"1\" /><path clip-path=\"url(#clip480)\" d=\"M 0 0 M1022.54 2433.92 L1095.97 2433.92 L1095.97 2449.66 L1039.67 2449.66 L1039.67 2483.55 Q1043.74 2482.16 1047.82 2481.51 Q1051.89 2480.77 1055.97 2480.77 Q1079.11 2480.77 1092.63 2493.46 Q1106.15 2506.14 1106.15 2527.81 Q1106.15 2550.12 1092.26 2562.53 Q1078.37 2574.84 1053.1 2574.84 Q1044.39 2574.84 1035.32 2573.36 Q1026.34 2571.88 1016.71 2568.92 L1016.71 2550.12 Q1025.04 2554.66 1033.93 2556.88 Q1042.82 2559.1 1052.73 2559.1 Q1068.74 2559.1 1078.1 2550.68 Q1087.45 2542.25 1087.45 2527.81 Q1087.45 2513.36 1078.1 2504.94 Q1068.74 2496.51 1052.73 2496.51 Q1045.23 2496.51 1037.73 2498.18 Q1030.32 2499.85 1022.54 2503.36 L1022.54 2433.92 Z\" fill=\"#000000\" fill-rule=\"evenodd\" fill-opacity=\"1\" /><path clip-path=\"url(#clip480)\" d=\"M 0 0 M978.115 2512.62 L1028.02 2512.62 L1028.02 2527.81 L978.115 2527.81 L978.115 2512.62 Z\" fill=\"#000000\" fill-rule=\"evenodd\" fill-opacity=\"1\" /><path clip-path=\"url(#clip480)\" d=\"M 0 0 M1088.3 2446.23 Q1073.86 2446.23 1066.54 2460.49 Q1059.32 2474.66 1059.32 2503.18 Q1059.32 2531.6 1066.54 2545.86 Q1073.86 2560.03 1088.3 2560.03 Q1102.84 2560.03 1110.06 2545.86 Q1117.37 2531.6 1117.37 2503.18 Q1117.37 2474.66 1110.06 2460.49 Q1102.84 2446.23 1088.3 2446.23 M1088.3 2431.42 Q1111.54 2431.42 1123.76 2449.85 Q1136.08 2468.18 1136.08 2503.18 Q1136.08 2538.09 1123.76 2556.51 Q1111.54 2574.84 1088.3 2574.84 Q1065.06 2574.84 1052.74 2556.51 Q1040.52 2538.09 1040.52 2503.18 Q1040.52 2468.18 1052.74 2449.85 Q1065.06 2431.42 1088.3 2431.42 Z\" fill=\"#000000\" fill-rule=\"evenodd\" fill-opacity=\"1\" /><path clip-path=\"url(#clip480)\" d=\"M 0 0 M1156.35 2548.64 L1175.89 2548.64 L1175.89 2572.16 L1156.35 2572.16 L1156.35 2548.64 Z\" fill=\"#000000\" fill-rule=\"evenodd\" fill-opacity=\"1\" /><path clip-path=\"url(#clip480)\" d=\"M 0 0 M1199.41 2556.42 L1229.97 2556.42 L1229.97 2450.96 L1196.72 2457.62 L1196.72 2440.59 L1229.78 2433.92 L1248.48 2433.92 L1248.48 2556.42 L1279.04 2556.42 L1279.04 2572.16 L1199.41 2572.16 L1199.41 2556.42 Z\" fill=\"#000000\" fill-rule=\"evenodd\" fill-opacity=\"1\" /><path clip-path=\"url(#clip480)\" d=\"M 0 0 M1339.32 2446.23 Q1324.87 2446.23 1317.56 2460.49 Q1310.34 2474.66 1310.34 2503.18 Q1310.34 2531.6 1317.56 2545.86 Q1324.87 2560.03 1339.32 2560.03 Q1353.85 2560.03 1361.08 2545.86 Q1368.39 2531.6 1368.39 2503.18 Q1368.39 2474.66 1361.08 2460.49 Q1353.85 2446.23 1339.32 2446.23 M1339.32 2431.42 Q1362.56 2431.42 1374.78 2449.85 Q1387.09 2468.18 1387.09 2503.18 Q1387.09 2538.09 1374.78 2556.51 Q1362.56 2574.84 1339.32 2574.84 Q1316.08 2574.84 1303.76 2556.51 Q1291.54 2538.09 1291.54 2503.18 Q1291.54 2468.18 1303.76 2449.85 Q1316.08 2431.42 1339.32 2431.42 Z\" fill=\"#000000\" fill-rule=\"evenodd\" fill-opacity=\"1\" /><path clip-path=\"url(#clip480)\" d=\"M 0 0 M1256.6 2512.62 L1306.51 2512.62 L1306.51 2527.81 L1256.6 2527.81 L1256.6 2512.62 Z\" fill=\"#000000\" fill-rule=\"evenodd\" fill-opacity=\"1\" /><path clip-path=\"url(#clip480)\" d=\"M 0 0 M1366.79 2446.23 Q1352.34 2446.23 1345.03 2460.49 Q1337.81 2474.66 1337.81 2503.18 Q1337.81 2531.6 1345.03 2545.86 Q1352.34 2560.03 1366.79 2560.03 Q1381.33 2560.03 1388.55 2545.86 Q1395.86 2531.6 1395.86 2503.18 Q1395.86 2474.66 1388.55 2460.49 Q1381.33 2446.23 1366.79 2446.23 M1366.79 2431.42 Q1390.03 2431.42 1402.25 2449.85 Q1414.57 2468.18 1414.57 2503.18 Q1414.57 2538.09 1402.25 2556.51 Q1390.03 2574.84 1366.79 2574.84 Q1343.55 2574.84 1331.23 2556.51 Q1319.01 2538.09 1319.01 2503.18 Q1319.01 2468.18 1331.23 2449.85 Q1343.55 2431.42 1366.79 2431.42 Z\" fill=\"#000000\" fill-rule=\"evenodd\" fill-opacity=\"1\" /><path clip-path=\"url(#clip480)\" d=\"M 0 0 M1434.84 2548.64 L1454.38 2548.64 L1454.38 2572.16 L1434.84 2572.16 L1434.84 2548.64 Z\" fill=\"#000000\" fill-rule=\"evenodd\" fill-opacity=\"1\" /><path clip-path=\"url(#clip480)\" d=\"M 0 0 M1514.66 2446.23 Q1500.21 2446.23 1492.9 2460.49 Q1485.68 2474.66 1485.68 2503.18 Q1485.68 2531.6 1492.9 2545.86 Q1500.21 2560.03 1514.66 2560.03 Q1529.2 2560.03 1536.42 2545.86 Q1543.73 2531.6 1543.73 2503.18 Q1543.73 2474.66 1536.42 2460.49 Q1529.2 2446.23 1514.66 2446.23 M1514.66 2431.42 Q1537.9 2431.42 1550.12 2449.85 Q1562.44 2468.18 1562.44 2503.18 Q1562.44 2538.09 1550.12 2556.51 Q1537.9 2574.84 1514.66 2574.84 Q1491.42 2574.84 1479.1 2556.51 Q1466.88 2538.09 1466.88 2503.18 Q1466.88 2468.18 1479.1 2449.85 Q1491.42 2431.42 1514.66 2431.42 Z\" fill=\"#000000\" fill-rule=\"evenodd\" fill-opacity=\"1\" /><path clip-path=\"url(#clip480)\" d=\"M 0 0 M1582.9 2433.92 L1656.32 2433.92 L1656.32 2449.66 L1600.03 2449.66 L1600.03 2483.55 Q1604.1 2482.16 1608.18 2481.51 Q1612.25 2480.77 1616.32 2480.77 Q1639.47 2480.77 1652.99 2493.46 Q1666.51 2506.14 1666.51 2527.81 Q1666.51 2550.12 1652.62 2562.53 Q1638.73 2574.84 1613.45 2574.84 Q1604.75 2574.84 1595.68 2573.36 Q1586.7 2571.88 1577.07 2568.92 L1577.07 2550.12 Q1585.4 2554.66 1594.29 2556.88 Q1603.18 2559.1 1613.08 2559.1 Q1629.1 2559.1 1638.45 2550.68 Q1647.81 2542.25 1647.81 2527.81 Q1647.81 2513.36 1638.45 2504.94 Q1629.1 2496.51 1613.08 2496.51 Q1605.58 2496.51 1598.08 2498.18 Q1590.68 2499.85 1582.9 2503.36 L1582.9 2433.92 Z\" fill=\"#000000\" fill-rule=\"evenodd\" fill-opacity=\"1\" /><path clip-path=\"url(#clip480)\" d=\"M 0 0 M1612.55 2446.23 Q1598.1 2446.23 1590.79 2460.49 Q1583.57 2474.66 1583.57 2503.18 Q1583.57 2531.6 1590.79 2545.86 Q1598.1 2560.03 1612.55 2560.03 Q1627.08 2560.03 1634.31 2545.86 Q1641.62 2531.6 1641.62 2503.18 Q1641.62 2474.66 1634.31 2460.49 Q1627.08 2446.23 1612.55 2446.23 M1612.55 2431.42 Q1635.79 2431.42 1648.01 2449.85 Q1660.33 2468.18 1660.33 2503.18 Q1660.33 2538.09 1648.01 2556.51 Q1635.79 2574.84 1612.55 2574.84 Q1589.31 2574.84 1576.99 2556.51 Q1564.77 2538.09 1564.77 2503.18 Q1564.77 2468.18 1576.99 2449.85 Q1589.31 2431.42 1612.55 2431.42 Z\" fill=\"#000000\" fill-rule=\"evenodd\" fill-opacity=\"1\" /><path clip-path=\"url(#clip480)\" d=\"M 0 0 M1680.6 2548.64 L1700.14 2548.64 L1700.14 2572.16 L1680.6 2572.16 L1680.6 2548.64 Z\" fill=\"#000000\" fill-rule=\"evenodd\" fill-opacity=\"1\" /><path clip-path=\"url(#clip480)\" d=\"M 0 0 M1760.42 2446.23 Q1745.97 2446.23 1738.66 2460.49 Q1731.44 2474.66 1731.44 2503.18 Q1731.44 2531.6 1738.66 2545.86 Q1745.97 2560.03 1760.42 2560.03 Q1774.95 2560.03 1782.18 2545.86 Q1789.49 2531.6 1789.49 2503.18 Q1789.49 2474.66 1782.18 2460.49 Q1774.95 2446.23 1760.42 2446.23 M1760.42 2431.42 Q1783.66 2431.42 1795.88 2449.85 Q1808.19 2468.18 1808.19 2503.18 Q1808.19 2538.09 1795.88 2556.51 Q1783.66 2574.84 1760.42 2574.84 Q1737.18 2574.84 1724.86 2556.51 Q1712.64 2538.09 1712.64 2503.18 Q1712.64 2468.18 1724.86 2449.85 Q1737.18 2431.42 1760.42 2431.42 Z\" fill=\"#000000\" fill-rule=\"evenodd\" fill-opacity=\"1\" /><path clip-path=\"url(#clip480)\" d=\"M 0 0 M1868.47 2446.23 Q1854.03 2446.23 1846.71 2460.49 Q1839.49 2474.66 1839.49 2503.18 Q1839.49 2531.6 1846.71 2545.86 Q1854.03 2560.03 1868.47 2560.03 Q1883.01 2560.03 1890.23 2545.86 Q1897.55 2531.6 1897.55 2503.18 Q1897.55 2474.66 1890.23 2460.49 Q1883.01 2446.23 1868.47 2446.23 M1868.47 2431.42 Q1891.71 2431.42 1903.93 2449.85 Q1916.25 2468.18 1916.25 2503.18 Q1916.25 2538.09 1903.93 2556.51 Q1891.71 2574.84 1868.47 2574.84 Q1845.23 2574.84 1832.92 2556.51 Q1820.69 2538.09 1820.69 2503.18 Q1820.69 2468.18 1832.92 2449.85 Q1845.23 2431.42 1868.47 2431.42 Z\" fill=\"#000000\" fill-rule=\"evenodd\" fill-opacity=\"1\" /><path clip-path=\"url(#clip480)\" d=\"M 0 0 M1893.49 2446.23 Q1879.05 2446.23 1871.73 2460.49 Q1864.51 2474.66 1864.51 2503.18 Q1864.51 2531.6 1871.73 2545.86 Q1879.05 2560.03 1893.49 2560.03 Q1908.03 2560.03 1915.25 2545.86 Q1922.56 2531.6 1922.56 2503.18 Q1922.56 2474.66 1915.25 2460.49 Q1908.03 2446.23 1893.49 2446.23 M1893.49 2431.42 Q1916.73 2431.42 1928.95 2449.85 Q1941.27 2468.18 1941.27 2503.18 Q1941.27 2538.09 1928.95 2556.51 Q1916.73 2574.84 1893.49 2574.84 Q1870.25 2574.84 1857.94 2556.51 Q1845.71 2538.09 1845.71 2503.18 Q1845.71 2468.18 1857.94 2449.85 Q1870.25 2431.42 1893.49 2431.42 Z\" fill=\"#000000\" fill-rule=\"evenodd\" fill-opacity=\"1\" /><path clip-path=\"url(#clip480)\" d=\"M 0 0 M1961.55 2548.64 L1981.08 2548.64 L1981.08 2572.16 L1961.55 2572.16 L1961.55 2548.64 Z\" fill=\"#000000\" fill-rule=\"evenodd\" fill-opacity=\"1\" /><path clip-path=\"url(#clip480)\" d=\"M 0 0 M2041.36 2446.23 Q2026.92 2446.23 2019.6 2460.49 Q2012.38 2474.66 2012.38 2503.18 Q2012.38 2531.6 2019.6 2545.86 Q2026.92 2560.03 2041.36 2560.03 Q2055.9 2560.03 2063.12 2545.86 Q2070.43 2531.6 2070.43 2503.18 Q2070.43 2474.66 2063.12 2460.49 Q2055.9 2446.23 2041.36 2446.23 M2041.36 2431.42 Q2064.6 2431.42 2076.82 2449.85 Q2089.14 2468.18 2089.14 2503.18 Q2089.14 2538.09 2076.82 2556.51 Q2064.6 2574.84 2041.36 2574.84 Q2018.12 2574.84 2005.81 2556.51 Q1993.58 2538.09 1993.58 2503.18 Q1993.58 2468.18 2005.81 2449.85 Q2018.12 2431.42 2041.36 2431.42 Z\" fill=\"#000000\" fill-rule=\"evenodd\" fill-opacity=\"1\" /><path clip-path=\"url(#clip480)\" d=\"M 0 0 M2109.6 2433.92 L2183.03 2433.92 L2183.03 2449.66 L2126.73 2449.66 L2126.73 2483.55 Q2130.8 2482.16 2134.88 2481.51 Q2138.95 2480.77 2143.03 2480.77 Q2166.17 2480.77 2179.69 2493.46 Q2193.21 2506.14 2193.21 2527.81 Q2193.21 2550.12 2179.32 2562.53 Q2165.43 2574.84 2140.16 2574.84 Q2131.45 2574.84 2122.38 2573.36 Q2113.4 2571.88 2103.77 2568.92 L2103.77 2550.12 Q2112.1 2554.66 2120.99 2556.88 Q2129.88 2559.1 2139.79 2559.1 Q2155.8 2559.1 2165.16 2550.68 Q2174.51 2542.25 2174.51 2527.81 Q2174.51 2513.36 2165.16 2504.94 Q2155.8 2496.51 2139.79 2496.51 Q2132.29 2496.51 2124.79 2498.18 Q2117.38 2499.85 2109.6 2503.36 L2109.6 2433.92 Z\" fill=\"#000000\" fill-rule=\"evenodd\" fill-opacity=\"1\" /><path clip-path=\"url(#clip480)\" d=\"M 0 0 M2172.91 2446.23 Q2158.46 2446.23 2151.15 2460.49 Q2143.92 2474.66 2143.92 2503.18 Q2143.92 2531.6 2151.15 2545.86 Q2158.46 2560.03 2172.91 2560.03 Q2187.44 2560.03 2194.67 2545.86 Q2201.98 2531.6 2201.98 2503.18 Q2201.98 2474.66 2194.67 2460.49 Q2187.44 2446.23 2172.91 2446.23 M2172.91 2431.42 Q2196.15 2431.42 2208.37 2449.85 Q2220.68 2468.18 2220.68 2503.18 Q2220.68 2538.09 2208.37 2556.51 Q2196.15 2574.84 2172.91 2574.84 Q2149.67 2574.84 2137.35 2556.51 Q2125.13 2538.09 2125.13 2503.18 Q2125.13 2468.18 2137.35 2449.85 Q2149.67 2431.42 2172.91 2431.42 Z\" fill=\"#000000\" fill-rule=\"evenodd\" fill-opacity=\"1\" /><path clip-path=\"url(#clip480)\" d=\"M 0 0 M2240.96 2548.64 L2260.5 2548.64 L2260.5 2572.16 L2240.96 2572.16 L2240.96 2548.64 Z\" fill=\"#000000\" fill-rule=\"evenodd\" fill-opacity=\"1\" /><path clip-path=\"url(#clip480)\" d=\"M 0 0 M2284.02 2556.42 L2314.57 2556.42 L2314.57 2450.96 L2281.33 2457.62 L2281.33 2440.59 L2314.39 2433.92 L2333.09 2433.92 L2333.09 2556.42 L2363.65 2556.42 L2363.65 2572.16 L2284.02 2572.16 L2284.02 2556.42 Z\" fill=\"#000000\" fill-rule=\"evenodd\" fill-opacity=\"1\" /><path clip-path=\"url(#clip480)\" d=\"M 0 0 M2423.92 2446.23 Q2409.48 2446.23 2402.16 2460.49 Q2394.94 2474.66 2394.94 2503.18 Q2394.94 2531.6 2402.16 2545.86 Q2409.48 2560.03 2423.92 2560.03 Q2438.46 2560.03 2445.68 2545.86 Q2453 2531.6 2453 2503.18 Q2453 2474.66 2445.68 2460.49 Q2438.46 2446.23 2423.92 2446.23 M2423.92 2431.42 Q2447.16 2431.42 2459.39 2449.85 Q2471.7 2468.18 2471.7 2503.18 Q2471.7 2538.09 2459.39 2556.51 Q2447.16 2574.84 2423.92 2574.84 Q2400.68 2574.84 2388.37 2556.51 Q2376.15 2538.09 2376.15 2503.18 Q2376.15 2468.18 2388.37 2449.85 Q2400.68 2431.42 2423.92 2431.42 Z\" fill=\"#000000\" fill-rule=\"evenodd\" fill-opacity=\"1\" /><path clip-path=\"url(#clip480)\" d=\"M 0 0 M2453.85 2446.23 Q2439.41 2446.23 2432.09 2460.49 Q2424.87 2474.66 2424.87 2503.18 Q2424.87 2531.6 2432.09 2545.86 Q2439.41 2560.03 2453.85 2560.03 Q2468.39 2560.03 2475.61 2545.86 Q2482.92 2531.6 2482.92 2503.18 Q2482.92 2474.66 2475.61 2460.49 Q2468.39 2446.23 2453.85 2446.23 M2453.85 2431.42 Q2477.09 2431.42 2489.31 2449.85 Q2501.63 2468.18 2501.63 2503.18 Q2501.63 2538.09 2489.31 2556.51 Q2477.09 2574.84 2453.85 2574.84 Q2430.61 2574.84 2418.29 2556.51 Q2406.07 2538.09 2406.07 2503.18 Q2406.07 2468.18 2418.29 2449.85 Q2430.61 2431.42 2453.85 2431.42 Z\" fill=\"#000000\" fill-rule=\"evenodd\" fill-opacity=\"1\" /><path clip-path=\"url(#clip480)\" d=\"M 0 0 M2521.9 2548.64 L2541.44 2548.64 L2541.44 2572.16 L2521.9 2572.16 L2521.9 2548.64 Z\" fill=\"#000000\" fill-rule=\"evenodd\" fill-opacity=\"1\" /><path clip-path=\"url(#clip480)\" d=\"M 0 0 M2564.96 2556.42 L2595.52 2556.42 L2595.52 2450.96 L2562.27 2457.62 L2562.27 2440.59 L2595.33 2433.92 L2614.03 2433.92 L2614.03 2556.42 L2644.59 2556.42 L2644.59 2572.16 L2564.96 2572.16 L2564.96 2556.42 Z\" fill=\"#000000\" fill-rule=\"evenodd\" fill-opacity=\"1\" /><path clip-path=\"url(#clip480)\" d=\"M 0 0 M2665.05 2433.92 L2738.48 2433.92 L2738.48 2449.66 L2682.18 2449.66 L2682.18 2483.55 Q2686.26 2482.16 2690.33 2481.51 Q2694.4 2480.77 2698.48 2480.77 Q2721.63 2480.77 2735.14 2493.46 Q2748.66 2506.14 2748.66 2527.81 Q2748.66 2550.12 2734.77 2562.53 Q2720.89 2574.84 2695.61 2574.84 Q2686.9 2574.84 2677.83 2573.36 Q2668.85 2571.88 2659.22 2568.92 L2659.22 2550.12 Q2667.55 2554.66 2676.44 2556.88 Q2685.33 2559.1 2695.24 2559.1 Q2711.26 2559.1 2720.61 2550.68 Q2729.96 2542.25 2729.96 2527.81 Q2729.96 2513.36 2720.61 2504.94 Q2711.26 2496.51 2695.24 2496.51 Q2687.74 2496.51 2680.24 2498.18 Q2672.83 2499.85 2665.05 2503.36 L2665.05 2433.92 Z\" fill=\"#000000\" fill-rule=\"evenodd\" fill-opacity=\"1\" /><path clip-path=\"url(#clip480)\" d=\"M 0 0 M256.876 2187.96 L306.783 2187.96 L306.783 2203.15 L256.876 2203.15 L256.876 2187.96 Z\" fill=\"#000000\" fill-rule=\"evenodd\" fill-opacity=\"1\" /><path clip-path=\"url(#clip480)\" d=\"M 0 0 M367.06 2121.57 Q352.616 2121.57 345.301 2135.83 Q338.079 2150 338.079 2178.52 Q338.079 2206.94 345.301 2221.2 Q352.616 2235.37 367.06 2235.37 Q381.597 2235.37 388.82 2221.2 Q396.134 2206.94 396.134 2178.52 Q396.134 2150 388.82 2135.83 Q381.597 2121.57 367.06 2121.57 M367.06 2106.76 Q390.301 2106.76 402.523 2125.19 Q414.838 2143.52 414.838 2178.52 Q414.838 2213.43 402.523 2231.85 Q390.301 2250.18 367.06 2250.18 Q343.82 2250.18 331.505 2231.85 Q319.283 2213.43 319.283 2178.52 Q319.283 2143.52 331.505 2125.19 Q343.82 2106.76 367.06 2106.76 Z\" fill=\"#000000\" fill-rule=\"evenodd\" fill-opacity=\"1\" /><path clip-path=\"url(#clip480)\" d=\"M 0 0 M435.116 2223.98 L454.653 2223.98 L454.653 2247.5 L435.116 2247.5 L435.116 2223.98 Z\" fill=\"#000000\" fill-rule=\"evenodd\" fill-opacity=\"1\" /><path clip-path=\"url(#clip480)\" d=\"M 0 0 M478.171 2231.76 L508.726 2231.76 L508.726 2126.3 L475.486 2132.96 L475.486 2115.93 L508.541 2109.26 L527.245 2109.26 L527.245 2231.76 L557.8 2231.76 L557.8 2247.5 L478.171 2247.5 L478.171 2231.76 Z\" fill=\"#000000\" fill-rule=\"evenodd\" fill-opacity=\"1\" /><path clip-path=\"url(#clip480)\" d=\"M 0 0 M578.263 2109.26 L651.689 2109.26 L651.689 2125 L595.393 2125 L595.393 2158.89 Q599.467 2157.5 603.541 2156.85 Q607.615 2156.11 611.689 2156.11 Q634.837 2156.11 648.355 2168.8 Q661.874 2181.48 661.874 2203.15 Q661.874 2225.46 647.985 2237.87 Q634.096 2250.18 608.818 2250.18 Q600.115 2250.18 591.041 2248.7 Q582.059 2247.22 572.43 2244.26 L572.43 2225.46 Q580.763 2230 589.652 2232.22 Q598.541 2234.44 608.448 2234.44 Q624.467 2234.44 633.818 2226.02 Q643.17 2217.59 643.17 2203.15 Q643.17 2188.7 633.818 2180.28 Q624.467 2171.85 608.448 2171.85 Q600.948 2171.85 593.448 2173.52 Q586.041 2175.18 578.263 2178.7 L578.263 2109.26 Z\" fill=\"#000000\" fill-rule=\"evenodd\" fill-opacity=\"1\" /><path clip-path=\"url(#clip480)\" d=\"M 0 0 M252.894 1870.61 L302.802 1870.61 L302.802 1885.8 L252.894 1885.8 L252.894 1870.61 Z\" fill=\"#000000\" fill-rule=\"evenodd\" fill-opacity=\"1\" /><path clip-path=\"url(#clip480)\" d=\"M 0 0 M363.079 1804.22 Q348.635 1804.22 341.32 1818.48 Q334.098 1832.65 334.098 1861.17 Q334.098 1889.59 341.32 1903.85 Q348.635 1918.02 363.079 1918.02 Q377.616 1918.02 384.838 1903.85 Q392.153 1889.59 392.153 1861.17 Q392.153 1832.65 384.838 1818.48 Q377.616 1804.22 363.079 1804.22 M363.079 1789.41 Q386.32 1789.41 398.542 1807.84 Q410.857 1826.17 410.857 1861.17 Q410.857 1896.08 398.542 1914.5 Q386.32 1932.83 363.079 1932.83 Q339.838 1932.83 327.524 1914.5 Q315.301 1896.08 315.301 1861.17 Q315.301 1826.17 327.524 1807.84 Q339.838 1789.41 363.079 1789.41 Z\" fill=\"#000000\" fill-rule=\"evenodd\" fill-opacity=\"1\" /><path clip-path=\"url(#clip480)\" d=\"M 0 0 M431.134 1906.63 L450.671 1906.63 L450.671 1930.15 L431.134 1930.15 L431.134 1906.63 Z\" fill=\"#000000\" fill-rule=\"evenodd\" fill-opacity=\"1\" /><path clip-path=\"url(#clip480)\" d=\"M 0 0 M474.19 1914.41 L504.745 1914.41 L504.745 1808.95 L471.504 1815.61 L471.504 1798.58 L504.56 1791.91 L523.263 1791.91 L523.263 1914.41 L553.819 1914.41 L553.819 1930.15 L474.19 1930.15 L474.19 1914.41 Z\" fill=\"#000000\" fill-rule=\"evenodd\" fill-opacity=\"1\" /><path clip-path=\"url(#clip480)\" d=\"M 0 0 M614.096 1804.22 Q599.652 1804.22 592.337 1818.48 Q585.115 1832.65 585.115 1861.17 Q585.115 1889.59 592.337 1903.85 Q599.652 1918.02 614.096 1918.02 Q628.633 1918.02 635.855 1903.85 Q643.17 1889.59 643.17 1861.17 Q643.17 1832.65 635.855 1818.48 Q628.633 1804.22 614.096 1804.22 M614.096 1789.41 Q637.337 1789.41 649.559 1807.84 Q661.874 1826.17 661.874 1861.17 Q661.874 1896.08 649.559 1914.5 Q637.337 1932.83 614.096 1932.83 Q590.856 1932.83 578.541 1914.5 Q566.319 1896.08 566.319 1861.17 Q566.319 1826.17 578.541 1807.84 Q590.856 1789.41 614.096 1789.41 Z\" fill=\"#000000\" fill-rule=\"evenodd\" fill-opacity=\"1\" /><path clip-path=\"url(#clip480)\" d=\"M 0 0 M251.969 1553.26 L301.876 1553.26 L301.876 1568.45 L251.969 1568.45 L251.969 1553.26 Z\" fill=\"#000000\" fill-rule=\"evenodd\" fill-opacity=\"1\" /><path clip-path=\"url(#clip480)\" d=\"M 0 0 M362.153 1486.87 Q347.709 1486.87 340.394 1501.13 Q333.172 1515.3 333.172 1543.82 Q333.172 1572.24 340.394 1586.5 Q347.709 1600.67 362.153 1600.67 Q376.69 1600.67 383.912 1586.5 Q391.227 1572.24 391.227 1543.82 Q391.227 1515.3 383.912 1501.13 Q376.69 1486.87 362.153 1486.87 M362.153 1472.06 Q385.394 1472.06 397.616 1490.49 Q409.931 1508.82 409.931 1543.82 Q409.931 1578.73 397.616 1597.15 Q385.394 1615.48 362.153 1615.48 Q338.912 1615.48 326.598 1597.15 Q314.376 1578.73 314.376 1543.82 Q314.376 1508.82 326.598 1490.49 Q338.912 1472.06 362.153 1472.06 Z\" fill=\"#000000\" fill-rule=\"evenodd\" fill-opacity=\"1\" /><path clip-path=\"url(#clip480)\" d=\"M 0 0 M430.208 1589.28 L449.745 1589.28 L449.745 1612.8 L430.208 1612.8 L430.208 1589.28 Z\" fill=\"#000000\" fill-rule=\"evenodd\" fill-opacity=\"1\" /><path clip-path=\"url(#clip480)\" d=\"M 0 0 M510.023 1486.87 Q495.578 1486.87 488.264 1501.13 Q481.041 1515.3 481.041 1543.82 Q481.041 1572.24 488.264 1586.5 Q495.578 1600.67 510.023 1600.67 Q524.56 1600.67 531.782 1586.5 Q539.097 1572.24 539.097 1543.82 Q539.097 1515.3 531.782 1501.13 Q524.56 1486.87 510.023 1486.87 M510.023 1472.06 Q533.263 1472.06 545.485 1490.49 Q557.8 1508.82 557.8 1543.82 Q557.8 1578.73 545.485 1597.15 Q533.263 1615.48 510.023 1615.48 Q486.782 1615.48 474.467 1597.15 Q462.245 1578.73 462.245 1543.82 Q462.245 1508.82 474.467 1490.49 Q486.782 1472.06 510.023 1472.06 Z\" fill=\"#000000\" fill-rule=\"evenodd\" fill-opacity=\"1\" /><path clip-path=\"url(#clip480)\" d=\"M 0 0 M578.263 1474.56 L651.689 1474.56 L651.689 1490.3 L595.393 1490.3 L595.393 1524.19 Q599.467 1522.8 603.541 1522.15 Q607.615 1521.41 611.689 1521.41 Q634.837 1521.41 648.355 1534.1 Q661.874 1546.78 661.874 1568.45 Q661.874 1590.76 647.985 1603.17 Q634.096 1615.48 608.818 1615.48 Q600.115 1615.48 591.041 1614 Q582.059 1612.52 572.43 1609.56 L572.43 1590.76 Q580.763 1595.3 589.652 1597.52 Q598.541 1599.74 608.448 1599.74 Q624.467 1599.74 633.818 1591.32 Q643.17 1582.89 643.17 1568.45 Q643.17 1554 633.818 1545.58 Q624.467 1537.15 608.448 1537.15 Q600.948 1537.15 593.448 1538.82 Q586.041 1540.49 578.263 1544 L578.263 1474.56 Z\" fill=\"#000000\" fill-rule=\"evenodd\" fill-opacity=\"1\" /><path clip-path=\"url(#clip480)\" d=\"M 0 0 M358.172 1169.52 Q343.727 1169.52 336.412 1183.78 Q329.19 1197.95 329.19 1226.47 Q329.19 1254.89 336.412 1269.15 Q343.727 1283.32 358.172 1283.32 Q372.709 1283.32 379.931 1269.15 Q387.246 1254.89 387.246 1226.47 Q387.246 1197.95 379.931 1183.78 Q372.709 1169.52 358.172 1169.52 M358.172 1154.71 Q381.412 1154.71 393.634 1173.14 Q405.949 1191.47 405.949 1226.47 Q405.949 1261.38 393.634 1279.8 Q381.412 1298.13 358.172 1298.13 Q334.931 1298.13 322.616 1279.8 Q310.394 1261.38 310.394 1226.47 Q310.394 1191.47 322.616 1173.14 Q334.931 1154.71 358.172 1154.71 Z\" fill=\"#000000\" fill-rule=\"evenodd\" fill-opacity=\"1\" /><path clip-path=\"url(#clip480)\" d=\"M 0 0 M426.227 1271.93 L445.764 1271.93 L445.764 1295.45 L426.227 1295.45 L426.227 1271.93 Z\" fill=\"#000000\" fill-rule=\"evenodd\" fill-opacity=\"1\" /><path clip-path=\"url(#clip480)\" d=\"M 0 0 M506.041 1169.52 Q491.597 1169.52 484.282 1183.78 Q477.06 1197.95 477.06 1226.47 Q477.06 1254.89 484.282 1269.15 Q491.597 1283.32 506.041 1283.32 Q520.578 1283.32 527.8 1269.15 Q535.115 1254.89 535.115 1226.47 Q535.115 1197.95 527.8 1183.78 Q520.578 1169.52 506.041 1169.52 M506.041 1154.71 Q529.282 1154.71 541.504 1173.14 Q553.819 1191.47 553.819 1226.47 Q553.819 1261.38 541.504 1279.8 Q529.282 1298.13 506.041 1298.13 Q482.801 1298.13 470.486 1279.8 Q458.264 1261.38 458.264 1226.47 Q458.264 1191.47 470.486 1173.14 Q482.801 1154.71 506.041 1154.71 Z\" fill=\"#000000\" fill-rule=\"evenodd\" fill-opacity=\"1\" /><path clip-path=\"url(#clip480)\" d=\"M 0 0 M614.096 1169.52 Q599.652 1169.52 592.337 1183.78 Q585.115 1197.95 585.115 1226.47 Q585.115 1254.89 592.337 1269.15 Q599.652 1283.32 614.096 1283.32 Q628.633 1283.32 635.855 1269.15 Q643.17 1254.89 643.17 1226.47 Q643.17 1197.95 635.855 1183.78 Q628.633 1169.52 614.096 1169.52 M614.096 1154.71 Q637.337 1154.71 649.559 1173.14 Q661.874 1191.47 661.874 1226.47 Q661.874 1261.38 649.559 1279.8 Q637.337 1298.13 614.096 1298.13 Q590.856 1298.13 578.541 1279.8 Q566.319 1261.38 566.319 1226.47 Q566.319 1191.47 578.541 1173.14 Q590.856 1154.71 614.096 1154.71 Z\" fill=\"#000000\" fill-rule=\"evenodd\" fill-opacity=\"1\" /><path clip-path=\"url(#clip480)\" d=\"M 0 0 M362.153 852.175 Q347.709 852.175 340.394 866.434 Q333.172 880.6 333.172 909.119 Q333.172 937.545 340.394 951.804 Q347.709 965.97 362.153 965.97 Q376.69 965.97 383.912 951.804 Q391.227 937.545 391.227 909.119 Q391.227 880.6 383.912 866.434 Q376.69 852.175 362.153 852.175 M362.153 837.36 Q385.394 837.36 397.616 855.786 Q409.931 874.119 409.931 909.119 Q409.931 944.026 397.616 962.452 Q385.394 980.785 362.153 980.785 Q338.912 980.785 326.598 962.452 Q314.376 944.026 314.376 909.119 Q314.376 874.119 326.598 855.786 Q338.912 837.36 362.153 837.36 Z\" fill=\"#000000\" fill-rule=\"evenodd\" fill-opacity=\"1\" /><path clip-path=\"url(#clip480)\" d=\"M 0 0 M430.208 954.582 L449.745 954.582 L449.745 978.1 L430.208 978.1 L430.208 954.582 Z\" fill=\"#000000\" fill-rule=\"evenodd\" fill-opacity=\"1\" /><path clip-path=\"url(#clip480)\" d=\"M 0 0 M510.023 852.175 Q495.578 852.175 488.264 866.434 Q481.041 880.6 481.041 909.119 Q481.041 937.545 488.264 951.804 Q495.578 965.97 510.023 965.97 Q524.56 965.97 531.782 951.804 Q539.097 937.545 539.097 909.119 Q539.097 880.6 531.782 866.434 Q524.56 852.175 510.023 852.175 M510.023 837.36 Q533.263 837.36 545.485 855.786 Q557.8 874.119 557.8 909.119 Q557.8 944.026 545.485 962.452 Q533.263 980.785 510.023 980.785 Q486.782 980.785 474.467 962.452 Q462.245 944.026 462.245 909.119 Q462.245 874.119 474.467 855.786 Q486.782 837.36 510.023 837.36 Z\" fill=\"#000000\" fill-rule=\"evenodd\" fill-opacity=\"1\" /><path clip-path=\"url(#clip480)\" d=\"M 0 0 M578.263 839.86 L651.689 839.86 L651.689 855.601 L595.393 855.601 L595.393 889.489 Q599.467 888.1 603.541 887.452 Q607.615 886.712 611.689 886.712 Q634.837 886.712 648.355 899.397 Q661.874 912.082 661.874 933.748 Q661.874 956.063 647.985 968.47 Q634.096 980.785 608.818 980.785 Q600.115 980.785 591.041 979.304 Q582.059 977.822 572.43 974.859 L572.43 956.063 Q580.763 960.6 589.652 962.822 Q598.541 965.044 608.448 965.044 Q624.467 965.044 633.818 956.619 Q643.17 948.193 643.17 933.748 Q643.17 919.304 633.818 910.878 Q624.467 902.452 608.448 902.452 Q600.948 902.452 593.448 904.119 Q586.041 905.786 578.263 909.304 L578.263 839.86 Z\" fill=\"#000000\" fill-rule=\"evenodd\" fill-opacity=\"1\" /><path clip-path=\"url(#clip480)\" d=\"M 0 0 M363.079 534.825 Q348.635 534.825 341.32 549.084 Q334.098 563.251 334.098 591.769 Q334.098 620.195 341.32 634.454 Q348.635 648.621 363.079 648.621 Q377.616 648.621 384.838 634.454 Q392.153 620.195 392.153 591.769 Q392.153 563.251 384.838 549.084 Q377.616 534.825 363.079 534.825 M363.079 520.01 Q386.32 520.01 398.542 538.436 Q410.857 556.769 410.857 591.769 Q410.857 626.676 398.542 645.102 Q386.32 663.435 363.079 663.435 Q339.838 663.435 327.524 645.102 Q315.301 626.676 315.301 591.769 Q315.301 556.769 327.524 538.436 Q339.838 520.01 363.079 520.01 Z\" fill=\"#000000\" fill-rule=\"evenodd\" fill-opacity=\"1\" /><path clip-path=\"url(#clip480)\" d=\"M 0 0 M431.134 637.232 L450.671 637.232 L450.671 660.75 L431.134 660.75 L431.134 637.232 Z\" fill=\"#000000\" fill-rule=\"evenodd\" fill-opacity=\"1\" /><path clip-path=\"url(#clip480)\" d=\"M 0 0 M474.19 645.009 L504.745 645.009 L504.745 539.547 L471.504 546.214 L471.504 529.177 L504.56 522.51 L523.263 522.51 L523.263 645.009 L553.819 645.009 L553.819 660.75 L474.19 660.75 L474.19 645.009 Z\" fill=\"#000000\" fill-rule=\"evenodd\" fill-opacity=\"1\" /><path clip-path=\"url(#clip480)\" d=\"M 0 0 M614.096 534.825 Q599.652 534.825 592.337 549.084 Q585.115 563.251 585.115 591.769 Q585.115 620.195 592.337 634.454 Q599.652 648.621 614.096 648.621 Q628.633 648.621 635.855 634.454 Q643.17 620.195 643.17 591.769 Q643.17 563.251 635.855 549.084 Q628.633 534.825 614.096 534.825 M614.096 520.01 Q637.337 520.01 649.559 538.436 Q661.874 556.769 661.874 591.769 Q661.874 626.676 649.559 645.102 Q637.337 663.435 614.096 663.435 Q590.856 663.435 578.541 645.102 Q566.319 626.676 566.319 591.769 Q566.319 556.769 578.541 538.436 Q590.856 520.01 614.096 520.01 Z\" fill=\"#000000\" fill-rule=\"evenodd\" fill-opacity=\"1\" /><path clip-path=\"url(#clip480)\" d=\"M 0 0 M367.06 217.475 Q352.616 217.475 345.301 231.734 Q338.079 245.901 338.079 274.419 Q338.079 302.845 345.301 317.104 Q352.616 331.271 367.06 331.271 Q381.597 331.271 388.82 317.104 Q396.134 302.845 396.134 274.419 Q396.134 245.901 388.82 231.734 Q381.597 217.475 367.06 217.475 M367.06 202.66 Q390.301 202.66 402.523 221.086 Q414.838 239.419 414.838 274.419 Q414.838 309.326 402.523 327.752 Q390.301 346.085 367.06 346.085 Q343.82 346.085 331.505 327.752 Q319.283 309.326 319.283 274.419 Q319.283 239.419 331.505 221.086 Q343.82 202.66 367.06 202.66 Z\" fill=\"#000000\" fill-rule=\"evenodd\" fill-opacity=\"1\" /><path clip-path=\"url(#clip480)\" d=\"M 0 0 M435.116 319.882 L454.653 319.882 L454.653 343.4 L435.116 343.4 L435.116 319.882 Z\" fill=\"#000000\" fill-rule=\"evenodd\" fill-opacity=\"1\" /><path clip-path=\"url(#clip480)\" d=\"M 0 0 M478.171 327.66 L508.726 327.66 L508.726 222.197 L475.486 228.864 L475.486 211.827 L508.541 205.16 L527.245 205.16 L527.245 327.66 L557.8 327.66 L557.8 343.4 L478.171 343.4 L478.171 327.66 Z\" fill=\"#000000\" fill-rule=\"evenodd\" fill-opacity=\"1\" /><path clip-path=\"url(#clip480)\" d=\"M 0 0 M578.263 205.16 L651.689 205.16 L651.689 220.901 L595.393 220.901 L595.393 254.79 Q599.467 253.401 603.541 252.753 Q607.615 252.012 611.689 252.012 Q634.837 252.012 648.355 264.697 Q661.874 277.382 661.874 299.049 Q661.874 321.363 647.985 333.771 Q634.096 346.085 608.818 346.085 Q600.115 346.085 591.041 344.604 Q582.059 343.123 572.43 340.16 L572.43 321.363 Q580.763 325.9 589.652 328.123 Q598.541 330.345 608.448 330.345 Q624.467 330.345 633.818 321.919 Q643.17 313.493 643.17 299.049 Q643.17 284.604 633.818 276.178 Q624.467 267.753 608.448 267.753 Q600.948 267.753 593.448 269.419 Q586.041 271.086 578.263 274.604 L578.263 205.16 Z\" fill=\"#000000\" fill-rule=\"evenodd\" fill-opacity=\"1\" /><circle clip-path=\"url(#clip482)\" cx=\"1711.09\" cy=\"1300.62\" r=\"57\" fill=\"#800080\" fill-rule=\"evenodd\" fill-opacity=\"1\" stroke=\"#000000\" stroke-opacity=\"1\" stroke-width=\"5.76\"/>\n",
       "<circle clip-path=\"url(#clip482)\" cx=\"1480.29\" cy=\"940.82\" r=\"57\" fill=\"#800080\" fill-rule=\"evenodd\" fill-opacity=\"1\" stroke=\"#000000\" stroke-opacity=\"1\" stroke-width=\"5.76\"/>\n",
       "<circle clip-path=\"url(#clip482)\" cx=\"1505.12\" cy=\"1259.59\" r=\"57\" fill=\"#800080\" fill-rule=\"evenodd\" fill-opacity=\"1\" stroke=\"#000000\" stroke-opacity=\"1\" stroke-width=\"5.76\"/>\n",
       "<circle clip-path=\"url(#clip482)\" cx=\"1289.59\" cy=\"872.841\" r=\"57\" fill=\"#800080\" fill-rule=\"evenodd\" fill-opacity=\"1\" stroke=\"#000000\" stroke-opacity=\"1\" stroke-width=\"5.76\"/>\n",
       "<circle clip-path=\"url(#clip482)\" cx=\"1590.53\" cy=\"791.267\" r=\"57\" fill=\"#800080\" fill-rule=\"evenodd\" fill-opacity=\"1\" stroke=\"#000000\" stroke-opacity=\"1\" stroke-width=\"5.76\"/>\n",
       "<circle clip-path=\"url(#clip482)\" cx=\"1618.84\" cy=\"890.321\" r=\"57\" fill=\"#800080\" fill-rule=\"evenodd\" fill-opacity=\"1\" stroke=\"#000000\" stroke-opacity=\"1\" stroke-width=\"5.76\"/>\n",
       "<circle clip-path=\"url(#clip482)\" cx=\"1536.9\" cy=\"294.052\" r=\"57\" fill=\"#800080\" fill-rule=\"evenodd\" fill-opacity=\"1\" stroke=\"#000000\" stroke-opacity=\"1\" stroke-width=\"5.76\"/>\n",
       "<circle clip-path=\"url(#clip482)\" cx=\"1600.47\" cy=\"1570.11\" r=\"57\" fill=\"#800080\" fill-rule=\"evenodd\" fill-opacity=\"1\" stroke=\"#000000\" stroke-opacity=\"1\" stroke-width=\"5.76\"/>\n",
       "<circle clip-path=\"url(#clip482)\" cx=\"2044.44\" cy=\"1727.43\" r=\"57\" fill=\"#800080\" fill-rule=\"evenodd\" fill-opacity=\"1\" stroke=\"#000000\" stroke-opacity=\"1\" stroke-width=\"5.76\"/>\n",
       "<circle clip-path=\"url(#clip482)\" cx=\"1946.11\" cy=\"905.859\" r=\"57\" fill=\"#800080\" fill-rule=\"evenodd\" fill-opacity=\"1\" stroke=\"#000000\" stroke-opacity=\"1\" stroke-width=\"5.76\"/>\n",
       "<circle clip-path=\"url(#clip482)\" cx=\"1677.94\" cy=\"1284.6\" r=\"57\" fill=\"#800080\" fill-rule=\"evenodd\" fill-opacity=\"1\" stroke=\"#000000\" stroke-opacity=\"1\" stroke-width=\"5.76\"/>\n",
       "<circle clip-path=\"url(#clip482)\" cx=\"1673.96\" cy=\"1431.24\" r=\"57\" fill=\"#800080\" fill-rule=\"evenodd\" fill-opacity=\"1\" stroke=\"#000000\" stroke-opacity=\"1\" stroke-width=\"5.76\"/>\n",
       "<circle clip-path=\"url(#clip482)\" cx=\"1676.94\" cy=\"1684.7\" r=\"57\" fill=\"#800080\" fill-rule=\"evenodd\" fill-opacity=\"1\" stroke=\"#000000\" stroke-opacity=\"1\" stroke-width=\"5.76\"/>\n",
       "<circle clip-path=\"url(#clip482)\" cx=\"1521.01\" cy=\"1070.95\" r=\"57\" fill=\"#800080\" fill-rule=\"evenodd\" fill-opacity=\"1\" stroke=\"#000000\" stroke-opacity=\"1\" stroke-width=\"5.76\"/>\n",
       "<circle clip-path=\"url(#clip482)\" cx=\"1987.82\" cy=\"2329.53\" r=\"57\" fill=\"#800080\" fill-rule=\"evenodd\" fill-opacity=\"1\" stroke=\"#000000\" stroke-opacity=\"1\" stroke-width=\"5.76\"/>\n",
       "<circle clip-path=\"url(#clip482)\" cx=\"2066.29\" cy=\"1069.98\" r=\"57\" fill=\"#800080\" fill-rule=\"evenodd\" fill-opacity=\"1\" stroke=\"#000000\" stroke-opacity=\"1\" stroke-width=\"5.76\"/>\n",
       "<circle clip-path=\"url(#clip482)\" cx=\"2133.83\" cy=\"1583.7\" r=\"57\" fill=\"#800080\" fill-rule=\"evenodd\" fill-opacity=\"1\" stroke=\"#000000\" stroke-opacity=\"1\" stroke-width=\"5.76\"/>\n",
       "<circle clip-path=\"url(#clip482)\" cx=\"1753.92\" cy=\"960.242\" r=\"57\" fill=\"#800080\" fill-rule=\"evenodd\" fill-opacity=\"1\" stroke=\"#000000\" stroke-opacity=\"1\" stroke-width=\"5.76\"/>\n",
       "<circle clip-path=\"url(#clip482)\" cx=\"1426.65\" cy=\"1721.6\" r=\"57\" fill=\"#800080\" fill-rule=\"evenodd\" fill-opacity=\"1\" stroke=\"#000000\" stroke-opacity=\"1\" stroke-width=\"5.76\"/>\n",
       "<circle clip-path=\"url(#clip482)\" cx=\"1815.99\" cy=\"1363.26\" r=\"57\" fill=\"#800080\" fill-rule=\"evenodd\" fill-opacity=\"1\" stroke=\"#000000\" stroke-opacity=\"1\" stroke-width=\"5.76\"/>\n",
       "<circle clip-path=\"url(#clip482)\" cx=\"2203.35\" cy=\"1257.65\" r=\"57\" fill=\"#800080\" fill-rule=\"evenodd\" fill-opacity=\"1\" stroke=\"#000000\" stroke-opacity=\"1\" stroke-width=\"5.76\"/>\n",
       "<circle clip-path=\"url(#clip482)\" cx=\"2137.8\" cy=\"507.699\" r=\"57\" fill=\"#800080\" fill-rule=\"evenodd\" fill-opacity=\"1\" stroke=\"#000000\" stroke-opacity=\"1\" stroke-width=\"5.76\"/>\n",
       "<circle clip-path=\"url(#clip482)\" cx=\"1909.36\" cy=\"1012.68\" r=\"57\" fill=\"#800080\" fill-rule=\"evenodd\" fill-opacity=\"1\" stroke=\"#000000\" stroke-opacity=\"1\" stroke-width=\"5.76\"/>\n",
       "<circle clip-path=\"url(#clip482)\" cx=\"1815.5\" cy=\"988.405\" r=\"57\" fill=\"#800080\" fill-rule=\"evenodd\" fill-opacity=\"1\" stroke=\"#000000\" stroke-opacity=\"1\" stroke-width=\"5.76\"/>\n",
       "<circle clip-path=\"url(#clip482)\" cx=\"1696.81\" cy=\"1291.88\" r=\"57\" fill=\"#800080\" fill-rule=\"evenodd\" fill-opacity=\"1\" stroke=\"#000000\" stroke-opacity=\"1\" stroke-width=\"5.76\"/>\n",
       "<circle clip-path=\"url(#clip482)\" cx=\"1770.68\" cy=\"1704.12\" r=\"57\" fill=\"#800080\" fill-rule=\"evenodd\" fill-opacity=\"1\" stroke=\"#000000\" stroke-opacity=\"1\" stroke-width=\"5.76\"/>\n",
       "<circle clip-path=\"url(#clip482)\" cx=\"1307.46\" cy=\"1500.19\" r=\"57\" fill=\"#800080\" fill-rule=\"evenodd\" fill-opacity=\"1\" stroke=\"#000000\" stroke-opacity=\"1\" stroke-width=\"5.76\"/>\n",
       "<circle clip-path=\"url(#clip482)\" cx=\"2066.29\" cy=\"461.085\" r=\"57\" fill=\"#800080\" fill-rule=\"evenodd\" fill-opacity=\"1\" stroke=\"#000000\" stroke-opacity=\"1\" stroke-width=\"5.76\"/>\n",
       "<circle clip-path=\"url(#clip482)\" cx=\"2332.47\" cy=\"1694.41\" r=\"57\" fill=\"#800080\" fill-rule=\"evenodd\" fill-opacity=\"1\" stroke=\"#000000\" stroke-opacity=\"1\" stroke-width=\"5.76\"/>\n",
       "<circle clip-path=\"url(#clip482)\" cx=\"1676.45\" cy=\"843.707\" r=\"57\" fill=\"#800080\" fill-rule=\"evenodd\" fill-opacity=\"1\" stroke=\"#000000\" stroke-opacity=\"1\" stroke-width=\"5.76\"/>\n",
       "<circle clip-path=\"url(#clip482)\" cx=\"1620.83\" cy=\"1423.47\" r=\"57\" fill=\"#800080\" fill-rule=\"evenodd\" fill-opacity=\"1\" stroke=\"#000000\" stroke-opacity=\"1\" stroke-width=\"5.76\"/>\n",
       "<circle clip-path=\"url(#clip482)\" cx=\"1830.4\" cy=\"1671.1\" r=\"57\" fill=\"#800080\" fill-rule=\"evenodd\" fill-opacity=\"1\" stroke=\"#000000\" stroke-opacity=\"1\" stroke-width=\"5.76\"/>\n",
       "<circle clip-path=\"url(#clip482)\" cx=\"1501.14\" cy=\"975.78\" r=\"57\" fill=\"#800080\" fill-rule=\"evenodd\" fill-opacity=\"1\" stroke=\"#000000\" stroke-opacity=\"1\" stroke-width=\"5.76\"/>\n",
       "<circle clip-path=\"url(#clip482)\" cx=\"1484.26\" cy=\"1060.27\" r=\"57\" fill=\"#800080\" fill-rule=\"evenodd\" fill-opacity=\"1\" stroke=\"#000000\" stroke-opacity=\"1\" stroke-width=\"5.76\"/>\n",
       "<circle clip-path=\"url(#clip482)\" cx=\"1912.34\" cy=\"1228.65\" r=\"57\" fill=\"#800080\" fill-rule=\"evenodd\" fill-opacity=\"1\" stroke=\"#000000\" stroke-opacity=\"1\" stroke-width=\"5.76\"/>\n",
       "<circle clip-path=\"url(#clip482)\" cx=\"1521.01\" cy=\"948.589\" r=\"57\" fill=\"#800080\" fill-rule=\"evenodd\" fill-opacity=\"1\" stroke=\"#000000\" stroke-opacity=\"1\" stroke-width=\"5.76\"/>\n",
       "<circle clip-path=\"url(#clip482)\" cx=\"1511.08\" cy=\"1021.42\" r=\"57\" fill=\"#800080\" fill-rule=\"evenodd\" fill-opacity=\"1\" stroke=\"#000000\" stroke-opacity=\"1\" stroke-width=\"5.76\"/>\n",
       "<circle clip-path=\"url(#clip482)\" cx=\"2104.03\" cy=\"989.376\" r=\"57\" fill=\"#800080\" fill-rule=\"evenodd\" fill-opacity=\"1\" stroke=\"#000000\" stroke-opacity=\"1\" stroke-width=\"5.76\"/>\n",
       "<circle clip-path=\"url(#clip482)\" cx=\"1831.39\" cy=\"936.935\" r=\"57\" fill=\"#800080\" fill-rule=\"evenodd\" fill-opacity=\"1\" stroke=\"#000000\" stroke-opacity=\"1\" stroke-width=\"5.76\"/>\n",
       "<circle clip-path=\"url(#clip482)\" cx=\"2100.06\" cy=\"771.844\" r=\"57\" fill=\"#800080\" fill-rule=\"evenodd\" fill-opacity=\"1\" stroke=\"#000000\" stroke-opacity=\"1\" stroke-width=\"5.76\"/>\n",
       "<circle clip-path=\"url(#clip482)\" cx=\"1392.88\" cy=\"1142.81\" r=\"57\" fill=\"#800080\" fill-rule=\"evenodd\" fill-opacity=\"1\" stroke=\"#000000\" stroke-opacity=\"1\" stroke-width=\"5.76\"/>\n",
       "<circle clip-path=\"url(#clip482)\" cx=\"1696.56\" cy=\"2042.07\" r=\"57\" fill=\"#800080\" fill-rule=\"evenodd\" fill-opacity=\"1\" stroke=\"#000000\" stroke-opacity=\"1\" stroke-width=\"5.76\"/>\n",
       "<circle clip-path=\"url(#clip482)\" cx=\"1739.26\" cy=\"1268.57\" r=\"57\" fill=\"#800080\" fill-rule=\"evenodd\" fill-opacity=\"1\" stroke=\"#000000\" stroke-opacity=\"1\" stroke-width=\"5.76\"/>\n",
       "<circle clip-path=\"url(#clip482)\" cx=\"1384.94\" cy=\"1091.34\" r=\"57\" fill=\"#800080\" fill-rule=\"evenodd\" fill-opacity=\"1\" stroke=\"#000000\" stroke-opacity=\"1\" stroke-width=\"5.76\"/>\n",
       "<circle clip-path=\"url(#clip482)\" cx=\"1643.67\" cy=\"1224.08\" r=\"57\" fill=\"#800080\" fill-rule=\"evenodd\" fill-opacity=\"1\" stroke=\"#000000\" stroke-opacity=\"1\" stroke-width=\"5.76\"/>\n",
       "<circle clip-path=\"url(#clip482)\" cx=\"1879.56\" cy=\"2073.15\" r=\"57\" fill=\"#800080\" fill-rule=\"evenodd\" fill-opacity=\"1\" stroke=\"#000000\" stroke-opacity=\"1\" stroke-width=\"5.76\"/>\n",
       "<circle clip-path=\"url(#clip482)\" cx=\"1629.27\" cy=\"1490.48\" r=\"57\" fill=\"#800080\" fill-rule=\"evenodd\" fill-opacity=\"1\" stroke=\"#000000\" stroke-opacity=\"1\" stroke-width=\"5.76\"/>\n",
       "<circle clip-path=\"url(#clip482)\" cx=\"1831.39\" cy=\"1327.33\" r=\"57\" fill=\"#800080\" fill-rule=\"evenodd\" fill-opacity=\"1\" stroke=\"#000000\" stroke-opacity=\"1\" stroke-width=\"5.76\"/>\n",
       "<circle clip-path=\"url(#clip482)\" cx=\"1341.23\" cy=\"861.188\" r=\"57\" fill=\"#800080\" fill-rule=\"evenodd\" fill-opacity=\"1\" stroke=\"#000000\" stroke-opacity=\"1\" stroke-width=\"5.76\"/>\n",
       "<circle clip-path=\"url(#clip482)\" cx=\"1363.09\" cy=\"1332.18\" r=\"57\" fill=\"#800080\" fill-rule=\"evenodd\" fill-opacity=\"1\" stroke=\"#000000\" stroke-opacity=\"1\" stroke-width=\"5.76\"/>\n",
       "<circle clip-path=\"url(#clip482)\" cx=\"1520.01\" cy=\"1933.31\" r=\"57\" fill=\"#800080\" fill-rule=\"evenodd\" fill-opacity=\"1\" stroke=\"#000000\" stroke-opacity=\"1\" stroke-width=\"5.76\"/>\n",
       "<circle clip-path=\"url(#clip482)\" cx=\"1617.85\" cy=\"954.415\" r=\"57\" fill=\"#800080\" fill-rule=\"evenodd\" fill-opacity=\"1\" stroke=\"#000000\" stroke-opacity=\"1\" stroke-width=\"5.76\"/>\n",
       "<circle clip-path=\"url(#clip482)\" cx=\"1973.92\" cy=\"839.823\" r=\"57\" fill=\"#800080\" fill-rule=\"evenodd\" fill-opacity=\"1\" stroke=\"#000000\" stroke-opacity=\"1\" stroke-width=\"5.76\"/>\n",
       "<circle clip-path=\"url(#clip482)\" cx=\"1914.32\" cy=\"1282.9\" r=\"57\" fill=\"#800080\" fill-rule=\"evenodd\" fill-opacity=\"1\" stroke=\"#000000\" stroke-opacity=\"1\" stroke-width=\"5.76\"/>\n",
       "<circle clip-path=\"url(#clip482)\" cx=\"1859.7\" cy=\"1270.52\" r=\"57\" fill=\"#800080\" fill-rule=\"evenodd\" fill-opacity=\"1\" stroke=\"#000000\" stroke-opacity=\"1\" stroke-width=\"5.76\"/>\n",
       "<circle clip-path=\"url(#clip482)\" cx=\"2227.19\" cy=\"994.231\" r=\"57\" fill=\"#800080\" fill-rule=\"evenodd\" fill-opacity=\"1\" stroke=\"#000000\" stroke-opacity=\"1\" stroke-width=\"5.76\"/>\n",
       "<circle clip-path=\"url(#clip482)\" cx=\"1596.49\" cy=\"1548.74\" r=\"57\" fill=\"#800080\" fill-rule=\"evenodd\" fill-opacity=\"1\" stroke=\"#000000\" stroke-opacity=\"1\" stroke-width=\"5.76\"/>\n",
       "<circle clip-path=\"url(#clip482)\" cx=\"1980.87\" cy=\"290.167\" r=\"57\" fill=\"#800080\" fill-rule=\"evenodd\" fill-opacity=\"1\" stroke=\"#000000\" stroke-opacity=\"1\" stroke-width=\"5.76\"/>\n",
       "<circle clip-path=\"url(#clip482)\" cx=\"1514.06\" cy=\"1288.97\" r=\"57\" fill=\"#800080\" fill-rule=\"evenodd\" fill-opacity=\"1\" stroke=\"#000000\" stroke-opacity=\"1\" stroke-width=\"5.76\"/>\n",
       "<circle clip-path=\"url(#clip482)\" cx=\"1909.36\" cy=\"1019.48\" r=\"57\" fill=\"#800080\" fill-rule=\"evenodd\" fill-opacity=\"1\" stroke=\"#000000\" stroke-opacity=\"1\" stroke-width=\"5.76\"/>\n",
       "<circle clip-path=\"url(#clip482)\" cx=\"1651.12\" cy=\"1558.45\" r=\"57\" fill=\"#800080\" fill-rule=\"evenodd\" fill-opacity=\"1\" stroke=\"#000000\" stroke-opacity=\"1\" stroke-width=\"5.76\"/>\n",
       "<circle clip-path=\"url(#clip482)\" cx=\"1760.25\" cy=\"896.148\" r=\"57\" fill=\"#800080\" fill-rule=\"evenodd\" fill-opacity=\"1\" stroke=\"#000000\" stroke-opacity=\"1\" stroke-width=\"5.76\"/>\n",
       "<circle clip-path=\"url(#clip482)\" cx=\"1438.57\" cy=\"1273.19\" r=\"57\" fill=\"#800080\" fill-rule=\"evenodd\" fill-opacity=\"1\" stroke=\"#000000\" stroke-opacity=\"1\" stroke-width=\"5.76\"/>\n",
       "<circle clip-path=\"url(#clip482)\" cx=\"2280.82\" cy=\"1657.51\" r=\"57\" fill=\"#800080\" fill-rule=\"evenodd\" fill-opacity=\"1\" stroke=\"#000000\" stroke-opacity=\"1\" stroke-width=\"5.76\"/>\n",
       "<circle clip-path=\"url(#clip482)\" cx=\"1460.42\" cy=\"1229.56\" r=\"57\" fill=\"#800080\" fill-rule=\"evenodd\" fill-opacity=\"1\" stroke=\"#000000\" stroke-opacity=\"1\" stroke-width=\"5.76\"/>\n",
       "<circle clip-path=\"url(#clip482)\" cx=\"2219.24\" cy=\"1296.74\" r=\"57\" fill=\"#800080\" fill-rule=\"evenodd\" fill-opacity=\"1\" stroke=\"#000000\" stroke-opacity=\"1\" stroke-width=\"5.76\"/>\n",
       "<circle clip-path=\"url(#clip482)\" cx=\"1337.26\" cy=\"1452.6\" r=\"57\" fill=\"#800080\" fill-rule=\"evenodd\" fill-opacity=\"1\" stroke=\"#000000\" stroke-opacity=\"1\" stroke-width=\"5.76\"/>\n",
       "<circle clip-path=\"url(#clip482)\" cx=\"2380.15\" cy=\"2139.19\" r=\"57\" fill=\"#800080\" fill-rule=\"evenodd\" fill-opacity=\"1\" stroke=\"#000000\" stroke-opacity=\"1\" stroke-width=\"5.76\"/>\n",
       "<circle clip-path=\"url(#clip482)\" cx=\"1796.13\" cy=\"769.902\" r=\"57\" fill=\"#800080\" fill-rule=\"evenodd\" fill-opacity=\"1\" stroke=\"#000000\" stroke-opacity=\"1\" stroke-width=\"5.76\"/>\n",
       "<circle clip-path=\"url(#clip482)\" cx=\"2084.16\" cy=\"1496.3\" r=\"57\" fill=\"#800080\" fill-rule=\"evenodd\" fill-opacity=\"1\" stroke=\"#000000\" stroke-opacity=\"1\" stroke-width=\"5.76\"/>\n",
       "<circle clip-path=\"url(#clip482)\" cx=\"2165.61\" cy=\"988.405\" r=\"57\" fill=\"#800080\" fill-rule=\"evenodd\" fill-opacity=\"1\" stroke=\"#000000\" stroke-opacity=\"1\" stroke-width=\"5.76\"/>\n",
       "<circle clip-path=\"url(#clip482)\" cx=\"1642.68\" cy=\"938.877\" r=\"57\" fill=\"#800080\" fill-rule=\"evenodd\" fill-opacity=\"1\" stroke=\"#000000\" stroke-opacity=\"1\" stroke-width=\"5.76\"/>\n",
       "<circle clip-path=\"url(#clip482)\" cx=\"2066.29\" cy=\"874.783\" r=\"57\" fill=\"#800080\" fill-rule=\"evenodd\" fill-opacity=\"1\" stroke=\"#000000\" stroke-opacity=\"1\" stroke-width=\"5.76\"/>\n",
       "<circle clip-path=\"url(#clip482)\" cx=\"1737.51\" cy=\"1271.97\" r=\"57\" fill=\"#800080\" fill-rule=\"evenodd\" fill-opacity=\"1\" stroke=\"#000000\" stroke-opacity=\"1\" stroke-width=\"5.76\"/>\n",
       "<circle clip-path=\"url(#clip482)\" cx=\"1474.33\" cy=\"2282.91\" r=\"57\" fill=\"#800080\" fill-rule=\"evenodd\" fill-opacity=\"1\" stroke=\"#000000\" stroke-opacity=\"1\" stroke-width=\"5.76\"/>\n",
       "<circle clip-path=\"url(#clip482)\" cx=\"1713.82\" cy=\"942.762\" r=\"57\" fill=\"#800080\" fill-rule=\"evenodd\" fill-opacity=\"1\" stroke=\"#000000\" stroke-opacity=\"1\" stroke-width=\"5.76\"/>\n",
       "<circle clip-path=\"url(#clip482)\" cx=\"1898.43\" cy=\"1645.85\" r=\"57\" fill=\"#800080\" fill-rule=\"evenodd\" fill-opacity=\"1\" stroke=\"#000000\" stroke-opacity=\"1\" stroke-width=\"5.76\"/>\n",
       "<circle clip-path=\"url(#clip482)\" cx=\"2205.34\" cy=\"1564.28\" r=\"57\" fill=\"#800080\" fill-rule=\"evenodd\" fill-opacity=\"1\" stroke=\"#000000\" stroke-opacity=\"1\" stroke-width=\"5.76\"/>\n",
       "<circle clip-path=\"url(#clip482)\" cx=\"2022.58\" cy=\"1227.73\" r=\"57\" fill=\"#800080\" fill-rule=\"evenodd\" fill-opacity=\"1\" stroke=\"#000000\" stroke-opacity=\"1\" stroke-width=\"5.76\"/>\n",
       "<circle clip-path=\"url(#clip482)\" cx=\"1216.09\" cy=\"1355.49\" r=\"57\" fill=\"#800080\" fill-rule=\"evenodd\" fill-opacity=\"1\" stroke=\"#000000\" stroke-opacity=\"1\" stroke-width=\"5.76\"/>\n",
       "<circle clip-path=\"url(#clip482)\" cx=\"1866.15\" cy=\"1257.41\" r=\"57\" fill=\"#800080\" fill-rule=\"evenodd\" fill-opacity=\"1\" stroke=\"#000000\" stroke-opacity=\"1\" stroke-width=\"5.76\"/>\n",
       "<circle clip-path=\"url(#clip482)\" cx=\"1820.96\" cy=\"989.376\" r=\"57\" fill=\"#800080\" fill-rule=\"evenodd\" fill-opacity=\"1\" stroke=\"#000000\" stroke-opacity=\"1\" stroke-width=\"5.76\"/>\n",
       "<circle clip-path=\"url(#clip482)\" cx=\"2022.58\" cy=\"1657.51\" r=\"57\" fill=\"#800080\" fill-rule=\"evenodd\" fill-opacity=\"1\" stroke=\"#000000\" stroke-opacity=\"1\" stroke-width=\"5.76\"/>\n",
       "<circle clip-path=\"url(#clip482)\" cx=\"1906.38\" cy=\"1626.43\" r=\"57\" fill=\"#800080\" fill-rule=\"evenodd\" fill-opacity=\"1\" stroke=\"#000000\" stroke-opacity=\"1\" stroke-width=\"5.76\"/>\n",
       "<circle clip-path=\"url(#clip482)\" cx=\"1744.79\" cy=\"678.617\" r=\"57\" fill=\"#800080\" fill-rule=\"evenodd\" fill-opacity=\"1\" stroke=\"#000000\" stroke-opacity=\"1\" stroke-width=\"5.76\"/>\n",
       "<circle clip-path=\"url(#clip482)\" cx=\"1632.75\" cy=\"1480.76\" r=\"57\" fill=\"#800080\" fill-rule=\"evenodd\" fill-opacity=\"1\" stroke=\"#000000\" stroke-opacity=\"1\" stroke-width=\"5.76\"/>\n",
       "<circle clip-path=\"url(#clip482)\" cx=\"1806.06\" cy=\"1367.14\" r=\"57\" fill=\"#800080\" fill-rule=\"evenodd\" fill-opacity=\"1\" stroke=\"#000000\" stroke-opacity=\"1\" stroke-width=\"5.76\"/>\n",
       "<circle clip-path=\"url(#clip482)\" cx=\"1784.21\" cy=\"441.663\" r=\"57\" fill=\"#800080\" fill-rule=\"evenodd\" fill-opacity=\"1\" stroke=\"#000000\" stroke-opacity=\"1\" stroke-width=\"5.76\"/>\n",
       "<circle clip-path=\"url(#clip482)\" cx=\"1301.51\" cy=\"1283.63\" r=\"57\" fill=\"#800080\" fill-rule=\"evenodd\" fill-opacity=\"1\" stroke=\"#000000\" stroke-opacity=\"1\" stroke-width=\"5.76\"/>\n",
       "<circle clip-path=\"url(#clip482)\" cx=\"2364.25\" cy=\"1210.55\" r=\"57\" fill=\"#800080\" fill-rule=\"evenodd\" fill-opacity=\"1\" stroke=\"#000000\" stroke-opacity=\"1\" stroke-width=\"5.76\"/>\n",
       "<circle clip-path=\"url(#clip482)\" cx=\"1623.31\" cy=\"1610.89\" r=\"57\" fill=\"#800080\" fill-rule=\"evenodd\" fill-opacity=\"1\" stroke=\"#000000\" stroke-opacity=\"1\" stroke-width=\"5.76\"/>\n",
       "<circle clip-path=\"url(#clip482)\" cx=\"1795.88\" cy=\"1135.53\" r=\"57\" fill=\"#800080\" fill-rule=\"evenodd\" fill-opacity=\"1\" stroke=\"#000000\" stroke-opacity=\"1\" stroke-width=\"5.76\"/>\n",
       "<circle clip-path=\"url(#clip482)\" cx=\"1164.44\" cy=\"1374.91\" r=\"57\" fill=\"#800080\" fill-rule=\"evenodd\" fill-opacity=\"1\" stroke=\"#000000\" stroke-opacity=\"1\" stroke-width=\"5.76\"/>\n",
       "<circle clip-path=\"url(#clip482)\" cx=\"898.257\" cy=\"1542.92\" r=\"57\" fill=\"#800080\" fill-rule=\"evenodd\" fill-opacity=\"1\" stroke=\"#000000\" stroke-opacity=\"1\" stroke-width=\"5.76\"/>\n",
       "<circle clip-path=\"url(#clip482)\" cx=\"1776.02\" cy=\"1088.43\" r=\"57\" fill=\"#800080\" fill-rule=\"evenodd\" fill-opacity=\"1\" stroke=\"#000000\" stroke-opacity=\"1\" stroke-width=\"5.76\"/>\n",
       "<circle clip-path=\"url(#clip482)\" cx=\"1823.94\" cy=\"1317.62\" r=\"57\" fill=\"#800080\" fill-rule=\"evenodd\" fill-opacity=\"1\" stroke=\"#000000\" stroke-opacity=\"1\" stroke-width=\"5.76\"/>\n",
       "<circle clip-path=\"url(#clip482)\" cx=\"1747.68\" cy=\"1467.17\" r=\"57\" fill=\"#800080\" fill-rule=\"evenodd\" fill-opacity=\"1\" stroke=\"#000000\" stroke-opacity=\"1\" stroke-width=\"5.76\"/>\n",
       "<circle clip-path=\"url(#clip482)\" cx=\"1969.94\" cy=\"1095.23\" r=\"57\" fill=\"#800080\" fill-rule=\"evenodd\" fill-opacity=\"1\" stroke=\"#000000\" stroke-opacity=\"1\" stroke-width=\"5.76\"/>\n",
       "<circle clip-path=\"url(#clip482)\" cx=\"1835.86\" cy=\"1087.46\" r=\"57\" fill=\"#800080\" fill-rule=\"evenodd\" fill-opacity=\"1\" stroke=\"#000000\" stroke-opacity=\"1\" stroke-width=\"5.76\"/>\n",
       "<circle clip-path=\"url(#clip482)\" cx=\"1537.89\" cy=\"1591.47\" r=\"57\" fill=\"#800080\" fill-rule=\"evenodd\" fill-opacity=\"1\" stroke=\"#000000\" stroke-opacity=\"1\" stroke-width=\"5.76\"/>\n",
       "<circle clip-path=\"url(#clip482)\" cx=\"1355.14\" cy=\"1717.72\" r=\"57\" fill=\"#800080\" fill-rule=\"evenodd\" fill-opacity=\"1\" stroke=\"#000000\" stroke-opacity=\"1\" stroke-width=\"5.76\"/>\n",
       "<circle clip-path=\"url(#clip482)\" cx=\"1237.94\" cy=\"1612.84\" r=\"57\" fill=\"#800080\" fill-rule=\"evenodd\" fill-opacity=\"1\" stroke=\"#000000\" stroke-opacity=\"1\" stroke-width=\"5.76\"/>\n",
       "<circle clip-path=\"url(#clip482)\" cx=\"1945.11\" cy=\"1342.38\" r=\"57\" fill=\"#800080\" fill-rule=\"evenodd\" fill-opacity=\"1\" stroke=\"#000000\" stroke-opacity=\"1\" stroke-width=\"5.76\"/>\n",
       "<circle clip-path=\"url(#clip482)\" cx=\"2463.58\" cy=\"1104.94\" r=\"57\" fill=\"#800080\" fill-rule=\"evenodd\" fill-opacity=\"1\" stroke=\"#000000\" stroke-opacity=\"1\" stroke-width=\"5.76\"/>\n",
       "<circle clip-path=\"url(#clip482)\" cx=\"2058.34\" cy=\"1214.55\" r=\"57\" fill=\"#800080\" fill-rule=\"evenodd\" fill-opacity=\"1\" stroke=\"#000000\" stroke-opacity=\"1\" stroke-width=\"5.76\"/>\n",
       "<circle clip-path=\"url(#clip482)\" cx=\"1787.69\" cy=\"1356.46\" r=\"57\" fill=\"#800080\" fill-rule=\"evenodd\" fill-opacity=\"1\" stroke=\"#000000\" stroke-opacity=\"1\" stroke-width=\"5.76\"/>\n",
       "<circle clip-path=\"url(#clip482)\" cx=\"1994.77\" cy=\"1018.51\" r=\"57\" fill=\"#800080\" fill-rule=\"evenodd\" fill-opacity=\"1\" stroke=\"#000000\" stroke-opacity=\"1\" stroke-width=\"5.76\"/>\n",
       "<circle clip-path=\"url(#clip482)\" cx=\"1488.23\" cy=\"1357.43\" r=\"57\" fill=\"#800080\" fill-rule=\"evenodd\" fill-opacity=\"1\" stroke=\"#000000\" stroke-opacity=\"1\" stroke-width=\"5.76\"/>\n",
       "<circle clip-path=\"url(#clip482)\" cx=\"2012.65\" cy=\"1647.8\" r=\"57\" fill=\"#800080\" fill-rule=\"evenodd\" fill-opacity=\"1\" stroke=\"#000000\" stroke-opacity=\"1\" stroke-width=\"5.76\"/>\n",
       "<circle clip-path=\"url(#clip482)\" cx=\"2098.07\" cy=\"1494.36\" r=\"57\" fill=\"#800080\" fill-rule=\"evenodd\" fill-opacity=\"1\" stroke=\"#000000\" stroke-opacity=\"1\" stroke-width=\"5.76\"/>\n",
       "<circle clip-path=\"url(#clip482)\" cx=\"1872.61\" cy=\"1513.78\" r=\"57\" fill=\"#800080\" fill-rule=\"evenodd\" fill-opacity=\"1\" stroke=\"#000000\" stroke-opacity=\"1\" stroke-width=\"5.76\"/>\n",
       "<circle clip-path=\"url(#clip482)\" cx=\"1523.99\" cy=\"1793.47\" r=\"57\" fill=\"#800080\" fill-rule=\"evenodd\" fill-opacity=\"1\" stroke=\"#000000\" stroke-opacity=\"1\" stroke-width=\"5.76\"/>\n",
       "<circle clip-path=\"url(#clip482)\" cx=\"1755.04\" cy=\"927.224\" r=\"57\" fill=\"#800080\" fill-rule=\"evenodd\" fill-opacity=\"1\" stroke=\"#000000\" stroke-opacity=\"1\" stroke-width=\"5.76\"/>\n",
       "<circle clip-path=\"url(#clip482)\" cx=\"922.095\" cy=\"1250.49\" r=\"57\" fill=\"#800080\" fill-rule=\"evenodd\" fill-opacity=\"1\" stroke=\"#000000\" stroke-opacity=\"1\" stroke-width=\"5.76\"/>\n",
       "<circle clip-path=\"url(#clip482)\" cx=\"1780.98\" cy=\"1774.04\" r=\"57\" fill=\"#800080\" fill-rule=\"evenodd\" fill-opacity=\"1\" stroke=\"#000000\" stroke-opacity=\"1\" stroke-width=\"5.76\"/>\n",
       "<circle clip-path=\"url(#clip482)\" cx=\"1971.93\" cy=\"1439.98\" r=\"57\" fill=\"#800080\" fill-rule=\"evenodd\" fill-opacity=\"1\" stroke=\"#000000\" stroke-opacity=\"1\" stroke-width=\"5.76\"/>\n",
       "<circle clip-path=\"url(#clip482)\" cx=\"1523.99\" cy=\"1058.33\" r=\"57\" fill=\"#800080\" fill-rule=\"evenodd\" fill-opacity=\"1\" stroke=\"#000000\" stroke-opacity=\"1\" stroke-width=\"5.76\"/>\n",
       "<circle clip-path=\"url(#clip482)\" cx=\"1335.28\" cy=\"1797.35\" r=\"57\" fill=\"#800080\" fill-rule=\"evenodd\" fill-opacity=\"1\" stroke=\"#000000\" stroke-opacity=\"1\" stroke-width=\"5.76\"/>\n",
       "<circle clip-path=\"url(#clip482)\" cx=\"2340.42\" cy=\"903.917\" r=\"57\" fill=\"#800080\" fill-rule=\"evenodd\" fill-opacity=\"1\" stroke=\"#000000\" stroke-opacity=\"1\" stroke-width=\"5.76\"/>\n",
       "<circle clip-path=\"url(#clip482)\" cx=\"2056.35\" cy=\"1727.43\" r=\"57\" fill=\"#800080\" fill-rule=\"evenodd\" fill-opacity=\"1\" stroke=\"#000000\" stroke-opacity=\"1\" stroke-width=\"5.76\"/>\n",
       "<circle clip-path=\"url(#clip482)\" cx=\"1464.39\" cy=\"1347.23\" r=\"57\" fill=\"#800080\" fill-rule=\"evenodd\" fill-opacity=\"1\" stroke=\"#000000\" stroke-opacity=\"1\" stroke-width=\"5.76\"/>\n",
       "<circle clip-path=\"url(#clip482)\" cx=\"2078.21\" cy=\"1379.77\" r=\"57\" fill=\"#800080\" fill-rule=\"evenodd\" fill-opacity=\"1\" stroke=\"#000000\" stroke-opacity=\"1\" stroke-width=\"5.76\"/>\n",
       "<circle clip-path=\"url(#clip482)\" cx=\"1365.07\" cy=\"905.859\" r=\"57\" fill=\"#800080\" fill-rule=\"evenodd\" fill-opacity=\"1\" stroke=\"#000000\" stroke-opacity=\"1\" stroke-width=\"5.76\"/>\n",
       "<circle clip-path=\"url(#clip482)\" cx=\"2312.61\" cy=\"1356.46\" r=\"57\" fill=\"#800080\" fill-rule=\"evenodd\" fill-opacity=\"1\" stroke=\"#000000\" stroke-opacity=\"1\" stroke-width=\"5.76\"/>\n",
       "<circle clip-path=\"url(#clip482)\" cx=\"2086.15\" cy=\"1218.96\" r=\"57\" fill=\"#800080\" fill-rule=\"evenodd\" fill-opacity=\"1\" stroke=\"#000000\" stroke-opacity=\"1\" stroke-width=\"5.76\"/>\n",
       "<circle clip-path=\"url(#clip482)\" cx=\"1652.11\" cy=\"1081.63\" r=\"57\" fill=\"#800080\" fill-rule=\"evenodd\" fill-opacity=\"1\" stroke=\"#000000\" stroke-opacity=\"1\" stroke-width=\"5.76\"/>\n",
       "<circle clip-path=\"url(#clip482)\" cx=\"1327.33\" cy=\"1391.42\" r=\"57\" fill=\"#800080\" fill-rule=\"evenodd\" fill-opacity=\"1\" stroke=\"#000000\" stroke-opacity=\"1\" stroke-width=\"5.76\"/>\n",
       "<circle clip-path=\"url(#clip482)\" cx=\"1788.93\" cy=\"1297.22\" r=\"57\" fill=\"#800080\" fill-rule=\"evenodd\" fill-opacity=\"1\" stroke=\"#000000\" stroke-opacity=\"1\" stroke-width=\"5.76\"/>\n",
       "<circle clip-path=\"url(#clip482)\" cx=\"1745.97\" cy=\"766.018\" r=\"57\" fill=\"#800080\" fill-rule=\"evenodd\" fill-opacity=\"1\" stroke=\"#000000\" stroke-opacity=\"1\" stroke-width=\"5.76\"/>\n",
       "<circle clip-path=\"url(#clip482)\" cx=\"1994.77\" cy=\"1087.46\" r=\"57\" fill=\"#800080\" fill-rule=\"evenodd\" fill-opacity=\"1\" stroke=\"#000000\" stroke-opacity=\"1\" stroke-width=\"5.76\"/>\n",
       "<circle clip-path=\"url(#clip482)\" cx=\"1444.53\" cy=\"1673.05\" r=\"57\" fill=\"#800080\" fill-rule=\"evenodd\" fill-opacity=\"1\" stroke=\"#000000\" stroke-opacity=\"1\" stroke-width=\"5.76\"/>\n",
       "<circle clip-path=\"url(#clip482)\" cx=\"1249.86\" cy=\"1280.47\" r=\"57\" fill=\"#800080\" fill-rule=\"evenodd\" fill-opacity=\"1\" stroke=\"#000000\" stroke-opacity=\"1\" stroke-width=\"5.76\"/>\n",
       "<circle clip-path=\"url(#clip482)\" cx=\"1486.24\" cy=\"1233.07\" r=\"57\" fill=\"#800080\" fill-rule=\"evenodd\" fill-opacity=\"1\" stroke=\"#000000\" stroke-opacity=\"1\" stroke-width=\"5.76\"/>\n",
       "<circle clip-path=\"url(#clip482)\" cx=\"1490.22\" cy=\"1071.92\" r=\"57\" fill=\"#800080\" fill-rule=\"evenodd\" fill-opacity=\"1\" stroke=\"#000000\" stroke-opacity=\"1\" stroke-width=\"5.76\"/>\n",
       "<circle clip-path=\"url(#clip482)\" cx=\"1715.06\" cy=\"1328.3\" r=\"57\" fill=\"#800080\" fill-rule=\"evenodd\" fill-opacity=\"1\" stroke=\"#000000\" stroke-opacity=\"1\" stroke-width=\"5.76\"/>\n",
       "<circle clip-path=\"url(#clip482)\" cx=\"1327.33\" cy=\"406.702\" r=\"57\" fill=\"#800080\" fill-rule=\"evenodd\" fill-opacity=\"1\" stroke=\"#000000\" stroke-opacity=\"1\" stroke-width=\"5.76\"/>\n",
       "<circle clip-path=\"url(#clip482)\" cx=\"1966.96\" cy=\"701.923\" r=\"57\" fill=\"#800080\" fill-rule=\"evenodd\" fill-opacity=\"1\" stroke=\"#000000\" stroke-opacity=\"1\" stroke-width=\"5.76\"/>\n",
       "<circle clip-path=\"url(#clip482)\" cx=\"1839.34\" cy=\"1548.74\" r=\"57\" fill=\"#800080\" fill-rule=\"evenodd\" fill-opacity=\"1\" stroke=\"#000000\" stroke-opacity=\"1\" stroke-width=\"5.76\"/>\n",
       "<circle clip-path=\"url(#clip482)\" cx=\"1694.82\" cy=\"1327.33\" r=\"57\" fill=\"#800080\" fill-rule=\"evenodd\" fill-opacity=\"1\" stroke=\"#000000\" stroke-opacity=\"1\" stroke-width=\"5.76\"/>\n",
       "<circle clip-path=\"url(#clip482)\" cx=\"1349.18\" cy=\"1203.51\" r=\"57\" fill=\"#800080\" fill-rule=\"evenodd\" fill-opacity=\"1\" stroke=\"#000000\" stroke-opacity=\"1\" stroke-width=\"5.76\"/>\n",
       "<circle clip-path=\"url(#clip482)\" cx=\"1745.01\" cy=\"1052.5\" r=\"57\" fill=\"#800080\" fill-rule=\"evenodd\" fill-opacity=\"1\" stroke=\"#000000\" stroke-opacity=\"1\" stroke-width=\"5.76\"/>\n",
       "<circle clip-path=\"url(#clip482)\" cx=\"1468.37\" cy=\"1612.84\" r=\"57\" fill=\"#800080\" fill-rule=\"evenodd\" fill-opacity=\"1\" stroke=\"#000000\" stroke-opacity=\"1\" stroke-width=\"5.76\"/>\n",
       "<circle clip-path=\"url(#clip482)\" cx=\"1516.04\" cy=\"1612.84\" r=\"57\" fill=\"#800080\" fill-rule=\"evenodd\" fill-opacity=\"1\" stroke=\"#000000\" stroke-opacity=\"1\" stroke-width=\"5.76\"/>\n",
       "<circle clip-path=\"url(#clip482)\" cx=\"2106.02\" cy=\"1296.74\" r=\"57\" fill=\"#800080\" fill-rule=\"evenodd\" fill-opacity=\"1\" stroke=\"#000000\" stroke-opacity=\"1\" stroke-width=\"5.76\"/>\n",
       "<circle clip-path=\"url(#clip482)\" cx=\"2038.48\" cy=\"1037.93\" r=\"57\" fill=\"#800080\" fill-rule=\"evenodd\" fill-opacity=\"1\" stroke=\"#000000\" stroke-opacity=\"1\" stroke-width=\"5.76\"/>\n",
       "<circle clip-path=\"url(#clip482)\" cx=\"1982.86\" cy=\"816.516\" r=\"57\" fill=\"#800080\" fill-rule=\"evenodd\" fill-opacity=\"1\" stroke=\"#000000\" stroke-opacity=\"1\" stroke-width=\"5.76\"/>\n",
       "<circle clip-path=\"url(#clip482)\" cx=\"1630.26\" cy=\"1379.77\" r=\"57\" fill=\"#800080\" fill-rule=\"evenodd\" fill-opacity=\"1\" stroke=\"#000000\" stroke-opacity=\"1\" stroke-width=\"5.76\"/>\n",
       "<circle clip-path=\"url(#clip482)\" cx=\"1120.74\" cy=\"802.92\" r=\"57\" fill=\"#800080\" fill-rule=\"evenodd\" fill-opacity=\"1\" stroke=\"#000000\" stroke-opacity=\"1\" stroke-width=\"5.76\"/>\n",
       "<circle clip-path=\"url(#clip482)\" cx=\"1450.49\" cy=\"1964.38\" r=\"57\" fill=\"#800080\" fill-rule=\"evenodd\" fill-opacity=\"1\" stroke=\"#000000\" stroke-opacity=\"1\" stroke-width=\"5.76\"/>\n",
       "<circle clip-path=\"url(#clip482)\" cx=\"1736.55\" cy=\"1396.28\" r=\"57\" fill=\"#800080\" fill-rule=\"evenodd\" fill-opacity=\"1\" stroke=\"#000000\" stroke-opacity=\"1\" stroke-width=\"5.76\"/>\n",
       "<circle clip-path=\"url(#clip482)\" cx=\"2344.39\" cy=\"1051.53\" r=\"57\" fill=\"#800080\" fill-rule=\"evenodd\" fill-opacity=\"1\" stroke=\"#000000\" stroke-opacity=\"1\" stroke-width=\"5.76\"/>\n",
       "<circle clip-path=\"url(#clip482)\" cx=\"2435.77\" cy=\"1285.33\" r=\"57\" fill=\"#800080\" fill-rule=\"evenodd\" fill-opacity=\"1\" stroke=\"#000000\" stroke-opacity=\"1\" stroke-width=\"5.76\"/>\n",
       "<circle clip-path=\"url(#clip482)\" cx=\"1610.4\" cy=\"1504.07\" r=\"57\" fill=\"#800080\" fill-rule=\"evenodd\" fill-opacity=\"1\" stroke=\"#000000\" stroke-opacity=\"1\" stroke-width=\"5.76\"/>\n",
       "<circle clip-path=\"url(#clip482)\" cx=\"1721.02\" cy=\"1157.38\" r=\"57\" fill=\"#800080\" fill-rule=\"evenodd\" fill-opacity=\"1\" stroke=\"#000000\" stroke-opacity=\"1\" stroke-width=\"5.76\"/>\n",
       "<circle clip-path=\"url(#clip482)\" cx=\"2056.35\" cy=\"1293.34\" r=\"57\" fill=\"#800080\" fill-rule=\"evenodd\" fill-opacity=\"1\" stroke=\"#000000\" stroke-opacity=\"1\" stroke-width=\"5.76\"/>\n",
       "<circle clip-path=\"url(#clip482)\" cx=\"1608.41\" cy=\"1403.07\" r=\"57\" fill=\"#800080\" fill-rule=\"evenodd\" fill-opacity=\"1\" stroke=\"#000000\" stroke-opacity=\"1\" stroke-width=\"5.76\"/>\n",
       "<circle clip-path=\"url(#clip482)\" cx=\"1480.29\" cy=\"1727.43\" r=\"57\" fill=\"#800080\" fill-rule=\"evenodd\" fill-opacity=\"1\" stroke=\"#000000\" stroke-opacity=\"1\" stroke-width=\"5.76\"/>\n",
       "<circle clip-path=\"url(#clip482)\" cx=\"1836.85\" cy=\"1781.81\" r=\"57\" fill=\"#800080\" fill-rule=\"evenodd\" fill-opacity=\"1\" stroke=\"#000000\" stroke-opacity=\"1\" stroke-width=\"5.76\"/>\n",
       "<circle clip-path=\"url(#clip482)\" cx=\"1754.48\" cy=\"1346.26\" r=\"57\" fill=\"#800080\" fill-rule=\"evenodd\" fill-opacity=\"1\" stroke=\"#000000\" stroke-opacity=\"1\" stroke-width=\"5.76\"/>\n",
       "<circle clip-path=\"url(#clip482)\" cx=\"1901.41\" cy=\"1131.65\" r=\"57\" fill=\"#800080\" fill-rule=\"evenodd\" fill-opacity=\"1\" stroke=\"#000000\" stroke-opacity=\"1\" stroke-width=\"5.76\"/>\n",
       "<circle clip-path=\"url(#clip482)\" cx=\"1100.87\" cy=\"1316.16\" r=\"57\" fill=\"#800080\" fill-rule=\"evenodd\" fill-opacity=\"1\" stroke=\"#000000\" stroke-opacity=\"1\" stroke-width=\"5.76\"/>\n",
       "<circle clip-path=\"url(#clip482)\" cx=\"2046.42\" cy=\"1266.87\" r=\"57\" fill=\"#800080\" fill-rule=\"evenodd\" fill-opacity=\"1\" stroke=\"#000000\" stroke-opacity=\"1\" stroke-width=\"5.76\"/>\n",
       "<circle clip-path=\"url(#clip482)\" cx=\"1729.15\" cy=\"527.121\" r=\"57\" fill=\"#800080\" fill-rule=\"evenodd\" fill-opacity=\"1\" stroke=\"#000000\" stroke-opacity=\"1\" stroke-width=\"5.76\"/>\n",
       "<circle clip-path=\"url(#clip482)\" cx=\"1723.13\" cy=\"1513.78\" r=\"57\" fill=\"#800080\" fill-rule=\"evenodd\" fill-opacity=\"1\" stroke=\"#000000\" stroke-opacity=\"1\" stroke-width=\"5.76\"/>\n",
       "<circle clip-path=\"url(#clip482)\" cx=\"1339.25\" cy=\"1533.2\" r=\"57\" fill=\"#800080\" fill-rule=\"evenodd\" fill-opacity=\"1\" stroke=\"#000000\" stroke-opacity=\"1\" stroke-width=\"5.76\"/>\n",
       "<circle clip-path=\"url(#clip482)\" cx=\"1833.38\" cy=\"1310.82\" r=\"57\" fill=\"#800080\" fill-rule=\"evenodd\" fill-opacity=\"1\" stroke=\"#000000\" stroke-opacity=\"1\" stroke-width=\"5.76\"/>\n",
       "<circle clip-path=\"url(#clip482)\" cx=\"1565.7\" cy=\"1336.55\" r=\"57\" fill=\"#800080\" fill-rule=\"evenodd\" fill-opacity=\"1\" stroke=\"#000000\" stroke-opacity=\"1\" stroke-width=\"5.76\"/>\n",
       "<circle clip-path=\"url(#clip482)\" cx=\"1104.85\" cy=\"1006.86\" r=\"57\" fill=\"#800080\" fill-rule=\"evenodd\" fill-opacity=\"1\" stroke=\"#000000\" stroke-opacity=\"1\" stroke-width=\"5.76\"/>\n",
       "<circle clip-path=\"url(#clip482)\" cx=\"1640.19\" cy=\"1356.46\" r=\"57\" fill=\"#800080\" fill-rule=\"evenodd\" fill-opacity=\"1\" stroke=\"#000000\" stroke-opacity=\"1\" stroke-width=\"5.76\"/>\n",
       "<circle clip-path=\"url(#clip482)\" cx=\"1384.94\" cy=\"624.234\" r=\"57\" fill=\"#800080\" fill-rule=\"evenodd\" fill-opacity=\"1\" stroke=\"#000000\" stroke-opacity=\"1\" stroke-width=\"5.76\"/>\n",
       "<circle clip-path=\"url(#clip482)\" cx=\"2221.23\" cy=\"1381.71\" r=\"57\" fill=\"#800080\" fill-rule=\"evenodd\" fill-opacity=\"1\" stroke=\"#000000\" stroke-opacity=\"1\" stroke-width=\"5.76\"/>\n",
       "<circle clip-path=\"url(#clip482)\" cx=\"1779\" cy=\"608.696\" r=\"57\" fill=\"#800080\" fill-rule=\"evenodd\" fill-opacity=\"1\" stroke=\"#000000\" stroke-opacity=\"1\" stroke-width=\"5.76\"/>\n",
       "<circle clip-path=\"url(#clip482)\" cx=\"1710.59\" cy=\"1198.41\" r=\"57\" fill=\"#800080\" fill-rule=\"evenodd\" fill-opacity=\"1\" stroke=\"#000000\" stroke-opacity=\"1\" stroke-width=\"5.76\"/>\n",
       "<circle clip-path=\"url(#clip482)\" cx=\"1259.79\" cy=\"1132.13\" r=\"57\" fill=\"#800080\" fill-rule=\"evenodd\" fill-opacity=\"1\" stroke=\"#000000\" stroke-opacity=\"1\" stroke-width=\"5.76\"/>\n",
       "<circle clip-path=\"url(#clip482)\" cx=\"747.287\" cy=\"1805.12\" r=\"57\" fill=\"#800080\" fill-rule=\"evenodd\" fill-opacity=\"1\" stroke=\"#000000\" stroke-opacity=\"1\" stroke-width=\"5.76\"/>\n",
       "<circle clip-path=\"url(#clip482)\" cx=\"1543.85\" cy=\"1494.36\" r=\"57\" fill=\"#800080\" fill-rule=\"evenodd\" fill-opacity=\"1\" stroke=\"#000000\" stroke-opacity=\"1\" stroke-width=\"5.76\"/>\n",
       "<circle clip-path=\"url(#clip482)\" cx=\"2288.77\" cy=\"717.461\" r=\"57\" fill=\"#800080\" fill-rule=\"evenodd\" fill-opacity=\"1\" stroke=\"#000000\" stroke-opacity=\"1\" stroke-width=\"5.76\"/>\n",
       "<circle clip-path=\"url(#clip482)\" cx=\"2201.37\" cy=\"966.069\" r=\"57\" fill=\"#800080\" fill-rule=\"evenodd\" fill-opacity=\"1\" stroke=\"#000000\" stroke-opacity=\"1\" stroke-width=\"5.76\"/>\n",
       "<circle clip-path=\"url(#clip482)\" cx=\"1069.09\" cy=\"1762.39\" r=\"57\" fill=\"#800080\" fill-rule=\"evenodd\" fill-opacity=\"1\" stroke=\"#000000\" stroke-opacity=\"1\" stroke-width=\"5.76\"/>\n",
       "<circle clip-path=\"url(#clip482)\" cx=\"1778.25\" cy=\"1170\" r=\"57\" fill=\"#800080\" fill-rule=\"evenodd\" fill-opacity=\"1\" stroke=\"#000000\" stroke-opacity=\"1\" stroke-width=\"5.76\"/>\n",
       "<circle clip-path=\"url(#clip482)\" cx=\"1428.64\" cy=\"1638.09\" r=\"57\" fill=\"#800080\" fill-rule=\"evenodd\" fill-opacity=\"1\" stroke=\"#000000\" stroke-opacity=\"1\" stroke-width=\"5.76\"/>\n",
       "<circle clip-path=\"url(#clip482)\" cx=\"1460.42\" cy=\"1259.11\" r=\"57\" fill=\"#800080\" fill-rule=\"evenodd\" fill-opacity=\"1\" stroke=\"#000000\" stroke-opacity=\"1\" stroke-width=\"5.76\"/>\n",
       "<circle clip-path=\"url(#clip482)\" cx=\"1245.89\" cy=\"1354.52\" r=\"57\" fill=\"#800080\" fill-rule=\"evenodd\" fill-opacity=\"1\" stroke=\"#000000\" stroke-opacity=\"1\" stroke-width=\"5.76\"/>\n",
       "<circle clip-path=\"url(#clip482)\" cx=\"1986.83\" cy=\"1026.28\" r=\"57\" fill=\"#800080\" fill-rule=\"evenodd\" fill-opacity=\"1\" stroke=\"#000000\" stroke-opacity=\"1\" stroke-width=\"5.76\"/>\n",
       "<circle clip-path=\"url(#clip482)\" cx=\"2634.41\" cy=\"1382.68\" r=\"57\" fill=\"#800080\" fill-rule=\"evenodd\" fill-opacity=\"1\" stroke=\"#000000\" stroke-opacity=\"1\" stroke-width=\"5.76\"/>\n",
       "<circle clip-path=\"url(#clip482)\" cx=\"1843.8\" cy=\"1140.39\" r=\"57\" fill=\"#800080\" fill-rule=\"evenodd\" fill-opacity=\"1\" stroke=\"#000000\" stroke-opacity=\"1\" stroke-width=\"5.76\"/>\n",
       "<circle clip-path=\"url(#clip482)\" cx=\"1708.48\" cy=\"1196.35\" r=\"57\" fill=\"#800080\" fill-rule=\"evenodd\" fill-opacity=\"1\" stroke=\"#000000\" stroke-opacity=\"1\" stroke-width=\"5.76\"/>\n",
       "<circle clip-path=\"url(#clip482)\" cx=\"2036.49\" cy=\"1052.5\" r=\"57\" fill=\"#800080\" fill-rule=\"evenodd\" fill-opacity=\"1\" stroke=\"#000000\" stroke-opacity=\"1\" stroke-width=\"5.76\"/>\n",
       "<circle clip-path=\"url(#clip482)\" cx=\"1188.28\" cy=\"1416.67\" r=\"57\" fill=\"#800080\" fill-rule=\"evenodd\" fill-opacity=\"1\" stroke=\"#000000\" stroke-opacity=\"1\" stroke-width=\"5.76\"/>\n",
       "<circle clip-path=\"url(#clip482)\" cx=\"1847.28\" cy=\"1474.94\" r=\"57\" fill=\"#800080\" fill-rule=\"evenodd\" fill-opacity=\"1\" stroke=\"#000000\" stroke-opacity=\"1\" stroke-width=\"5.76\"/>\n",
       "<circle clip-path=\"url(#clip482)\" cx=\"1495.18\" cy=\"1704.12\" r=\"57\" fill=\"#800080\" fill-rule=\"evenodd\" fill-opacity=\"1\" stroke=\"#000000\" stroke-opacity=\"1\" stroke-width=\"5.76\"/>\n",
       "<circle clip-path=\"url(#clip482)\" cx=\"1522\" cy=\"682.501\" r=\"57\" fill=\"#800080\" fill-rule=\"evenodd\" fill-opacity=\"1\" stroke=\"#000000\" stroke-opacity=\"1\" stroke-width=\"5.76\"/>\n",
       "<circle clip-path=\"url(#clip482)\" cx=\"1291.57\" cy=\"1454.54\" r=\"57\" fill=\"#800080\" fill-rule=\"evenodd\" fill-opacity=\"1\" stroke=\"#000000\" stroke-opacity=\"1\" stroke-width=\"5.76\"/>\n",
       "<circle clip-path=\"url(#clip482)\" cx=\"1966.96\" cy=\"1320.04\" r=\"57\" fill=\"#800080\" fill-rule=\"evenodd\" fill-opacity=\"1\" stroke=\"#000000\" stroke-opacity=\"1\" stroke-width=\"5.76\"/>\n",
       "<circle clip-path=\"url(#clip482)\" cx=\"1756.09\" cy=\"835.938\" r=\"57\" fill=\"#800080\" fill-rule=\"evenodd\" fill-opacity=\"1\" stroke=\"#000000\" stroke-opacity=\"1\" stroke-width=\"5.76\"/>\n",
       "<circle clip-path=\"url(#clip482)\" cx=\"2217.26\" cy=\"1077.75\" r=\"57\" fill=\"#800080\" fill-rule=\"evenodd\" fill-opacity=\"1\" stroke=\"#000000\" stroke-opacity=\"1\" stroke-width=\"5.76\"/>\n",
       "<circle clip-path=\"url(#clip482)\" cx=\"1184.31\" cy=\"1263.23\" r=\"57\" fill=\"#800080\" fill-rule=\"evenodd\" fill-opacity=\"1\" stroke=\"#000000\" stroke-opacity=\"1\" stroke-width=\"5.76\"/>\n",
       "<circle clip-path=\"url(#clip482)\" cx=\"1750.94\" cy=\"802.92\" r=\"57\" fill=\"#800080\" fill-rule=\"evenodd\" fill-opacity=\"1\" stroke=\"#000000\" stroke-opacity=\"1\" stroke-width=\"5.76\"/>\n",
       "<circle clip-path=\"url(#clip482)\" cx=\"1705.75\" cy=\"1381.71\" r=\"57\" fill=\"#800080\" fill-rule=\"evenodd\" fill-opacity=\"1\" stroke=\"#000000\" stroke-opacity=\"1\" stroke-width=\"5.76\"/>\n",
       "<circle clip-path=\"url(#clip482)\" cx=\"1786.45\" cy=\"1500.19\" r=\"57\" fill=\"#800080\" fill-rule=\"evenodd\" fill-opacity=\"1\" stroke=\"#000000\" stroke-opacity=\"1\" stroke-width=\"5.76\"/>\n",
       "<circle clip-path=\"url(#clip482)\" cx=\"1719.53\" cy=\"1281.2\" r=\"57\" fill=\"#800080\" fill-rule=\"evenodd\" fill-opacity=\"1\" stroke=\"#000000\" stroke-opacity=\"1\" stroke-width=\"5.76\"/>\n",
       "<circle clip-path=\"url(#clip482)\" cx=\"2135.81\" cy=\"1287.75\" r=\"57\" fill=\"#800080\" fill-rule=\"evenodd\" fill-opacity=\"1\" stroke=\"#000000\" stroke-opacity=\"1\" stroke-width=\"5.76\"/>\n",
       "<circle clip-path=\"url(#clip482)\" cx=\"1887.51\" cy=\"1448.72\" r=\"57\" fill=\"#800080\" fill-rule=\"evenodd\" fill-opacity=\"1\" stroke=\"#000000\" stroke-opacity=\"1\" stroke-width=\"5.76\"/>\n",
       "<circle clip-path=\"url(#clip482)\" cx=\"1784.96\" cy=\"717.461\" r=\"57\" fill=\"#800080\" fill-rule=\"evenodd\" fill-opacity=\"1\" stroke=\"#000000\" stroke-opacity=\"1\" stroke-width=\"5.76\"/>\n",
       "<circle clip-path=\"url(#clip482)\" cx=\"1759.13\" cy=\"1700.24\" r=\"57\" fill=\"#800080\" fill-rule=\"evenodd\" fill-opacity=\"1\" stroke=\"#000000\" stroke-opacity=\"1\" stroke-width=\"5.76\"/>\n",
       "<circle clip-path=\"url(#clip482)\" cx=\"2060.33\" cy=\"1542.92\" r=\"57\" fill=\"#800080\" fill-rule=\"evenodd\" fill-opacity=\"1\" stroke=\"#000000\" stroke-opacity=\"1\" stroke-width=\"5.76\"/>\n",
       "<circle clip-path=\"url(#clip482)\" cx=\"1705.25\" cy=\"1556.51\" r=\"57\" fill=\"#800080\" fill-rule=\"evenodd\" fill-opacity=\"1\" stroke=\"#000000\" stroke-opacity=\"1\" stroke-width=\"5.76\"/>\n",
       "<circle clip-path=\"url(#clip482)\" cx=\"1701.28\" cy=\"1349.18\" r=\"57\" fill=\"#800080\" fill-rule=\"evenodd\" fill-opacity=\"1\" stroke=\"#000000\" stroke-opacity=\"1\" stroke-width=\"5.76\"/>\n",
       "<circle clip-path=\"url(#clip482)\" cx=\"1560.74\" cy=\"1581.76\" r=\"57\" fill=\"#800080\" fill-rule=\"evenodd\" fill-opacity=\"1\" stroke=\"#000000\" stroke-opacity=\"1\" stroke-width=\"5.76\"/>\n",
       "<circle clip-path=\"url(#clip482)\" cx=\"1766.33\" cy=\"1370.06\" r=\"57\" fill=\"#800080\" fill-rule=\"evenodd\" fill-opacity=\"1\" stroke=\"#000000\" stroke-opacity=\"1\" stroke-width=\"5.76\"/>\n",
       "<circle clip-path=\"url(#clip482)\" cx=\"1824.44\" cy=\"2096.46\" r=\"57\" fill=\"#800080\" fill-rule=\"evenodd\" fill-opacity=\"1\" stroke=\"#000000\" stroke-opacity=\"1\" stroke-width=\"5.76\"/>\n",
       "<circle clip-path=\"url(#clip482)\" cx=\"1626.29\" cy=\"1266.15\" r=\"57\" fill=\"#800080\" fill-rule=\"evenodd\" fill-opacity=\"1\" stroke=\"#000000\" stroke-opacity=\"1\" stroke-width=\"5.76\"/>\n",
       "<circle clip-path=\"url(#clip482)\" cx=\"1575.63\" cy=\"1352.58\" r=\"57\" fill=\"#800080\" fill-rule=\"evenodd\" fill-opacity=\"1\" stroke=\"#000000\" stroke-opacity=\"1\" stroke-width=\"5.76\"/>\n",
       "<circle clip-path=\"url(#clip482)\" cx=\"914.149\" cy=\"995.203\" r=\"57\" fill=\"#800080\" fill-rule=\"evenodd\" fill-opacity=\"1\" stroke=\"#000000\" stroke-opacity=\"1\" stroke-width=\"5.76\"/>\n",
       "<circle clip-path=\"url(#clip482)\" cx=\"1839.83\" cy=\"1161.75\" r=\"57\" fill=\"#800080\" fill-rule=\"evenodd\" fill-opacity=\"1\" stroke=\"#000000\" stroke-opacity=\"1\" stroke-width=\"5.76\"/>\n",
       "<circle clip-path=\"url(#clip482)\" cx=\"2048.41\" cy=\"1187.24\" r=\"57\" fill=\"#800080\" fill-rule=\"evenodd\" fill-opacity=\"1\" stroke=\"#000000\" stroke-opacity=\"1\" stroke-width=\"5.76\"/>\n",
       "<circle clip-path=\"url(#clip482)\" cx=\"1617.85\" cy=\"1781.81\" r=\"57\" fill=\"#800080\" fill-rule=\"evenodd\" fill-opacity=\"1\" stroke=\"#000000\" stroke-opacity=\"1\" stroke-width=\"5.76\"/>\n",
       "<circle clip-path=\"url(#clip482)\" cx=\"1521.01\" cy=\"1197.68\" r=\"57\" fill=\"#800080\" fill-rule=\"evenodd\" fill-opacity=\"1\" stroke=\"#000000\" stroke-opacity=\"1\" stroke-width=\"5.76\"/>\n",
       "<circle clip-path=\"url(#clip482)\" cx=\"1104.85\" cy=\"666.963\" r=\"57\" fill=\"#800080\" fill-rule=\"evenodd\" fill-opacity=\"1\" stroke=\"#000000\" stroke-opacity=\"1\" stroke-width=\"5.76\"/>\n",
       "<circle clip-path=\"url(#clip482)\" cx=\"1745.54\" cy=\"822.343\" r=\"57\" fill=\"#800080\" fill-rule=\"evenodd\" fill-opacity=\"1\" stroke=\"#000000\" stroke-opacity=\"1\" stroke-width=\"5.76\"/>\n",
       "<circle clip-path=\"url(#clip482)\" cx=\"1903.4\" cy=\"1007.83\" r=\"57\" fill=\"#800080\" fill-rule=\"evenodd\" fill-opacity=\"1\" stroke=\"#000000\" stroke-opacity=\"1\" stroke-width=\"5.76\"/>\n",
       "<circle clip-path=\"url(#clip482)\" cx=\"2153.69\" cy=\"973.838\" r=\"57\" fill=\"#800080\" fill-rule=\"evenodd\" fill-opacity=\"1\" stroke=\"#000000\" stroke-opacity=\"1\" stroke-width=\"5.76\"/>\n",
       "<circle clip-path=\"url(#clip482)\" cx=\"1561.73\" cy=\"1149.13\" r=\"57\" fill=\"#800080\" fill-rule=\"evenodd\" fill-opacity=\"1\" stroke=\"#000000\" stroke-opacity=\"1\" stroke-width=\"5.76\"/>\n",
       "<circle clip-path=\"url(#clip482)\" cx=\"1875.59\" cy=\"1164.91\" r=\"57\" fill=\"#800080\" fill-rule=\"evenodd\" fill-opacity=\"1\" stroke=\"#000000\" stroke-opacity=\"1\" stroke-width=\"5.76\"/>\n",
       "<circle clip-path=\"url(#clip482)\" cx=\"1810.04\" cy=\"1252.19\" r=\"57\" fill=\"#800080\" fill-rule=\"evenodd\" fill-opacity=\"1\" stroke=\"#000000\" stroke-opacity=\"1\" stroke-width=\"5.76\"/>\n",
       "<circle clip-path=\"url(#clip482)\" cx=\"2165.61\" cy=\"952.473\" r=\"57\" fill=\"#800080\" fill-rule=\"evenodd\" fill-opacity=\"1\" stroke=\"#000000\" stroke-opacity=\"1\" stroke-width=\"5.76\"/>\n",
       "<circle clip-path=\"url(#clip482)\" cx=\"1148.55\" cy=\"980.636\" r=\"57\" fill=\"#800080\" fill-rule=\"evenodd\" fill-opacity=\"1\" stroke=\"#000000\" stroke-opacity=\"1\" stroke-width=\"5.76\"/>\n",
       "<circle clip-path=\"url(#clip482)\" cx=\"2161.64\" cy=\"1127.28\" r=\"57\" fill=\"#800080\" fill-rule=\"evenodd\" fill-opacity=\"1\" stroke=\"#000000\" stroke-opacity=\"1\" stroke-width=\"5.76\"/>\n",
       "<circle clip-path=\"url(#clip482)\" cx=\"1257.8\" cy=\"1286.78\" r=\"57\" fill=\"#800080\" fill-rule=\"evenodd\" fill-opacity=\"1\" stroke=\"#000000\" stroke-opacity=\"1\" stroke-width=\"5.76\"/>\n",
       "<circle clip-path=\"url(#clip482)\" cx=\"1628.28\" cy=\"1552.63\" r=\"57\" fill=\"#800080\" fill-rule=\"evenodd\" fill-opacity=\"1\" stroke=\"#000000\" stroke-opacity=\"1\" stroke-width=\"5.76\"/>\n",
       "<circle clip-path=\"url(#clip482)\" cx=\"1857.21\" cy=\"1381.71\" r=\"57\" fill=\"#800080\" fill-rule=\"evenodd\" fill-opacity=\"1\" stroke=\"#000000\" stroke-opacity=\"1\" stroke-width=\"5.76\"/>\n",
       "<circle clip-path=\"url(#clip482)\" cx=\"1460.42\" cy=\"1380.74\" r=\"57\" fill=\"#800080\" fill-rule=\"evenodd\" fill-opacity=\"1\" stroke=\"#000000\" stroke-opacity=\"1\" stroke-width=\"5.76\"/>\n",
       "<circle clip-path=\"url(#clip482)\" cx=\"1029.36\" cy=\"783.498\" r=\"57\" fill=\"#800080\" fill-rule=\"evenodd\" fill-opacity=\"1\" stroke=\"#000000\" stroke-opacity=\"1\" stroke-width=\"5.76\"/>\n",
       "<circle clip-path=\"url(#clip482)\" cx=\"1329.32\" cy=\"948.589\" r=\"57\" fill=\"#800080\" fill-rule=\"evenodd\" fill-opacity=\"1\" stroke=\"#000000\" stroke-opacity=\"1\" stroke-width=\"5.76\"/>\n",
       "<circle clip-path=\"url(#clip482)\" cx=\"2018.61\" cy=\"962.184\" r=\"57\" fill=\"#800080\" fill-rule=\"evenodd\" fill-opacity=\"1\" stroke=\"#000000\" stroke-opacity=\"1\" stroke-width=\"5.76\"/>\n",
       "<circle clip-path=\"url(#clip482)\" cx=\"1156.5\" cy=\"2065.38\" r=\"57\" fill=\"#800080\" fill-rule=\"evenodd\" fill-opacity=\"1\" stroke=\"#000000\" stroke-opacity=\"1\" stroke-width=\"5.76\"/>\n",
       "<circle clip-path=\"url(#clip482)\" cx=\"1752.55\" cy=\"1300.62\" r=\"57\" fill=\"#800080\" fill-rule=\"evenodd\" fill-opacity=\"1\" stroke=\"#000000\" stroke-opacity=\"1\" stroke-width=\"5.76\"/>\n",
       "<circle clip-path=\"url(#clip482)\" cx=\"1307.46\" cy=\"1438.03\" r=\"57\" fill=\"#800080\" fill-rule=\"evenodd\" fill-opacity=\"1\" stroke=\"#000000\" stroke-opacity=\"1\" stroke-width=\"5.76\"/>\n",
       "<circle clip-path=\"url(#clip482)\" cx=\"1220.06\" cy=\"818.458\" r=\"57\" fill=\"#800080\" fill-rule=\"evenodd\" fill-opacity=\"1\" stroke=\"#000000\" stroke-opacity=\"1\" stroke-width=\"5.76\"/>\n",
       "<circle clip-path=\"url(#clip482)\" cx=\"1768.94\" cy=\"1060.27\" r=\"57\" fill=\"#800080\" fill-rule=\"evenodd\" fill-opacity=\"1\" stroke=\"#000000\" stroke-opacity=\"1\" stroke-width=\"5.76\"/>\n",
       "<circle clip-path=\"url(#clip482)\" cx=\"2392.06\" cy=\"1023.37\" r=\"57\" fill=\"#800080\" fill-rule=\"evenodd\" fill-opacity=\"1\" stroke=\"#000000\" stroke-opacity=\"1\" stroke-width=\"5.76\"/>\n",
       "<circle clip-path=\"url(#clip482)\" cx=\"1717.67\" cy=\"832.054\" r=\"57\" fill=\"#800080\" fill-rule=\"evenodd\" fill-opacity=\"1\" stroke=\"#000000\" stroke-opacity=\"1\" stroke-width=\"5.76\"/>\n",
       "<circle clip-path=\"url(#clip482)\" cx=\"1566.7\" cy=\"1183.84\" r=\"57\" fill=\"#800080\" fill-rule=\"evenodd\" fill-opacity=\"1\" stroke=\"#000000\" stroke-opacity=\"1\" stroke-width=\"5.76\"/>\n",
       "<circle clip-path=\"url(#clip482)\" cx=\"1410.76\" cy=\"1217.77\" r=\"57\" fill=\"#800080\" fill-rule=\"evenodd\" fill-opacity=\"1\" stroke=\"#000000\" stroke-opacity=\"1\" stroke-width=\"5.76\"/>\n",
       "<circle clip-path=\"url(#clip482)\" cx=\"2199.38\" cy=\"1812.89\" r=\"57\" fill=\"#800080\" fill-rule=\"evenodd\" fill-opacity=\"1\" stroke=\"#000000\" stroke-opacity=\"1\" stroke-width=\"5.76\"/>\n",
       "<circle clip-path=\"url(#clip482)\" cx=\"1844.8\" cy=\"1774.04\" r=\"57\" fill=\"#800080\" fill-rule=\"evenodd\" fill-opacity=\"1\" stroke=\"#000000\" stroke-opacity=\"1\" stroke-width=\"5.76\"/>\n",
       "<circle clip-path=\"url(#clip482)\" cx=\"2175.54\" cy=\"1318.1\" r=\"57\" fill=\"#800080\" fill-rule=\"evenodd\" fill-opacity=\"1\" stroke=\"#000000\" stroke-opacity=\"1\" stroke-width=\"5.76\"/>\n",
       "<circle clip-path=\"url(#clip482)\" cx=\"1729.27\" cy=\"892.264\" r=\"57\" fill=\"#800080\" fill-rule=\"evenodd\" fill-opacity=\"1\" stroke=\"#000000\" stroke-opacity=\"1\" stroke-width=\"5.76\"/>\n",
       "<circle clip-path=\"url(#clip482)\" cx=\"1861.19\" cy=\"975.78\" r=\"57\" fill=\"#800080\" fill-rule=\"evenodd\" fill-opacity=\"1\" stroke=\"#000000\" stroke-opacity=\"1\" stroke-width=\"5.76\"/>\n",
       "<circle clip-path=\"url(#clip482)\" cx=\"1610.4\" cy=\"781.556\" r=\"57\" fill=\"#800080\" fill-rule=\"evenodd\" fill-opacity=\"1\" stroke=\"#000000\" stroke-opacity=\"1\" stroke-width=\"5.76\"/>\n",
       "<circle clip-path=\"url(#clip482)\" cx=\"1659.07\" cy=\"1577.88\" r=\"57\" fill=\"#800080\" fill-rule=\"evenodd\" fill-opacity=\"1\" stroke=\"#000000\" stroke-opacity=\"1\" stroke-width=\"5.76\"/>\n",
       "<circle clip-path=\"url(#clip482)\" cx=\"2171.57\" cy=\"1832.31\" r=\"57\" fill=\"#800080\" fill-rule=\"evenodd\" fill-opacity=\"1\" stroke=\"#000000\" stroke-opacity=\"1\" stroke-width=\"5.76\"/>\n",
       "<circle clip-path=\"url(#clip482)\" cx=\"1989.81\" cy=\"251.322\" r=\"57\" fill=\"#800080\" fill-rule=\"evenodd\" fill-opacity=\"1\" stroke=\"#000000\" stroke-opacity=\"1\" stroke-width=\"5.76\"/>\n",
       "<circle clip-path=\"url(#clip482)\" cx=\"1680.42\" cy=\"1038.9\" r=\"57\" fill=\"#800080\" fill-rule=\"evenodd\" fill-opacity=\"1\" stroke=\"#000000\" stroke-opacity=\"1\" stroke-width=\"5.76\"/>\n",
       "<circle clip-path=\"url(#clip482)\" cx=\"2117.93\" cy=\"554.313\" r=\"57\" fill=\"#800080\" fill-rule=\"evenodd\" fill-opacity=\"1\" stroke=\"#000000\" stroke-opacity=\"1\" stroke-width=\"5.76\"/>\n",
       "<circle clip-path=\"url(#clip482)\" cx=\"1891.48\" cy=\"2073.15\" r=\"57\" fill=\"#800080\" fill-rule=\"evenodd\" fill-opacity=\"1\" stroke=\"#000000\" stroke-opacity=\"1\" stroke-width=\"5.76\"/>\n",
       "<circle clip-path=\"url(#clip482)\" cx=\"2159.65\" cy=\"1171.22\" r=\"57\" fill=\"#800080\" fill-rule=\"evenodd\" fill-opacity=\"1\" stroke=\"#000000\" stroke-opacity=\"1\" stroke-width=\"5.76\"/>\n",
       "<circle clip-path=\"url(#clip482)\" cx=\"918.122\" cy=\"1801.23\" r=\"57\" fill=\"#800080\" fill-rule=\"evenodd\" fill-opacity=\"1\" stroke=\"#000000\" stroke-opacity=\"1\" stroke-width=\"5.76\"/>\n",
       "<circle clip-path=\"url(#clip482)\" cx=\"1623.31\" cy=\"1131.65\" r=\"57\" fill=\"#800080\" fill-rule=\"evenodd\" fill-opacity=\"1\" stroke=\"#000000\" stroke-opacity=\"1\" stroke-width=\"5.76\"/>\n",
       "<circle clip-path=\"url(#clip482)\" cx=\"1546.83\" cy=\"1460.37\" r=\"57\" fill=\"#800080\" fill-rule=\"evenodd\" fill-opacity=\"1\" stroke=\"#000000\" stroke-opacity=\"1\" stroke-width=\"5.76\"/>\n",
       "<circle clip-path=\"url(#clip482)\" cx=\"1723.63\" cy=\"839.823\" r=\"57\" fill=\"#800080\" fill-rule=\"evenodd\" fill-opacity=\"1\" stroke=\"#000000\" stroke-opacity=\"1\" stroke-width=\"5.76\"/>\n",
       "<circle clip-path=\"url(#clip482)\" cx=\"1450.49\" cy=\"643.656\" r=\"57\" fill=\"#800080\" fill-rule=\"evenodd\" fill-opacity=\"1\" stroke=\"#000000\" stroke-opacity=\"1\" stroke-width=\"5.76\"/>\n",
       "<circle clip-path=\"url(#clip482)\" cx=\"1287.6\" cy=\"1987.69\" r=\"57\" fill=\"#800080\" fill-rule=\"evenodd\" fill-opacity=\"1\" stroke=\"#000000\" stroke-opacity=\"1\" stroke-width=\"5.76\"/>\n",
       "<circle clip-path=\"url(#clip482)\" cx=\"1285.61\" cy=\"1170.98\" r=\"57\" fill=\"#800080\" fill-rule=\"evenodd\" fill-opacity=\"1\" stroke=\"#000000\" stroke-opacity=\"1\" stroke-width=\"5.76\"/>\n",
       "<circle clip-path=\"url(#clip482)\" cx=\"1402.81\" cy=\"820.4\" r=\"57\" fill=\"#800080\" fill-rule=\"evenodd\" fill-opacity=\"1\" stroke=\"#000000\" stroke-opacity=\"1\" stroke-width=\"5.76\"/>\n",
       "<circle clip-path=\"url(#clip482)\" cx=\"2340.42\" cy=\"1284.84\" r=\"57\" fill=\"#800080\" fill-rule=\"evenodd\" fill-opacity=\"1\" stroke=\"#000000\" stroke-opacity=\"1\" stroke-width=\"5.76\"/>\n",
       "<circle clip-path=\"url(#clip482)\" cx=\"1716.3\" cy=\"1608.95\" r=\"57\" fill=\"#800080\" fill-rule=\"evenodd\" fill-opacity=\"1\" stroke=\"#000000\" stroke-opacity=\"1\" stroke-width=\"5.76\"/>\n",
       "<circle clip-path=\"url(#clip482)\" cx=\"1514.06\" cy=\"901.975\" r=\"57\" fill=\"#800080\" fill-rule=\"evenodd\" fill-opacity=\"1\" stroke=\"#000000\" stroke-opacity=\"1\" stroke-width=\"5.76\"/>\n",
       "<circle clip-path=\"url(#clip482)\" cx=\"1564.71\" cy=\"1498.24\" r=\"57\" fill=\"#800080\" fill-rule=\"evenodd\" fill-opacity=\"1\" stroke=\"#000000\" stroke-opacity=\"1\" stroke-width=\"5.76\"/>\n",
       "<circle clip-path=\"url(#clip482)\" cx=\"1351.17\" cy=\"1645.85\" r=\"57\" fill=\"#800080\" fill-rule=\"evenodd\" fill-opacity=\"1\" stroke=\"#000000\" stroke-opacity=\"1\" stroke-width=\"5.76\"/>\n",
       "<circle clip-path=\"url(#clip482)\" cx=\"1777.51\" cy=\"1336.07\" r=\"57\" fill=\"#800080\" fill-rule=\"evenodd\" fill-opacity=\"1\" stroke=\"#000000\" stroke-opacity=\"1\" stroke-width=\"5.76\"/>\n",
       "<circle clip-path=\"url(#clip482)\" cx=\"2100.06\" cy=\"1378.8\" r=\"57\" fill=\"#800080\" fill-rule=\"evenodd\" fill-opacity=\"1\" stroke=\"#000000\" stroke-opacity=\"1\" stroke-width=\"5.76\"/>\n",
       "<circle clip-path=\"url(#clip482)\" cx=\"1823.44\" cy=\"729.115\" r=\"57\" fill=\"#800080\" fill-rule=\"evenodd\" fill-opacity=\"1\" stroke=\"#000000\" stroke-opacity=\"1\" stroke-width=\"5.76\"/>\n",
       "<circle clip-path=\"url(#clip482)\" cx=\"1184.31\" cy=\"1180.44\" r=\"57\" fill=\"#800080\" fill-rule=\"evenodd\" fill-opacity=\"1\" stroke=\"#000000\" stroke-opacity=\"1\" stroke-width=\"5.76\"/>\n",
       "<circle clip-path=\"url(#clip482)\" cx=\"1726.11\" cy=\"736.884\" r=\"57\" fill=\"#800080\" fill-rule=\"evenodd\" fill-opacity=\"1\" stroke=\"#000000\" stroke-opacity=\"1\" stroke-width=\"5.76\"/>\n",
       "<circle clip-path=\"url(#clip482)\" cx=\"1547.82\" cy=\"1554.57\" r=\"57\" fill=\"#800080\" fill-rule=\"evenodd\" fill-opacity=\"1\" stroke=\"#000000\" stroke-opacity=\"1\" stroke-width=\"5.76\"/>\n",
       "<circle clip-path=\"url(#clip482)\" cx=\"2400.01\" cy=\"1374.91\" r=\"57\" fill=\"#800080\" fill-rule=\"evenodd\" fill-opacity=\"1\" stroke=\"#000000\" stroke-opacity=\"1\" stroke-width=\"5.76\"/>\n",
       "<circle clip-path=\"url(#clip482)\" cx=\"1848.77\" cy=\"1579.82\" r=\"57\" fill=\"#800080\" fill-rule=\"evenodd\" fill-opacity=\"1\" stroke=\"#000000\" stroke-opacity=\"1\" stroke-width=\"5.76\"/>\n",
       "<circle clip-path=\"url(#clip482)\" cx=\"1835.86\" cy=\"1482.71\" r=\"57\" fill=\"#800080\" fill-rule=\"evenodd\" fill-opacity=\"1\" stroke=\"#000000\" stroke-opacity=\"1\" stroke-width=\"5.76\"/>\n",
       "<circle clip-path=\"url(#clip482)\" cx=\"1971.93\" cy=\"853.419\" r=\"57\" fill=\"#800080\" fill-rule=\"evenodd\" fill-opacity=\"1\" stroke=\"#000000\" stroke-opacity=\"1\" stroke-width=\"5.76\"/>\n",
       "<circle clip-path=\"url(#clip482)\" cx=\"2060.33\" cy=\"931.108\" r=\"57\" fill=\"#800080\" fill-rule=\"evenodd\" fill-opacity=\"1\" stroke=\"#000000\" stroke-opacity=\"1\" stroke-width=\"5.76\"/>\n",
       "<circle clip-path=\"url(#clip482)\" cx=\"1866.65\" cy=\"835.938\" r=\"57\" fill=\"#800080\" fill-rule=\"evenodd\" fill-opacity=\"1\" stroke=\"#000000\" stroke-opacity=\"1\" stroke-width=\"5.76\"/>\n",
       "<circle clip-path=\"url(#clip482)\" cx=\"1888.5\" cy=\"725.23\" r=\"57\" fill=\"#800080\" fill-rule=\"evenodd\" fill-opacity=\"1\" stroke=\"#000000\" stroke-opacity=\"1\" stroke-width=\"5.76\"/>\n",
       "<circle clip-path=\"url(#clip482)\" cx=\"1553.78\" cy=\"1548.74\" r=\"57\" fill=\"#800080\" fill-rule=\"evenodd\" fill-opacity=\"1\" stroke=\"#000000\" stroke-opacity=\"1\" stroke-width=\"5.76\"/>\n",
       "<circle clip-path=\"url(#clip482)\" cx=\"1546.83\" cy=\"1084.55\" r=\"57\" fill=\"#800080\" fill-rule=\"evenodd\" fill-opacity=\"1\" stroke=\"#000000\" stroke-opacity=\"1\" stroke-width=\"5.76\"/>\n",
       "<circle clip-path=\"url(#clip482)\" cx=\"1520.01\" cy=\"1937.19\" r=\"57\" fill=\"#800080\" fill-rule=\"evenodd\" fill-opacity=\"1\" stroke=\"#000000\" stroke-opacity=\"1\" stroke-width=\"5.76\"/>\n",
       "<circle clip-path=\"url(#clip482)\" cx=\"1892.47\" cy=\"1632.26\" r=\"57\" fill=\"#800080\" fill-rule=\"evenodd\" fill-opacity=\"1\" stroke=\"#000000\" stroke-opacity=\"1\" stroke-width=\"5.76\"/>\n",
       "<circle clip-path=\"url(#clip482)\" cx=\"1959.02\" cy=\"1031.13\" r=\"57\" fill=\"#800080\" fill-rule=\"evenodd\" fill-opacity=\"1\" stroke=\"#000000\" stroke-opacity=\"1\" stroke-width=\"5.76\"/>\n",
       "<circle clip-path=\"url(#clip482)\" cx=\"1682.41\" cy=\"1750.74\" r=\"57\" fill=\"#800080\" fill-rule=\"evenodd\" fill-opacity=\"1\" stroke=\"#000000\" stroke-opacity=\"1\" stroke-width=\"5.76\"/>\n",
       "<circle clip-path=\"url(#clip482)\" cx=\"2066.29\" cy=\"259.091\" r=\"57\" fill=\"#800080\" fill-rule=\"evenodd\" fill-opacity=\"1\" stroke=\"#000000\" stroke-opacity=\"1\" stroke-width=\"5.76\"/>\n",
       "<circle clip-path=\"url(#clip482)\" cx=\"1579.61\" cy=\"993.26\" r=\"57\" fill=\"#800080\" fill-rule=\"evenodd\" fill-opacity=\"1\" stroke=\"#000000\" stroke-opacity=\"1\" stroke-width=\"5.76\"/>\n",
       "<circle clip-path=\"url(#clip482)\" cx=\"2060.33\" cy=\"1502.13\" r=\"57\" fill=\"#800080\" fill-rule=\"evenodd\" fill-opacity=\"1\" stroke=\"#000000\" stroke-opacity=\"1\" stroke-width=\"5.76\"/>\n",
       "<circle clip-path=\"url(#clip482)\" cx=\"1615.36\" cy=\"1066.09\" r=\"57\" fill=\"#800080\" fill-rule=\"evenodd\" fill-opacity=\"1\" stroke=\"#000000\" stroke-opacity=\"1\" stroke-width=\"5.76\"/>\n",
       "<circle clip-path=\"url(#clip482)\" cx=\"1384.94\" cy=\"1454.54\" r=\"57\" fill=\"#800080\" fill-rule=\"evenodd\" fill-opacity=\"1\" stroke=\"#000000\" stroke-opacity=\"1\" stroke-width=\"5.76\"/>\n",
       "<circle clip-path=\"url(#clip482)\" cx=\"1903.4\" cy=\"865.072\" r=\"57\" fill=\"#800080\" fill-rule=\"evenodd\" fill-opacity=\"1\" stroke=\"#000000\" stroke-opacity=\"1\" stroke-width=\"5.76\"/>\n",
       "<circle clip-path=\"url(#clip482)\" cx=\"1462.41\" cy=\"1026.28\" r=\"57\" fill=\"#800080\" fill-rule=\"evenodd\" fill-opacity=\"1\" stroke=\"#000000\" stroke-opacity=\"1\" stroke-width=\"5.76\"/>\n",
       "<circle clip-path=\"url(#clip482)\" cx=\"1367.06\" cy=\"1488.53\" r=\"57\" fill=\"#800080\" fill-rule=\"evenodd\" fill-opacity=\"1\" stroke=\"#000000\" stroke-opacity=\"1\" stroke-width=\"5.76\"/>\n",
       "<circle clip-path=\"url(#clip482)\" cx=\"1634.73\" cy=\"682.501\" r=\"57\" fill=\"#800080\" fill-rule=\"evenodd\" fill-opacity=\"1\" stroke=\"#000000\" stroke-opacity=\"1\" stroke-width=\"5.76\"/>\n",
       "<circle clip-path=\"url(#clip482)\" cx=\"1728.59\" cy=\"872.841\" r=\"57\" fill=\"#800080\" fill-rule=\"evenodd\" fill-opacity=\"1\" stroke=\"#000000\" stroke-opacity=\"1\" stroke-width=\"5.76\"/>\n",
       "<circle clip-path=\"url(#clip482)\" cx=\"1422.68\" cy=\"651.425\" r=\"57\" fill=\"#800080\" fill-rule=\"evenodd\" fill-opacity=\"1\" stroke=\"#000000\" stroke-opacity=\"1\" stroke-width=\"5.76\"/>\n",
       "<path clip-path=\"url(#clip480)\" d=\"\n",
       "M2112.55 603.696 L2604.62 603.696 L2604.62 119.856 L2112.55 119.856  Z\n",
       "  \" fill=\"#ffffff\" fill-rule=\"evenodd\" fill-opacity=\"1\"/>\n",
       "<polyline clip-path=\"url(#clip480)\" style=\"stroke:#000000; stroke-width:16; stroke-opacity:1; fill:none\" points=\"\n",
       "  2112.55,603.696 2604.62,603.696 2604.62,119.856 2112.55,119.856 2112.55,603.696 \n",
       "  \"/>\n",
       "<circle clip-path=\"url(#clip480)\" cx=\"2242.15\" cy=\"361.776\" r=\"86\" fill=\"#800080\" fill-rule=\"evenodd\" fill-opacity=\"1\" stroke=\"#000000\" stroke-opacity=\"1\" stroke-width=\"5.76\"/>\n",
       "<path clip-path=\"url(#clip480)\" d=\"M 0 0 M2398.32 440.526 Q2391.1 459.044 2384.25 464.692 Q2377.39 470.341 2365.91 470.341 L2352.3 470.341 L2352.3 456.081 L2362.3 456.081 Q2369.34 456.081 2373.23 452.748 Q2377.12 449.415 2381.84 437.007 L2384.89 429.23 L2342.95 327.193 L2361.01 327.193 L2393.41 408.304 L2425.82 327.193 L2443.88 327.193 L2398.32 440.526 Z\" fill=\"#000000\" fill-rule=\"evenodd\" fill-opacity=\"1\" /><path clip-path=\"url(#clip480)\" d=\"M 0 0 M2467.39 415.156 L2497.95 415.156 L2497.95 309.693 L2464.71 316.36 L2464.71 299.323 L2497.76 292.656 L2516.47 292.656 L2516.47 415.156 L2547.02 415.156 L2547.02 430.896 L2467.39 430.896 L2467.39 415.156 Z\" fill=\"#000000\" fill-rule=\"evenodd\" fill-opacity=\"1\" /></svg>\n"
      ]
     },
     "execution_count": 119,
     "metadata": {},
     "output_type": "execute_result"
    }
   ],
   "source": [
    "x2=get_embedding(\"phone\");\n",
    "y2=get_embedding(\"cucumber\");\n",
    "using Plots\n",
    "Plots.scatter(x2,y2,size=(180,180),color=\"purple\")\n",
    "\n",
    "# we can there are many outliers which presents that phone and cucumber are very dissimalar words"
   ]
  },
  {
   "cell_type": "code",
   "execution_count": 72,
   "metadata": {},
   "outputs": [],
   "source": [
    "using CorpusLoaders"
   ]
  },
  {
   "cell_type": "code",
   "execution_count": 85,
   "metadata": {},
   "outputs": [
    {
     "data": {
      "text/plain": [
       "Channel{Array{Array{String,1},1}}(sz_max:4,sz_curr:4)"
      ]
     },
     "execution_count": 85,
     "metadata": {},
     "output_type": "execute_result"
    }
   ],
   "source": [
    "dataset_train_pos=CorpusLoaders.load(IMDB(\"train_pos\"))\n",
    "#loading train_pos set from the dataset"
   ]
  },
  {
   "cell_type": "code",
   "execution_count": 86,
   "metadata": {},
   "outputs": [
    {
     "data": {
      "text/plain": [
       "Channel{Array{Array{String,1},1}}(sz_max:4,sz_curr:4)"
      ]
     },
     "execution_count": 86,
     "metadata": {},
     "output_type": "execute_result"
    }
   ],
   "source": [
    "dataset_train_neg=CorpusLoaders.load(IMDB(\"train_neg\"))\n",
    "#loading train_neg set from the dataset"
   ]
  },
  {
   "cell_type": "code",
   "execution_count": 87,
   "metadata": {},
   "outputs": [
    {
     "data": {
      "text/plain": [
       "Channel{Array{Array{String,1},1}}(sz_max:4,sz_curr:4)"
      ]
     },
     "execution_count": 87,
     "metadata": {},
     "output_type": "execute_result"
    }
   ],
   "source": [
    "dataset_test_pos=CorpusLoaders.load(IMDB(\"test_pos\"))\n",
    "#loading test_pos set from the dataset"
   ]
  },
  {
   "cell_type": "code",
   "execution_count": 88,
   "metadata": {},
   "outputs": [
    {
     "data": {
      "text/plain": [
       "Channel{Array{Array{String,1},1}}(sz_max:4,sz_curr:4)"
      ]
     },
     "execution_count": 88,
     "metadata": {},
     "output_type": "execute_result"
    }
   ],
   "source": [
    "dataset_test_neg=CorpusLoaders.load(IMDB(\"test_neg\"))\n",
    "#loading test_neg set from the dataset"
   ]
  },
  {
   "cell_type": "code",
   "execution_count": 89,
   "metadata": {},
   "outputs": [
    {
     "data": {
      "text/plain": [
       "2-element Array{Array{Array{String,1},1},1}:\n",
       " [[\"Bromwell\", \"High\", \"is\", \"a\", \"cartoon\", \"comedy\", \".\"], [\"It\", \"ran\", \"at\", \"the\", \"same\", \"time\", \"as\", \"some\", \"other\", \"programs\", \"about\", \"school\", \"life\", \",\", \"such\", \"as\", \"\\\"\", \"Teachers\", \"\\\"\", \".\"], [\"My\", \"35\", \"years\", \"in\", \"the\", \"teaching\", \"profession\", \"lead\", \"me\", \"to\"  …  \"much\", \"closer\", \"to\", \"reality\", \"than\", \"is\", \"\\\"\", \"Teachers\", \"\\\"\", \".\"], [\"The\", \"scramble\", \"to\", \"survive\", \"financially\", \",\", \"the\", \"insightful\", \"students\", \"who\"  …  \"me\", \"of\", \"the\", \"schools\", \"I\", \"knew\", \"and\", \"their\", \"students\", \".\"], [\"When\", \"I\", \"saw\", \"the\", \"episode\", \"in\", \"which\", \"a\", \"student\", \"repeatedly\"  …  \"to\", \"burn\", \"down\", \"the\", \"school\", \",\", \"I\", \"immediately\", \"recalled\", \"at\"], [\"High\", \".\"], [\"A\", \"classic\", \"line\", \":\", \"INSPECTOR\", \":\", \"I\", \"'\", \"m\", \"here\", \"to\", \"sack\", \"one\", \"of\", \"your\", \"teachers\", \".\"], [\"STUDENT\", \":\", \"Welcome\", \"to\", \"Bromwell\", \"High\", \".\"], [\"I\", \"expect\", \"that\", \"many\", \"adults\", \"of\", \"my\", \"age\", \"think\", \"that\", \"Bromwell\", \"High\", \"is\", \"far\", \"fetched\", \".\"], [\"What\", \"a\", \"pity\", \"that\", \"it\", \"isn\", \"'\", \"t\", \"!\"]]\n",
       " [[\"Homelessness\", \"(\", \"or\", \"Houselessness\", \"as\", \"George\", \"Carlin\", \"stated\", \")\", \"has\"  …  \"school\", \",\", \"work\", \",\", \"or\", \"vote\", \"for\", \"the\", \"matter\", \".\"], [\"Most\", \"people\", \"think\", \"of\", \"the\", \"homeless\", \"as\", \"just\", \"a\", \"lost\"  …  \"see\", \"what\", \"it\", \"'\", \"s\", \"like\", \"to\", \"be\", \"homeless\", \"?\"], [\"That\", \"is\", \"Goddard\", \"Bolt\", \"'\", \"s\", \"lesson.<br\", \"/\", \"><br\", \"/\"  …  \"wants\", \"with\", \"a\", \"future\", \"project\", \"of\", \"making\", \"more\", \"buildings\", \".\"], [\"The\", \"bet\", \"'\", \"s\", \"on\", \"where\", \"Bolt\", \"is\", \"thrown\", \"on\"  …  \"where\", \"he\", \"can\", \"'\", \"t\", \"step\", \"off\", \"the\", \"sidewalk\", \".\"], [\"He\", \"'\", \"s\", \"given\", \"the\", \"nickname\", \"Pepto\", \"by\", \"a\", \"vagrant\"  …  \"Wilson\", \")\", \"who\", \"are\", \"already\", \"used\", \"to\", \"the\", \"streets\", \".\"], [\"They\", \"'\", \"re\", \"survivors\", \".\"], [\"Bolt\", \"isn\", \"'\", \"t\", \".\"], [\"He\", \"'\", \"s\", \"not\", \"used\", \"to\", \"reaching\", \"mutual\", \"agreements\", \"like\"  …  \"'\", \"t\", \"know\", \"what\", \"to\", \"do\", \"with\", \"their\", \"money\", \".\"], [\"Maybe\", \"they\", \"should\", \"give\", \"it\", \"to\", \"the\", \"homeless\", \"instead\", \"of\"  …  \"maybe\", \"this\", \"film\", \"will\", \"inspire\", \"you\", \"to\", \"help\", \"others\", \".\"]]"
      ]
     },
     "execution_count": 89,
     "metadata": {},
     "output_type": "execute_result"
    }
   ],
   "source": [
    "using Base.Iterators\n",
    "ptrain=collect(take(dataset_train_pos,2))\n",
    "#convert it into an array of array of strings"
   ]
  },
  {
   "cell_type": "code",
   "execution_count": 90,
   "metadata": {},
   "outputs": [
    {
     "data": {
      "text/plain": [
       "2-element Array{Array{Array{String,1},1},1}:\n",
       " [[\"Story\", \"of\", \"a\", \"man\", \"who\", \"has\", \"unnatural\", \"feelings\", \"for\", \"a\", \"pig\", \".\"], [\"Starts\", \"out\", \"with\", \"a\", \"opening\", \"scene\", \"that\", \"is\", \"a\", \"terrific\", \"example\", \"of\", \"absurd\", \"comedy\", \".\"], [\"A\", \"formal\", \"orchestra\", \"audience\", \"is\", \"turned\", \"into\", \"an\", \"insane\", \",\"  …  \"by\", \"the\", \"crazy\", \"chantings\", \"of\", \"it\", \"'\", \"s\", \"singers\", \".\"], [\"Unfortunately\", \"it\", \"stays\", \"absurd\", \"the\", \"WHOLE\", \"time\", \"with\", \"no\", \"general\", \"narrative\", \"eventually\", \"making\", \"it\", \"just\", \"too\", \"off\", \"putting\", \".\"], [\"Even\", \"those\", \"from\", \"the\", \"era\", \"should\", \"be\", \"turned\", \"off\", \".\"], [\"The\", \"cryptic\", \"dialogue\", \"would\", \"make\", \"Shakespeare\", \"seem\", \"easy\", \"to\", \"a\", \"third\", \"grader\", \".\"], [\"On\", \"a\", \"technical\", \"level\", \"it\", \"'\", \"s\", \"better\", \"than\", \"you\"  …  \"with\", \"some\", \"good\", \"cinematography\", \"by\", \"future\", \"great\", \"Vilmos\", \"Zsigmond\", \".\"], [\"Future\", \"stars\", \"Sally\", \"Kirkland\", \"and\", \"Frederic\", \"Forrest\", \"can\", \"be\", \"seen\", \"briefly\", \".\"]]\n",
       " [[\"Airport\", \"'\", \"77\", \"starts\", \"as\", \"a\", \"brand\", \"new\", \"luxury\", \"747\"  …  \"daughter\", \"Julie\", \"(\", \"Kathleen\", \"Quinlan\", \")\", \"&\", \"her\", \"son\", \".\"], [\"The\", \"luxury\", \"jetliner\", \"takes\", \"off\", \"as\", \"planned\", \"but\", \"mid-air\", \"the\"  …  \"right\", \"bang\", \"in\", \"the\", \"middle\", \"of\", \"the\", \"Bermuda\", \"Triangle\", \".\"], [\"With\", \"air\", \"in\", \"short\", \"supply\", \",\", \"water\", \"leaking\", \"in\", \"&\"  …  \"is\", \"entertaining\", \"although\", \"not\", \"necessarily\", \"for\", \"the\", \"right\", \"reasons\", \".\"], [\"Out\", \"of\", \"the\", \"three\", \"Airport\", \"films\", \"I\", \"have\", \"seen\", \"so\"  …  \"I\", \"actually\", \"liked\", \"this\", \"one\", \"the\", \"best\", \",\", \"just\", \".\"], [\"It\", \"has\", \"my\", \"favourite\", \"plot\", \"of\", \"the\", \"three\", \"with\", \"a\"  …  \"suspense\", \"or\", \"tension\", \"means\", \"this\", \"is\", \"a\", \"missed\", \"opportunity\", \".\"], [\"While\", \"the\", \"rather\", \"sluggish\", \"plot\", \"keeps\", \"one\", \"entertained\", \"for\", \"108\"  …  \"much\", \"urgency\", \"as\", \"I\", \"thought\", \"there\", \"should\", \"have\", \"been\", \".\"], [\"Even\", \"when\", \"the\", \"Navy\", \"become\", \"involved\", \"things\", \"don\", \"'\", \"t\"  …  \"about\", \"but\", \"there\", \"'\", \"s\", \"just\", \"something\", \"lacking\", \"here\", \".\"], [\"George\", \"Kennedy\", \"as\", \"the\", \"jinxed\", \"airline\", \"worker\", \"Joe\", \"Patroni\", \"is\"  …  \"or\", \"another\", \"couple\", \"of\", \"dead\", \"bodies\", \"including\", \"the\", \"navigator\", \".\"], [\"While\", \"I\", \"would\", \"like\", \"to\", \"see\", \"this\", \"extra\", \"footage\", \"I\"  …  \"a\", \"near\", \"three\", \"hour\", \"cut\", \"of\", \"Airport\", \"'\", \"77\", \".\"], [\"As\", \"expected\", \"the\", \"film\", \"has\", \"dated\", \"badly\", \"with\", \"horrible\", \"fashions\"  …  \"toy\", \"plane\", \"model\", \"effects\", \"aren\", \"'\", \"t\", \"great\", \"either\", \".\"], [\"Along\", \"with\", \"the\", \"other\", \"two\", \"Airport\", \"sequels\", \"this\", \"takes\", \"pride\"  …  \"so\", \"I\", \"reckon\", \"that\", \"'\", \"s\", \"a\", \"little\", \"harsh\", \".\"], [\"The\", \"action\", \"scenes\", \"are\", \"a\", \"little\", \"dull\", \"unfortunately\", \",\", \"the\"  …  \"/\", \">The\", \"production\", \"values\", \"are\", \"alright\", \"if\", \"nothing\", \"spectacular\", \".\"], [\"The\", \"acting\", \"isn\", \"'\", \"t\", \"great\", \",\", \"two\", \"time\", \"Oscar\"  …  \"just\", \"shouldn\", \"'\", \"t\", \"be\", \"this\", \"boring\", \"or\", \"lethargic\", \".\"], [\"Followed\", \"by\", \"The\", \"Concorde\"], [\"Airport\", \"'\", \"79\", \"(\", \"1979\", \")\", \".\"]]"
      ]
     },
     "execution_count": 90,
     "metadata": {},
     "output_type": "execute_result"
    }
   ],
   "source": [
    "ntrain=collect(take(dataset_train_neg,2))\n",
    "#convert it into an array of array of strings"
   ]
  },
  {
   "cell_type": "code",
   "execution_count": 91,
   "metadata": {},
   "outputs": [
    {
     "data": {
      "text/plain": [
       "2-element Array{Array{Array{String,1},1},1}:\n",
       " [[\"I\", \"went\", \"and\", \"saw\", \"this\", \"movie\", \"last\", \"night\", \"after\", \"being\", \"coaxed\", \"to\", \"by\", \"a\", \"few\", \"friends\", \"of\", \"mine\", \".\"], [\"I\", \"'\", \"ll\", \"admit\", \"that\", \"I\", \"was\", \"reluctant\", \"to\", \"see\"  …  \"Ashton\", \"Kutcher\", \"he\", \"was\", \"only\", \"able\", \"to\", \"do\", \"comedy\", \".\"], [\"I\", \"was\", \"wrong\", \".\"], [\"Kutcher\", \"played\", \"the\", \"character\", \"of\", \"Jake\", \"Fischer\", \"very\", \"well\", \",\", \"and\", \"Kevin\", \"Costner\", \"played\", \"Ben\", \"Randall\", \"with\", \"such\", \"professionalism\", \".\"], [\"The\", \"sign\", \"of\", \"a\", \"good\", \"movie\", \"is\", \"that\", \"it\", \"can\", \"toy\", \"with\", \"our\", \"emotions\", \".\"], [\"This\", \"one\", \"did\", \"exactly\", \"that\", \".\"], [\"The\", \"entire\", \"theater\", \"(\", \"which\", \"was\", \"sold\", \"out\", \")\", \"was\"  …  \"and\", \"were\", \"moved\", \"to\", \"tears\", \"during\", \"the\", \"second\", \"half\", \".\"], [\"While\", \"exiting\", \"the\", \"theater\", \"I\", \"not\", \"only\", \"saw\", \"many\", \"women\"  …  \"trying\", \"desperately\", \"not\", \"to\", \"let\", \"anyone\", \"see\", \"them\", \"crying\", \".\"], [\"This\", \"movie\", \"was\", \"great\", \",\", \"and\", \"I\", \"suggest\", \"that\", \"you\", \"go\", \"see\", \"it\", \"before\", \"you\", \"judge\", \".\"]]\n",
       " [[\"Actor\", \"turned\", \"director\", \"Bill\", \"Paxton\", \"follows\", \"up\", \"his\", \"promising\", \"debut\"  …  \"but\", \"lumbers\", \"along\", \"slowly\", \"for\", \"its\", \"first\", \"by-the-numbers\", \"hour\", \".\"], [\"Once\", \"the\", \"action\", \"moves\", \"to\", \"the\", \"U.S.\", \"Open\", \"things\", \"pick\", \"up\", \"very\", \"well\", \".\"], [\"Paxton\", \"does\", \"a\", \"nice\", \"job\", \"and\", \"shows\", \"a\", \"knack\", \"for\"  …  \"or\", \"add\", \"some\", \"unexpected\", \"psychological\", \"depth\", \"to\", \"the\", \"proceedings\", \".\"], [\"There\", \"'\", \"s\", \"some\", \"compelling\", \"character\", \"development\", \"when\", \"the\", \"British\"  …  \"a\", \"child\", \"to\", \"make\", \"way\", \"for\", \"a\", \"golf\", \"course\", \".\"], [\"He\", \"also\", \"does\", \"a\", \"good\", \"job\", \"of\", \"visually\", \"depicting\", \"what\", \"goes\", \"on\", \"in\", \"the\", \"players\", \"'\", \"heads\", \"under\", \"pressure\", \".\"], [\"Golf\", \",\", \"a\", \"painfully\", \"boring\", \"sport\", \",\", \"is\", \"brought\", \"vividly\", \"alive\", \"here\", \".\"], [\"Credit\", \"should\", \"also\", \"be\", \"given\", \"the\", \"set\", \"designers\", \"and\", \"costume\"  …  \"camera\", \"than\", \"he\", \"ever\", \"had\", \"in\", \"front\", \"of\", \"it\", \".\"], [\"Despite\", \"the\", \"formulaic\", \"nature\", \",\", \"this\", \"is\", \"a\", \"nice\", \"and\"  …  \"to\", \"root\", \"for\", \"that\", \"deserves\", \"to\", \"find\", \"an\", \"audience\", \".\"]]"
      ]
     },
     "execution_count": 91,
     "metadata": {},
     "output_type": "execute_result"
    }
   ],
   "source": [
    "ptest=collect(take(dataset_test_pos,2))\n",
    "#convert it into an array of array of strings"
   ]
  },
  {
   "cell_type": "code",
   "execution_count": 92,
   "metadata": {
    "scrolled": true
   },
   "outputs": [
    {
     "data": {
      "text/plain": [
       "2-element Array{Array{Array{String,1},1},1}:\n",
       " [[\"Once\", \"again\", \"Mr.\", \"Costner\", \"has\", \"dragged\", \"out\", \"a\", \"movie\", \"for\", \"far\", \"longer\", \"than\", \"necessary\", \".\"], [\"Aside\", \"from\", \"the\", \"terrific\", \"sea\", \"rescue\", \"sequences\", \",\", \"of\", \"which\"  …  \"just\", \"did\", \"not\", \"care\", \"about\", \"any\", \"of\", \"the\", \"characters\", \".\"], [\"Most\", \"of\", \"us\", \"have\", \"ghosts\", \"in\", \"the\", \"closet\", \",\", \"and\"  …  \"later\", \",\", \"by\", \"which\", \"time\", \"I\", \"did\", \"not\", \"care\", \".\"], [\"The\", \"character\", \"we\", \"should\", \"really\", \"care\", \"about\", \"is\", \"a\", \"very\", \"cocky\", \",\", \"overconfident\", \"Ashton\", \"Kutcher\", \".\"], [\"The\", \"problem\", \"is\", \"he\", \"comes\", \"off\", \"as\", \"kid\", \"who\", \"thinks\"  …  \"him\", \"and\", \"shows\", \"no\", \"signs\", \"of\", \"a\", \"cluttered\", \"closet\", \".\"], [\"His\", \"only\", \"obstacle\", \"appears\", \"to\", \"be\", \"winning\", \"over\", \"Costner\", \".\"], [\"Finally\", \"when\", \"we\", \"are\", \"well\", \"past\", \"the\", \"half\", \"way\", \"point\"  …  \"Costner\", \"tells\", \"us\", \"all\", \"about\", \"Kutcher\", \"'\", \"s\", \"ghosts\", \".\"], [\"We\", \"are\", \"told\", \"why\", \"Kutcher\", \"is\", \"driven\", \"to\", \"be\", \"the\", \"best\", \"with\", \"no\", \"prior\", \"inkling\", \"or\", \"foreshadowing\", \".\"], [\"No\", \"magic\", \"here\", \",\", \"it\", \"was\", \"all\", \"I\", \"could\", \"do\", \"to\", \"keep\", \"from\", \"turning\", \"it\", \"off\", \"an\", \"hour\", \"in\", \".\"]]\n",
       " [[\"This\", \"is\", \"an\", \"example\", \"of\", \"why\", \"the\", \"majority\", \"of\", \"action\", \"films\", \"are\", \"the\", \"same\", \".\"], [\"Generic\", \"and\", \"boring\", \",\", \"there\", \"'\", \"s\", \"really\", \"nothing\", \"worth\", \"watching\", \"here\", \".\"], [\"A\", \"complete\", \"waste\", \"of\", \"the\", \"then\", \"barely-tapped\", \"talents\", \"of\", \"Ice-T\"  …  \"they\", \"are\", \"capable\", \"of\", \"acting\", \",\", \"and\", \"acting\", \"well\", \".\"], [\"Don\", \"'\", \"t\", \"bother\", \"with\", \"this\", \"one\", \",\", \"go\", \"see\"  …  \"Friday\", \"for\", \"Ice\", \"Cube\", \"and\", \"see\", \"the\", \"real\", \"deal\", \".\"], [\"Ice-T\", \"'\", \"s\", \"horribly\", \"cliched\", \"dialogue\", \"alone\", \"makes\", \"this\", \"film\"  …  \"the\", \"heck\", \"Bill\", \"Paxton\", \"was\", \"doing\", \"in\", \"this\", \"film\", \"?\"], [\"And\", \"why\", \"the\", \"heck\", \"does\", \"he\", \"always\", \"play\", \"the\", \"exact\", \"same\", \"character\", \"?\"], [\"From\", \"Aliens\", \"onward\", \",\", \"every\", \"film\", \"I\", \"'\", \"ve\", \"seen\"  …  \"><br\", \"/\", \">Overall\", \",\", \"this\", \"is\", \"second-rate\", \"action\", \"trash\", \".\"], [\"There\", \"are\", \"countless\", \"better\", \"films\", \"to\", \"see\", \",\", \"and\", \"if\"  …  \"copy\", \"but\", \"has\", \"better\", \"acting\", \"and\", \"a\", \"better\", \"script\", \".\"], [\"The\", \"only\", \"thing\", \"that\", \"made\", \"this\", \"at\", \"all\", \"worth\", \"watching\"  …  \"for\", \"the\", \"horrible\", \"film\", \"itself\", \"-\", \"but\", \"not\", \"quite\", \".\"], [\"4\", \"/\", \"10\", \".\"]]"
      ]
     },
     "execution_count": 92,
     "metadata": {},
     "output_type": "execute_result"
    }
   ],
   "source": [
    "ntest=collect(take(dataset_test_neg,2))\n",
    "#convert it into an array of array of strings"
   ]
  },
  {
   "cell_type": "code",
   "execution_count": 93,
   "metadata": {},
   "outputs": [
    {
     "data": {
      "text/plain": [
       "convert_clean_arr (generic function with 1 method)"
      ]
     },
     "execution_count": 93,
     "metadata": {},
     "output_type": "execute_result"
    }
   ],
   "source": [
    "using Unicode\n",
    "function convert_clean_arr(arr)\n",
    "    arr = string.(arr)\n",
    "    arr = Unicode.normalize.(arr, stripmark=true)\n",
    "    arr = map(x -> replace(x, r\"[^a-zA-Z0-9_]\" => \" \"), arr)\n",
    "    return arr\n",
    "end\n",
    "\n",
    "#function to remove punctuation marks"
   ]
  },
  {
   "cell_type": "code",
   "execution_count": 94,
   "metadata": {},
   "outputs": [
    {
     "data": {
      "text/plain": [
       "2-element Array{String,1}:\n",
       " \"[[\\\"Bromwell\\\", \\\"High\\\", \\\"is\\\", \\\"a\\\", \\\"cartoon\\\", \\\"comedy\\\", \\\".\\\"], [\\\"It\\\", \\\"ran\\\", \\\"at\\\", \\\"the\\\", \\\"same\\\", \\\"time\\\", \\\"as\\\", \\\"some\\\", \\\"other\\\", \\\"programs\\\", \\\"about\\\", \\\"school\\\", \\\"life\\\", \\\",\\\", \\\"such\\\", \\\"as\\\", \\\"\\\\\\\"\\\", \\\"Teachers\\\", \\\"\\\\\\\"\\\", \\\".\\\"], [\\\"My\\\", \\\"35\\\", \\\"years\\\", \\\"in\\\", \\\"the\\\", \\\"teaching\\\", \\\"profession\\\", \\\"lead\\\", \\\"me\\\", \\\"to\\\", \\\"believe\\\", \\\"that\\\", \\\"Bromwell\\\", \\\"High\\\", \\\"'\\\", \\\"s\\\", \\\"satire\\\", \\\"is\\\", \\\"much\\\", \\\"closer\\\", \\\"to\\\", \\\"reality\\\", \\\"than\\\", \\\"is\\\", \\\"\\\\\\\"\\\", \\\"Teachers\\\", \\\"\\\\\\\"\\\", \\\".\\\"], [\\\"The\\\", \\\"scramble\\\", \\\"to\\\", \\\"survive\\\", \\\"financially\\\", \\\",\\\", \\\"the\\\", \\\"insightful\\\", \\\"students\\\", \\\"who\\\", \\\"can\\\", \\\"see\\\", \\\"right\\\", \\\"through\\\", \\\"their\\\", \\\"pathetic\\\", \\\"teachers\\\", \\\"'\\\", \\\"pomp\\\", \\\",\\\", \\\"the\\\", \\\"pettiness\\\", \\\"of\\\", \\\"the\\\", \\\"whole\\\", \\\"situation\\\", \\\",\\\", \\\"all\\\", \\\"remind\\\", \\\"me\\\", \\\"of\\\", \\\"the\\\", \\\"schools\\\", \\\"I\\\", \\\"knew\\\", \\\"and\\\", \\\"their\\\", \\\"students\\\", \\\".\\\"], [\\\"When\\\", \\\"I\\\", \\\"saw\\\", \\\"the\\\", \\\"episode\\\", \\\"in\\\", \\\"which\\\", \\\"a\\\", \\\"student\\\", \\\"repeatedly\\\", \\\"tried\\\", \\\"to\\\", \\\"burn\\\", \\\"down\\\", \\\"the\\\", \\\"school\\\", \\\",\\\", \\\"I\\\", \\\"immediately\\\", \\\"recalled\\\", \\\"at\\\"], [\\\"High\\\", \\\".\\\"], [\\\"A\\\", \\\"classic\\\", \\\"line\\\", \\\":\\\", \\\"INSPECTOR\\\", \\\":\\\", \\\"I\\\", \\\"'\\\", \\\"m\\\", \\\"here\\\", \\\"to\\\", \\\"sack\\\", \\\"one\\\", \\\"of\\\", \\\"your\\\", \\\"teachers\\\", \\\".\\\"], [\\\"STUDENT\\\", \\\":\\\", \\\"Welcome\\\", \\\"to\\\", \\\"Bromwell\\\", \\\"High\\\", \\\".\\\"], [\\\"I\\\", \\\"expect\\\", \\\"that\\\", \\\"many\\\", \\\"adults\\\", \\\"of\\\", \\\"my\\\", \\\"age\\\", \\\"think\\\", \\\"that\\\", \\\"Bromwell\\\", \\\"High\\\", \\\"is\\\", \\\"far\\\", \\\"fetched\\\", \\\".\\\"], [\\\"What\\\", \\\"a\\\", \\\"pity\\\", \\\"that\\\", \\\"it\\\", \\\"isn\\\", \\\"'\\\", \\\"t\\\", \\\"!\\\"]]\"\n",
       " \"[[\\\"Homelessness\\\", \\\"(\\\", \\\"or\\\", \\\"Houselessness\\\", \\\"as\\\", \\\"George\\\", \\\"Carlin\\\", \\\"stated\\\", \\\")\\\", \\\"has\\\", \\\"been\\\", \\\"an\\\", \\\"issue\\\", \\\"for\\\", \\\"years\\\", \\\"but\\\", \\\"never\\\", \\\"a\\\", \\\"plan\\\", \\\"to\\\", \\\"help\\\", \\\"those\\\", \\\"on\\\", \\\"the\\\", \\\"street\\\", \\\"that\\\", \\\"were\\\", \\\"once\\\", \\\"considered\\\", \\\"human\\\", \\\"who\\\", \\\"did\\\", \\\"everything\\\", \\\"from\\\", \\\"going\\\", \\\"to\\\", \\\"school\\\", \\\",\\\", \\\"work\\\", \\\",\\\", \\\"or\\\", \\\"vote\\\", \\\"for\\\", \\\"the\\\", \\\"matter\\\", \\\".\\\"], [\\\"Most\\\", \\\"people\\\", \\\"think\\\", \\\"of\\\", \\\"the\\\", \\\"homeless\\\", \\\"as\\\", \\\"just\\\", \\\"a\\\", \\\"lost\\\", \\\"cause\\\", \\\"while\\\", \\\"worrying\\\", \\\"about\\\", \\\"things\\\", \\\"such\\\", \\\"as\\\", \\\"racism\\\", \\\",\\\", \\\"the\\\", \\\"war\\\", \\\"on\\\", \\\"Iraq\\\", \\\",\\\", \\\"pressuring\\\", \\\"kids\\\", \\\"to\\\", \\\"succeed\\\", \\\",\\\", \\\"technology\\\", \\\",\\\", \\\"the\\\", \\\"elections\\\", \\\",\\\", \\\"inflation\\\", \\\",\\\", \\\"or\\\", \\\"worrying\\\", \\\"if\\\", \\\"they\\\", \\\"'\\\", \\\"ll\\\", \\\"be\\\", \\\"next\\\", \\\"to\\\", \\\"end\\\", \\\"up\\\", \\\"on\\\", \\\"the\\\", \\\"streets.<br\\\", \\\"/\\\", \\\"><br\\\", \\\"/\\\", \\\">But\\\", \\\"what\\\", \\\"if\\\", \\\"you\\\", \\\"were\\\", \\\"given\\\", \\\"a\\\", \\\"bet\\\", \\\"to\\\", \\\"live\\\", \\\"on\\\", \\\"the\\\", \\\"streets\\\", \\\"for\\\", \\\"a\\\", \\\"month\\\", \\\"without\\\", \\\"the\\\", \\\"luxuries\\\", \\\"you\\\", \\\"once\\\", \\\"had\\\", \\\"from\\\", \\\"a\\\", \\\"home\\\", \\\",\\\", \\\"the\\\", \\\"entertainment\\\", \\\"sets\\\", \\\",\\\", \\\"a\\\", \\\"bathroom\\\", \\\",\\\", \\\"pictures\\\", \\\"on\\\", \\\"the\\\", \\\"wall\\\", \\\",\\\", \\\"a\\\", \\\"computer\\\", \\\",\\\", \\\"and\\\", \\\"everything\\\", \\\"you\\\", \\\"once\\\", \\\"treasure\\\", \\\"to\\\", \\\"see\\\", \\\"what\\\", \\\"it\\\", \\\"'\\\", \\\"s\\\", \\\"like\\\", \\\"to\\\", \\\"be\\\", \\\"homeless\\\", \\\"?\\\"], [\\\"That\\\", \\\"is\\\", \\\"Goddard\\\", \\\"Bolt\\\", \\\"'\\\", \\\"s\\\", \\\"lesson.<br\\\", \\\"/\\\", \\\"><br\\\", \\\"/\\\", \\\">Mel\\\", \\\"Brooks\\\", \\\"(\\\", \\\"who\\\", \\\"directs\\\", \\\")\\\", \\\"who\\\", \\\"stars\\\", \\\"as\\\", \\\"Bolt\\\", \\\"plays\\\", \\\"a\\\", \\\"rich\\\", \\\"man\\\", \\\"who\\\", \\\"has\\\", \\\"everything\\\", \\\"in\\\", \\\"the\\\", \\\"world\\\", \\\"until\\\", \\\"deciding\\\", \\\"to\\\", \\\"make\\\", \\\"a\\\", \\\"bet\\\", \\\"with\\\", \\\"a\\\", \\\"sissy\\\", \\\"rival\\\", \\\"(\\\", \\\"Jeffery\\\", \\\"Tambor\\\", \\\")\\\", \\\"to\\\", \\\"see\\\", \\\"if\\\", \\\"he\\\", \\\"can\\\", \\\"live\\\", \\\"in\\\", \\\"the\\\", \\\"streets\\\", \\\"for\\\", \\\"thirty\\\", \\\"days\\\", \\\"without\\\", \\\"the\\\", \\\"luxuries\\\", \\\";\\\", \\\"if\\\", \\\"Bolt\\\", \\\"succeeds\\\", \\\",\\\", \\\"he\\\", \\\"can\\\", \\\"do\\\", \\\"what\\\", \\\"he\\\", \\\"wants\\\", \\\"with\\\", \\\"a\\\", \\\"future\\\", \\\"project\\\", \\\"of\\\", \\\"making\\\", \\\"more\\\", \\\"buildings\\\", \\\".\\\"], [\\\"The\\\", \\\"bet\\\", \\\"'\\\", \\\"s\\\", \\\"on\\\", \\\"where\\\", \\\"Bolt\\\", \\\"is\\\", \\\"thrown\\\", \\\"on\\\", \\\"the\\\", \\\"street\\\", \\\"with\\\", \\\"a\\\", \\\"bracelet\\\", \\\"on\\\", \\\"his\\\", \\\"leg\\\", \\\"to\\\", \\\"monitor\\\", \\\"his\\\", \\\"every\\\", \\\"move\\\", \\\"where\\\", \\\"he\\\", \\\"can\\\", \\\"'\\\", \\\"t\\\", \\\"step\\\", \\\"off\\\", \\\"the\\\", \\\"sidewalk\\\", \\\".\\\"], [\\\"He\\\", \\\"'\\\", \\\"s\\\", \\\"given\\\", \\\"the\\\", \\\"nickname\\\", \\\"Pepto\\\", \\\"by\\\", \\\"a\\\", \\\"vagrant\\\", \\\"after\\\", \\\"it\\\", \\\"'\\\", \\\"s\\\", \\\"written\\\", \\\"on\\\", \\\"his\\\", \\\"forehead\\\", \\\"where\\\", \\\"Bolt\\\", \\\"meets\\\", \\\"other\\\", \\\"characters\\\", \\\"including\\\", \\\"a\\\", \\\"woman\\\", \\\"by\\\", \\\"the\\\", \\\"name\\\", \\\"of\\\", \\\"Molly\\\", \\\"(\\\", \\\"Lesley\\\", \\\"Ann\\\", \\\"Warren\\\", \\\")\\\", \\\"an\\\", \\\"ex-dancer\\\", \\\"who\\\", \\\"got\\\", \\\"divorce\\\", \\\"before\\\", \\\"losing\\\", \\\"her\\\", \\\"home\\\", \\\",\\\", \\\"and\\\", \\\"her\\\", \\\"pals\\\", \\\"Sailor\\\", \\\"(\\\", \\\"Howard\\\", \\\"Morris\\\", \\\")\\\", \\\"and\\\", \\\"Fumes\\\", \\\"(\\\", \\\"Teddy\\\", \\\"Wilson\\\", \\\")\\\", \\\"who\\\", \\\"are\\\", \\\"already\\\", \\\"used\\\", \\\"to\\\", \\\"the\\\", \\\"streets\\\", \\\".\\\"], [\\\"They\\\", \\\"'\\\", \\\"re\\\", \\\"survivors\\\", \\\".\\\"], [\\\"Bolt\\\", \\\"isn\\\", \\\"'\\\", \\\"t\\\", \\\".\\\"], [\\\"He\\\", \\\"'\\\", \\\"s\\\", \\\"not\\\", \\\"used\\\", \\\"to\\\", \\\"reaching\\\", \\\"mutual\\\", \\\"agreements\\\", \\\"like\\\", \\\"he\\\", \\\"once\\\", \\\"did\\\", \\\"when\\\", \\\"being\\\", \\\"rich\\\", \\\"where\\\", \\\"it\\\", \\\"'\\\", \\\"s\\\", \\\"fight\\\", \\\"or\\\", \\\"flight\\\", \\\",\\\", \\\"kill\\\", \\\"or\\\", \\\"be\\\", \\\"killed.<br\\\", \\\"/\\\", \\\"><br\\\", \\\"/\\\", \\\">While\\\", \\\"the\\\", \\\"love\\\", \\\"connection\\\", \\\"between\\\", \\\"Molly\\\", \\\"and\\\", \\\"Bolt\\\", \\\"wasn\\\", \\\"'\\\", \\\"t\\\", \\\"necessary\\\", \\\"to\\\", \\\"plot\\\", \\\",\\\", \\\"I\\\", \\\"found\\\", \\\"\\\\\\\"\\\", \\\"Life\\\", \\\"Stinks\\\", \\\"\\\\\\\"\\\", \\\"to\\\", \\\"be\\\", \\\"one\\\", \\\"of\\\", \\\"Mel\\\", \\\"Brooks\\\", \\\"'\\\", \\\"observant\\\", \\\"films\\\", \\\"where\\\", \\\"prior\\\", \\\"to\\\", \\\"being\\\", \\\"a\\\", \\\"comedy\\\", \\\",\\\", \\\"it\\\", \\\"shows\\\", \\\"a\\\", \\\"tender\\\", \\\"side\\\", \\\"compared\\\", \\\"to\\\", \\\"his\\\", \\\"slapstick\\\", \\\"work\\\", \\\"such\\\", \\\"as\\\", \\\"Blazing\\\", \\\"Saddles\\\", \\\",\\\", \\\"Young\\\", \\\"Frankenstein\\\", \\\",\\\", \\\"or\\\", \\\"Spaceballs\\\", \\\"for\\\", \\\"the\\\", \\\"matter\\\", \\\",\\\", \\\"to\\\", \\\"show\\\", \\\"what\\\", \\\"it\\\", \\\"'\\\", \\\"s\\\", \\\"like\\\", \\\"having\\\", \\\"something\\\", \\\"valuable\\\", \\\"before\\\", \\\"losing\\\", \\\"it\\\", \\\"the\\\", \\\"next\\\", \\\"day\\\", \\\"or\\\", \\\"on\\\", \\\"the\\\", \\\"other\\\", \\\"hand\\\", \\\"making\\\", \\\"a\\\", \\\"stupid\\\", \\\"bet\\\", \\\"like\\\", \\\"all\\\", \\\"rich\\\", \\\"people\\\", \\\"do\\\", \\\"when\\\", \\\"they\\\", \\\"don\\\", \\\"'\\\", \\\"t\\\", \\\"know\\\", \\\"what\\\", \\\"to\\\", \\\"do\\\", \\\"with\\\", \\\"their\\\", \\\"money\\\", \\\".\\\"], [\\\"Maybe\\\", \\\"they\\\", \\\"should\\\", \\\"give\\\", \\\"it\\\", \\\"to\\\", \\\"the\\\", \\\"homeless\\\", \\\"instead\\\", \\\"of\\\", \\\"using\\\", \\\"it\\\", \\\"like\\\", \\\"Monopoly\\\", \\\"money.<br\\\", \\\"/\\\", \\\"><br\\\", \\\"/\\\", \\\">Or\\\", \\\"maybe\\\", \\\"this\\\", \\\"film\\\", \\\"will\\\", \\\"inspire\\\", \\\"you\\\", \\\"to\\\", \\\"help\\\", \\\"others\\\", \\\".\\\"]]\""
      ]
     },
     "execution_count": 94,
     "metadata": {},
     "output_type": "execute_result"
    }
   ],
   "source": [
    "ptr=string.(ptrain)\n",
    "#converting to string"
   ]
  },
  {
   "cell_type": "code",
   "execution_count": 95,
   "metadata": {},
   "outputs": [
    {
     "data": {
      "text/plain": [
       "2-element Array{String,1}:\n",
       " \"[[\\\"Story\\\", \\\"of\\\", \\\"a\\\", \\\"man\\\", \\\"who\\\", \\\"has\\\", \\\"unnatural\\\", \\\"feelings\\\", \\\"for\\\", \\\"a\\\", \\\"pig\\\", \\\".\\\"], [\\\"Starts\\\", \\\"out\\\", \\\"with\\\", \\\"a\\\", \\\"opening\\\", \\\"scene\\\", \\\"that\\\", \\\"is\\\", \\\"a\\\", \\\"terrific\\\", \\\"example\\\", \\\"of\\\", \\\"absurd\\\", \\\"comedy\\\", \\\".\\\"], [\\\"A\\\", \\\"formal\\\", \\\"orchestra\\\", \\\"audience\\\", \\\"is\\\", \\\"turned\\\", \\\"into\\\", \\\"an\\\", \\\"insane\\\", \\\",\\\", \\\"violent\\\", \\\"mob\\\", \\\"by\\\", \\\"the\\\", \\\"crazy\\\", \\\"chantings\\\", \\\"of\\\", \\\"it\\\", \\\"'\\\", \\\"s\\\", \\\"singers\\\", \\\".\\\"], [\\\"Unfortunately\\\", \\\"it\\\", \\\"stays\\\", \\\"absurd\\\", \\\"the\\\", \\\"WHOLE\\\", \\\"time\\\", \\\"with\\\", \\\"no\\\", \\\"general\\\", \\\"narrative\\\", \\\"eventually\\\", \\\"making\\\", \\\"it\\\", \\\"just\\\", \\\"too\\\", \\\"off\\\", \\\"putting\\\", \\\".\\\"], [\\\"Even\\\", \\\"those\\\", \\\"from\\\", \\\"the\\\", \\\"era\\\", \\\"should\\\", \\\"be\\\", \\\"turned\\\", \\\"off\\\", \\\".\\\"], [\\\"The\\\", \\\"cryptic\\\", \\\"dialogue\\\", \\\"would\\\", \\\"make\\\", \\\"Shakespeare\\\", \\\"seem\\\", \\\"easy\\\", \\\"to\\\", \\\"a\\\", \\\"third\\\", \\\"grader\\\", \\\".\\\"], [\\\"On\\\", \\\"a\\\", \\\"technical\\\", \\\"level\\\", \\\"it\\\", \\\"'\\\", \\\"s\\\", \\\"better\\\", \\\"than\\\", \\\"you\\\", \\\"might\\\", \\\"think\\\", \\\"with\\\", \\\"some\\\", \\\"good\\\", \\\"cinematography\\\", \\\"by\\\", \\\"future\\\", \\\"great\\\", \\\"Vilmos\\\", \\\"Zsigmond\\\", \\\".\\\"], [\\\"Future\\\", \\\"stars\\\", \\\"Sally\\\", \\\"Kirkland\\\", \\\"and\\\", \\\"Frederic\\\", \\\"Forrest\\\", \\\"can\\\", \\\"be\\\", \\\"seen\\\", \\\"briefly\\\", \\\".\\\"]]\"\n",
       " \"[[\\\"Airport\\\", \\\"'\\\", \\\"77\\\", \\\"starts\\\", \\\"as\\\", \\\"a\\\", \\\"brand\\\", \\\"new\\\", \\\"luxury\\\", \\\"747\\\", \\\"plane\\\", \\\"is\\\", \\\"loaded\\\", \\\"up\\\", \\\"with\\\", \\\"valuable\\\", \\\"paintings\\\", \\\"&\\\", \\\"such\\\", \\\"belonging\\\", \\\"to\\\", \\\"rich\\\", \\\"businessman\\\", \\\"Philip\\\", \\\"Stevens\\\", \\\"(\\\", \\\"James\\\", \\\"Stewart\\\", \\\")\\\", \\\"who\\\", \\\"is\\\", \\\"flying\\\", \\\"them\\\", \\\"&\\\", \\\"a\\\", \\\"bunch\\\", \\\"of\\\", \\\"VIP\\\", \\\"'\\\", \\\"s\\\", \\\"to\\\", \\\"his\\\", \\\"estate\\\", \\\"in\\\", \\\"preparation\\\", \\\"of\\\", \\\"it\\\", \\\"being\\\", \\\"opened\\\", \\\"to\\\", \\\"the\\\", \\\"public\\\", \\\"as\\\", \\\"a\\\", \\\"museum\\\", \\\",\\\", \\\"also\\\", \\\"on\\\", \\\"board\\\", \\\"is\\\", \\\"Stevens\\\", \\\"daughter\\\", \\\"Julie\\\", \\\"(\\\", \\\"Kathleen\\\", \\\"Quinlan\\\", \\\")\\\", \\\"&\\\", \\\"her\\\", \\\"son\\\", \\\".\\\"], [\\\"The\\\", \\\"luxury\\\", \\\"jetliner\\\", \\\"takes\\\", \\\"off\\\", \\\"as\\\", \\\"planned\\\", \\\"but\\\", \\\"mid-air\\\", \\\"the\\\", \\\"plane\\\", \\\"is\\\", \\\"hi-jacked\\\", \\\"by\\\", \\\"the\\\", \\\"co-pilot\\\", \\\"Chambers\\\", \\\"(\\\", \\\"Robert\\\", \\\"Foxworth\\\", \\\")\\\", \\\"&\\\", \\\"his\\\", \\\"two\\\", \\\"accomplice\\\", \\\"'\\\", \\\"s\\\", \\\"Banker\\\", \\\"(\\\", \\\"Monte\\\", \\\"Markham\\\", \\\")\\\", \\\"&\\\", \\\"Wilson\\\", \\\"(\\\", \\\"Michael\\\", \\\"Pataki\\\", \\\")\\\", \\\"who\\\", \\\"knock\\\", \\\"the\\\", \\\"passengers\\\", \\\"&\\\", \\\"crew\\\", \\\"out\\\", \\\"with\\\", \\\"sleeping\\\", \\\"gas\\\", \\\",\\\", \\\"they\\\", \\\"plan\\\", \\\"to\\\", \\\"steal\\\", \\\"the\\\", \\\"valuable\\\", \\\"cargo\\\", \\\"&\\\", \\\"land\\\", \\\"on\\\", \\\"a\\\", \\\"disused\\\", \\\"plane\\\", \\\"strip\\\", \\\"on\\\", \\\"an\\\", \\\"isolated\\\", \\\"island\\\", \\\"but\\\", \\\"while\\\", \\\"making\\\", \\\"his\\\", \\\"descent\\\", \\\"Chambers\\\", \\\"almost\\\", \\\"hits\\\", \\\"an\\\", \\\"oil\\\", \\\"rig\\\", \\\"in\\\", \\\"the\\\", \\\"Ocean\\\", \\\"&\\\", \\\"loses\\\", \\\"control\\\", \\\"of\\\", \\\"the\\\", \\\"plane\\\", \\\"sending\\\", \\\"it\\\", \\\"crashing\\\", \\\"into\\\", \\\"the\\\", \\\"sea\\\", \\\"where\\\", \\\"it\\\", \\\"sinks\\\", \\\"to\\\", \\\"the\\\", \\\"bottom\\\", \\\"right\\\", \\\"bang\\\", \\\"in\\\", \\\"the\\\", \\\"middle\\\", \\\"of\\\", \\\"the\\\", \\\"Bermuda\\\", \\\"Triangle\\\", \\\".\\\"], [\\\"With\\\", \\\"air\\\", \\\"in\\\", \\\"short\\\", \\\"supply\\\", \\\",\\\", \\\"water\\\", \\\"leaking\\\", \\\"in\\\", \\\"&\\\", \\\"having\\\", \\\"flown\\\", \\\"over\\\", \\\"200\\\", \\\"miles\\\", \\\"off\\\", \\\"course\\\", \\\"the\\\", \\\"problems\\\", \\\"mount\\\", \\\"for\\\", \\\"the\\\", \\\"survivor\\\", \\\"'\\\", \\\"s\\\", \\\"as\\\", \\\"they\\\", \\\"await\\\", \\\"help\\\", \\\"with\\\", \\\"time\\\", \\\"fast\\\", \\\"running\\\", \\\"out<br\\\", \\\"/\\\", \\\"><br\\\", \\\"/\\\", \\\">Also\\\", \\\"known\\\", \\\"under\\\", \\\"the\\\", \\\"slightly\\\", \\\"different\\\", \\\"tile\\\", \\\"Airport\\\", \\\"1977\\\", \\\"this\\\", \\\"second\\\", \\\"sequel\\\", \\\"to\\\", \\\"the\\\", \\\"smash-hit\\\", \\\"disaster\\\", \\\"thriller\\\", \\\"Airport\\\", \\\"(\\\", \\\"1970\\\", \\\")\\\", \\\"was\\\", \\\"directed\\\", \\\"by\\\", \\\"Jerry\\\", \\\"Jameson\\\", \\\"&\\\", \\\"while\\\", \\\"once\\\", \\\"again\\\", \\\"like\\\", \\\"it\\\", \\\"'\\\", \\\"s\\\", \\\"predecessors\\\", \\\"I\\\", \\\"can\\\", \\\"'\\\", \\\"t\\\", \\\"say\\\", \\\"Airport\\\", \\\"'\\\", \\\"77\\\", \\\"is\\\", \\\"any\\\", \\\"sort\\\", \\\"of\\\", \\\"forgotten\\\", \\\"classic\\\", \\\"it\\\", \\\"is\\\", \\\"entertaining\\\", \\\"although\\\", \\\"not\\\", \\\"necessarily\\\", \\\"for\\\", \\\"the\\\", \\\"right\\\", \\\"reasons\\\", \\\".\\\"], [\\\"Out\\\", \\\"of\\\", \\\"the\\\", \\\"three\\\", \\\"Airport\\\", \\\"films\\\", \\\"I\\\", \\\"have\\\", \\\"seen\\\", \\\"so\\\", \\\"far\\\", \\\"I\\\", \\\"actually\\\", \\\"liked\\\", \\\"this\\\", \\\"one\\\", \\\"the\\\", \\\"best\\\", \\\",\\\", \\\"just\\\", \\\".\\\"], [\\\"It\\\", \\\"has\\\", \\\"my\\\", \\\"favourite\\\", \\\"plot\\\", \\\"of\\\", \\\"the\\\", \\\"three\\\", \\\"with\\\", \\\"a\\\", \\\"nice\\\", \\\"mid-air\\\", \\\"hi-jacking\\\", \\\"&\\\", \\\"then\\\", \\\"the\\\", \\\"crashing\\\", \\\"(\\\", \\\"didn\\\", \\\"'\\\", \\\"t\\\", \\\"he\\\", \\\"see\\\", \\\"the\\\", \\\"oil\\\", \\\"rig?)\\\", \\\"&\\\", \\\"sinking\\\", \\\"of\\\", \\\"the\\\", \\\"747\\\", \\\"(\\\", \\\"maybe\\\", \\\"the\\\", \\\"makers\\\", \\\"were\\\", \\\"trying\\\", \\\"to\\\", \\\"cross\\\", \\\"the\\\", \\\"original\\\", \\\"Airport\\\", \\\"with\\\", \\\"another\\\", \\\"popular\\\", \\\"disaster\\\", \\\"flick\\\", \\\"of\\\", \\\"the\\\", \\\"period\\\", \\\"The\\\", \\\"Poseidon\\\", \\\"Adventure\\\", \\\"(\\\", \\\"1972\\\", \\\")\\\", \\\")\\\", \\\"&\\\", \\\"submerged\\\", \\\"is\\\", \\\"where\\\", \\\"it\\\", \\\"stays\\\", \\\"until\\\", \\\"the\\\", \\\"end\\\", \\\"with\\\", \\\"a\\\", \\\"stark\\\", \\\"dilemma\\\", \\\"facing\\\", \\\"those\\\", \\\"trapped\\\", \\\"inside\\\", \\\",\\\", \\\"either\\\", \\\"suffocate\\\", \\\"when\\\", \\\"the\\\", \\\"air\\\", \\\"runs\\\", \\\"out\\\", \\\"or\\\", \\\"drown\\\", \\\"as\\\", \\\"the\\\", \\\"747\\\", \\\"floods\\\", \\\"or\\\", \\\"if\\\", \\\"any\\\", \\\"of\\\", \\\"the\\\", \\\"doors\\\", \\\"are\\\", \\\"opened\\\", \\\"&\\\", \\\"it\\\", \\\"'\\\", \\\"s\\\", \\\"a\\\", \\\"decent\\\", \\\"idea\\\", \\\"that\\\", \\\"could\\\", \\\"have\\\", \\\"made\\\", \\\"for\\\", \\\"a\\\", \\\"great\\\", \\\"little\\\", \\\"disaster\\\", \\\"flick\\\", \\\"but\\\", \\\"bad\\\", \\\"unsympathetic\\\", \\\"character\\\", \\\"'\\\", \\\"s\\\", \\\",\\\", \\\"dull\\\", \\\"dialogue\\\", \\\",\\\", \\\"lethargic\\\", \\\"set-pieces\\\", \\\"&\\\", \\\"a\\\", \\\"real\\\", \\\"lack\\\", \\\"of\\\", \\\"danger\\\", \\\"or\\\", \\\"suspense\\\", \\\"or\\\", \\\"tension\\\", \\\"means\\\", \\\"this\\\", \\\"is\\\", \\\"a\\\", \\\"missed\\\", \\\"opportunity\\\", \\\".\\\"], [\\\"While\\\", \\\"the\\\", \\\"rather\\\", \\\"sluggish\\\", \\\"plot\\\", \\\"keeps\\\", \\\"one\\\", \\\"entertained\\\", \\\"for\\\", \\\"108\\\", \\\"odd\\\", \\\"minutes\\\", \\\"not\\\", \\\"that\\\", \\\"much\\\", \\\"happens\\\", \\\"after\\\", \\\"the\\\", \\\"plane\\\", \\\"sinks\\\", \\\"&\\\", \\\"there\\\", \\\"'\\\", \\\"s\\\", \\\"not\\\", \\\"as\\\", \\\"much\\\", \\\"urgency\\\", \\\"as\\\", \\\"I\\\", \\\"thought\\\", \\\"there\\\", \\\"should\\\", \\\"have\\\", \\\"been\\\", \\\".\\\"], [\\\"Even\\\", \\\"when\\\", \\\"the\\\", \\\"Navy\\\", \\\"become\\\", \\\"involved\\\", \\\"things\\\", \\\"don\\\", \\\"'\\\", \\\"t\\\", \\\"pick\\\", \\\"up\\\", \\\"that\\\", \\\"much\\\", \\\"with\\\", \\\"a\\\", \\\"few\\\", \\\"shots\\\", \\\"of\\\", \\\"huge\\\", \\\"ships\\\", \\\"&\\\", \\\"helicopters\\\", \\\"flying\\\", \\\"about\\\", \\\"but\\\", \\\"there\\\", \\\"'\\\", \\\"s\\\", \\\"just\\\", \\\"something\\\", \\\"lacking\\\", \\\"here\\\", \\\".\\\"], [\\\"George\\\", \\\"Kennedy\\\", \\\"as\\\", \\\"the\\\", \\\"jinxed\\\", \\\"airline\\\", \\\"worker\\\", \\\"Joe\\\", \\\"Patroni\\\", \\\"is\\\", \\\"back\\\", \\\"but\\\", \\\"only\\\", \\\"gets\\\", \\\"a\\\", \\\"couple\\\", \\\"of\\\", \\\"scenes\\\", \\\"&\\\", \\\"barely\\\", \\\"even\\\", \\\"says\\\", \\\"anything\\\", \\\"preferring\\\", \\\"to\\\", \\\"just\\\", \\\"look\\\", \\\"worried\\\", \\\"in\\\", \\\"the\\\", \\\"background.<br\\\", \\\"/\\\", \\\"><br\\\", \\\"/\\\", \\\">The\\\", \\\"home\\\", \\\"video\\\", \\\"&\\\", \\\"theatrical\\\", \\\"version\\\", \\\"of\\\", \\\"Airport\\\", \\\"'\\\", \\\"77\\\", \\\"run\\\", \\\"108\\\", \\\"minutes\\\", \\\"while\\\", \\\"the\\\", \\\"US\\\", \\\"TV\\\", \\\"versions\\\", \\\"add\\\", \\\"an\\\", \\\"extra\\\", \\\"hour\\\", \\\"of\\\", \\\"footage\\\", \\\"including\\\", \\\"a\\\", \\\"new\\\", \\\"opening\\\", \\\"credits\\\", \\\"sequence\\\", \\\",\\\", \\\"many\\\", \\\"more\\\", \\\"scenes\\\", \\\"with\\\", \\\"George\\\", \\\"Kennedy\\\", \\\"as\\\", \\\"Patroni\\\", \\\",\\\", \\\"flashbacks\\\", \\\"to\\\", \\\"flesh\\\", \\\"out\\\", \\\"character\\\", \\\"'\\\", \\\"s\\\", \\\",\\\", \\\"longer\\\", \\\"rescue\\\", \\\"scenes\\\", \\\"&\\\", \\\"the\\\", \\\"discovery\\\", \\\"or\\\", \\\"another\\\", \\\"couple\\\", \\\"of\\\", \\\"dead\\\", \\\"bodies\\\", \\\"including\\\", \\\"the\\\", \\\"navigator\\\", \\\".\\\"], [\\\"While\\\", \\\"I\\\", \\\"would\\\", \\\"like\\\", \\\"to\\\", \\\"see\\\", \\\"this\\\", \\\"extra\\\", \\\"footage\\\", \\\"I\\\", \\\"am\\\", \\\"not\\\", \\\"sure\\\", \\\"I\\\", \\\"could\\\", \\\"sit\\\", \\\"through\\\", \\\"a\\\", \\\"near\\\", \\\"three\\\", \\\"hour\\\", \\\"cut\\\", \\\"of\\\", \\\"Airport\\\", \\\"'\\\", \\\"77\\\", \\\".\\\"], [\\\"As\\\", \\\"expected\\\", \\\"the\\\", \\\"film\\\", \\\"has\\\", \\\"dated\\\", \\\"badly\\\", \\\"with\\\", \\\"horrible\\\", \\\"fashions\\\", \\\"&\\\", \\\"interior\\\", \\\"design\\\", \\\"choices\\\", \\\",\\\", \\\"I\\\", \\\"will\\\", \\\"say\\\", \\\"no\\\", \\\"more\\\", \\\"other\\\", \\\"than\\\", \\\"the\\\", \\\"toy\\\", \\\"plane\\\", \\\"model\\\", \\\"effects\\\", \\\"aren\\\", \\\"'\\\", \\\"t\\\", \\\"great\\\", \\\"either\\\", \\\".\\\"], [\\\"Along\\\", \\\"with\\\", \\\"the\\\", \\\"other\\\", \\\"two\\\", \\\"Airport\\\", \\\"sequels\\\", \\\"this\\\", \\\"takes\\\", \\\"pride\\\", \\\"of\\\", \\\"place\\\", \\\"in\\\", \\\"the\\\", \\\"Razzie\\\", \\\"Award\\\", \\\"'\\\", \\\"s\\\", \\\"Hall\\\", \\\"of\\\", \\\"Shame\\\", \\\"although\\\", \\\"I\\\", \\\"can\\\", \\\"think\\\", \\\"of\\\", \\\"lots\\\", \\\"of\\\", \\\"worse\\\", \\\"films\\\", \\\"than\\\", \\\"this\\\", \\\"so\\\", \\\"I\\\", \\\"reckon\\\", \\\"that\\\", \\\"'\\\", \\\"s\\\", \\\"a\\\", \\\"little\\\", \\\"harsh\\\", \\\".\\\"], [\\\"The\\\", \\\"action\\\", \\\"scenes\\\", \\\"are\\\", \\\"a\\\", \\\"little\\\", \\\"dull\\\", \\\"unfortunately\\\", \\\",\\\", \\\"the\\\", \\\"pace\\\", \\\"is\\\", \\\"slow\\\", \\\"&\\\", \\\"not\\\", \\\"much\\\", \\\"excitement\\\", \\\"or\\\", \\\"tension\\\", \\\"is\\\", \\\"generated\\\", \\\"which\\\", \\\"is\\\", \\\"a\\\", \\\"shame\\\", \\\"as\\\", \\\"I\\\", \\\"reckon\\\", \\\"this\\\", \\\"could\\\", \\\"have\\\", \\\"been\\\", \\\"a\\\", \\\"pretty\\\", \\\"good\\\", \\\"film\\\", \\\"if\\\", \\\"made\\\", \\\"properly.<br\\\", \\\"/\\\", \\\"><br\\\", \\\"/\\\", \\\">The\\\", \\\"production\\\", \\\"values\\\", \\\"are\\\", \\\"alright\\\", \\\"if\\\", \\\"nothing\\\", \\\"spectacular\\\", \\\".\\\"], [\\\"The\\\", \\\"acting\\\", \\\"isn\\\", \\\"'\\\", \\\"t\\\", \\\"great\\\", \\\",\\\", \\\"two\\\", \\\"time\\\", \\\"Oscar\\\", \\\"winner\\\", \\\"Jack\\\", \\\"Lemmon\\\", \\\"has\\\", \\\"said\\\", \\\"since\\\", \\\"it\\\", \\\"was\\\", \\\"a\\\", \\\"mistake\\\", \\\"to\\\", \\\"star\\\", \\\"in\\\", \\\"this\\\", \\\",\\\", \\\"one\\\", \\\"time\\\", \\\"Oscar\\\", \\\"winner\\\", \\\"James\\\", \\\"Stewart\\\", \\\"looks\\\", \\\"old\\\", \\\"&\\\", \\\"frail\\\", \\\",\\\", \\\"also\\\", \\\"one\\\", \\\"time\\\", \\\"Oscar\\\", \\\"winner\\\", \\\"Lee\\\", \\\"Grant\\\", \\\"looks\\\", \\\"drunk\\\", \\\"while\\\", \\\"Sir\\\", \\\"Christopher\\\", \\\"Lee\\\", \\\"is\\\", \\\"given\\\", \\\"little\\\", \\\"to\\\", \\\"do\\\", \\\"&\\\", \\\"there\\\", \\\"are\\\", \\\"plenty\\\", \\\"of\\\", \\\"other\\\", \\\"familiar\\\", \\\"faces\\\", \\\"to\\\", \\\"look\\\", \\\"out\\\", \\\"for\\\", \\\"too.<br\\\", \\\"/\\\", \\\"><br\\\", \\\"/\\\", \\\">Airport\\\", \\\"'\\\", \\\"77\\\", \\\"is\\\", \\\"the\\\", \\\"most\\\", \\\"disaster\\\", \\\"orientated\\\", \\\"of\\\", \\\"the\\\", \\\"three\\\", \\\"Airport\\\", \\\"films\\\", \\\"so\\\", \\\"far\\\", \\\"&\\\", \\\"I\\\", \\\"liked\\\", \\\"the\\\", \\\"ideas\\\", \\\"behind\\\", \\\"it\\\", \\\"even\\\", \\\"if\\\", \\\"they\\\", \\\"were\\\", \\\"a\\\", \\\"bit\\\", \\\"silly\\\", \\\",\\\", \\\"the\\\", \\\"production\\\", \\\"&\\\", \\\"bland\\\", \\\"direction\\\", \\\"doesn\\\", \\\"'\\\", \\\"t\\\", \\\"help\\\", \\\"though\\\", \\\"&\\\", \\\"a\\\", \\\"film\\\", \\\"about\\\", \\\"a\\\", \\\"sunken\\\", \\\"plane\\\", \\\"just\\\", \\\"shouldn\\\", \\\"'\\\", \\\"t\\\", \\\"be\\\", \\\"this\\\", \\\"boring\\\", \\\"or\\\", \\\"lethargic\\\", \\\".\\\"], [\\\"Followed\\\", \\\"by\\\", \\\"The\\\", \\\"Concorde\\\"], [\\\"Airport\\\", \\\"'\\\", \\\"79\\\", \\\"(\\\", \\\"1979\\\", \\\")\\\", \\\".\\\"]]\""
      ]
     },
     "execution_count": 95,
     "metadata": {},
     "output_type": "execute_result"
    }
   ],
   "source": [
    "ntr=string.(ntrain)\n",
    "#converting to string"
   ]
  },
  {
   "cell_type": "code",
   "execution_count": 96,
   "metadata": {},
   "outputs": [
    {
     "data": {
      "text/plain": [
       "2-element Array{String,1}:\n",
       " \"[[\\\"I\\\", \\\"went\\\", \\\"and\\\", \\\"saw\\\", \\\"this\\\", \\\"movie\\\", \\\"last\\\", \\\"night\\\", \\\"after\\\", \\\"being\\\", \\\"coaxed\\\", \\\"to\\\", \\\"by\\\", \\\"a\\\", \\\"few\\\", \\\"friends\\\", \\\"of\\\", \\\"mine\\\", \\\".\\\"], [\\\"I\\\", \\\"'\\\", \\\"ll\\\", \\\"admit\\\", \\\"that\\\", \\\"I\\\", \\\"was\\\", \\\"reluctant\\\", \\\"to\\\", \\\"see\\\", \\\"it\\\", \\\"because\\\", \\\"from\\\", \\\"what\\\", \\\"I\\\", \\\"knew\\\", \\\"of\\\", \\\"Ashton\\\", \\\"Kutcher\\\", \\\"he\\\", \\\"was\\\", \\\"only\\\", \\\"able\\\", \\\"to\\\", \\\"do\\\", \\\"comedy\\\", \\\".\\\"], [\\\"I\\\", \\\"was\\\", \\\"wrong\\\", \\\".\\\"], [\\\"Kutcher\\\", \\\"played\\\", \\\"the\\\", \\\"character\\\", \\\"of\\\", \\\"Jake\\\", \\\"Fischer\\\", \\\"very\\\", \\\"well\\\", \\\",\\\", \\\"and\\\", \\\"Kevin\\\", \\\"Costner\\\", \\\"played\\\", \\\"Ben\\\", \\\"Randall\\\", \\\"with\\\", \\\"such\\\", \\\"professionalism\\\", \\\".\\\"], [\\\"The\\\", \\\"sign\\\", \\\"of\\\", \\\"a\\\", \\\"good\\\", \\\"movie\\\", \\\"is\\\", \\\"that\\\", \\\"it\\\", \\\"can\\\", \\\"toy\\\", \\\"with\\\", \\\"our\\\", \\\"emotions\\\", \\\".\\\"], [\\\"This\\\", \\\"one\\\", \\\"did\\\", \\\"exactly\\\", \\\"that\\\", \\\".\\\"], [\\\"The\\\", \\\"entire\\\", \\\"theater\\\", \\\"(\\\", \\\"which\\\", \\\"was\\\", \\\"sold\\\", \\\"out\\\", \\\")\\\", \\\"was\\\", \\\"overcome\\\", \\\"by\\\", \\\"laughter\\\", \\\"during\\\", \\\"the\\\", \\\"first\\\", \\\"half\\\", \\\"of\\\", \\\"the\\\", \\\"movie\\\", \\\",\\\", \\\"and\\\", \\\"were\\\", \\\"moved\\\", \\\"to\\\", \\\"tears\\\", \\\"during\\\", \\\"the\\\", \\\"second\\\", \\\"half\\\", \\\".\\\"], [\\\"While\\\", \\\"exiting\\\", \\\"the\\\", \\\"theater\\\", \\\"I\\\", \\\"not\\\", \\\"only\\\", \\\"saw\\\", \\\"many\\\", \\\"women\\\", \\\"in\\\", \\\"tears\\\", \\\",\\\", \\\"but\\\", \\\"many\\\", \\\"full\\\", \\\"grown\\\", \\\"men\\\", \\\"as\\\", \\\"well\\\", \\\",\\\", \\\"trying\\\", \\\"desperately\\\", \\\"not\\\", \\\"to\\\", \\\"let\\\", \\\"anyone\\\", \\\"see\\\", \\\"them\\\", \\\"crying\\\", \\\".\\\"], [\\\"This\\\", \\\"movie\\\", \\\"was\\\", \\\"great\\\", \\\",\\\", \\\"and\\\", \\\"I\\\", \\\"suggest\\\", \\\"that\\\", \\\"you\\\", \\\"go\\\", \\\"see\\\", \\\"it\\\", \\\"before\\\", \\\"you\\\", \\\"judge\\\", \\\".\\\"]]\"\n",
       " \"[[\\\"Actor\\\", \\\"turned\\\", \\\"director\\\", \\\"Bill\\\", \\\"Paxton\\\", \\\"follows\\\", \\\"up\\\", \\\"his\\\", \\\"promising\\\", \\\"debut\\\", \\\",\\\", \\\"the\\\", \\\"Gothic-horror\\\", \\\"\\\\\\\"\\\", \\\"Frailty\\\", \\\"\\\\\\\"\\\", \\\",\\\", \\\"with\\\", \\\"this\\\", \\\"family\\\", \\\"friendly\\\", \\\"sports\\\", \\\"drama\\\", \\\"about\\\", \\\"the\\\", \\\"1913\\\", \\\"U.S.\\\", \\\"Open\\\", \\\"where\\\", \\\"a\\\", \\\"young\\\", \\\"American\\\", \\\"caddy\\\", \\\"rises\\\", \\\"from\\\", \\\"his\\\", \\\"humble\\\", \\\"background\\\", \\\"to\\\", \\\"play\\\", \\\"against\\\", \\\"his\\\", \\\"Bristish\\\", \\\"idol\\\", \\\"in\\\", \\\"what\\\", \\\"was\\\", \\\"dubbed\\\", \\\"as\\\", \\\"\\\\\\\"\\\", \\\"The\\\", \\\"Greatest\\\", \\\"Game\\\", \\\"Ever\\\", \\\"Played.\\\", \\\"\\\\\\\"\\\", \\\"I\\\", \\\"'\\\", \\\"m\\\", \\\"no\\\", \\\"fan\\\", \\\"of\\\", \\\"golf\\\", \\\",\\\", \\\"and\\\", \\\"these\\\", \\\"scrappy\\\", \\\"underdog\\\", \\\"sports\\\", \\\"flicks\\\", \\\"are\\\", \\\"a\\\", \\\"dime\\\", \\\"a\\\", \\\"dozen\\\", \\\"(\\\", \\\"most\\\", \\\"recently\\\", \\\"done\\\", \\\"to\\\", \\\"grand\\\", \\\"effect\\\", \\\"with\\\", \\\"\\\\\\\"\\\", \\\"Miracle\\\", \\\"\\\\\\\"\\\", \\\"and\\\", \\\"\\\\\\\"\\\", \\\"Cinderella\\\", \\\"Man\\\", \\\"\\\\\\\"\\\", \\\")\\\", \\\",\\\", \\\"but\\\", \\\"some\\\", \\\"how\\\", \\\"this\\\", \\\"film\\\", \\\"was\\\", \\\"enthralling\\\", \\\"all\\\", \\\"the\\\", \\\"same.<br\\\", \\\"/\\\", \\\"><br\\\", \\\"/\\\", \\\">The\\\", \\\"film\\\", \\\"starts\\\", \\\"with\\\", \\\"some\\\", \\\"creative\\\", \\\"opening\\\", \\\"credits\\\", \\\"(\\\", \\\"imagine\\\", \\\"a\\\", \\\"Disneyfied\\\", \\\"version\\\", \\\"of\\\", \\\"the\\\", \\\"animated\\\", \\\"opening\\\", \\\"credits\\\", \\\"of\\\", \\\"HBO\\\", \\\"'\\\", \\\"s\\\", \\\"\\\\\\\"\\\", \\\"Carnivale\\\", \\\"\\\\\\\"\\\", \\\"and\\\", \\\"\\\\\\\"\\\", \\\"Rome\\\", \\\"\\\\\\\"\\\", \\\")\\\", \\\",\\\", \\\"but\\\", \\\"lumbers\\\", \\\"along\\\", \\\"slowly\\\", \\\"for\\\", \\\"its\\\", \\\"first\\\", \\\"by-the-numbers\\\", \\\"hour\\\", \\\".\\\"], [\\\"Once\\\", \\\"the\\\", \\\"action\\\", \\\"moves\\\", \\\"to\\\", \\\"the\\\", \\\"U.S.\\\", \\\"Open\\\", \\\"things\\\", \\\"pick\\\", \\\"up\\\", \\\"very\\\", \\\"well\\\", \\\".\\\"], [\\\"Paxton\\\", \\\"does\\\", \\\"a\\\", \\\"nice\\\", \\\"job\\\", \\\"and\\\", \\\"shows\\\", \\\"a\\\", \\\"knack\\\", \\\"for\\\", \\\"effective\\\", \\\"directorial\\\", \\\"flourishes\\\", \\\"(\\\", \\\"I\\\", \\\"loved\\\", \\\"the\\\", \\\"rain-soaked\\\", \\\"montage\\\", \\\"of\\\", \\\"the\\\", \\\"action\\\", \\\"on\\\", \\\"day\\\", \\\"two\\\", \\\"of\\\", \\\"the\\\", \\\"open\\\", \\\")\\\", \\\"that\\\", \\\"propel\\\", \\\"the\\\", \\\"plot\\\", \\\"further\\\", \\\"or\\\", \\\"add\\\", \\\"some\\\", \\\"unexpected\\\", \\\"psychological\\\", \\\"depth\\\", \\\"to\\\", \\\"the\\\", \\\"proceedings\\\", \\\".\\\"], [\\\"There\\\", \\\"'\\\", \\\"s\\\", \\\"some\\\", \\\"compelling\\\", \\\"character\\\", \\\"development\\\", \\\"when\\\", \\\"the\\\", \\\"British\\\", \\\"Harry\\\", \\\"Vardon\\\", \\\"is\\\", \\\"haunted\\\", \\\"by\\\", \\\"images\\\", \\\"of\\\", \\\"the\\\", \\\"aristocrats\\\", \\\"in\\\", \\\"black\\\", \\\"suits\\\", \\\"and\\\", \\\"top\\\", \\\"hats\\\", \\\"who\\\", \\\"destroyed\\\", \\\"his\\\", \\\"family\\\", \\\"cottage\\\", \\\"as\\\", \\\"a\\\", \\\"child\\\", \\\"to\\\", \\\"make\\\", \\\"way\\\", \\\"for\\\", \\\"a\\\", \\\"golf\\\", \\\"course\\\", \\\".\\\"], [\\\"He\\\", \\\"also\\\", \\\"does\\\", \\\"a\\\", \\\"good\\\", \\\"job\\\", \\\"of\\\", \\\"visually\\\", \\\"depicting\\\", \\\"what\\\", \\\"goes\\\", \\\"on\\\", \\\"in\\\", \\\"the\\\", \\\"players\\\", \\\"'\\\", \\\"heads\\\", \\\"under\\\", \\\"pressure\\\", \\\".\\\"], [\\\"Golf\\\", \\\",\\\", \\\"a\\\", \\\"painfully\\\", \\\"boring\\\", \\\"sport\\\", \\\",\\\", \\\"is\\\", \\\"brought\\\", \\\"vividly\\\", \\\"alive\\\", \\\"here\\\", \\\".\\\"], [\\\"Credit\\\", \\\"should\\\", \\\"also\\\", \\\"be\\\", \\\"given\\\", \\\"the\\\", \\\"set\\\", \\\"designers\\\", \\\"and\\\", \\\"costume\\\", \\\"department\\\", \\\"for\\\", \\\"creating\\\", \\\"an\\\", \\\"engaging\\\", \\\"period-piece\\\", \\\"atmosphere\\\", \\\"of\\\", \\\"London\\\", \\\"and\\\", \\\"Boston\\\", \\\"at\\\", \\\"the\\\", \\\"beginning\\\", \\\"of\\\", \\\"the\\\", \\\"twentieth\\\", \\\"century.<br\\\", \\\"/\\\", \\\"><br\\\", \\\"/\\\", \\\">You\\\", \\\"know\\\", \\\"how\\\", \\\"this\\\", \\\"is\\\", \\\"going\\\", \\\"to\\\", \\\"end\\\", \\\"not\\\", \\\"only\\\", \\\"because\\\", \\\"it\\\", \\\"'\\\", \\\"s\\\", \\\"based\\\", \\\"on\\\", \\\"a\\\", \\\"true\\\", \\\"story\\\", \\\"but\\\", \\\"also\\\", \\\"because\\\", \\\"films\\\", \\\"in\\\", \\\"this\\\", \\\"genre\\\", \\\"follow\\\", \\\"the\\\", \\\"same\\\", \\\"template\\\", \\\"over\\\", \\\"and\\\", \\\"over\\\", \\\",\\\", \\\"but\\\", \\\"Paxton\\\", \\\"puts\\\", \\\"on\\\", \\\"a\\\", \\\"better\\\", \\\"than\\\", \\\"average\\\", \\\"show\\\", \\\"and\\\", \\\"perhaps\\\", \\\"indicates\\\", \\\"more\\\", \\\"talent\\\", \\\"behind\\\", \\\"the\\\", \\\"camera\\\", \\\"than\\\", \\\"he\\\", \\\"ever\\\", \\\"had\\\", \\\"in\\\", \\\"front\\\", \\\"of\\\", \\\"it\\\", \\\".\\\"], [\\\"Despite\\\", \\\"the\\\", \\\"formulaic\\\", \\\"nature\\\", \\\",\\\", \\\"this\\\", \\\"is\\\", \\\"a\\\", \\\"nice\\\", \\\"and\\\", \\\"easy\\\", \\\"film\\\", \\\"to\\\", \\\"root\\\", \\\"for\\\", \\\"that\\\", \\\"deserves\\\", \\\"to\\\", \\\"find\\\", \\\"an\\\", \\\"audience\\\", \\\".\\\"]]\""
      ]
     },
     "execution_count": 96,
     "metadata": {},
     "output_type": "execute_result"
    }
   ],
   "source": [
    "pte=string.(ptest)\n",
    "#converting to string"
   ]
  },
  {
   "cell_type": "code",
   "execution_count": 97,
   "metadata": {},
   "outputs": [
    {
     "data": {
      "text/plain": [
       "2-element Array{String,1}:\n",
       " \"[[\\\"Once\\\", \\\"again\\\", \\\"Mr.\\\", \\\"Costner\\\", \\\"has\\\", \\\"dragged\\\", \\\"out\\\", \\\"a\\\", \\\"movie\\\", \\\"for\\\", \\\"far\\\", \\\"longer\\\", \\\"than\\\", \\\"necessary\\\", \\\".\\\"], [\\\"Aside\\\", \\\"from\\\", \\\"the\\\", \\\"terrific\\\", \\\"sea\\\", \\\"rescue\\\", \\\"sequences\\\", \\\",\\\", \\\"of\\\", \\\"which\\\", \\\"there\\\", \\\"are\\\", \\\"very\\\", \\\"few\\\", \\\"I\\\", \\\"just\\\", \\\"did\\\", \\\"not\\\", \\\"care\\\", \\\"about\\\", \\\"any\\\", \\\"of\\\", \\\"the\\\", \\\"characters\\\", \\\".\\\"], [\\\"Most\\\", \\\"of\\\", \\\"us\\\", \\\"have\\\", \\\"ghosts\\\", \\\"in\\\", \\\"the\\\", \\\"closet\\\", \\\",\\\", \\\"and\\\", \\\"Costner\\\", \\\"'\\\", \\\"s\\\", \\\"character\\\", \\\"are\\\", \\\"realized\\\", \\\"early\\\", \\\"on\\\", \\\",\\\", \\\"and\\\", \\\"then\\\", \\\"forgotten\\\", \\\"until\\\", \\\"much\\\", \\\"later\\\", \\\",\\\", \\\"by\\\", \\\"which\\\", \\\"time\\\", \\\"I\\\", \\\"did\\\", \\\"not\\\", \\\"care\\\", \\\".\\\"], [\\\"The\\\", \\\"character\\\", \\\"we\\\", \\\"should\\\", \\\"really\\\", \\\"care\\\", \\\"about\\\", \\\"is\\\", \\\"a\\\", \\\"very\\\", \\\"cocky\\\", \\\",\\\", \\\"overconfident\\\", \\\"Ashton\\\", \\\"Kutcher\\\", \\\".\\\"], [\\\"The\\\", \\\"problem\\\", \\\"is\\\", \\\"he\\\", \\\"comes\\\", \\\"off\\\", \\\"as\\\", \\\"kid\\\", \\\"who\\\", \\\"thinks\\\", \\\"he\\\", \\\"'\\\", \\\"s\\\", \\\"better\\\", \\\"than\\\", \\\"anyone\\\", \\\"else\\\", \\\"around\\\", \\\"him\\\", \\\"and\\\", \\\"shows\\\", \\\"no\\\", \\\"signs\\\", \\\"of\\\", \\\"a\\\", \\\"cluttered\\\", \\\"closet\\\", \\\".\\\"], [\\\"His\\\", \\\"only\\\", \\\"obstacle\\\", \\\"appears\\\", \\\"to\\\", \\\"be\\\", \\\"winning\\\", \\\"over\\\", \\\"Costner\\\", \\\".\\\"], [\\\"Finally\\\", \\\"when\\\", \\\"we\\\", \\\"are\\\", \\\"well\\\", \\\"past\\\", \\\"the\\\", \\\"half\\\", \\\"way\\\", \\\"point\\\", \\\"of\\\", \\\"this\\\", \\\"stinker\\\", \\\",\\\", \\\"Costner\\\", \\\"tells\\\", \\\"us\\\", \\\"all\\\", \\\"about\\\", \\\"Kutcher\\\", \\\"'\\\", \\\"s\\\", \\\"ghosts\\\", \\\".\\\"], [\\\"We\\\", \\\"are\\\", \\\"told\\\", \\\"why\\\", \\\"Kutcher\\\", \\\"is\\\", \\\"driven\\\", \\\"to\\\", \\\"be\\\", \\\"the\\\", \\\"best\\\", \\\"with\\\", \\\"no\\\", \\\"prior\\\", \\\"inkling\\\", \\\"or\\\", \\\"foreshadowing\\\", \\\".\\\"], [\\\"No\\\", \\\"magic\\\", \\\"here\\\", \\\",\\\", \\\"it\\\", \\\"was\\\", \\\"all\\\", \\\"I\\\", \\\"could\\\", \\\"do\\\", \\\"to\\\", \\\"keep\\\", \\\"from\\\", \\\"turning\\\", \\\"it\\\", \\\"off\\\", \\\"an\\\", \\\"hour\\\", \\\"in\\\", \\\".\\\"]]\"\n",
       " \"[[\\\"This\\\", \\\"is\\\", \\\"an\\\", \\\"example\\\", \\\"of\\\", \\\"why\\\", \\\"the\\\", \\\"majority\\\", \\\"of\\\", \\\"action\\\", \\\"films\\\", \\\"are\\\", \\\"the\\\", \\\"same\\\", \\\".\\\"], [\\\"Generic\\\", \\\"and\\\", \\\"boring\\\", \\\",\\\", \\\"there\\\", \\\"'\\\", \\\"s\\\", \\\"really\\\", \\\"nothing\\\", \\\"worth\\\", \\\"watching\\\", \\\"here\\\", \\\".\\\"], [\\\"A\\\", \\\"complete\\\", \\\"waste\\\", \\\"of\\\", \\\"the\\\", \\\"then\\\", \\\"barely-tapped\\\", \\\"talents\\\", \\\"of\\\", \\\"Ice-T\\\", \\\"and\\\", \\\"Ice\\\", \\\"Cube\\\", \\\",\\\", \\\"who\\\", \\\"'\\\", \\\"ve\\\", \\\"each\\\", \\\"proven\\\", \\\"many\\\", \\\"times\\\", \\\"over\\\", \\\"that\\\", \\\"they\\\", \\\"are\\\", \\\"capable\\\", \\\"of\\\", \\\"acting\\\", \\\",\\\", \\\"and\\\", \\\"acting\\\", \\\"well\\\", \\\".\\\"], [\\\"Don\\\", \\\"'\\\", \\\"t\\\", \\\"bother\\\", \\\"with\\\", \\\"this\\\", \\\"one\\\", \\\",\\\", \\\"go\\\", \\\"see\\\", \\\"New\\\", \\\"Jack\\\", \\\"City\\\", \\\",\\\", \\\"Ricochet\\\", \\\"or\\\", \\\"watch\\\", \\\"New\\\", \\\"York\\\", \\\"Undercover\\\", \\\"for\\\", \\\"Ice-T\\\", \\\",\\\", \\\"or\\\", \\\"Boyz\\\", \\\"n\\\", \\\"the\\\", \\\"Hood\\\", \\\",\\\", \\\"Higher\\\", \\\"Learning\\\", \\\"or\\\", \\\"Friday\\\", \\\"for\\\", \\\"Ice\\\", \\\"Cube\\\", \\\"and\\\", \\\"see\\\", \\\"the\\\", \\\"real\\\", \\\"deal\\\", \\\".\\\"], [\\\"Ice-T\\\", \\\"'\\\", \\\"s\\\", \\\"horribly\\\", \\\"cliched\\\", \\\"dialogue\\\", \\\"alone\\\", \\\"makes\\\", \\\"this\\\", \\\"film\\\", \\\"grate\\\", \\\"at\\\", \\\"the\\\", \\\"teeth\\\", \\\",\\\", \\\"and\\\", \\\"I\\\", \\\"'\\\", \\\"m\\\", \\\"still\\\", \\\"wondering\\\", \\\"what\\\", \\\"the\\\", \\\"heck\\\", \\\"Bill\\\", \\\"Paxton\\\", \\\"was\\\", \\\"doing\\\", \\\"in\\\", \\\"this\\\", \\\"film\\\", \\\"?\\\"], [\\\"And\\\", \\\"why\\\", \\\"the\\\", \\\"heck\\\", \\\"does\\\", \\\"he\\\", \\\"always\\\", \\\"play\\\", \\\"the\\\", \\\"exact\\\", \\\"same\\\", \\\"character\\\", \\\"?\\\"], [\\\"From\\\", \\\"Aliens\\\", \\\"onward\\\", \\\",\\\", \\\"every\\\", \\\"film\\\", \\\"I\\\", \\\"'\\\", \\\"ve\\\", \\\"seen\\\", \\\"with\\\", \\\"Bill\\\", \\\"Paxton\\\", \\\"has\\\", \\\"him\\\", \\\"playing\\\", \\\"the\\\", \\\"exact\\\", \\\"same\\\", \\\"irritating\\\", \\\"character\\\", \\\",\\\", \\\"and\\\", \\\"at\\\", \\\"least\\\", \\\"in\\\", \\\"Aliens\\\", \\\"his\\\", \\\"character\\\", \\\"died\\\", \\\",\\\", \\\"which\\\", \\\"made\\\", \\\"it\\\", \\\"somewhat\\\", \\\"gratifying<br\\\", \\\"/\\\", \\\"><br\\\", \\\"/\\\", \\\">Overall\\\", \\\",\\\", \\\"this\\\", \\\"is\\\", \\\"second-rate\\\", \\\"action\\\", \\\"trash\\\", \\\".\\\"], [\\\"There\\\", \\\"are\\\", \\\"countless\\\", \\\"better\\\", \\\"films\\\", \\\"to\\\", \\\"see\\\", \\\",\\\", \\\"and\\\", \\\"if\\\", \\\"you\\\", \\\"really\\\", \\\"want\\\", \\\"to\\\", \\\"see\\\", \\\"this\\\", \\\"one\\\", \\\",\\\", \\\"watch\\\", \\\"Judgement\\\", \\\"Night\\\", \\\",\\\", \\\"which\\\", \\\"is\\\", \\\"practically\\\", \\\"a\\\", \\\"carbon\\\", \\\"copy\\\", \\\"but\\\", \\\"has\\\", \\\"better\\\", \\\"acting\\\", \\\"and\\\", \\\"a\\\", \\\"better\\\", \\\"script\\\", \\\".\\\"], [\\\"The\\\", \\\"only\\\", \\\"thing\\\", \\\"that\\\", \\\"made\\\", \\\"this\\\", \\\"at\\\", \\\"all\\\", \\\"worth\\\", \\\"watching\\\", \\\"was\\\", \\\"a\\\", \\\"decent\\\", \\\"hand\\\", \\\"on\\\", \\\"the\\\", \\\"camera\\\", \\\"-\\\", \\\"the\\\", \\\"cinematography\\\", \\\"was\\\", \\\"almost\\\", \\\"refreshing\\\", \\\",\\\", \\\"which\\\", \\\"comes\\\", \\\"close\\\", \\\"to\\\", \\\"making\\\", \\\"up\\\", \\\"for\\\", \\\"the\\\", \\\"horrible\\\", \\\"film\\\", \\\"itself\\\", \\\"-\\\", \\\"but\\\", \\\"not\\\", \\\"quite\\\", \\\".\\\"], [\\\"4\\\", \\\"/\\\", \\\"10\\\", \\\".\\\"]]\""
      ]
     },
     "execution_count": 97,
     "metadata": {},
     "output_type": "execute_result"
    }
   ],
   "source": [
    "nte=string.(ntest)\n",
    "#converting to string"
   ]
  },
  {
   "cell_type": "code",
   "execution_count": 99,
   "metadata": {},
   "outputs": [
    {
     "data": {
      "text/plain": [
       "\"   Bromwell    High    is    a    cartoon    comedy           It    ran    at    the    same    time    as    some    other    programs    about    school    life         such    as          Teachers                 My    35    years    in    the    teaching    profession    lead    me    to    believe    that    Bromwell    High         s    satire    is    much    closer    to    reality    than    is          Teachers                 The    scramble    to    survive    financially         the    insightful    students    who    can    see    right    through    their    pathetic    teachers         pomp         the    pettiness    of    the    whole    situation         all    remind    me    of    the    schools    I    knew    and    their    students           When    I    saw    the    episode    in    which    a    student    repeatedly    tried    to    burn    down    the    school         I    immediately    recalled    at      High           A    classic    line         INSPECTOR         I         m    here    to    sack    one    of    your    teachers           STUDENT         Welcome    to    Bromwell    High           I    expect    that    many    adults    of    my    age    think    that    Bromwell    High    is    far    fetched           What    a    pity    that    it    isn         t           Homelessness         or    Houselessness    as    George    Carlin    stated         has    been    an    issue    for    years    but    never    a    plan    to    help    those    on    the    street    that    were    once    considered    human    who    did    everything    from    going    to    school         work         or    vote    for    the    matter           Most    people    think    of    the    homeless    as    just    a    lost    cause    while    worrying    about    things    such    as    racism         the    war    on    Iraq         pressuring    kids    to    succeed         technology         the    elections         inflation         or    worrying    if    they         ll    be    next    to    end    up    on    the    streets  br           br          But    what    if    you    were    given    a    bet    to    live    on    the    streets    for    a    month    without    the    luxuries    you    once    had    from    a    home         the    entertainment    sets         a    bathroom         pictures    on    the    wall         a    computer         and    everything    you    once    treasure    to    see    what    it         s    like    to    be    homeless           That    is    Goddard    Bolt         s    lesson  br           br          Mel    Brooks         who    directs         who    stars    as    Bolt    plays    a    rich    man    who    has    everything    in    the    world    until    deciding    to    make    a    bet    with    a    sissy    rival         Jeffery    Tambor         to    see    if    he    can    live    in    the    streets    for    thirty    days    without    the    luxuries         if    Bolt    succeeds         he    can    do    what    he    wants    with    a    future    project    of    making    more    buildings           The    bet         s    on    where    Bolt    is    thrown    on    the    street    with    a    bracelet    on    his    leg    to    monitor    his    every    move    where    he    can         t    step    off    the    sidewalk           He         s    given    the    nickname    Pepto    by    a    vagrant    after    it         s    written    on    his    forehead    where    Bolt    meets    other    characters    including    a    woman    by    the    name    of    Molly         Lesley    Ann    Warren         an    ex dancer    who    got    divorce    before    losing    her    home         and    her    pals    Sailor         Howard    Morris         and    Fumes         Teddy    Wilson         who    are    already    used    to    the    streets           They         re    survivors           Bolt    isn         t           He         s    not    used    to    reaching    mutual    agreements    like    he    once    did    when    being    rich    where    it         s    fight    or    flight         kill    or    be    killed  br           br          While    the    love    connection    between    Molly    and    Bolt    wasn         t    necessary    to    plot         I    found          Life    Stinks          to    be    one    of    Mel    Brooks         observant    films    where    prior    to    being    a    comedy         it    shows    a    tender    side    compared    to    his    slapstick    work    such    as    Blazing    Saddles         Young    Frankenstein         or    Spaceballs    for    the    matter         to    show    what    it         s    like    having    something    valuable    before    losing    it    the    next    day    or    on    the    other    hand    making    a    stupid    bet    like    all    rich    people    do    when    they    don         t    know    what    to    do    with    their    money           Maybe    they    should    give    it    to    the    homeless    instead    of    using    it    like    Monopoly    money  br           br          Or    maybe    this    film    will    inspire    you    to    help    others        \""
      ]
     },
     "execution_count": 99,
     "metadata": {},
     "output_type": "execute_result"
    }
   ],
   "source": [
    "ptr_pun=convert_clean_arr(ptr)\n",
    "p1=string.(ptr_pun)\n",
    "join(p1)\n",
    "#converting from any array to array string then joining it to become one large string\n"
   ]
  },
  {
   "cell_type": "code",
   "execution_count": 100,
   "metadata": {},
   "outputs": [
    {
     "data": {
      "text/plain": [
       "\"   Story    of    a    man    who    has    unnatural    feelings    for    a    pig           Starts    out    with    a    opening    scene    that    is    a    terrific    example    of    absurd    comedy           A    formal    orchestra    audience    is    turned    into    an    insane         violent    mob    by    the    crazy    chantings    of    it         s    singers           Unfortunately    it    stays    absurd    the    WHOLE    time    with    no    general    narrative    eventually    making    it    just    too    off    putting           Even    those    from    the    era    should    be    turned    off           The    cryptic    dialogue    would    make    Shakespeare    seem    easy    to    a    third    grader           On    a    technical    level    it         s    better    than    you    might    think    with    some    good    cinematography    by    future    great    Vilmos    Zsigmond           Future    stars    Sally    Kirkland    and    Frederic    Forrest    can    be    seen    briefly           Airport         77    starts    as    a    brand    new    luxury    747    plane    is    loaded    up    with    valuable    paintings         such    belonging    to    rich    businessman    Philip    Stevens         James    Stewart         who    is    flying    them         a    bunch    of    VIP         s    to    his    estate    in    preparation    of    it    being    opened    to    the    public    as    a    museum         also    on    board    is    Stevens    daughter    Julie         Kathleen    Quinlan              her    son           The    luxury    jetliner    takes    off    as    planned    but    mid air    the    plane    is    hi jacked    by    the    co pilot    Chambers         Robert    Foxworth              his    two    accomplice         s    Banker         Monte    Markham              Wilson         Michael    Pataki         who    knock    the    passengers         crew    out    with    sleeping    gas         they    plan    to    steal    the    valuable    cargo         land    on    a    disused    plane    strip    on    an    isolated    island    but    while    making    his    descent    Chambers    almost    hits    an    oil    rig    in    the    Ocean         loses    control    of    the    plane    sending    it    crashing    into    the    sea    where    it    sinks    to    the    bottom    right    bang    in    the    middle    of    the    Bermuda    Triangle           With    air    in    short    supply         water    leaking    in         having    flown    over    200    miles    off    course    the    problems    mount    for    the    survivor         s    as    they    await    help    with    time    fast    running    out br           br          Also    known    under    the    slightly    different    tile    Airport    1977    this    second    sequel    to    the    smash hit    disaster    thriller    Airport         1970         was    directed    by    Jerry    Jameson         while    once    again    like    it         s    predecessors    I    can         t    say    Airport         77    is    any    sort    of    forgotten    classic    it    is    entertaining    although    not    necessarily    for    the    right    reasons           Out    of    the    three    Airport    films    I    have    seen    so    far    I    actually    liked    this    one    the    best         just           It    has    my    favourite    plot    of    the    three    with    a    nice    mid air    hi jacking         then    the    crashing         didn         t    he    see    the    oil    rig           sinking    of    the    747         maybe    the    makers    were    trying    to    cross    the    original    Airport    with    another    popular    disaster    flick    of    the    period    The    Poseidon    Adventure         1972                   submerged    is    where    it    stays    until    the    end    with    a    stark    dilemma    facing    those    trapped    inside         either    suffocate    when    the    air    runs    out    or    drown    as    the    747    floods    or    if    any    of    the    doors    are    opened         it         s    a    decent    idea    that    could    have    made    for    a    great    little    disaster    flick    but    bad    unsympathetic    character         s         dull    dialogue         lethargic    set pieces         a    real    lack    of    danger    or    suspense    or    tension    means    this    is    a    missed    opportunity           While    the    rather    sluggish    plot    keeps    one    entertained    for    108    odd    minutes    not    that    much    happens    after    the    plane    sinks         there         s    not    as    much    urgency    as    I    thought    there    should    have    been           Even    when    the    Navy    become    involved    things    don         t    pick    up    that    much    with    a    few    shots    of    huge    ships         helicopters    flying    about    but    there         s    just    something    lacking    here           George    Kennedy    as    the    jinxed    airline    worker    Joe    Patroni    is    back    but    only    gets    a    couple    of    scenes         barely    even    says    anything    preferring    to    just    look    worried    in    the    background  br           br          The    home    video         theatrical    version    of    Airport         77    run    108    minutes    while    the    US    TV    versions    add    an    extra    hour    of    footage    including    a    new    opening    credits    sequence         many    more    scenes    with    George    Kennedy    as    Patroni         flashbacks    to    flesh    out    character         s         longer    rescue    scenes         the    discovery    or    another    couple    of    dead    bodies    including    the    navigator           While    I    would    like    to    see    this    extra    footage    I    am    not    sure    I    could    sit    through    a    near    three    hour    cut    of    Airport         77           As    expected    the    film    has    dated    badly    with    horrible    fashions         interior    design    choices         I    will    say    no    more    other    than    the    toy    plane    model    effects    aren         t    great    either           Along    with    the    other    two    Airport    sequels    this    takes    pride    of    place    in    the    Razzie    Award         s    Hall    of    Shame    although    I    can    think    of    lots    of    worse    films    than    this    so    I    reckon    that         s    a    little    harsh           The    action    scenes    are    a    little    dull    unfortunately         the    pace    is    slow         not    much    excitement    or    tension    is    generated    which    is    a    shame    as    I    reckon    this    could    have    been    a    pretty    good    film    if    made    properly  br           br          The    production    values    are    alright    if    nothing    spectacular           The    acting    isn         t    great         two    time    Oscar    winner    Jack    Lemmon    has    said    since    it    was    a    mistake    to    star    in    this         one    time    Oscar    winner    James    Stewart    looks    old         frail         also    one    time    Oscar    winner    Lee    Grant    looks    drunk    while    Sir    Christopher    Lee    is    given    little    to    do         there    are    plenty    of    other    familiar    faces    to    look    out    for    too  br           br          Airport         77    is    the    most    disaster    orientated    of    the    three    Airport    films    so    far         I    liked    the    ideas    behind    it    even    if    they    were    a    bit    silly         the    production         bland    direction    doesn         t    help    though         a    film    about    a    sunken    plane    just    shouldn         t    be    this    boring    or    lethargic           Followed    by    The    Concorde      Airport         79         1979             \""
      ]
     },
     "execution_count": 100,
     "metadata": {},
     "output_type": "execute_result"
    }
   ],
   "source": [
    "ntr_pun=convert_clean_arr(ntr)\n",
    "n1=string.(ntr_pun)\n",
    "join(n1)\n",
    "#converting from any array to array string then joining it to become one large string"
   ]
  },
  {
   "cell_type": "code",
   "execution_count": 101,
   "metadata": {},
   "outputs": [
    {
     "data": {
      "text/plain": [
       "\"   I    went    and    saw    this    movie    last    night    after    being    coaxed    to    by    a    few    friends    of    mine           I         ll    admit    that    I    was    reluctant    to    see    it    because    from    what    I    knew    of    Ashton    Kutcher    he    was    only    able    to    do    comedy           I    was    wrong           Kutcher    played    the    character    of    Jake    Fischer    very    well         and    Kevin    Costner    played    Ben    Randall    with    such    professionalism           The    sign    of    a    good    movie    is    that    it    can    toy    with    our    emotions           This    one    did    exactly    that           The    entire    theater         which    was    sold    out         was    overcome    by    laughter    during    the    first    half    of    the    movie         and    were    moved    to    tears    during    the    second    half           While    exiting    the    theater    I    not    only    saw    many    women    in    tears         but    many    full    grown    men    as    well         trying    desperately    not    to    let    anyone    see    them    crying           This    movie    was    great         and    I    suggest    that    you    go    see    it    before    you    judge           Actor    turned    director    Bill    Paxton    follows    up    his    promising    debut         the    Gothic horror          Frailty               with    this    family    friendly    sports    drama    about    the    1913    U S     Open    where    a    young    American    caddy    rises    from    his    humble    background    to    play    against    his    Bristish    idol    in    what    was    dubbed    as          The    Greatest    Game    Ever    Played           I         m    no    fan    of    golf         and    these    scrappy    underdog    sports    flicks    are    a    dime    a    dozen         most    recently    done    to    grand    effect    with          Miracle          and          Cinderella    Man                    but    some    how    this    film    was    enthralling    all    the    same  br           br          The    film    starts    with    some    creative    opening    credits         imagine    a    Disneyfied    version    of    the    animated    opening    credits    of    HBO         s          Carnivale          and          Rome                    but    lumbers    along    slowly    for    its    first    by the numbers    hour           Once    the    action    moves    to    the    U S     Open    things    pick    up    very    well           Paxton    does    a    nice    job    and    shows    a    knack    for    effective    directorial    flourishes         I    loved    the    rain soaked    montage    of    the    action    on    day    two    of    the    open         that    propel    the    plot    further    or    add    some    unexpected    psychological    depth    to    the    proceedings           There         s    some    compelling    character    development    when    the    British    Harry    Vardon    is    haunted    by    images    of    the    aristocrats    in    black    suits    and    top    hats    who    destroyed    his    family    cottage    as    a    child    to    make    way    for    a    golf    course           He    also    does    a    good    job    of    visually    depicting    what    goes    on    in    the    players         heads    under    pressure           Golf         a    painfully    boring    sport         is    brought    vividly    alive    here           Credit    should    also    be    given    the    set    designers    and    costume    department    for    creating    an    engaging    period piece    atmosphere    of    London    and    Boston    at    the    beginning    of    the    twentieth    century  br           br          You    know    how    this    is    going    to    end    not    only    because    it         s    based    on    a    true    story    but    also    because    films    in    this    genre    follow    the    same    template    over    and    over         but    Paxton    puts    on    a    better    than    average    show    and    perhaps    indicates    more    talent    behind    the    camera    than    he    ever    had    in    front    of    it           Despite    the    formulaic    nature         this    is    a    nice    and    easy    film    to    root    for    that    deserves    to    find    an    audience        \""
      ]
     },
     "execution_count": 101,
     "metadata": {},
     "output_type": "execute_result"
    }
   ],
   "source": [
    "pte_pun=convert_clean_arr(pte)\n",
    "p2=string.(pte_pun)\n",
    "join(p2)\n",
    "#converting from any array to array string then joining it to become one large string"
   ]
  },
  {
   "cell_type": "code",
   "execution_count": 102,
   "metadata": {},
   "outputs": [
    {
     "data": {
      "text/plain": [
       "\"   Once    again    Mr     Costner    has    dragged    out    a    movie    for    far    longer    than    necessary           Aside    from    the    terrific    sea    rescue    sequences         of    which    there    are    very    few    I    just    did    not    care    about    any    of    the    characters           Most    of    us    have    ghosts    in    the    closet         and    Costner         s    character    are    realized    early    on         and    then    forgotten    until    much    later         by    which    time    I    did    not    care           The    character    we    should    really    care    about    is    a    very    cocky         overconfident    Ashton    Kutcher           The    problem    is    he    comes    off    as    kid    who    thinks    he         s    better    than    anyone    else    around    him    and    shows    no    signs    of    a    cluttered    closet           His    only    obstacle    appears    to    be    winning    over    Costner           Finally    when    we    are    well    past    the    half    way    point    of    this    stinker         Costner    tells    us    all    about    Kutcher         s    ghosts           We    are    told    why    Kutcher    is    driven    to    be    the    best    with    no    prior    inkling    or    foreshadowing           No    magic    here         it    was    all    I    could    do    to    keep    from    turning    it    off    an    hour    in           This    is    an    example    of    why    the    majority    of    action    films    are    the    same           Generic    and    boring         there         s    really    nothing    worth    watching    here           A    complete    waste    of    the    then    barely tapped    talents    of    Ice T    and    Ice    Cube         who         ve    each    proven    many    times    over    that    they    are    capable    of    acting         and    acting    well           Don         t    bother    with    this    one         go    see    New    Jack    City         Ricochet    or    watch    New    York    Undercover    for    Ice T         or    Boyz    n    the    Hood         Higher    Learning    or    Friday    for    Ice    Cube    and    see    the    real    deal           Ice T         s    horribly    cliched    dialogue    alone    makes    this    film    grate    at    the    teeth         and    I         m    still    wondering    what    the    heck    Bill    Paxton    was    doing    in    this    film           And    why    the    heck    does    he    always    play    the    exact    same    character           From    Aliens    onward         every    film    I         ve    seen    with    Bill    Paxton    has    him    playing    the    exact    same    irritating    character         and    at    least    in    Aliens    his    character    died         which    made    it    somewhat    gratifying br           br          Overall         this    is    second rate    action    trash           There    are    countless    better    films    to    see         and    if    you    really    want    to    see    this    one         watch    Judgement    Night         which    is    practically    a    carbon    copy    but    has    better    acting    and    a    better    script           The    only    thing    that    made    this    at    all    worth    watching    was    a    decent    hand    on    the    camera         the    cinematography    was    almost    refreshing         which    comes    close    to    making    up    for    the    horrible    film    itself         but    not    quite           4         10        \""
      ]
     },
     "execution_count": 102,
     "metadata": {},
     "output_type": "execute_result"
    }
   ],
   "source": [
    "nte_pun=convert_clean_arr(nte)\n",
    "n2=string.(nte_pun)\n",
    "join(n2)\n",
    "#converting from any array to array string then joining it to become one large string"
   ]
  },
  {
   "cell_type": "code",
   "execution_count": 84,
   "metadata": {},
   "outputs": [],
   "source": [
    "using TextAnalysis: NaiveBayesClassifier, fit!, predict\n",
    "\n",
    "#using naive bayes classifier for sentiment analysis between positive and negative"
   ]
  },
  {
   "cell_type": "code",
   "execution_count": 78,
   "metadata": {},
   "outputs": [
    {
     "data": {
      "text/plain": [
       "NaiveBayesClassifier{Symbol}(String[], [:positive, :negative], Array{Int64}(undef,0,2))"
      ]
     },
     "execution_count": 78,
     "metadata": {},
     "output_type": "execute_result"
    }
   ],
   "source": [
    "model1=NaiveBayesClassifier([:positive,:negative])"
   ]
  },
  {
   "cell_type": "code",
   "execution_count": 103,
   "metadata": {},
   "outputs": [
    {
     "data": {
      "text/plain": [
       "NaiveBayesClassifier{Symbol}([\"Welcome\", \"mutual\", \"fight\", \"closer\", \"give\", \"step\", \"What\", \"many\", \"that\", \"while\"  …  \"programs\", \"maybe\", \"sidewalk\", \"me\", \"money\", \"Spaceballs\", \"wall\", \"satire\", \"streets\", \"he\"], [:positive, :negative], [2 1; 2 1; … ; 5 1; 6 1])"
      ]
     },
     "execution_count": 103,
     "metadata": {},
     "output_type": "execute_result"
    }
   ],
   "source": [
    "fit!(model1,join(p1),:positive)\n",
    "#fitting train_pos model as positive"
   ]
  },
  {
   "cell_type": "code",
   "execution_count": 104,
   "metadata": {},
   "outputs": [
    {
     "data": {
      "text/plain": [
       "NaiveBayesClassifier{Symbol}([\"Welcome\", \"mutual\", \"fight\", \"closer\", \"give\", \"step\", \"What\", \"many\", \"that\", \"while\"  …  \"second\", \"cargo\", \"too\", \"entertained\", \"Sally\", \"few\", \"into\", \"popular\", \"Kennedy\", \"longer\"], [:positive, :negative], [2 1; 2 1; … ; 1 3; 1 2])"
      ]
     },
     "execution_count": 104,
     "metadata": {},
     "output_type": "execute_result"
    }
   ],
   "source": [
    "fit!(model1,join(n1),:negative)\n",
    "#fitting train_neg model as negative"
   ]
  },
  {
   "cell_type": "code",
   "execution_count": 105,
   "metadata": {},
   "outputs": [
    {
     "data": {
      "text/plain": [
       "NaiveBayesClassifier{Symbol}([\"Welcome\", \"mutual\", \"fight\", \"closer\", \"give\", \"step\", \"What\", \"many\", \"that\", \"while\"  …  \"dozen\", \"average\", \"American\", \"twentieth\", \"desperately\", \"indicates\", \"men\", \"goes\", \"further\", \"Randall\"], [:positive, :negative], [2 1; 2 1; … ; 2 1; 2 1])"
      ]
     },
     "execution_count": 105,
     "metadata": {},
     "output_type": "execute_result"
    }
   ],
   "source": [
    "fit!(model1,join(p2),:positive)\n",
    "#fitting test_pos model as positive"
   ]
  },
  {
   "cell_type": "code",
   "execution_count": 106,
   "metadata": {},
   "outputs": [
    {
     "data": {
      "text/plain": [
       "NaiveBayesClassifier{Symbol}([\"Welcome\", \"mutual\", \"fight\", \"closer\", \"give\", \"step\", \"What\", \"many\", \"that\", \"while\"  …  \"watching\", \"script\", \"kid\", \"countless\", \"itself\", \"Learning\", \"From\", \"somewhat\", \"complete\", \"heck\"], [:positive, :negative], [2 1; 2 1; … ; 1 2; 1 3])"
      ]
     },
     "execution_count": 106,
     "metadata": {},
     "output_type": "execute_result"
    }
   ],
   "source": [
    "fit!(model1,join(n2),:negative)\n",
    "#fitting test_neg model as negative"
   ]
  },
  {
   "cell_type": "code",
   "execution_count": 107,
   "metadata": {},
   "outputs": [
    {
     "data": {
      "text/plain": [
       "Dict{Symbol,Float64} with 2 entries:\n",
       "  :negative => 0.0975776\n",
       "  :positive => 0.902422"
      ]
     },
     "execution_count": 107,
     "metadata": {},
     "output_type": "execute_result"
    }
   ],
   "source": [
    "predict(model1,\"it shows a tender side\")\n",
    "#prediction for the string comes as positive which is one hundred percent correct so accuracy is actually good"
   ]
  },
  {
   "cell_type": "code",
   "execution_count": 108,
   "metadata": {},
   "outputs": [
    {
     "data": {
      "text/plain": [
       "Dict{Symbol,Float64} with 2 entries:\n",
       "  :negative => 0.820774\n",
       "  :positive => 0.179226"
      ]
     },
     "execution_count": 108,
     "metadata": {},
     "output_type": "execute_result"
    }
   ],
   "source": [
    "predict(model1,\"unnatural feelings for a pig\")\n",
    "#prediction for the string comes as negative which is one hundred percent correct so accuracy is actually good"
   ]
  },
  {
   "cell_type": "code",
   "execution_count": 109,
   "metadata": {},
   "outputs": [
    {
     "data": {
      "text/plain": [
       "Dict{Symbol,Float64} with 2 entries:\n",
       "  :negative => 0.0304598\n",
       "  :positive => 0.96954"
      ]
     },
     "execution_count": 109,
     "metadata": {},
     "output_type": "execute_result"
    }
   ],
   "source": [
    "predict(model1,\"The sign of a good movie is that it can toy with our emotions\")\n",
    "#prediction for the string comes as positive which is one hundred percent correct so accuracy is actually good"
   ]
  },
  {
   "cell_type": "code",
   "execution_count": 110,
   "metadata": {},
   "outputs": [
    {
     "data": {
      "text/plain": [
       "Dict{Symbol,Float64} with 2 entries:\n",
       "  :negative => 0.825864\n",
       "  :positive => 0.174136"
      ]
     },
     "execution_count": 110,
     "metadata": {},
     "output_type": "execute_result"
    }
   ],
   "source": [
    "predict(model1,\"once again Mr. Costner has dragged out a movie\")\n",
    "#prediction for the string comes as negative which is one hundred percent correct so accuracy is actually good"
   ]
  },
  {
   "cell_type": "code",
   "execution_count": 111,
   "metadata": {},
   "outputs": [
    {
     "data": {
      "text/plain": [
       "Dict{Symbol,Float64} with 2 entries:\n",
       "  :negative => 0.74431\n",
       "  :positive => 0.25569"
      ]
     },
     "execution_count": 111,
     "metadata": {},
     "output_type": "execute_result"
    }
   ],
   "source": [
    "predict(model1,\"very cocky overconfident ashton kutcher\")\n",
    "#prediction for the string comes as negative but the accuracy is less because 'ashton kutcher' is in positive models too"
   ]
  },
  {
   "cell_type": "code",
   "execution_count": null,
   "metadata": {},
   "outputs": [],
   "source": []
  }
 ],
 "metadata": {
  "kernelspec": {
   "display_name": "Julia 1.5.3",
   "language": "julia",
   "name": "julia-1.5"
  },
  "language_info": {
   "file_extension": ".jl",
   "mimetype": "application/julia",
   "name": "julia",
   "version": "1.5.3"
  }
 },
 "nbformat": 4,
 "nbformat_minor": 4
}
